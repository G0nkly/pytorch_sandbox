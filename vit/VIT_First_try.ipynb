{
  "nbformat": 4,
  "nbformat_minor": 0,
  "metadata": {
    "colab": {
      "provenance": [],
      "authorship_tag": "ABX9TyM4QrTTaaS1qbaOZ17dqsAL",
      "include_colab_link": true
    },
    "kernelspec": {
      "name": "python3",
      "display_name": "Python 3"
    },
    "language_info": {
      "name": "python"
    }
  },
  "cells": [
    {
      "cell_type": "markdown",
      "metadata": {
        "id": "view-in-github",
        "colab_type": "text"
      },
      "source": [
        "<a href=\"https://colab.research.google.com/github/G0nkly/pytorch_sandbox/blob/main/vit/VIT_First_try.ipynb\" target=\"_parent\"><img src=\"https://colab.research.google.com/assets/colab-badge.svg\" alt=\"Open In Colab\"/></a>"
      ]
    },
    {
      "cell_type": "code",
      "execution_count": 1,
      "metadata": {
        "id": "jWVyzrXYnDfm"
      },
      "outputs": [],
      "source": [
        "import einops\n",
        "from tqdm.notebook import tqdm\n",
        "from torchsummary import summary\n",
        "\n",
        "import torch\n",
        "from torch import nn\n",
        "import torchvision\n",
        "import torch.optim as optim\n",
        "from torchvision.transforms import Compose, Resize, ToTensor, Normalize, RandomHorizontalFlip, RandomCrop"
      ]
    },
    {
      "cell_type": "code",
      "source": [
        "# https://www.youtube.com/watch?v=nZ22Ecg9XCQ"
      ],
      "metadata": {
        "id": "Ol_CGTjX-ErA"
      },
      "execution_count": 2,
      "outputs": []
    },
    {
      "cell_type": "code",
      "source": [
        "device = \"cuda\" if torch.cuda.is_available() else \"cpu\""
      ],
      "metadata": {
        "id": "f985k6uBnGnO"
      },
      "execution_count": 3,
      "outputs": []
    },
    {
      "cell_type": "code",
      "source": [
        "###################\n",
        "# HYPERPARAMETERS #\n",
        "###################"
      ],
      "metadata": {
        "id": "3_4PaMWs6V3b"
      },
      "execution_count": 4,
      "outputs": []
    },
    {
      "cell_type": "code",
      "source": [
        "patch_size = 16\n",
        "latent_size = 768\n",
        "n_channels = 3\n",
        "num_heads = 12\n",
        "num_encoders = 12\n",
        "dropout = 0.1\n",
        "num_classes = 10\n",
        "size = 224\n",
        "\n",
        "epochs = 10\n",
        "base_lr = 10e-3\n",
        "weight_decay = 0.03\n",
        "batch_size = 4"
      ],
      "metadata": {
        "id": "ZrfmwomW60WX"
      },
      "execution_count": 5,
      "outputs": []
    },
    {
      "cell_type": "code",
      "source": [
        "###########################\n",
        "# INPUT LINEAR PROJECTION #\n",
        "###########################"
      ],
      "metadata": {
        "id": "vQGtdbpT7GHh"
      },
      "execution_count": 6,
      "outputs": []
    },
    {
      "cell_type": "code",
      "source": [
        "class InputEmbedding(nn.Module):\n",
        "\n",
        "  def __init__(self, patch_size=patch_size, n_channels=n_channels, device=device, latent_size=latent_size, batch_size=batch_size):\n",
        "    super(InputEmbedding, self).__init__()\n",
        "    self.latent_size = latent_size\n",
        "    self.patch_size = patch_size\n",
        "    self.n_channels = n_channels\n",
        "    self.device = device\n",
        "    self.batch_size = batch_size\n",
        "    self.input_size = self.patch_size * self.patch_size * self.n_channels\n",
        "    # linear projection\n",
        "    self.linear_projection = nn.Linear(self.input_size, self.latent_size)\n",
        "    # class token\n",
        "    self.class_token = nn.Parameter(torch.randn(self.batch_size, 1, self.latent_size)).to(self.device)\n",
        "    # positional embedding\n",
        "    self.pos_embedding = nn.Parameter(torch.randn(self.batch_size, 1, self.latent_size)).to(self.device)\n",
        "\n",
        "  def forward(self, input_data):\n",
        "    input_data = input_data.to(self.device)\n",
        "\n",
        "    # Patchify input image\n",
        "    patches = einops.rearrange(\n",
        "        input_data, 'b c (h h1) (w w1) -> b (h w) (h1 w1 c)', h1=self.patch_size, w1=self.patch_size\n",
        "    )\n",
        "\n",
        "    print(input_data.size())\n",
        "    print(patches.size())\n",
        "\n",
        "    linear_projection = self.linear_projection(patches).to(device)\n",
        "    b, n, _ = linear_projection.shape\n",
        "\n",
        "    linear_projection = torch.cat((self.class_token, linear_projection), dim=1)"
      ],
      "metadata": {
        "id": "29_71tXG7Wp7"
      },
      "execution_count": 9,
      "outputs": []
    },
    {
      "cell_type": "code",
      "source": [
        "test_input = torch.randn((1, 3, 224, 224))\n",
        "test_class = InputEmbedding().to(device)\n",
        "test_class(test_input)"
      ],
      "metadata": {
        "colab": {
          "base_uri": "https://localhost:8080/"
        },
        "id": "xutE_gzX9UaG",
        "outputId": "15a22e4f-aea1-493a-dfef-b2784ed37107"
      },
      "execution_count": 8,
      "outputs": [
        {
          "output_type": "stream",
          "name": "stdout",
          "text": [
            "torch.Size([1, 3, 224, 224])\n",
            "torch.Size([1, 196, 768])\n"
          ]
        }
      ]
    },
    {
      "cell_type": "code",
      "source": [],
      "metadata": {
        "id": "KtUnoJ7X9egY"
      },
      "execution_count": 8,
      "outputs": []
    }
  ]
}