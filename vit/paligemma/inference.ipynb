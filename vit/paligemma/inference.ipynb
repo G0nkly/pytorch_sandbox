{
  "nbformat": 4,
  "nbformat_minor": 0,
  "metadata": {
    "colab": {
      "provenance": [],
      "authorship_tag": "ABX9TyNQ+CMkg2zFvKGTHMr1zjSe",
      "include_colab_link": true
    },
    "kernelspec": {
      "name": "python3",
      "display_name": "Python 3"
    },
    "language_info": {
      "name": "python"
    }
  },
  "cells": [
    {
      "cell_type": "markdown",
      "metadata": {
        "id": "view-in-github",
        "colab_type": "text"
      },
      "source": [
        "<a href=\"https://colab.research.google.com/github/G0nkly/pytorch_sandbox/blob/main/vit/paligemma/inference.ipynb\" target=\"_parent\"><img src=\"https://colab.research.google.com/assets/colab-badge.svg\" alt=\"Open In Colab\"/></a>"
      ]
    },
    {
      "cell_type": "code",
      "source": [
        "!pip install fire"
      ],
      "metadata": {
        "colab": {
          "base_uri": "https://localhost:8080/"
        },
        "id": "aVXUK9IKR8Qd",
        "outputId": "be91385b-94a0-4f61-e3f0-4fcc2326242c"
      },
      "execution_count": null,
      "outputs": [
        {
          "output_type": "stream",
          "name": "stdout",
          "text": [
            "Collecting fire\n",
            "  Downloading fire-0.7.0.tar.gz (87 kB)\n",
            "\u001b[?25l     \u001b[90m━━━━━━━━━━━━━━━━━━━━━━━━━━━━━━━━━━━━━━━━\u001b[0m \u001b[32m0.0/87.2 kB\u001b[0m \u001b[31m?\u001b[0m eta \u001b[36m-:--:--\u001b[0m\r\u001b[2K     \u001b[90m━━━━━━━━━━━━━━━━━━━━━━━━━━━━━━━━━━━━━━━━\u001b[0m \u001b[32m87.2/87.2 kB\u001b[0m \u001b[31m6.6 MB/s\u001b[0m eta \u001b[36m0:00:00\u001b[0m\n",
            "\u001b[?25h  Preparing metadata (setup.py) ... \u001b[?25l\u001b[?25hdone\n",
            "Requirement already satisfied: termcolor in /usr/local/lib/python3.11/dist-packages (from fire) (3.1.0)\n",
            "Building wheels for collected packages: fire\n",
            "  Building wheel for fire (setup.py) ... \u001b[?25l\u001b[?25hdone\n",
            "  Created wheel for fire: filename=fire-0.7.0-py3-none-any.whl size=114249 sha256=3e429fa9c532d2f3e9c4489e58ec5d09e8224d19bce19598eb2f0cad9c8424bf\n",
            "  Stored in directory: /root/.cache/pip/wheels/46/54/24/1624fd5b8674eb1188623f7e8e17cdf7c0f6c24b609dfb8a89\n",
            "Successfully built fire\n",
            "Installing collected packages: fire\n",
            "Successfully installed fire-0.7.0\n"
          ]
        }
      ]
    },
    {
      "cell_type": "code",
      "execution_count": null,
      "metadata": {
        "id": "XQ5VFHt-Rwdy",
        "colab": {
          "base_uri": "https://localhost:8080/",
          "height": 331
        },
        "outputId": "9a287cbc-2369-455c-9baf-ae7e1ef47ed8"
      },
      "outputs": [
        {
          "output_type": "error",
          "ename": "ModuleNotFoundError",
          "evalue": "No module named 'fire'",
          "traceback": [
            "\u001b[0;31m---------------------------------------------------------------------------\u001b[0m",
            "\u001b[0;31mModuleNotFoundError\u001b[0m                       Traceback (most recent call last)",
            "\u001b[0;32m/tmp/ipython-input-2192850752.py\u001b[0m in \u001b[0;36m<cell line: 0>\u001b[0;34m()\u001b[0m\n\u001b[1;32m      1\u001b[0m \u001b[0;32mfrom\u001b[0m \u001b[0mPIL\u001b[0m \u001b[0;32mimport\u001b[0m \u001b[0mImage\u001b[0m\u001b[0;34m\u001b[0m\u001b[0;34m\u001b[0m\u001b[0m\n\u001b[0;32m----> 2\u001b[0;31m \u001b[0;32mimport\u001b[0m \u001b[0mfire\u001b[0m\u001b[0;34m\u001b[0m\u001b[0;34m\u001b[0m\u001b[0m\n\u001b[0m",
            "\u001b[0;31mModuleNotFoundError\u001b[0m: No module named 'fire'",
            "",
            "\u001b[0;31m---------------------------------------------------------------------------\u001b[0;32m\nNOTE: If your import is failing due to a missing package, you can\nmanually install dependencies using either !pip or !apt.\n\nTo view examples of installing some common dependencies, click the\n\"Open Examples\" button below.\n\u001b[0;31m---------------------------------------------------------------------------\u001b[0m\n"
          ],
          "errorDetails": {
            "actions": [
              {
                "action": "open_url",
                "actionText": "Open Examples",
                "url": "/notebooks/snippets/importing_libraries.ipynb"
              }
            ]
          }
        }
      ],
      "source": [
        "from PIL import Image\n",
        "import fire"
      ]
    },
    {
      "cell_type": "code",
      "source": [
        "def main(\n",
        "    model_path: str = None,\n",
        "    prompt:str = None,\n",
        "    image_file_path: str = None,\n",
        "    max_tokens_to_generate: int = 100,\n",
        "    temperature: float = 0.8,\n",
        "    top_p: float = 0.9,\n",
        "    do_sample: bool = False,\n",
        "    only_cpu: bool = False\n",
        "):\n",
        "  device = \"cpu\"\n",
        "\n",
        "  if not only_cpu:\n",
        "    if torch.cuda.is_available():\n",
        "      device = \"cuda\"\n",
        "    elif torch.backends.mps.is_available():\n",
        "      device = \"mps\"\n",
        "\n",
        "  print(\"Device in use: \", device)\n",
        "\n",
        "  print(f\"Loading model\")\n",
        "  model, tokenizer = load_hf_model(model_path, device)\n",
        "  model = model.to(device).eval()\n",
        "\n",
        "  num_image_tokens = model.config.vision_config.num_image_tokens\n",
        "  image_size = model.config.vision_config.image_size\n",
        "  processor = PaliGemmaProcessor(tokenizer, num_image_tokens, image_size)\n",
        "\n",
        "  print(\"Running inference\")\n",
        "\n",
        "  with torch.no_grad():\n",
        "    test_inference(\n",
        "        model,\n",
        "        processor,\n",
        "        device,\n",
        "        prompt,\n",
        "        image_file_path,\n",
        "        max_tokens_to_generate,\n",
        "        temperature,\n",
        "        top_p,\n",
        "        do_sample\n",
        "    )"
      ],
      "metadata": {
        "id": "-HAXnZzTPVvK"
      },
      "execution_count": null,
      "outputs": []
    },
    {
      "cell_type": "code",
      "source": [],
      "metadata": {
        "id": "lmLLwexKPp_z"
      },
      "execution_count": null,
      "outputs": []
    }
  ]
}