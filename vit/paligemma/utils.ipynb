{
  "nbformat": 4,
  "nbformat_minor": 0,
  "metadata": {
    "colab": {
      "provenance": [],
      "authorship_tag": "ABX9TyOOGaW0EuLBR/fPhkeEosjC",
      "include_colab_link": true
    },
    "kernelspec": {
      "name": "python3",
      "display_name": "Python 3"
    },
    "language_info": {
      "name": "python"
    }
  },
  "cells": [
    {
      "cell_type": "markdown",
      "metadata": {
        "id": "view-in-github",
        "colab_type": "text"
      },
      "source": [
        "<a href=\"https://colab.research.google.com/github/G0nkly/pytorch_sandbox/blob/main/vit/paligemma/utils.ipynb\" target=\"_parent\"><img src=\"https://colab.research.google.com/assets/colab-badge.svg\" alt=\"Open In Colab\"/></a>"
      ]
    },
    {
      "cell_type": "code",
      "execution_count": null,
      "metadata": {
        "id": "fsAe0POEVLO5"
      },
      "outputs": [],
      "source": [
        "from modelling_gemma import PaliGemmaForConditionalGeneration, PaliGemmaConfig\n",
        "from transformers import AutoTokenizer\n",
        "import json\n",
        "import glob\n",
        "from safetensors import safe_open\n",
        "from typing import Tuple\n",
        "import os\n",
        "\n",
        "def load_hf_model(model_path: str, device: str) -> Tuple[PaliGemmaForConditionalGeneration, AutoTokenizer]:\n",
        "  # Load the tokenizer\n",
        "  tokenizer = Autotokenizer.from_pretrained(model_path, padding_side=\"right\")\n",
        "  assert tokenizer.padding_side == \"right\"\n",
        "\n",
        "  # Find all the *.safetensors files\n",
        "  safetensors_files = glob.glob(os.path.join(model_path, \"*.safetensors\"))\n",
        "\n",
        "  # ... and load them one by one in the tensors dictionary\n",
        "  tensors = {}\n",
        "  for safetensors_file in safetensors_files:\n",
        "    with safe_open(safetensors_file, framework=\"pt\", device=\"cpu\") as f:\n",
        "      for key in f.keys():\n",
        "        tensors[key] = f.get_tensor(key)\n",
        "\n",
        "  # Load the model's config\n",
        "  with open(os.path.join(model_path, \"config.json\"), \"r\") as f:\n",
        "    model_config_file = json.load(f)\n",
        "    config = PaliGemmaConfig(**model_config_file)\n",
        "\n",
        "  # Create the model using the configuration\n",
        "  model = PaliGemmaForConditionalGeneration(config).to(device)\n",
        "\n",
        "  # Load the state dict of the model\n",
        "  model.load_state_dict(tensors, strict=False)\n",
        "\n",
        "  # Tie weights\n",
        "  model.tie_weights()\n",
        "\n",
        "  return (model, tokenizer)\n"
      ]
    }
  ]
}