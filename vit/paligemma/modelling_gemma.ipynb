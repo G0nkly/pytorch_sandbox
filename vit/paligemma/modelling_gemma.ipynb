{
  "nbformat": 4,
  "nbformat_minor": 0,
  "metadata": {
    "colab": {
      "provenance": [],
      "mount_file_id": "16rYHM5V6eGCg6iR56bNvmzHh3ykw6iJI",
      "authorship_tag": "ABX9TyOXQUvBKL7EvjBn7q3KKZou",
      "include_colab_link": true
    },
    "kernelspec": {
      "name": "python3",
      "display_name": "Python 3"
    },
    "language_info": {
      "name": "python"
    }
  },
  "cells": [
    {
      "cell_type": "markdown",
      "metadata": {
        "id": "view-in-github",
        "colab_type": "text"
      },
      "source": [
        "<a href=\"https://colab.research.google.com/github/G0nkly/pytorch_sandbox/blob/main/vit/paligemma/modelling_gemma.ipynb\" target=\"_parent\"><img src=\"https://colab.research.google.com/assets/colab-badge.svg\" alt=\"Open In Colab\"/></a>"
      ]
    },
    {
      "cell_type": "code",
      "source": [
        "from google.colab import drive\n",
        "drive.mount('/content/drive')"
      ],
      "metadata": {
        "id": "lHDvljyvLOiO"
      },
      "execution_count": null,
      "outputs": []
    },
    {
      "cell_type": "code",
      "source": [
        "! pip install import-ipynb"
      ],
      "metadata": {
        "id": "G0kWqCa9Mckb"
      },
      "execution_count": null,
      "outputs": []
    },
    {
      "cell_type": "code",
      "source": [
        "!ls drive/MyDrive/Colab\\ Notebooks/PyTorch\\ Transformer/Vision\\ Transformer/paligemma"
      ],
      "metadata": {
        "id": "U-Gsl8qkNul2"
      },
      "execution_count": null,
      "outputs": []
    },
    {
      "cell_type": "code",
      "source": [
        "import sys\n",
        "import os\n",
        "sys.path.append(\"drive/MyDrive/Colab\\ Notebooks/PyTorch\\ Transformer/Vision\\ Transformer/paligemma\")\n",
        "os.cwd(\"drive/MyDrive/Colab\\ Notebooks/PyTorch\\ Transformer/Vision\\ Transformer/paligemma\")"
      ],
      "metadata": {
        "id": "zxdsVs4CMt22"
      },
      "execution_count": null,
      "outputs": []
    },
    {
      "cell_type": "code",
      "execution_count": null,
      "metadata": {
        "id": "eZ-vfdzZ5EyK"
      },
      "outputs": [],
      "source": [
        "import import_ipynb\n",
        "from siglip import SiglipVisionConfig"
      ]
    },
    {
      "cell_type": "code",
      "source": [
        "import torch\n",
        "from torch import nn\n",
        "from typing import Optional, Tuple, List\n",
        "from torch.nn import CrossEntropyLoss\n",
        "import math"
      ],
      "metadata": {
        "id": "jH1JNkBVghEZ"
      },
      "execution_count": null,
      "outputs": []
    },
    {
      "cell_type": "code",
      "source": [
        "class GemmaConfig:\n",
        "\n",
        "  def __init__(\n",
        "      self,\n",
        "      vocab_size,\n",
        "      hidden_size,\n",
        "      intermediate_size,\n",
        "      num_hidden_layers,\n",
        "      num_attention_heads,\n",
        "      num_key_value_heads,\n",
        "      head_dim=256,\n",
        "      max_position_embedding=8192,\n",
        "      rms_norm_eps=1e-6,\n",
        "      rope_theta=10000.0,\n",
        "      attention_bias=False,\n",
        "      attention_dropout=0.0,\n",
        "      pad_token_id=None,\n",
        "      **kwargs\n",
        "  ):\n",
        "\n",
        "    super().__init__()\n",
        "    self.vocab_size = vocab_size\n",
        "    self.max_position_embedding = max_position_embedding\n",
        "    self.hidden_size = hidden_size\n",
        "    self.intermediate_size = intermediate_size\n",
        "    self.num_hidden_layers = num_hidden_layers\n",
        "    self.num_attention_heads = num_attention_heads\n",
        "    self.head_dim = head_dim\n",
        "    self.num_key_value_heads = num_key_value_heads\n",
        "    self.rms_norm_eps = rms_norm_eps\n",
        "    self.rope_theta = rope_theta\n",
        "    self.attention_bias = attention_bias\n",
        "    self.attention_dropout = attention_dropout\n",
        "    self.pad_token_id = pad_token_id"
      ],
      "metadata": {
        "id": "XW4VmLXskGlT"
      },
      "execution_count": null,
      "outputs": []
    },
    {
      "cell_type": "code",
      "source": [
        "class PaliGemmaConfig:\n",
        "\n",
        "  def __init__(\n",
        "      self,\n",
        "      vision_config=None,\n",
        "      text_config=None,\n",
        "      ignore_index=-100,\n",
        "      image_token_index=256000,\n",
        "      vocab_size=257152,\n",
        "      projection_dim=2048,\n",
        "      hidden_size=2048,\n",
        "      pad_token_id=None,\n",
        "      **kwargs\n",
        "  ):\n",
        "    super().__init__()\n",
        "    self.ignore_index = ignore_index\n",
        "    self.image_token_index = image_token_index\n",
        "    self.vocab_size = vocab_size\n",
        "    self.projection_dim = projection_dim\n",
        "    self.hidden_size = hidden_size\n",
        "    self.vision_config = vision_config\n",
        "    self.is_encoder_decoder = False,\n",
        "    self.pad_token_id = pad_token_id\n",
        "\n",
        "    self.vision_config = SiglipVisionConfig(**vision_config)\n",
        "    self.text_config = text_config\n",
        "    self.text_config = GemmaConfig(**text_config, pad_token_id=pad_token_id)\n",
        "    self.vocab_size = self.text_config.vocab_size\n",
        "    self.text_config.num_image_tokens = (self.vision_config.image_size // self.vision_config.patch_size) ** 2\n",
        "    self.vision_config.projection_dim = projection_dim"
      ],
      "metadata": {
        "id": "Mbx1H2xzgZWs"
      },
      "execution_count": null,
      "outputs": []
    },
    {
      "cell_type": "code",
      "source": [
        "class GemmaRMSNorm(nn.Module):\n",
        "\n",
        "  def __init__(self, dim: int, eps: float = 1e-6):\n",
        "    super().__init__()\n",
        "    self.eps = eps\n",
        "    self.weight = nn.Parammeter(torch.zeros(dim))\n",
        "\n",
        "  def norm(self, x):\n",
        "    return x * torch.rsqrt(x.pow(2).mean(-1, keepdim=True) + self.eps)\n",
        "\n",
        "  def forward(self, x):\n",
        "    output = self._norm(x.float())\n",
        "    # Llama does x.to(float16) * w whilst Gemma is (x * w).to(float16)\n",
        "    # See https://github.com/huggingface/transformers/pull/29402\n",
        "    output = output * (1.0 + self.weight.float())\n",
        "\n",
        "    return output.type_as(x)"
      ],
      "metadata": {
        "id": "ByTfFAykro7e"
      },
      "execution_count": null,
      "outputs": []
    },
    {
      "cell_type": "code",
      "source": [
        "class GemmaAttention(nn.Module):\n",
        "\n",
        "  def __init__(self, config: GemmaConfig, layer_idx: Optional[int] = None):\n",
        "    super().__init__()\n",
        "    self.config = config\n",
        "    self.layer_idx = layer_idx\n",
        "    self.attention_dropout = config.attention_dropout\n",
        "    self.hidden_size = config.hidden_size\n",
        "    self.num_heads = config.num_attention_heads\n",
        "    self.head_dim = config.head_dim\n",
        "    self.num_key_value_heads = config.num_key_value_heads\n",
        "    self.num_key_value_groups = self.num_heads // self.num_key_value_heads\n",
        "    self.max_position_embeddings = config.max_position_embeddings\n",
        "    self.rope_theta = config.rope_theta\n",
        "    self.is_causal = True\n",
        "\n",
        "    assert self.hidden_size % self.num_heads == 0\n",
        "\n",
        "    self.q_proj = nn.Linear(self.hidden_size, self.num_heads * self.head_dim, bias=config.attention_bias)\n",
        "    self.k_proj = nn.Linear(self.hidden_size, self.num_key_value_heads * self.head_dim, bias=config.attention_bias)\n",
        "    self.v_proj = nn.Linear(self.hidden_size, self.num_key_value_heads * self.head_dim, bias=config.attention_bias)\n",
        "    self.o_proj = nn.Linear(self.num_heads * self.head_dim, self.hidden_size, bias=config.attention_bias)\n"
      ],
      "metadata": {
        "id": "CT0IfzxSj5ex"
      },
      "execution_count": null,
      "outputs": []
    },
    {
      "cell_type": "code",
      "source": [
        "class GemmaMLP(nn.Module):\n",
        "\n",
        "  def __init__(self, config):\n",
        "    super().__init__()\n",
        "    self.config = config\n",
        "    self.hidden_size = config.hidden_size\n",
        "    self.intermediate_size = config.intermediate_size\n",
        "    self.gate_proj = nn.Linear(self.hidden_size, self.intermediate_size, bias=False)\n",
        "    self.up_proj = nn.Linear(self.hidden_size, self.intermediate_size, bias=False)\n",
        "    self.down_proj = nn.Linear(self.intermediate_size, self.hidden_size, bias=False)\n",
        "\n",
        "  def forward(self, x):\n",
        "    return self.down_proj(nn.functional.gelu(self.gate_proj(x), approximate=\"tanh\") * self.up_proj(x))\n"
      ],
      "metadata": {
        "id": "K2YeNQQ1j47l"
      },
      "execution_count": null,
      "outputs": []
    },
    {
      "cell_type": "code",
      "source": [
        "class GemmaDecoderLayer(nn.Module):\n",
        "\n",
        "  def __init__(self, config: GemmaConfig, layer_idx: int):\n",
        "    super().__init__()\n",
        "    self.hidden_size = config.hidden_size\n",
        "    self.self_attn = GemmaAttention(config=config, layer_idx=layer_idx)\n",
        "    self.mlp = GemmaMLP(config)\n",
        "    self.input_layernorm = GemmaRMSNorm(config.hidden_size, eps=config.rms_norm_eps)\n",
        "    self.post_attention_layernorm = GemmaRMSNorm(config.hidden_size, eps=config.rms_norm_eps)\n",
        "\n",
        "  def forward(\n",
        "      self,\n",
        "      hidden_states: torch.Tensor,\n",
        "      attention_mask: Optional[torch.Tensor] = None,\n",
        "      position_ids: Optional[torch.LongTensor] = None,\n",
        "      kv_cache: Optional[KVCache] = None\n",
        "  ) -> Tuple[torch.FloatTensor, Optional[Tuple[torch.FloatTensor, torch.FloatTensor]]]:\n",
        "    residual = hidden_states\n",
        "    hidden_states = self.input_layernorm(hidden_states) # (B, seq_len, hidden_size)\n",
        "\n",
        "    hidden_states, _ = self.self_attn(\n",
        "        hidden_states=hidden_states,\n",
        "        attention_mask=attention_mask,\n",
        "        position_ids=position_ids,\n",
        "        kv_cache=kv_cache\n",
        "    )\n",
        "\n",
        "    hidden_states = residual + hidden_states # (B, seq_len, hidden_size)\n",
        "\n",
        "    residual = hidden_states\n",
        "\n",
        "    hidden_states = self.post_attention_layernorm(hidden_states) # (B, seq_len, hidden_size)\n",
        "\n",
        "    hidden_states = self.mlp(hidden_states)\n",
        "\n",
        "    hidden_states = residual + hidden_states\n",
        "\n",
        "    return hidden_states\n"
      ],
      "metadata": {
        "id": "YdnK1jKotHgY"
      },
      "execution_count": null,
      "outputs": []
    },
    {
      "cell_type": "code",
      "source": [
        "class GemmaModel(nn.Module):\n",
        "\n",
        "  def __init__(self, config: GemmaConfig):\n",
        "    super().__init__()\n",
        "    self.config = config\n",
        "    self.padding_idx = config.pad_token_id\n",
        "    self.vocab_size = config.vocab_size\n",
        "\n",
        "    self.embed_tokens = nn.Embedding(config.vocab_size, config.hidden_size, self.padding_idx)\n",
        "    self.layers = nn.ModuleList(\n",
        "        [GemmaDecoderLayer(config, layer_idx) for layer_idx in range(config.num_hidden_layers)]\n",
        "    )\n",
        "    self.norm = GemmaRMSNorm(config.hidden_size, eps=config.rms_norm_eps)\n",
        "\n",
        "  def get_input_embeddings(self):\n",
        "    return self.embed_tokens\n",
        "\n",
        "  def forward(\n",
        "      self,\n",
        "      attention_mask: Optional[torch.Tensor] = None,\n",
        "      position_ids: Optional[torch.LongTensor] = None,\n",
        "      inputs_embeds: Optional[torch.FloatTensor] = None,\n",
        "      kv_cache: Optional[KVCache] = None\n",
        "  ) -> torch.FloatTensor:\n",
        "    hidden_states = inputs_embeds # (B, seq_len, hidden_size)\n",
        "    normalizer = torch.tensor(self.config.hidden_size**0.5, dtype=hidden_states.dtype)\n",
        "    hidden_states = hidden_states * normalizer\n",
        "\n",
        "    for decoder_layer in self.layers:\n",
        "      hidden_states = decoder_layer( # (B, seq_len, hidden_size)\n",
        "          hidden_states,\n",
        "          attention_mask=attention_mask,\n",
        "          position_ids=position_ids,\n",
        "          kv_cache=kv_cache\n",
        "      )\n",
        "\n",
        "    hidden_states = self.norm(hidden_states) # (B, seq_len, hidden_size)\n",
        "\n",
        "    return hidden_states"
      ],
      "metadata": {
        "id": "HGRwY_sV7pe8"
      },
      "execution_count": null,
      "outputs": []
    },
    {
      "cell_type": "code",
      "source": [
        "class GemmaForCausalLM(nn.Module):\n",
        "\n",
        "  def __init__(self, config):\n",
        "    super().__init__()\n",
        "    self.config = config\n",
        "    self.model = GemmaModel(config)\n",
        "    self.vocab_size = config.vocab_size\n",
        "    self.lm_head = nn.Linear(config.hidden_size, config.vocab_size, bias=False)\n",
        "\n",
        "  def get_input_embeddings(self):\n",
        "    return self.model.embed_tokens\n",
        "\n",
        "  def tie_weights(self):\n",
        "    self.lm_head.weight = self.model.embed_tokens.weight\n",
        "\n",
        "  def forward(\n",
        "      self,\n",
        "      attention_mask: Optional[torch.Tensor] = None,\n",
        "      position_ids: Optional[torch.LongTensor] = None,\n",
        "      inputs_embeds: Optional[torch.FloatTensor] = None,\n",
        "      kv_cache: Optional[KVCache] = None\n",
        "  ) -> Tuple:\n",
        "    outputs = self.model(\n",
        "        attention_mask=attention_maks,\n",
        "        position_ids=position_ids,\n",
        "        inputs_embeds=inputs_embeds,\n",
        "        kv_cache=kv_cache,\n",
        "    )\n",
        "\n",
        "    hidden_states = outputs\n",
        "    logits = self.lm_head(hidden_states)\n",
        "    logits = logits.float()\n",
        "\n",
        "    return_data = {\n",
        "        \"logits\": logits,\n",
        "    }\n",
        "\n",
        "    if kv_cache is not None:\n",
        "      # Return the updated cache\n",
        "      return_data[\"kv_cache\"] = kv_cache\n",
        "\n",
        "    return kv_cache"
      ],
      "metadata": {
        "id": "YlmnQWTCcxSk"
      },
      "execution_count": null,
      "outputs": []
    },
    {
      "cell_type": "code",
      "source": [
        "class PaliGemmaMultiModalProjector(nn.Module):\n",
        "\n",
        "  def __init__(self, config: PaliGemmaConfig):\n",
        "    super().__init__()\n",
        "    self.linear = nn.Linear(config.vision_config.hidden_size, config.vision_config.projection_dim, bias=True)\n",
        "\n",
        "  def forward(self, image_features):\n",
        "    hidden_states = self.linear(image_features) # (B, num_patches, projection_dim)\n",
        "    return hidden_states"
      ],
      "metadata": {
        "id": "GOMC68InbrK2"
      },
      "execution_count": null,
      "outputs": []
    },
    {
      "cell_type": "code",
      "source": [
        "class PaliGemmaForConditionalGeneration(nn.Module):\n",
        "\n",
        "  def __init__(self, config: PaliGemmaConfig):\n",
        "    super().__init__()\n",
        "    self.config = config\n",
        "    self.vision_tower = SiglipVisionModel(config.vision_config)\n",
        "    self.multi_modal_projector = PaliGemmaMultiModalProjector(config)\n",
        "    self.vocab_size = config.vocab_size\n",
        "\n",
        "    language_model = GemmaForCausalLM(config.text_config)\n",
        "    self.language_model = language_model\n",
        "    self.pad_token_id = self.config.pad_token_id if self.config.pad_token_id is not None else -1\n",
        "\n",
        "  def tie_weights(self):\n",
        "    return self.language_model.tie_weights()\n",
        "\n",
        "  def _merge_input_ids_with_image_features(\n",
        "      self, image_features: torch.Tensor,\n",
        "      inputs_embeds: torch.Tensor,\n",
        "      input_ids: torch.Tensor,\n",
        "      attention_mask: torch.Tensor,\n",
        "      kv_cache: KVCache\n",
        "  ):\n",
        "    _, _, embed_dim = image_features.shape\n",
        "    batch_size, sequence_length = input_ids.shape\n",
        "    dtype, device = inputs_embeds.dtype, inputs_embeds.device\n",
        "    scaled_image_features = image_features / (self.config.hidden_size**0.5) # (B, seq_len, hidden_size)\n",
        "\n",
        "    # combine the embeddings of the image tokens, the text tokens and mask out all the padding tokens\n",
        "    final_embedding = torch.zeros(batch_size, sequence_length, embed_dim, dtype=inputs_embeds.dtype, device=inputs_embeds.device)\n",
        "    text_mask = (input_ids != self.config.image_token_index) & (input_ids != self.pad_token_id) # (B, seq_len)\n",
        "    image_mask = input_ids == self.config.image_token_index # (B, seq_len)\n",
        "    pad_mask = input_ids == self.pad_token_id # (B, seq_len)\n",
        "\n",
        "    # We need to expand the masks to the embedding dimension otherwise we can't use them in torch.where\n",
        "    text_mask_expanded = text_mask.unsqueeze(-1).expand(-1, -1, embed_dim)\n",
        "    pad_mask_expanded = pad_mask.unsqueeze(-1).expand(-1, -1, embed_dim)\n",
        "    image_mask_expanded = image.unsqueeze(-1).expand(-1, -1, embed_dim)\n",
        "\n",
        "    # add the text embedding\n",
        "    final_embedding = torch.where(text_mask_expanded, inputs_embeds, final_embedding)\n",
        "    # insert image embeddings. We can't use torch.where because sequence length of scaled_image_features is different from final_embedding\n",
        "    final_embedding = torch.masked_scatter(image_mask_expanded, scaled_image_features)\n",
        "    # Zero out padding tokens\n",
        "    final_embedding = torch.where(pad_mask_expanded, toch.zeros_like(final_embedding), final_embedding)\n",
        "\n",
        "    ### CREATE THE ATTENTION MASK ###\n",
        "    dtype, device = inputs_embeds.dtype, inputs_embeds.device\n",
        "    min_dtype = torch.finfo(dtype).min\n",
        "    q_len = inputs_embeds.shape[1]\n",
        "\n",
        "    if kv_cache is None or kv_cache.num_items() == 0:\n",
        "      # Do not mask any token, because we're in the prefill phase\n",
        "      # This only works when we have no padding\n",
        "      causal_mask = torch.full(\n",
        "          (batch_size, q_len, q_len), fill_value=0, dtype=dtype, device=device\n",
        "      )\n",
        "    else:\n",
        "      # Since we are generating tokens, the query must be one single token\n",
        "      assert q_len == 1\n",
        "      kv_len = kv_cache.num_items() + q_len\n",
        "      # Also in this case we don't need to mask anything, since each query shoud be able to attend all previous tokens\n",
        "      # this only works when we have no padding\n",
        "      causal_mask = torch.full(\n",
        "          (batch_size, q_len, kv_len), fill_value=0, dtype=dtype, device=device\n",
        "      )\n",
        "\n",
        "      # Add the head dimension\n",
        "      causal_mask = causal_mask.unsqueeze(1) # (B, num_heads_q, q_len, kv_len)\n",
        "\n",
        "      if kv_cache is not None and kv_cache.num_items() > 0:\n",
        "        # the position of the query is just the last position\n",
        "        position_ids = attention_mask.cumsum(-1)[:, -1]\n",
        "        if position_ids.dim() == 1:\n",
        "          position_ids = position_ids.unsqueeze(0)\n",
        "\n",
        "      else:\n",
        "        # Create a position_ids based on the size of the attention_mask\n",
        "        # For masked tokens, use the number 1 as position\n",
        "        position_ids = (attention_mask.cumsum(-1)).masked_fill_((attention_mask == 0), 1).to(device)\n",
        "\n",
        "    return final_embedding, causal_mask, position_ids\n",
        "\n",
        "\n",
        "  def forward(\n",
        "      self,\n",
        "      input_ids: torch.LongTensor = None,\n",
        "      pixel_values: torch.FloatTensor = None,\n",
        "      attention_mask: Optional[torch.Tensor] = None,\n",
        "      kv_cache: Optional[KVCache] = None,\n",
        "  ) -> Tuple:\n",
        "    assert torch.all(attention_mask == 1), \"The input cannot be padded\"\n",
        "    inputs_embeds = self.language_model.get_input_embeddings()(input_ids) # (B, seq_len, hidden_size)\n",
        "    selected_image_feature = self.vision_tower(pixel_values.to(inputs_embeds.dtype)) # (B, num_patches, embed_dim)\n",
        "    image_features = self.multi_modal_projector(selected_image_feature) # (B, num_patches, hidden_size)\n",
        "    # Merge the embeddings of the text tokens and the image tokens\n",
        "    input_embeds, attention_mask, position_ids = self._merge_input_ids_with_image_features(image_features, inputs_embeds, input_ids, attention_mask, kv_cache)\n",
        "\n",
        "    outputs = self.language_model(\n",
        "        attention_mask=attention_mask,\n",
        "        position_ids=position_ids,\n",
        "        inputs_embeds=inputs_embeds,\n",
        "        kv_cache=kv_cache\n",
        "    )\n",
        "\n",
        "    return outputs"
      ],
      "metadata": {
        "id": "mXx-ONek5v6O"
      },
      "execution_count": null,
      "outputs": []
    },
    {
      "cell_type": "code",
      "source": [
        "!ls"
      ],
      "metadata": {
        "id": "zjCkE853L2-E"
      },
      "execution_count": null,
      "outputs": []
    },
    {
      "cell_type": "code",
      "source": [],
      "metadata": {
        "id": "_ifxwJffMHPp"
      },
      "execution_count": null,
      "outputs": []
    },
    {
      "cell_type": "code",
      "source": [],
      "metadata": {
        "id": "knpkwEX6MLrq"
      },
      "execution_count": null,
      "outputs": []
    }
  ]
}