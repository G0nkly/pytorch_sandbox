{
  "nbformat": 4,
  "nbformat_minor": 0,
  "metadata": {
    "colab": {
      "provenance": [],
      "mount_file_id": "16rYHM5V6eGCg6iR56bNvmzHh3ykw6iJI",
      "authorship_tag": "ABX9TyMiE10QD/n7En8FNf1EMcyi",
      "include_colab_link": true
    },
    "kernelspec": {
      "name": "python3",
      "display_name": "Python 3"
    },
    "language_info": {
      "name": "python"
    }
  },
  "cells": [
    {
      "cell_type": "markdown",
      "metadata": {
        "id": "view-in-github",
        "colab_type": "text"
      },
      "source": [
        "<a href=\"https://colab.research.google.com/github/G0nkly/pytorch_sandbox/blob/main/vit/paligemma/modelling_gemma.ipynb\" target=\"_parent\"><img src=\"https://colab.research.google.com/assets/colab-badge.svg\" alt=\"Open In Colab\"/></a>"
      ]
    },
    {
      "cell_type": "code",
      "source": [
        "from google.colab import drive\n",
        "drive.mount('/content/drive')"
      ],
      "metadata": {
        "colab": {
          "base_uri": "https://localhost:8080/"
        },
        "id": "lHDvljyvLOiO",
        "outputId": "cbb22a76-03d0-4946-e390-fd168baa4e86"
      },
      "execution_count": 2,
      "outputs": [
        {
          "output_type": "stream",
          "name": "stdout",
          "text": [
            "Drive already mounted at /content/drive; to attempt to forcibly remount, call drive.mount(\"/content/drive\", force_remount=True).\n"
          ]
        }
      ]
    },
    {
      "cell_type": "code",
      "source": [
        "! pip install import-ipynb"
      ],
      "metadata": {
        "colab": {
          "base_uri": "https://localhost:8080/"
        },
        "id": "G0kWqCa9Mckb",
        "outputId": "7ab6c760-a535-4430-9b46-9323e432d0cd"
      },
      "execution_count": 3,
      "outputs": [
        {
          "output_type": "stream",
          "name": "stdout",
          "text": [
            "Collecting import-ipynb\n",
            "  Downloading import_ipynb-0.2-py3-none-any.whl.metadata (2.3 kB)\n",
            "Requirement already satisfied: IPython in /usr/local/lib/python3.11/dist-packages (from import-ipynb) (7.34.0)\n",
            "Requirement already satisfied: nbformat in /usr/local/lib/python3.11/dist-packages (from import-ipynb) (5.10.4)\n",
            "Requirement already satisfied: setuptools>=18.5 in /usr/local/lib/python3.11/dist-packages (from IPython->import-ipynb) (75.2.0)\n",
            "Collecting jedi>=0.16 (from IPython->import-ipynb)\n",
            "  Downloading jedi-0.19.2-py2.py3-none-any.whl.metadata (22 kB)\n",
            "Requirement already satisfied: decorator in /usr/local/lib/python3.11/dist-packages (from IPython->import-ipynb) (4.4.2)\n",
            "Requirement already satisfied: pickleshare in /usr/local/lib/python3.11/dist-packages (from IPython->import-ipynb) (0.7.5)\n",
            "Requirement already satisfied: traitlets>=4.2 in /usr/local/lib/python3.11/dist-packages (from IPython->import-ipynb) (5.7.1)\n",
            "Requirement already satisfied: prompt-toolkit!=3.0.0,!=3.0.1,<3.1.0,>=2.0.0 in /usr/local/lib/python3.11/dist-packages (from IPython->import-ipynb) (3.0.51)\n",
            "Requirement already satisfied: pygments in /usr/local/lib/python3.11/dist-packages (from IPython->import-ipynb) (2.19.2)\n",
            "Requirement already satisfied: backcall in /usr/local/lib/python3.11/dist-packages (from IPython->import-ipynb) (0.2.0)\n",
            "Requirement already satisfied: matplotlib-inline in /usr/local/lib/python3.11/dist-packages (from IPython->import-ipynb) (0.1.7)\n",
            "Requirement already satisfied: pexpect>4.3 in /usr/local/lib/python3.11/dist-packages (from IPython->import-ipynb) (4.9.0)\n",
            "Requirement already satisfied: fastjsonschema>=2.15 in /usr/local/lib/python3.11/dist-packages (from nbformat->import-ipynb) (2.21.1)\n",
            "Requirement already satisfied: jsonschema>=2.6 in /usr/local/lib/python3.11/dist-packages (from nbformat->import-ipynb) (4.24.0)\n",
            "Requirement already satisfied: jupyter-core!=5.0.*,>=4.12 in /usr/local/lib/python3.11/dist-packages (from nbformat->import-ipynb) (5.8.1)\n",
            "Requirement already satisfied: parso<0.9.0,>=0.8.4 in /usr/local/lib/python3.11/dist-packages (from jedi>=0.16->IPython->import-ipynb) (0.8.4)\n",
            "Requirement already satisfied: attrs>=22.2.0 in /usr/local/lib/python3.11/dist-packages (from jsonschema>=2.6->nbformat->import-ipynb) (25.3.0)\n",
            "Requirement already satisfied: jsonschema-specifications>=2023.03.6 in /usr/local/lib/python3.11/dist-packages (from jsonschema>=2.6->nbformat->import-ipynb) (2025.4.1)\n",
            "Requirement already satisfied: referencing>=0.28.4 in /usr/local/lib/python3.11/dist-packages (from jsonschema>=2.6->nbformat->import-ipynb) (0.36.2)\n",
            "Requirement already satisfied: rpds-py>=0.7.1 in /usr/local/lib/python3.11/dist-packages (from jsonschema>=2.6->nbformat->import-ipynb) (0.26.0)\n",
            "Requirement already satisfied: platformdirs>=2.5 in /usr/local/lib/python3.11/dist-packages (from jupyter-core!=5.0.*,>=4.12->nbformat->import-ipynb) (4.3.8)\n",
            "Requirement already satisfied: ptyprocess>=0.5 in /usr/local/lib/python3.11/dist-packages (from pexpect>4.3->IPython->import-ipynb) (0.7.0)\n",
            "Requirement already satisfied: wcwidth in /usr/local/lib/python3.11/dist-packages (from prompt-toolkit!=3.0.0,!=3.0.1,<3.1.0,>=2.0.0->IPython->import-ipynb) (0.2.13)\n",
            "Requirement already satisfied: typing-extensions>=4.4.0 in /usr/local/lib/python3.11/dist-packages (from referencing>=0.28.4->jsonschema>=2.6->nbformat->import-ipynb) (4.14.1)\n",
            "Downloading import_ipynb-0.2-py3-none-any.whl (4.0 kB)\n",
            "Downloading jedi-0.19.2-py2.py3-none-any.whl (1.6 MB)\n",
            "\u001b[2K   \u001b[90m━━━━━━━━━━━━━━━━━━━━━━━━━━━━━━━━━━━━━━━━\u001b[0m \u001b[32m1.6/1.6 MB\u001b[0m \u001b[31m20.7 MB/s\u001b[0m eta \u001b[36m0:00:00\u001b[0m\n",
            "\u001b[?25hInstalling collected packages: jedi, import-ipynb\n",
            "Successfully installed import-ipynb-0.2 jedi-0.19.2\n"
          ]
        }
      ]
    },
    {
      "cell_type": "code",
      "source": [
        "!ls drive/MyDrive/Colab\\ Notebooks/PyTorch\\ Transformer/Vision\\ Transformer/paligemma"
      ],
      "metadata": {
        "colab": {
          "base_uri": "https://localhost:8080/"
        },
        "id": "U-Gsl8qkNul2",
        "outputId": "dc154599-9d72-4ded-d78d-ee8f1998cbc5"
      },
      "execution_count": 17,
      "outputs": [
        {
          "output_type": "stream",
          "name": "stdout",
          "text": [
            "modelling_gemma.ipynb  processing_paligemma.ipynb  siglip.ipynb\n"
          ]
        }
      ]
    },
    {
      "cell_type": "code",
      "source": [
        "import sys\n",
        "import os\n",
        "sys.path.append(\"drive/MyDrive/Colab\\ Notebooks/PyTorch\\ Transformer/Vision\\ Transformer/paligemma\")\n",
        "os.cwd(\"drive/MyDrive/Colab\\ Notebooks/PyTorch\\ Transformer/Vision\\ Transformer/paligemma\")"
      ],
      "metadata": {
        "colab": {
          "base_uri": "https://localhost:8080/",
          "height": 180
        },
        "id": "zxdsVs4CMt22",
        "outputId": "0d52026a-4247-4b07-b4ac-2294d5313f90"
      },
      "execution_count": 23,
      "outputs": [
        {
          "output_type": "error",
          "ename": "AttributeError",
          "evalue": "module 'os' has no attribute 'cwd'",
          "traceback": [
            "\u001b[0;31m---------------------------------------------------------------------------\u001b[0m",
            "\u001b[0;31mAttributeError\u001b[0m                            Traceback (most recent call last)",
            "\u001b[0;32m/tmp/ipython-input-23-2716369010.py\u001b[0m in \u001b[0;36m<cell line: 0>\u001b[0;34m()\u001b[0m\n\u001b[1;32m      2\u001b[0m \u001b[0;32mimport\u001b[0m \u001b[0mos\u001b[0m\u001b[0;34m\u001b[0m\u001b[0;34m\u001b[0m\u001b[0m\n\u001b[1;32m      3\u001b[0m \u001b[0msys\u001b[0m\u001b[0;34m.\u001b[0m\u001b[0mpath\u001b[0m\u001b[0;34m.\u001b[0m\u001b[0mappend\u001b[0m\u001b[0;34m(\u001b[0m\u001b[0;34m\"drive/MyDrive/Colab\\ Notebooks/PyTorch\\ Transformer/Vision\\ Transformer/paligemma\"\u001b[0m\u001b[0;34m)\u001b[0m\u001b[0;34m\u001b[0m\u001b[0;34m\u001b[0m\u001b[0m\n\u001b[0;32m----> 4\u001b[0;31m \u001b[0mos\u001b[0m\u001b[0;34m.\u001b[0m\u001b[0mcwd\u001b[0m\u001b[0;34m(\u001b[0m\u001b[0;34m\"drive/MyDrive/Colab\\ Notebooks/PyTorch\\ Transformer/Vision\\ Transformer/paligemma\"\u001b[0m\u001b[0;34m)\u001b[0m\u001b[0;34m\u001b[0m\u001b[0;34m\u001b[0m\u001b[0m\n\u001b[0m",
            "\u001b[0;31mAttributeError\u001b[0m: module 'os' has no attribute 'cwd'"
          ]
        }
      ]
    },
    {
      "cell_type": "code",
      "execution_count": 21,
      "metadata": {
        "colab": {
          "base_uri": "https://localhost:8080/",
          "height": 357
        },
        "id": "eZ-vfdzZ5EyK",
        "outputId": "aa6b1165-c748-4587-eda6-44ba72695bbd"
      },
      "outputs": [
        {
          "output_type": "error",
          "ename": "ModuleNotFoundError",
          "evalue": "No module named 'siglip'",
          "traceback": [
            "\u001b[0;31m---------------------------------------------------------------------------\u001b[0m",
            "\u001b[0;31mModuleNotFoundError\u001b[0m                       Traceback (most recent call last)",
            "\u001b[0;32m/tmp/ipython-input-21-3288372504.py\u001b[0m in \u001b[0;36m<cell line: 0>\u001b[0;34m()\u001b[0m\n\u001b[1;32m      5\u001b[0m \u001b[0;32mimport\u001b[0m \u001b[0mmath\u001b[0m\u001b[0;34m\u001b[0m\u001b[0;34m\u001b[0m\u001b[0m\n\u001b[1;32m      6\u001b[0m \u001b[0;32mimport\u001b[0m \u001b[0mimport_ipynb\u001b[0m\u001b[0;34m\u001b[0m\u001b[0;34m\u001b[0m\u001b[0m\n\u001b[0;32m----> 7\u001b[0;31m \u001b[0;32mfrom\u001b[0m \u001b[0msiglip\u001b[0m \u001b[0;32mimport\u001b[0m \u001b[0mSiglipVisionConfig\u001b[0m\u001b[0;34m\u001b[0m\u001b[0;34m\u001b[0m\u001b[0m\n\u001b[0m",
            "\u001b[0;31mModuleNotFoundError\u001b[0m: No module named 'siglip'",
            "",
            "\u001b[0;31m---------------------------------------------------------------------------\u001b[0;32m\nNOTE: If your import is failing due to a missing package, you can\nmanually install dependencies using either !pip or !apt.\n\nTo view examples of installing some common dependencies, click the\n\"Open Examples\" button below.\n\u001b[0;31m---------------------------------------------------------------------------\u001b[0m\n"
          ],
          "errorDetails": {
            "actions": [
              {
                "action": "open_url",
                "actionText": "Open Examples",
                "url": "/notebooks/snippets/importing_libraries.ipynb"
              }
            ]
          }
        }
      ],
      "source": [
        "import import_ipynb\n",
        "from siglip import SiglipVisionConfig"
      ]
    },
    {
      "cell_type": "code",
      "source": [
        "import torch\n",
        "from torch import nn\n",
        "from typing import Optional, Tuple, List\n",
        "from torch.nn import CrossEntropyLoss\n",
        "import math"
      ],
      "metadata": {
        "id": "jH1JNkBVghEZ"
      },
      "execution_count": 2,
      "outputs": []
    },
    {
      "cell_type": "code",
      "source": [
        "class GemmaConfig:\n",
        "\n",
        "  def __init__(\n",
        "      self,\n",
        "      vocab_size,\n",
        "      hidden_size,\n",
        "      intermediate_size,\n",
        "      num_hidden_layers,\n",
        "      num_attention_heads,\n",
        "      num_key_value_heads,\n",
        "      head_dim=256,\n",
        "      max_position_embedding=8192,\n",
        "      rms_norm_eps=1e-6,\n",
        "      rope_theta=10000.0,\n",
        "      attention_bias=False,\n",
        "      attention_dropout=0.0,\n",
        "      pad_token_id=None,\n",
        "      **kwargs\n",
        "  ):\n",
        "\n",
        "    super().__init__()\n",
        "    self.vocab_size = vocab_size\n",
        "    self.max_position_embedding = max_position_embedding\n",
        "    self.hidden_size = hidden_size\n",
        "    self.intermediate_size = intermediate_size\n",
        "    self.num_hidden_layers = num_hidden_layers\n",
        "    self.num_attention_heads = num_attention_heads\n",
        "    self.head_dim = head_dim\n",
        "    self.num_key_value_heads = num_key_value_heads\n",
        "    self.rms_norm_eps = rms_norm_eps\n",
        "    self.rope_theta = rope_theta\n",
        "    self.attention_bias = attention_bias\n",
        "    self.attention_dropout = attention_dropout\n",
        "    self.pad_token_id = pad_token_id"
      ],
      "metadata": {
        "id": "XW4VmLXskGlT"
      },
      "execution_count": null,
      "outputs": []
    },
    {
      "cell_type": "code",
      "source": [
        "class PaliGemmaConfig:\n",
        "\n",
        "  def __init__(\n",
        "      self,\n",
        "      vision_config=None,\n",
        "      text_config=None,\n",
        "      ignore_index=-100,\n",
        "      image_token_index=256000,\n",
        "      vocab_size=257152,\n",
        "      projection_dim=2048,\n",
        "      hidden_size=2048,\n",
        "      pad_token_id=None,\n",
        "      **kwargs\n",
        "  ):\n",
        "    super().__init__()\n",
        "    self.ignore_index = ignore_index\n",
        "    self.image_token_index = image_token_index\n",
        "    self.vocab_size = vocab_size\n",
        "    self.projection_dim = projection_dim\n",
        "    self.hidden_size = hidden_size\n",
        "    self.vision_config = vision_config\n",
        "    self.is_encoder_decoder = False,\n",
        "    self.pad_token_id = pad_token_id\n",
        "\n",
        "    self.vision_config = SiglipVisionConfig(**vision_config)\n",
        "    self.text_config = text_config\n",
        "    self.text_config = GemmaConfig(**text_config, pad_token_id=pad_token_id)\n",
        "    self.vocab_size = self.text_config.vocab_size\n",
        "    self.text_config.num_image_tokens = (self.vision_config.image_size // self.vision_config.patch_size) ** 2\n",
        "    self.vision_config.projection_dim = projection_dim"
      ],
      "metadata": {
        "id": "Mbx1H2xzgZWs"
      },
      "execution_count": 4,
      "outputs": []
    },
    {
      "cell_type": "code",
      "source": [
        "class GemmaModel(nn.Module):\n",
        "\n",
        "  def __init__(self, config: GemmaConfig):\n",
        "    super().__init__()\n",
        "    self.config = config\n",
        "    self.padding_idx = config.pad_token_id\n",
        "    self.vocab_size = config.vocab_size\n",
        "\n",
        "    self.embed_tokens = nn.Embedding(config.vocab_size, config.hidden_size, self.padding_idx)\n",
        "    self.layers = nn.ModuleList(\n",
        "        [GemmaDecoderLayer(config, layer_idx) for layer_idx in range(config.num_hidden_layers)]\n",
        "    )\n",
        "    self.norm = GemmaRMSNorm(config.hidden_size, eps=config.rms_norm_eps)\n",
        "\n",
        "  def get_input_embeddings(self):\n",
        "    return self.embed_tokens\n",
        "\n",
        "  def forward(\n",
        "      self,\n",
        "      attention_mask: Optional[torch.Tensor] = None,\n",
        "      position_ids: Optional[torch.LongTensor] = None,\n",
        "      inputs_embeds: Optional[torch.FloatTensor] = None,\n",
        "      kv_cache: Optional[KVCache] = None\n",
        "  ) -> torch.FloatTensor:\n",
        "    hidden_states = inputs_embeds # (B, seq_len, hidden_size)\n",
        "    normalizer = torch.tensor(self.config.hidden_size**0.5, dtype=hidden_states.dtype)\n",
        "    hidden_states = hidden_states * normalizer\n",
        "\n",
        "    for decoder_layer in self.layers:\n",
        "      hidden_states = decoder_layer( # (B, seq_len, hidden_size)\n",
        "          hidden_states,\n",
        "          attention_mask=attention_mask,\n",
        "          position_ids=position_ids,\n",
        "          kv_cache=kv_cache\n",
        "      )\n",
        "\n",
        "    hidden_states = self.norm(hidden_states) # (B, seq_len, hidden_size)\n",
        "\n",
        "    return hidden_states"
      ],
      "metadata": {
        "id": "HGRwY_sV7pe8"
      },
      "execution_count": null,
      "outputs": []
    },
    {
      "cell_type": "code",
      "source": [
        "class GemmaForCausalLM(nn.Module):\n",
        "\n",
        "  def __init__(self, config):\n",
        "    super().__init__()\n",
        "    self.config = config\n",
        "    self.model = GemmaModel(config)\n",
        "    self.vocab_size = config.vocab_size\n",
        "    self.lm_head = nn.Linear(config.hidden_size, config.vocab_size, bias=False)\n",
        "\n",
        "  def get_input_embeddings(self):\n",
        "    return self.model.embed_tokens\n",
        "\n",
        "  def tie_weights(self):\n",
        "    self.lm_head.weight = self.model.embed_tokens.weight\n",
        "\n",
        "  def forward(\n",
        "      self,\n",
        "      attention_mask: Optional[torch.Tensor] = None,\n",
        "      position_ids: Optional[torch.LongTensor] = None,\n",
        "      inputs_embeds: Optional[torch.FloatTensor] = None,\n",
        "      kv_cache: Optional[KVCache] = None\n",
        "  ) -> Tuple:\n",
        "    outputs = self.model(\n",
        "        attention_mask=attention_maks,\n",
        "        position_ids=position_ids,\n",
        "        inputs_embeds=inputs_embeds,\n",
        "        kv_cache=kv_cache,\n",
        "    )\n",
        "\n",
        "    hidden_states = outputs\n",
        "    logits = self.lm_head(hidden_states)\n",
        "    logits = logits.float()\n",
        "\n",
        "    return_data = {\n",
        "        \"logits\": logits,\n",
        "    }\n",
        "\n",
        "    if kv_cache is not None:\n",
        "      # Return the updated cache\n",
        "      return_data[\"kv_cache\"] = kv_cache\n",
        "\n",
        "    return kv_cache"
      ],
      "metadata": {
        "id": "YlmnQWTCcxSk"
      },
      "execution_count": null,
      "outputs": []
    },
    {
      "cell_type": "code",
      "source": [
        "class PaliGemmaMultiModalProjector(nn.Module):\n",
        "\n",
        "  def __init__(self, config: PaliGemmaConfig):\n",
        "    super().__init__()\n",
        "    self.linear = nn.Linear(config.vision_config.hidden_size, config.vision_config.projection_dim, bias=True)\n",
        "\n",
        "  def forward(self, image_features):\n",
        "    hidden_states = self.linear(image_features) # (B, num_patches, projection_dim)\n",
        "    return hidden_states"
      ],
      "metadata": {
        "id": "GOMC68InbrK2"
      },
      "execution_count": null,
      "outputs": []
    },
    {
      "cell_type": "code",
      "source": [
        "class PaliGemmaForConditionalGeneration(nn.Module):\n",
        "\n",
        "  def __init__(self, config: PaliGemmaConfig):\n",
        "    super().__init__()\n",
        "    self.config = config\n",
        "    self.vision_tower = SiglipVisionModel(config.vision_config)\n",
        "    self.multi_modal_projector = PaliGemmaMultiModalProjector(config)\n",
        "    self.vocab_size = config.vocab_size\n",
        "\n",
        "    language_model = GemmaForCausalLM(config.text_config)\n",
        "    self.language_model = language_model\n",
        "    self.pad_token_id = self.config.pad_token_id if self.config.pad_token_id is not None else -1\n",
        "\n",
        "  def tie_weights(self):\n",
        "    return self.language_model.tie_weights()\n",
        "\n",
        "  def _merge_input_ids_with_image_features(\n",
        "      self, image_features: torch.Tensor,\n",
        "      inputs_embeds: torch.Tensor,\n",
        "      input_ids: torch.Tensor,\n",
        "      attention_mask: torch.Tensor,\n",
        "      kv_cache: KVCache\n",
        "  ):\n",
        "    _, _, embed_dim = image_features.shape\n",
        "    batch_size, sequence_length = input_ids.shape\n",
        "    dtype, device = inputs_embeds.dtype, inputs_embeds.device\n",
        "    scaled_image_features = image_features / (self.config.hidden_size**0.5) # (B, seq_len, hidden_size)\n",
        "\n",
        "    # combine the embeddings of the image tokens, the text tokens and mask out all the padding tokens\n",
        "    final_embedding = torch.zeros(batch_size, sequence_length, embed_dim, dtype=inputs_embeds.dtype, device=inputs_embeds.device)\n",
        "    text_mask = (input_ids != self.config.image_token_index) & (input_ids != self.pad_token_id) # (B, seq_len)\n",
        "    image_mask = input_ids == self.config.image_token_index # (B, seq_len)\n",
        "    pad_mask = input_ids == self.pad_token_id # (B, seq_len)\n",
        "\n",
        "    # We need to expand the masks to the embedding dimension otherwise we can't use them in torch.where\n",
        "    text_mask_expanded = text_mask.unsqueeze(-1).expand(-1, -1, embed_dim)\n",
        "    pad_mask_expanded = pad_mask.unsqueeze(-1).expand(-1, -1, embed_dim)\n",
        "    image_mask_expanded = image.unsqueeze(-1).expand(-1, -1, embed_dim)\n",
        "\n",
        "    # add the text embedding\n",
        "    final_embedding = torch.where(text_mask_expanded, inputs_embeds, final_embedding)\n",
        "    # insert image embeddings. We can't use torch.where because sequence length of scaled_image_features is different from final_embedding\n",
        "    final_embedding = torch.masked_scatter(image_mask_expanded, scaled_image_features)\n",
        "    # Zero out padding tokens\n",
        "    final_embedding = torch.where(pad_mask_expanded, toch.zeros_like(final_embedding), final_embedding)\n",
        "\n",
        "    ### CREATE THE ATTENTION MASK ###\n",
        "    dtype, device = inputs_embeds.dtype, inputs_embeds.device\n",
        "    min_dtype = torch.finfo(dtype).min\n",
        "    q_len = inputs_embeds.shape[1]\n",
        "\n",
        "    if kv_cache is None or kv_cache.num_items() == 0:\n",
        "      # Do not mask any token, because we're in the prefill phase\n",
        "      # This only works when we have no padding\n",
        "      causal_mask = torch.full(\n",
        "          (batch_size, q_len, q_len), fill_value=0, dtype=dtype, device=device\n",
        "      )\n",
        "    else:\n",
        "      # Since we are generating tokens, the query must be one single token\n",
        "      assert q_len == 1\n",
        "      kv_len = kv_cache.num_items() + q_len\n",
        "      # Also in this case we don't need to mask anything, since each query shoud be able to attend all previous tokens\n",
        "      # this only works when we have no padding\n",
        "      causal_mask = torch.full(\n",
        "          (batch_size, q_len, kv_len), fill_value=0, dtype=dtype, device=device\n",
        "      )\n",
        "\n",
        "      # Add the head dimension\n",
        "      causal_mask = causal_mask.unsqueeze(1) # (B, num_heads_q, q_len, kv_len)\n",
        "\n",
        "      if kv_cache is not None and kv_cache.num_items() > 0:\n",
        "        # the position of the query is just the last position\n",
        "        position_ids = attention_mask.cumsum(-1)[:, -1]\n",
        "        if position_ids.dim() == 1:\n",
        "          position_ids = position_ids.unsqueeze(0)\n",
        "\n",
        "      else:\n",
        "        # Create a position_ids based on the size of the attention_mask\n",
        "        # For masked tokens, use the number 1 as position\n",
        "        position_ids = (attention_mask.cumsum(-1)).masked_fill_((attention_mask == 0), 1).to(device)\n",
        "\n",
        "    return final_embedding, causal_mask, position_ids\n",
        "\n",
        "\n",
        "  def forward(\n",
        "      self,\n",
        "      input_ids: torch.LongTensor = None,\n",
        "      pixel_values: torch.FloatTensor = None,\n",
        "      attention_mask: Optional[torch.Tensor] = None,\n",
        "      kv_cache: Optional[KVCache] = None,\n",
        "  ) -> Tuple:\n",
        "    assert torch.all(attention_mask == 1), \"The input cannot be padded\"\n",
        "    inputs_embeds = self.language_model.get_input_embeddings()(input_ids) # (B, seq_len, hidden_size)\n",
        "    selected_image_feature = self.vision_tower(pixel_values.to(inputs_embeds.dtype)) # (B, num_patches, embed_dim)\n",
        "    image_features = self.multi_modal_projector(selected_image_feature) # (B, num_patches, hidden_size)\n",
        "    # Merge the embeddings of the text tokens and the image tokens\n",
        "    input_embeds, attention_mask, position_ids = self._merge_input_ids_with_image_features(image_features, inputs_embeds, input_ids, attention_mask, kv_cache)\n",
        "\n",
        "    outputs = self.language_model(\n",
        "        attention_mask=attention_mask,\n",
        "        position_ids=position_ids,\n",
        "        inputs_embeds=inputs_embeds,\n",
        "        kv_cache=kv_cache\n",
        "    )\n",
        "\n",
        "    return outputs"
      ],
      "metadata": {
        "colab": {
          "base_uri": "https://localhost:8080/",
          "height": 216
        },
        "id": "mXx-ONek5v6O",
        "outputId": "7c0817f0-4510-4de8-bc8e-e555f6962685"
      },
      "execution_count": 2,
      "outputs": [
        {
          "output_type": "error",
          "ename": "NameError",
          "evalue": "name 'nn' is not defined",
          "traceback": [
            "\u001b[0;31m---------------------------------------------------------------------------\u001b[0m",
            "\u001b[0;31mNameError\u001b[0m                                 Traceback (most recent call last)",
            "\u001b[0;32m/tmp/ipython-input-2-259072098.py\u001b[0m in \u001b[0;36m<cell line: 0>\u001b[0;34m()\u001b[0m\n\u001b[0;32m----> 1\u001b[0;31m \u001b[0;32mclass\u001b[0m \u001b[0mPaliGemmaForConditionalGeneration\u001b[0m\u001b[0;34m(\u001b[0m\u001b[0mnn\u001b[0m\u001b[0;34m.\u001b[0m\u001b[0mModule\u001b[0m\u001b[0;34m)\u001b[0m\u001b[0;34m:\u001b[0m\u001b[0;34m\u001b[0m\u001b[0;34m\u001b[0m\u001b[0m\n\u001b[0m\u001b[1;32m      2\u001b[0m \u001b[0;34m\u001b[0m\u001b[0m\n\u001b[1;32m      3\u001b[0m   \u001b[0;32mdef\u001b[0m \u001b[0m__init__\u001b[0m\u001b[0;34m(\u001b[0m\u001b[0mself\u001b[0m\u001b[0;34m,\u001b[0m \u001b[0mconfig\u001b[0m\u001b[0;34m:\u001b[0m \u001b[0mPaliGemmaConfig\u001b[0m\u001b[0;34m)\u001b[0m\u001b[0;34m:\u001b[0m\u001b[0;34m\u001b[0m\u001b[0;34m\u001b[0m\u001b[0m\n\u001b[1;32m      4\u001b[0m     \u001b[0msuper\u001b[0m\u001b[0;34m(\u001b[0m\u001b[0;34m)\u001b[0m\u001b[0;34m.\u001b[0m\u001b[0m__init__\u001b[0m\u001b[0;34m(\u001b[0m\u001b[0;34m)\u001b[0m\u001b[0;34m\u001b[0m\u001b[0;34m\u001b[0m\u001b[0m\n\u001b[1;32m      5\u001b[0m     \u001b[0mself\u001b[0m\u001b[0;34m.\u001b[0m\u001b[0mconfig\u001b[0m \u001b[0;34m=\u001b[0m \u001b[0mconfig\u001b[0m\u001b[0;34m\u001b[0m\u001b[0;34m\u001b[0m\u001b[0m\n",
            "\u001b[0;31mNameError\u001b[0m: name 'nn' is not defined"
          ]
        }
      ]
    },
    {
      "cell_type": "code",
      "source": [
        "!ls"
      ],
      "metadata": {
        "id": "zjCkE853L2-E"
      },
      "execution_count": null,
      "outputs": []
    },
    {
      "cell_type": "code",
      "source": [],
      "metadata": {
        "colab": {
          "base_uri": "https://localhost:8080/"
        },
        "id": "_ifxwJffMHPp",
        "outputId": "aabf8bed-9824-42b9-ff79-68534d5e4cd1"
      },
      "execution_count": 1,
      "outputs": [
        {
          "output_type": "stream",
          "name": "stdout",
          "text": [
            "Drive already mounted at /content/drive; to attempt to forcibly remount, call drive.mount(\"/content/drive\", force_remount=True).\n"
          ]
        }
      ]
    },
    {
      "cell_type": "code",
      "source": [],
      "metadata": {
        "id": "knpkwEX6MLrq"
      },
      "execution_count": null,
      "outputs": []
    }
  ]
}