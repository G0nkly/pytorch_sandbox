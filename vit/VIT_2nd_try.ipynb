{
  "nbformat": 4,
  "nbformat_minor": 0,
  "metadata": {
    "colab": {
      "provenance": [],
      "authorship_tag": "ABX9TyMVrTt90/HWFzGgrYrLH9el",
      "include_colab_link": true
    },
    "kernelspec": {
      "name": "python3",
      "display_name": "Python 3"
    },
    "language_info": {
      "name": "python"
    }
  },
  "cells": [
    {
      "cell_type": "markdown",
      "metadata": {
        "id": "view-in-github",
        "colab_type": "text"
      },
      "source": [
        "<a href=\"https://colab.research.google.com/github/G0nkly/pytorch_sandbox/blob/main/vit/VIT_2nd_try.ipynb\" target=\"_parent\"><img src=\"https://colab.research.google.com/assets/colab-badge.svg\" alt=\"Open In Colab\"/></a>"
      ]
    },
    {
      "cell_type": "code",
      "execution_count": null,
      "metadata": {
        "id": "R1pwHV2muiLv"
      },
      "outputs": [],
      "source": [
        "# https://www.youtube.com/watch?v=4XgDdxpXHEQ"
      ]
    },
    {
      "cell_type": "code",
      "source": [
        "!curl -L http://i.imgur.com/8o9DXSj.jpeg --output image.jpg"
      ],
      "metadata": {
        "id": "No7V_SYZxN6p"
      },
      "execution_count": null,
      "outputs": []
    },
    {
      "cell_type": "code",
      "source": [
        "from PIL import Image"
      ],
      "metadata": {
        "id": "INnwTgCxxOZb"
      },
      "execution_count": null,
      "outputs": []
    },
    {
      "cell_type": "code",
      "source": [
        "img = Image.open(\"image.jpg\")\n",
        "img"
      ],
      "metadata": {
        "id": "tCDdjlQTxT9H"
      },
      "execution_count": null,
      "outputs": []
    },
    {
      "cell_type": "code",
      "source": [
        "from transformers import AutoProcessor, SiglipVisionModel, SiglipVisionConfig"
      ],
      "metadata": {
        "id": "LvydsySLxW5f"
      },
      "execution_count": null,
      "outputs": []
    },
    {
      "cell_type": "code",
      "source": [
        "processor = AutoProcessor.from_pretrained(\"google/siglip-base-patch16-224\")\n",
        "vision_model = SiglipVisionModel.from_pretrained(\"google/siglip-base-patch16-224\", config=SiglipVisionConfig(vision_use_head=False))\n",
        "vision_model"
      ],
      "metadata": {
        "id": "2KGBF0FgxiRF"
      },
      "execution_count": null,
      "outputs": []
    },
    {
      "cell_type": "code",
      "source": [
        "import torch\n",
        "from torch import nn\n",
        "from torch.nn import functional as F\n",
        "from dataclasses import dataclass\n",
        "\n",
        "from torchvision import transforms\n",
        "\n",
        "def preprocess_image(image, image_size=224):\n",
        "  preprocess = transforms.Compose([\n",
        "      transforms.Resize((image_size, image_size)),\n",
        "      transforms.ToTensor(),\n",
        "      transforms.Normalize(\n",
        "          mean=[0.485, 0.456, 0.406],\n",
        "          std=[0.229, 0.224, 0.225]\n",
        "      )\n",
        "  ])\n",
        "\n",
        "  image_tensor = preprocess(image)\n",
        "  image_tensor = image_tensor.unsqueeze(0)\n",
        "  return image_tensor\n",
        "\n",
        "image_tensor = preprocess_image(img)\n",
        "embed_dim = 768\n",
        "patch_size = 16\n",
        "image_size = 224\n",
        "num_patches = (image_size // patch_size) ** 2\n",
        "\n",
        "with torch.no_grad():\n",
        "  patch_embedding = nn.Conv2d(in_channels=3, out_channels=embed_dim, kernel_size=patch_size, stride=patch_size)\n",
        "  patches = patch_embedding(image_tensor)\n",
        "\n",
        "patches.shape, num_patches"
      ],
      "metadata": {
        "id": "yIxB5gZOx8BP"
      },
      "execution_count": null,
      "outputs": []
    },
    {
      "cell_type": "code",
      "source": [
        "position_embedding = nn.Embedding(num_patches, embed_dim)\n",
        "position_ids = torch.arange(num_patches).expand(1, -1)\n",
        "\n",
        "position_ids.shape"
      ],
      "metadata": {
        "id": "bLH12XRcz1iL"
      },
      "execution_count": null,
      "outputs": []
    },
    {
      "cell_type": "code",
      "source": [
        "# after flatten (1, 768, 196)\n",
        "embeddings = patches.flatten(start_dim=2, end_dim=-1)\n",
        "# (1, 768, 196) -> (1, 196, 768)\n",
        "embeddings = embeddings.transpose(1,2)\n",
        "embeddings = embeddings + position_embedding(position_ids)\n",
        "embeddings.shape"
      ],
      "metadata": {
        "id": "nJvoUaNkS9Td"
      },
      "execution_count": null,
      "outputs": []
    },
    {
      "cell_type": "code",
      "source": [
        "import matplotlib.pyplot as plt\n",
        "\n",
        "patches_viz = embeddings[0].detach().numpy()\n",
        "\n",
        "plt.figure(figsize=(15,8))\n",
        "plt.imshow(patches_viz, aspect=\"auto\", cmap=\"viridis\")\n",
        "plt.colorbar()\n",
        "plt.title(\"Visualization of all patch embeddings\")\n",
        "plt.xlabel(\"Embedding Dimension\")\n",
        "plt.ylabel(\"Patch Number\")\n",
        "plt.show()"
      ],
      "metadata": {
        "id": "K61RXaYqYSTM"
      },
      "execution_count": null,
      "outputs": []
    },
    {
      "cell_type": "code",
      "source": [
        "vision_model.eval()\n",
        "inputs = processor(images=img, return_tensors=\"pt\")\n",
        "\n",
        "with torch.no_grad():\n",
        "  patch_embeddings = vision_model.vision_model.embeddings(inputs.pixel_values)\n",
        "\n",
        "print(patch_embeddings.shape)\n",
        "\n",
        "patches_viz = patch_embeddings[0].detach().numpy()\n",
        "\n",
        "plt.figure(figsize=(15,8))\n",
        "plt.imshow(patches_viz, aspect=\"auto\", cmap=\"viridis\")\n",
        "plt.colorbar()\n",
        "plt.title(\"Trained Model: All Patch Embeddings\")\n",
        "plt.xlabel(\"Embedding Dimension\")\n",
        "plt.ylabel(\"Patch Number\")\n",
        "plt.show()"
      ],
      "metadata": {
        "id": "2LBdNUd_0BS0"
      },
      "execution_count": null,
      "outputs": []
    },
    {
      "cell_type": "code",
      "source": [
        "@dataclass\n",
        "class SiglipVisionConfig:\n",
        "  num_channels: int = 3\n",
        "  embed_dim: int = 768\n",
        "  image_size: int = 224\n",
        "  patch_size: int = 16\n",
        "\n",
        "class SiglipVisionEmbeddings(nn.Module):\n",
        "\n",
        "  def __init__(self, config: SiglipVisionConfig):\n",
        "    super().__init__()\n",
        "    self.config = config\n",
        "\n",
        "    self.num_channels = config.num_channels\n",
        "    self.embed_dim = config.embed_dim\n",
        "    self.image_size = config.image_size\n",
        "    self.patch_size = config.patch_size\n",
        "    self.patch_embedding = nn.Conv2d(\n",
        "        in_channels=self.num_channels,\n",
        "        out_channels=self.embed_dim,\n",
        "        kernel_size=self.patch_size,\n",
        "        stride=self.patch_size,\n",
        "        padding=\"valid\"\n",
        "    )\n",
        "\n",
        "    self.num_patches = (self.image_size // self.patch_size) **2\n",
        "    self.num_positions = self.num_patches\n",
        "    self.position_embedding = nn.Embedding(self.num_positions, self.embed_dim)\n",
        "    self.register_buffer(\n",
        "        \"position_ids\",\n",
        "        torch.arange(self.num_positions).expand((1, -1)),\n",
        "        persistent=False,\n",
        "    )\n",
        "\n",
        "  def forward(self, pixel_values: torch.FloatTensor) -> torch.Tensor:\n",
        "    B, C, H, W = pixel_values.shape\n",
        "\n",
        "    patch_embeds = self.patch_embedding(pixel_values)\n",
        "    embeddings = patch_embeds.flatten(start_dim=2, end_dim=-1)\n",
        "    embeddings = embeddings.transpose(1,2)\n",
        "    embeddings = embeddings + self.position_embedding(self.position_ids)\n",
        "    return embeddings"
      ],
      "metadata": {
        "id": "0G8aiUi703UU"
      },
      "execution_count": null,
      "outputs": []
    },
    {
      "cell_type": "code",
      "source": [
        "embd = SiglipVisionEmbeddings(SiglipVisionConfig())\n",
        "embd(image_tensor).shape"
      ],
      "metadata": {
        "id": "uuqZ_JVG1JGq"
      },
      "execution_count": null,
      "outputs": []
    },
    {
      "cell_type": "code",
      "source": [
        "from transformers import SiglipVisionModel as HFSiglipVisionModel\n",
        "\n",
        "our_state_dict = embd.state_dict()\n",
        "hf_state_dict = {k.replace(\"vision_model.embeddings.\", \"\"): v for k, v in vision_model.state_dict().items()\n",
        "  if \"vision_model.embeddings.\" in k}\n",
        "our_state_dict.update(hf_state_dict)\n",
        "embd.load_state_dict(our_state_dict)\n",
        "\n",
        "with torch.no_grad():\n",
        "  our_output = embd(image_tensor)\n",
        "  hf_output = vision_model.vision_model.embeddings(image_tensor)\n",
        "  print(\"Max difference between our output and HF output:\", torch.max(torch.abs(our_output - hf_output))) # = 0 <=> Match!"
      ],
      "metadata": {
        "id": "uVII8eqGN5-Q"
      },
      "execution_count": null,
      "outputs": []
    },
    {
      "cell_type": "code",
      "source": [
        "import math\n",
        "\n",
        "class Head(nn.Module):\n",
        "\n",
        "  def __init__(self, n_in, n_head, context_length):\n",
        "    super().__init__()\n",
        "    self.head_size = n_head\n",
        "    self.key = nn.Linear(n_in, n_head, bias=False)\n",
        "    self.query = nn.Linear(n_in, n_head, bias=False)\n",
        "    self.value = nn.Linear(n_in, n_head, bias=False)\n",
        "\n",
        "  def forward(self, x):\n",
        "    B, T, C = x.shape\n",
        "    k = self.key(x)\n",
        "    q = self.query(x)\n",
        "    v = self.value(x)\n",
        "\n",
        "    wei = (q @ k.transpose(-2, -1)) * (1.0/ math.sqrt(self.head_size))\n",
        "    wei = F.softmax(wei, dim=-1)\n",
        "    out = wei @ v\n",
        "\n",
        "    return out\n",
        "\n",
        "class MultiHeadAttention(nn.Module):\n",
        "\n",
        "  def __init__(self, num_head, n_in, head_size, context_length):\n",
        "    super().__init__()\n",
        "    self.head_size = head_size\n",
        "    self.num_head = num_head\n",
        "    self.heads = [Head(n_in, head_size, context_length) for _ in range(num_head)]\n",
        "    self.proj = nn.Linear(n_in, n_in)\n",
        "\n",
        "  def forward(self, x):\n",
        "    out = [h(x) for h in self.heads]\n",
        "    out = torch.concat(out, -1)\n",
        "    out = self.proj(out)\n",
        "\n",
        "    return out"
      ],
      "metadata": {
        "id": "cmFcZyTCO1hD"
      },
      "execution_count": null,
      "outputs": []
    },
    {
      "cell_type": "code",
      "source": [
        "@dataclass\n",
        "class SiglipVisionConfig:\n",
        "  num_channels: int = 3\n",
        "  image_size: int = 224\n",
        "  patch_size: int = 16\n",
        "  num_attention_heads: int = 12\n",
        "  hidden_size: int = 768\n",
        "  attention_dropout: float = 0.0\n",
        "\n",
        "class SiglipAttention(nn.Module):\n",
        "\n",
        "  def __init__(self, config: SiglipVisionConfig):\n",
        "    super().__init__()\n",
        "    self.config = config\n",
        "    self.embed_dim = config.hidden_size\n",
        "    self.num_heads = config.num_attention_heads\n",
        "    self.dropout = config.attention_dropout\n",
        "\n",
        "    self.k_proj = nn.Linear(self.embed_dim, self.embed_dim)\n",
        "    self.v_proj = nn.Linear(self.embed_dim, self.embed_dim)\n",
        "    self.q_proj = nn.Linear(self.embed_dim, self.embed_dim)\n",
        "    self.out_proj = nn.Linear(self.embed_dim, self.embed_dim)\n",
        "\n",
        "  def forward(self, hidden_states):\n",
        "    B, T, C = hidden_states.shape\n",
        "    q_states = self.q_proj(hidden_states)\n",
        "    k_states = self.k_proj(hidden_states)\n",
        "    v_states = self.v_proj(hidden_states)\n",
        "\n",
        "    q_states = q_states.view(B, T, self.num_heads, C // self.num_heads).transpose(1,2)\n",
        "    k_states = k_states.view(B, T, self.num_heads, C // self.num_heads).transpose(1,2)\n",
        "    v_states = v_states.view(B, T, self.num_heads, C // self.num_heads).transpose(1,2)\n",
        "\n",
        "    attn_weights = (q_states @ k_states.transpose(-2, -1)) * (1.0 / math.sqrt(k_states.size(-1)))\n",
        "    attn_weights = F.softmax(attn_weights, dim=-1).to(q_states.dtype)\n",
        "    attn_weights = F.dropout(attn_weights, p=self.dropout, training=self.training)\n",
        "\n",
        "    attn_outs = attn_weights @ v_states\n",
        "    attn_outs = attn_outs.transpose(1,2)\n",
        "    attn_outs = attn_outs.reshape(B, T, C).contiguous()\n",
        "    attn_outs = self.out_proj(attn_outs)\n",
        "\n",
        "    return attn_outs"
      ],
      "metadata": {
        "id": "JVJAm6uEP9bf"
      },
      "execution_count": null,
      "outputs": []
    },
    {
      "cell_type": "code",
      "source": [
        "batch_size = 1\n",
        "num_patches = 196\n",
        "embed_dim = 768\n",
        "\n",
        "hidden_states = torch.randn(batch_size, num_patches, embed_dim)\n",
        "config = SiglipVisionConfig(\n",
        "    attention_dropout=0.0,\n",
        "    num_attention_heads=12,\n",
        "    hidden_size=768\n",
        ")\n",
        "attention = SiglipAttention(config)\n",
        "output = attention(hidden_states)\n",
        "\n",
        "print(f\"Input Shape: {hidden_states.shape}\")\n",
        "print(f\"Output Shape: {output.shape}\")"
      ],
      "metadata": {
        "id": "U12a0lnVStql"
      },
      "execution_count": null,
      "outputs": []
    },
    {
      "cell_type": "code",
      "source": [
        "hf_state_dict = vision_model.vision_model.state_dict()\n",
        "our_state_dict = attention.state_dict()\n",
        "\n",
        "key_mapping = {\n",
        "    \"k_proj.weight\": \"encoder.layers.0.self_attn.k_proj.weight\",\n",
        "    \"k_proj.bias\": \"encoder.layers.0.self_attn.k_proj.bias\",\n",
        "    \"v_proj.weight\": \"encoder.layers.0.self_attn.v_proj.weight\",\n",
        "    \"v_proj.bias\": \"encoder.layers.0.self_attn.v_proj.bias\",\n",
        "    \"q_proj.weight\": \"encoder.layers.0.self_attn.q_proj.weight\",\n",
        "    \"q_proj.bias\": \"encoder.layers.0.self_attn.q_proj.bias\",\n",
        "    \"out_proj.weight\": \"encoder.layers.0.self_attn.out_proj.weight\",\n",
        "    \"out_proj.bias\": \"encoder.layers.0.self_attn.out_proj.bias\",\n",
        "}\n",
        "\n",
        "for our_key, hf_key in key_mapping.items():\n",
        "  our_state_dict[our_key].copy_(hf_state_dict[hf_key])\n",
        "\n",
        "attention.load_state_dict(our_state_dict)\n",
        "\n",
        "with torch.no_grad():\n",
        "  our_output = attention(hidden_states)\n",
        "  hf_output = vision_model.vision_model.encoder.layers[0].self_attn(hidden_states)[0]\n",
        "  max_diff = torch.max(torch.abs(our_output - hf_output))\n",
        "  print(f\"Max difference between our output and HF output: {max_diff: .6f}\")\n",
        "  print((torch.isclose(our_output, hf_output, atol=1e-6)==0).sum())"
      ],
      "metadata": {
        "id": "Vkc4xho9TDDj"
      },
      "execution_count": null,
      "outputs": []
    },
    {
      "cell_type": "code",
      "source": [
        "@dataclass\n",
        "class SiglipVisionConfig:\n",
        "  num_channels: int = 3\n",
        "  image_size: int = 224\n",
        "  patch_size: int = 16\n",
        "  num_attention_heads: int = 12\n",
        "  hidden_size: int = 768\n",
        "  attention_dropout: float = 0.0\n",
        "  intermediate_size: int = 3072\n",
        "\n",
        "class SiglipMLP(nn.Module):\n",
        "\n",
        "  def __init__(self, config: SiglipVisionConfig):\n",
        "    super().__init__()\n",
        "    self.config = config\n",
        "    self.fc1 = nn.Linear(config.hidden_size, config.intermediate_size)\n",
        "    self.fc2 = nn.Linear(config.intermediate_size, config.hidden_size)\n",
        "\n",
        "  def forward(self, hidden_states: torch.Tensor) -> torch.Tensor:\n",
        "    hidden_states = self.fc1(hidden_states)\n",
        "    hidden_states = nn.functional.gelu(hidden_states, approximate=\"tanh\")\n",
        "    hidden_states = self.fc2(hidden_states)\n",
        "    return hidden_states"
      ],
      "metadata": {
        "id": "JMjNk8lWarcC"
      },
      "execution_count": null,
      "outputs": []
    },
    {
      "cell_type": "code",
      "source": [
        "mlp = SiglipMLP(SiglipVisionConfig(hidden_size=768, intermediate_size=3072))\n",
        "mlp(torch.randn(1, 196, 768)).shape"
      ],
      "metadata": {
        "id": "H4Vl6FnychUq"
      },
      "execution_count": null,
      "outputs": []
    },
    {
      "cell_type": "code",
      "source": [
        "@dataclass\n",
        "class SiglipVisionConfig:\n",
        "  num_channels: int = 3\n",
        "  embed_dim: int = 768\n",
        "  image_size: int = 224\n",
        "  patch_size: int = 16\n",
        "  num_attention_heads: int = 12\n",
        "  hidden_size: int = 76\n",
        "  attention_dropout: float = 0.0\n",
        "  intermediate_size: int = 3072\n",
        "  layer_norm_eps: float = 1e-6\n",
        "\n",
        "class SiglipVisionEmbeddings(nn.Module):\n",
        "\n",
        "  def __init__(self, config: SiglipVisionConfig):\n",
        "    super().__init__()\n",
        "    self.config = config\n",
        "\n",
        "    self.num_channels = config.num_channels\n",
        "    self.embed_dim = config.embed_dim\n",
        "    self.image_size = config.image_size\n",
        "    self.patch_size = config.patch_size\n",
        "    self.patch_embedding = nn.Conv2d(\n",
        "        in_channels=self.num_channels,\n",
        "        out_channels=self.embed_dim,\n",
        "        kernel_size=self.patch_size,\n",
        "        stride=self.patch_size,\n",
        "        padding=\"valid\"\n",
        "    )\n",
        "\n",
        "    self.num_patches = (self.image_size // self.patch_size) **2\n",
        "    self.num_positions = self.num_patches\n",
        "    self.position_embedding = nn.Embedding(self.num_positions, self.embed_dim)\n",
        "    self.register_buffer(\n",
        "        \"position_ids\",\n",
        "        torch.arange(self.num_positions).expand((1, -1)),\n",
        "        persistent=False,\n",
        "    )\n",
        "\n",
        "  def forward(self, pixel_values: torch.FloatTensor) -> torch.Tensor:\n",
        "    B, C, H, W = pixel_values.shape\n",
        "\n",
        "    patch_embeds = self.patch_embedding(pixel_values)\n",
        "    embeddings = patch_embeds.flatten(start_dim=2, end_dim=-1)\n",
        "    embeddings = embeddings.transpose(1,2)\n",
        "    embeddings = embeddings + self.position_embedding(self.position_ids)\n",
        "    return embeddings"
      ],
      "metadata": {
        "id": "t8qx3ihFcsjn"
      },
      "execution_count": null,
      "outputs": []
    },
    {
      "cell_type": "code",
      "source": [
        "class SiglipEncoderLayer(nn.Module):\n",
        "\n",
        "  def __init__(self, config: SiglipVisionConfig):\n",
        "    super().__init__()\n",
        "    self.embed_dim = config.hidden_size\n",
        "    self.self_attn = SiglipAttention(config)\n",
        "    self.layer_norm1 = nn.LayerNorm(self.embed_dim, eps=config.layer_norm_eps)\n",
        "    self.mlp = SiglipMLP(config)\n",
        "    self.layer_norm2 = nn.LayerNorm(self.embed_dim, eps=config.layer_norm_eps)\n",
        "\n",
        "  def forward(self, hidden_states):\n",
        "    residual = hidden_states\n",
        "    hidden_states = self.layer_norm1(hidden_states)\n",
        "    hidden_states = self.self_attn(hidden_states)\n",
        "    hidden_states = residual + hidden_states\n",
        "\n",
        "    residual = hidden_states\n",
        "    hidden_states = self.layer_norm2(hidden_states)\n",
        "    hidden_states = self.mlp(hidden_states)\n",
        "    hidden_states = residual + hidden_states\n",
        "\n",
        "    return hidden_states"
      ],
      "metadata": {
        "id": "mvEf_YPIdKWJ"
      },
      "execution_count": null,
      "outputs": []
    },
    {
      "cell_type": "code",
      "source": [
        "encoder_layer = SiglipEncoderLayer(SiglipVisionConfig(hidden_size=768, intermediate_size=3072))\n",
        "encoder_layer(torch.randn(1, 196, 768)).shape"
      ],
      "metadata": {
        "id": "S7UAc3L8ehVx"
      },
      "execution_count": null,
      "outputs": []
    },
    {
      "cell_type": "code",
      "source": [
        "vision_model"
      ],
      "metadata": {
        "id": "aEwMZdoFerdy"
      },
      "execution_count": null,
      "outputs": []
    },
    {
      "cell_type": "code",
      "source": [
        "@dataclass\n",
        "class SiglipVisionConfig:\n",
        "  num_hidden_layers: int = 12\n",
        "  num_channels: int = 3\n",
        "  embed_dim: int = 768\n",
        "  image_size: int = 224\n",
        "  patch_size: int = 16\n",
        "  num_attention_heads: int = 12\n",
        "  hidden_size: int = 76\n",
        "  attention_dropout: float = 0.0\n",
        "  intermediate_size: int = 3072\n",
        "  layer_norm_eps: float = 1e-6"
      ],
      "metadata": {
        "id": "LzrkCUsve2fz"
      },
      "execution_count": null,
      "outputs": []
    },
    {
      "cell_type": "code",
      "source": [
        "class SiglipEncoder(nn.Module):\n",
        "\n",
        "  def __init__(self, config: SiglipVisionConfig):\n",
        "    super().__init__()\n",
        "    self.config = config\n",
        "    self.layers = nn.ModuleList([SiglipEncoderLayer(config) for _ in range(config.num_hidden_layers)])\n",
        "\n",
        "  def forward(self, hidden_states):\n",
        "    for layer in self.layers:\n",
        "      hidden_states = layer(hidden_states)\n",
        "\n",
        "    return hidden_states"
      ],
      "metadata": {
        "id": "ySBwEeiAfR9P"
      },
      "execution_count": null,
      "outputs": []
    },
    {
      "cell_type": "code",
      "source": [
        "encoder = SiglipEncoder(SiglipVisionConfig(hidden_size=768, intermediate_size=3072))\n",
        "encoder(torch.randn(1, 196, 768)).shape"
      ],
      "metadata": {
        "id": "2-IL6OPSfvon"
      },
      "execution_count": null,
      "outputs": []
    },
    {
      "cell_type": "code",
      "source": [
        "class SiglipVisionTransformer(nn.Module):\n",
        "\n",
        "  def __init__(self, config: SiglipVisionConfig):\n",
        "    super().__init__()\n",
        "    self.config = config\n",
        "    self.embeddings = SiglipVisionEmbeddings(config)\n",
        "    self.encoder = SiglipEncoder(config)\n",
        "    self.post_layernorm = nn.LayerNorm(config.hidden_size, eps=config.layer_norm_eps)\n",
        "\n",
        "  def forward(self, pixel_values):\n",
        "    hidden_states = self.embeddings(pixel_values)\n",
        "    last_hidden_state = self.encoder(hidden_states)\n",
        "    last_hidden_state = self.post_layernorm(last_hidden_state)\n",
        "    return last_hidden_state"
      ],
      "metadata": {
        "id": "ceK8ZDmrf4m8"
      },
      "execution_count": null,
      "outputs": []
    },
    {
      "cell_type": "code",
      "source": [
        "siglip = SiglipVisionTransformer(SiglipVisionConfig(hidden_size=768, intermediate_size=3072))\n",
        "siglip(image_tensor).shape"
      ],
      "metadata": {
        "id": "B3gJKr-2gkzr"
      },
      "execution_count": null,
      "outputs": []
    },
    {
      "cell_type": "code",
      "source": [
        "class SiglipVisionModel(nn.Module):\n",
        "\n",
        "  def __init__(self, config: SiglipVisionConfig):\n",
        "    super().__init__()\n",
        "    self.config = config\n",
        "    self.vision_model = SiglipVisionTransformer(config)\n",
        "\n",
        "  def forward(self, pixel_values):\n",
        "    return self.vision_model(pixel_values)"
      ],
      "metadata": {
        "id": "fbF6kcZogudC"
      },
      "execution_count": null,
      "outputs": []
    },
    {
      "cell_type": "code",
      "source": [
        "siglip = SiglipVisionModel(SiglipVisionConfig(hidden_size=768, intermediate_size=3072))\n",
        "siglip(image_tensor).shape"
      ],
      "metadata": {
        "id": "FcwBLU_3hOtg"
      },
      "execution_count": null,
      "outputs": []
    },
    {
      "cell_type": "code",
      "source": [
        "hf_state_dict = vision_model.state_dict()\n",
        "our_state_dict = siglip.state_dict()\n",
        "\n",
        "siglip.load_state_dict(hf_state_dict)"
      ],
      "metadata": {
        "id": "VqoGJax-haYX"
      },
      "execution_count": null,
      "outputs": []
    },
    {
      "cell_type": "code",
      "source": [],
      "metadata": {
        "id": "fzUd2Dyxhkr7"
      },
      "execution_count": null,
      "outputs": []
    }
  ]
}