{
  "nbformat": 4,
  "nbformat_minor": 0,
  "metadata": {
    "colab": {
      "provenance": [],
      "authorship_tag": "ABX9TyOQW7TXCsxpBAh6Ec9p9QxZ",
      "include_colab_link": true
    },
    "kernelspec": {
      "name": "python3",
      "display_name": "Python 3"
    },
    "language_info": {
      "name": "python"
    }
  },
  "cells": [
    {
      "cell_type": "markdown",
      "metadata": {
        "id": "view-in-github",
        "colab_type": "text"
      },
      "source": [
        "<a href=\"https://colab.research.google.com/github/G0nkly/pytorch_sandbox/blob/main/vit/VIT_2nd_try.ipynb\" target=\"_parent\"><img src=\"https://colab.research.google.com/assets/colab-badge.svg\" alt=\"Open In Colab\"/></a>"
      ]
    },
    {
      "cell_type": "code",
      "execution_count": null,
      "metadata": {
        "id": "R1pwHV2muiLv"
      },
      "outputs": [],
      "source": [
        "# https://www.youtube.com/watch?v=4XgDdxpXHEQ"
      ]
    },
    {
      "cell_type": "code",
      "source": [
        "!curl -L http://i.imgur.com/8o9DXSj.jpeg --output image.jpg"
      ],
      "metadata": {
        "id": "No7V_SYZxN6p"
      },
      "execution_count": null,
      "outputs": []
    },
    {
      "cell_type": "code",
      "source": [
        "from PIL import Image"
      ],
      "metadata": {
        "id": "INnwTgCxxOZb"
      },
      "execution_count": null,
      "outputs": []
    },
    {
      "cell_type": "code",
      "source": [
        "img = Image.open(\"image.jpg\")\n",
        "img"
      ],
      "metadata": {
        "id": "tCDdjlQTxT9H"
      },
      "execution_count": null,
      "outputs": []
    },
    {
      "cell_type": "code",
      "source": [
        "from transformers import AutoProcessor, SiglipVisionModel, SiglipVisionConfig"
      ],
      "metadata": {
        "id": "LvydsySLxW5f"
      },
      "execution_count": null,
      "outputs": []
    },
    {
      "cell_type": "code",
      "source": [
        "processor = AutoProcessor.from_pretrained(\"google/siglip-base-patch16-224\")\n",
        "vision_model = SiglipVisionModel.from_pretrained(\"google/siglip-base-patch16-224\", config=SiglipVisionConfig(vision_use_head=False))\n",
        "vision_model"
      ],
      "metadata": {
        "id": "2KGBF0FgxiRF"
      },
      "execution_count": null,
      "outputs": []
    },
    {
      "cell_type": "code",
      "source": [
        "import torch\n",
        "from torch import nn\n",
        "from torch.nn import functional as F\n",
        "from dataclasses import dataclass\n",
        "\n",
        "from torchvision import transforms\n",
        "\n",
        "def preprocess_image(image, image_size=224):\n",
        "  preprocess = transforms.Compose([\n",
        "      transforms.Resize((image_size, image_size)),\n",
        "      transforms.ToTensor(),\n",
        "      transforms.Normalize(\n",
        "          mean=[0.485, 0.456, 0.406],\n",
        "          std=[0.229, 0.224, 0.225]\n",
        "      )\n",
        "  ])\n",
        "\n",
        "  image_tensor = preprocess(image)\n",
        "  image_tensor = image_tensor.unsqueeze(0)\n",
        "  return image_tensor\n",
        "\n",
        "image_tensor = preprocess_image(img)\n",
        "embed_dim = 768\n",
        "patch_size = 16\n",
        "image_size = 224\n",
        "num_patches = (image_size // patch_size) ** 2\n",
        "\n",
        "with torch.no_grad():\n",
        "  patch_embedding = nn.Conv2d(in_channels=3, out_channels=embed_dim, kernel_size=patch_size, stride=patch_size)\n",
        "  patches = patch_embedding(image_tensor)\n",
        "\n",
        "patches.shape, num_patches"
      ],
      "metadata": {
        "id": "yIxB5gZOx8BP"
      },
      "execution_count": null,
      "outputs": []
    },
    {
      "cell_type": "code",
      "source": [],
      "metadata": {
        "id": "bLH12XRcz1iL"
      },
      "execution_count": null,
      "outputs": []
    }
  ]
}