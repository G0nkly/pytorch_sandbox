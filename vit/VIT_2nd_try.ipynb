{
  "nbformat": 4,
  "nbformat_minor": 0,
  "metadata": {
    "colab": {
      "provenance": [],
      "authorship_tag": "ABX9TyNIN8LrrFeay6HF8mmVh0iI",
      "include_colab_link": true
    },
    "kernelspec": {
      "name": "python3",
      "display_name": "Python 3"
    },
    "language_info": {
      "name": "python"
    }
  },
  "cells": [
    {
      "cell_type": "markdown",
      "metadata": {
        "id": "view-in-github",
        "colab_type": "text"
      },
      "source": [
        "<a href=\"https://colab.research.google.com/github/G0nkly/pytorch_sandbox/blob/main/vit/VIT_2nd_try.ipynb\" target=\"_parent\"><img src=\"https://colab.research.google.com/assets/colab-badge.svg\" alt=\"Open In Colab\"/></a>"
      ]
    },
    {
      "cell_type": "code",
      "execution_count": null,
      "metadata": {
        "id": "R1pwHV2muiLv"
      },
      "outputs": [],
      "source": [
        "# https://www.youtube.com/watch?v=4XgDdxpXHEQ"
      ]
    },
    {
      "cell_type": "code",
      "source": [
        "!curl -L http://i.imgur.com/8o9DXSj.jpeg --output image.jpg"
      ],
      "metadata": {
        "id": "No7V_SYZxN6p"
      },
      "execution_count": null,
      "outputs": []
    },
    {
      "cell_type": "code",
      "source": [
        "from PIL import Image"
      ],
      "metadata": {
        "id": "INnwTgCxxOZb"
      },
      "execution_count": null,
      "outputs": []
    },
    {
      "cell_type": "code",
      "source": [
        "img = Image.open(\"image.jpg\")\n",
        "img"
      ],
      "metadata": {
        "id": "tCDdjlQTxT9H"
      },
      "execution_count": null,
      "outputs": []
    },
    {
      "cell_type": "code",
      "source": [
        "from transformers import AutoProcessor, SiglipVisionModel, SiglipVisionConfig"
      ],
      "metadata": {
        "id": "LvydsySLxW5f"
      },
      "execution_count": null,
      "outputs": []
    },
    {
      "cell_type": "code",
      "source": [
        "processor = AutoProcessor.from_pretrained(\"google/siglip-base-patch16-224\")\n",
        "vision_model = SiglipVisionModel.from_pretrained(\"google/siglip-base-patch16-224\", config=SiglipVisionConfig(vision_use_head=False))\n",
        "vision_model"
      ],
      "metadata": {
        "id": "2KGBF0FgxiRF"
      },
      "execution_count": null,
      "outputs": []
    },
    {
      "cell_type": "code",
      "source": [
        "import torch\n",
        "from torch import nn\n",
        "from torch.nn import functional as F\n",
        "from dataclasses import dataclass\n",
        "\n",
        "from torchvision import transforms\n",
        "\n",
        "def preprocess_image(image, image_size=224):\n",
        "  preprocess = transforms.Compose([\n",
        "      transforms.Resize((image_size, image_size)),\n",
        "      transforms.ToTensor(),\n",
        "      transforms.Normalize(\n",
        "          mean=[0.485, 0.456, 0.406],\n",
        "          std=[0.229, 0.224, 0.225]\n",
        "      )\n",
        "  ])\n",
        "\n",
        "  image_tensor = preprocess(image)\n",
        "  image_tensor = image_tensor.unsqueeze(0)\n",
        "  return image_tensor\n",
        "\n",
        "image_tensor = preprocess_image(img)\n",
        "embed_dim = 768\n",
        "patch_size = 16\n",
        "image_size = 224\n",
        "num_patches = (image_size // patch_size) ** 2\n",
        "\n",
        "with torch.no_grad():\n",
        "  patch_embedding = nn.Conv2d(in_channels=3, out_channels=embed_dim, kernel_size=patch_size, stride=patch_size)\n",
        "  patches = patch_embedding(image_tensor)\n",
        "\n",
        "patches.shape, num_patches"
      ],
      "metadata": {
        "id": "yIxB5gZOx8BP"
      },
      "execution_count": null,
      "outputs": []
    },
    {
      "cell_type": "code",
      "source": [
        "position_embedding = nn.Embedding(num_patches, embed_dim)\n",
        "position_ids = torch.arange(num_patches).expand(1, -1)\n",
        "\n",
        "position_ids.shape"
      ],
      "metadata": {
        "id": "bLH12XRcz1iL"
      },
      "execution_count": null,
      "outputs": []
    },
    {
      "cell_type": "code",
      "source": [
        "# after flatten (1, 768, 196)\n",
        "embeddings = patches.flatten(start_dim=2, end_dim=-1)\n",
        "# (1, 768, 196) -> (1, 196, 768)\n",
        "embeddings = embeddings.transpose(1,2)\n",
        "embeddings = embeddings + position_embedding(position_ids)\n",
        "embeddings.shape"
      ],
      "metadata": {
        "id": "nJvoUaNkS9Td"
      },
      "execution_count": null,
      "outputs": []
    },
    {
      "cell_type": "code",
      "source": [
        "import matplotlib.pyplot as plt\n",
        "\n",
        "patches_viz = embeddings[0].detach().numpy()\n",
        "\n",
        "plt.figure(figsize=(15,8))\n",
        "plt.imshow(patches_viz, aspect=\"auto\", cmap=\"viridis\")\n",
        "plt.colorbar()\n",
        "plt.title(\"Visualization of all patch embeddings\")\n",
        "plt.xlabel(\"Embedding Dimension\")\n",
        "plt.ylabel(\"Patch Number\")\n",
        "plt.show()"
      ],
      "metadata": {
        "id": "K61RXaYqYSTM"
      },
      "execution_count": null,
      "outputs": []
    },
    {
      "cell_type": "code",
      "source": [
        "vision_model.eval()\n",
        "inputs = processor(images=img, return_tensors=\"pt\")\n",
        "\n",
        "with torch.no_grad():\n",
        "  patch_embeddings = vision_model.vision_model.embeddings(inputs.pixel_values)\n",
        "\n",
        "print(patch_embeddings.shape)\n",
        "\n",
        "patches_viz = patch_embeddings[0].detach().numpy()\n",
        "\n",
        "plt.figure(figsize=(15,8))\n",
        "plt.imshow(patches_viz, aspect=\"auto\", cmap=\"viridis\")\n",
        "plt.colorbar()\n",
        "plt.title(\"Trained Model: All Patch Embeddings\")\n",
        "plt.xlabel(\"Embedding Dimension\")\n",
        "plt.ylabel(\"Patch Number\")\n",
        "plt.show()"
      ],
      "metadata": {
        "id": "2LBdNUd_0BS0"
      },
      "execution_count": null,
      "outputs": []
    },
    {
      "cell_type": "code",
      "source": [
        "@dataclass\n",
        "class SiglipVisionConfig:\n",
        "  num_channels: int = 3\n",
        "  embed_dim: int = 768\n",
        "  image_size: int = 224\n",
        "  patch_size: int = 16\n",
        "\n",
        "class SiglipVisionEmbeddings(nn.Module):\n",
        "\n",
        "  def __init__(self, config: SiglipVisionConfig):\n",
        "    super().__init__()\n",
        "    self.config = config\n",
        "\n",
        "    self.num_channels = config.num_channels\n",
        "    self.embed_dim = config.embed_dim\n",
        "    self.image_size = config.image_size\n",
        "    self.patch_size = config.patch_size\n",
        "    self.patch_embedding = nn.Conv2d(\n",
        "        in_channels=self.num_channels,\n",
        "        out_channels=self.embed_dim,\n",
        "        kernel_size=self.patch_size,\n",
        "        stride=self.patch_size,\n",
        "        padding=\"valid\"\n",
        "    )\n",
        "\n",
        "    self.num_patches = (self.image_size // self.patch_size) **2\n",
        "    self.num_positions = self.num_patches\n",
        "    self.position_embedding = nn.Embedding(self.num_positions, self.embed_dim)\n",
        "    self.register_buffer(\n",
        "        \"position_ids\",\n",
        "        torch.arange(self.num_positions).expand((1, -1)),\n",
        "        persistent=False,\n",
        "    )\n",
        "\n",
        "  def forward(self, pixel_values: torch.FloatTensor) -> torch.Tensor:\n",
        "    B, C, H, W = pixel_values.shape\n",
        "\n",
        "    patch_embeds = self.patch_embedding(pixel_values)\n",
        "    embeddings = patch_embeds.flatten(start_dim=2, end_dim=-1)\n",
        "    embeddings = embeddings.transpose(1,2)\n",
        "    embeddings = embeddings + self.position_embedding(self.position_ids)\n",
        "    return embeddings"
      ],
      "metadata": {
        "id": "0G8aiUi703UU"
      },
      "execution_count": null,
      "outputs": []
    },
    {
      "cell_type": "code",
      "source": [
        "embd = SiglipVisionEmbeddings(SiglipVisionConfig())\n",
        "embd(image_tensor).shape"
      ],
      "metadata": {
        "id": "uuqZ_JVG1JGq"
      },
      "execution_count": null,
      "outputs": []
    },
    {
      "cell_type": "code",
      "source": [
        "from transformers import SiglipVisionModel as HFSiglipVisionModel\n",
        "\n",
        "our_state_dict = embd.state_dict()\n",
        "hf_state_dict = {k.replace(\"vision_model.embeddings.\", \"\"): v for k, v in vision_model.state_dict().items()\n",
        "  if \"vision_model.embeddings.\" in k}\n",
        "our_state_dict.update(hf_state_dict)\n",
        "embd.load_state_dict(our_state_dict)\n",
        "\n",
        "with torch.no_grad():\n",
        "  our_output = embd(image_tensor)\n",
        "  hf_output = vision_model.vision_model.embeddings(image_tensor)\n",
        "  print(\"Max difference between our output and HF output:\", torch.max(torch.abs(our_output - hf_output))) # = 0 <=> Match!"
      ],
      "metadata": {
        "id": "uVII8eqGN5-Q"
      },
      "execution_count": null,
      "outputs": []
    },
    {
      "cell_type": "code",
      "source": [],
      "metadata": {
        "id": "cmFcZyTCO1hD"
      },
      "execution_count": null,
      "outputs": []
    }
  ]
}