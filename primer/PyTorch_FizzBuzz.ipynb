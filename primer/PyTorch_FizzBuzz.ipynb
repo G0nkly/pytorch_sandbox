{
  "nbformat": 4,
  "nbformat_minor": 0,
  "metadata": {
    "colab": {
      "provenance": [],
      "authorship_tag": "ABX9TyOF1yRiFCyZJGbLjIPIzhkP",
      "include_colab_link": true
    },
    "kernelspec": {
      "name": "python3",
      "display_name": "Python 3"
    },
    "language_info": {
      "name": "python"
    }
  },
  "cells": [
    {
      "cell_type": "markdown",
      "metadata": {
        "id": "view-in-github",
        "colab_type": "text"
      },
      "source": [
        "<a href=\"https://colab.research.google.com/github/G0nkly/pytorch_sandbox/blob/main/primer/PyTorch_FizzBuzz.ipynb\" target=\"_parent\"><img src=\"https://colab.research.google.com/assets/colab-badge.svg\" alt=\"Open In Colab\"/></a>"
      ]
    },
    {
      "cell_type": "code",
      "execution_count": 1,
      "metadata": {
        "id": "FZUYMDIVVidy"
      },
      "outputs": [],
      "source": [
        "import torch"
      ]
    },
    {
      "cell_type": "code",
      "source": [
        "def fizz_buzz(number):\n",
        "  if number % 3 == 0 and number % 5 == 0:\n",
        "    return \"FizzBuzz\"\n",
        "  elif number % 3 == 0:\n",
        "    return \"Fizz\"\n",
        "  elif number % 5 == 0:\n",
        "    return \"Buzz\"\n",
        "  else:\n",
        "    return str(number)\n",
        "\n",
        "list(map(fizz_buzz, [i for i in range(100)]))"
      ],
      "metadata": {
        "colab": {
          "base_uri": "https://localhost:8080/"
        },
        "id": "_dD44xb9W7r9",
        "outputId": "099ad5c3-4dc4-42d5-a828-3aa070747b6c"
      },
      "execution_count": 6,
      "outputs": [
        {
          "output_type": "execute_result",
          "data": {
            "text/plain": [
              "['FizzBuzz',\n",
              " '1',\n",
              " '2',\n",
              " 'Fizz',\n",
              " '4',\n",
              " 'Buzz',\n",
              " 'Fizz',\n",
              " '7',\n",
              " '8',\n",
              " 'Fizz',\n",
              " 'Buzz',\n",
              " '11',\n",
              " 'Fizz',\n",
              " '13',\n",
              " '14',\n",
              " 'FizzBuzz',\n",
              " '16',\n",
              " '17',\n",
              " 'Fizz',\n",
              " '19',\n",
              " 'Buzz',\n",
              " 'Fizz',\n",
              " '22',\n",
              " '23',\n",
              " 'Fizz',\n",
              " 'Buzz',\n",
              " '26',\n",
              " 'Fizz',\n",
              " '28',\n",
              " '29',\n",
              " 'FizzBuzz',\n",
              " '31',\n",
              " '32',\n",
              " 'Fizz',\n",
              " '34',\n",
              " 'Buzz',\n",
              " 'Fizz',\n",
              " '37',\n",
              " '38',\n",
              " 'Fizz',\n",
              " 'Buzz',\n",
              " '41',\n",
              " 'Fizz',\n",
              " '43',\n",
              " '44',\n",
              " 'FizzBuzz',\n",
              " '46',\n",
              " '47',\n",
              " 'Fizz',\n",
              " '49',\n",
              " 'Buzz',\n",
              " 'Fizz',\n",
              " '52',\n",
              " '53',\n",
              " 'Fizz',\n",
              " 'Buzz',\n",
              " '56',\n",
              " 'Fizz',\n",
              " '58',\n",
              " '59',\n",
              " 'FizzBuzz',\n",
              " '61',\n",
              " '62',\n",
              " 'Fizz',\n",
              " '64',\n",
              " 'Buzz',\n",
              " 'Fizz',\n",
              " '67',\n",
              " '68',\n",
              " 'Fizz',\n",
              " 'Buzz',\n",
              " '71',\n",
              " 'Fizz',\n",
              " '73',\n",
              " '74',\n",
              " 'FizzBuzz',\n",
              " '76',\n",
              " '77',\n",
              " 'Fizz',\n",
              " '79',\n",
              " 'Buzz',\n",
              " 'Fizz',\n",
              " '82',\n",
              " '83',\n",
              " 'Fizz',\n",
              " 'Buzz',\n",
              " '86',\n",
              " 'Fizz',\n",
              " '88',\n",
              " '89',\n",
              " 'FizzBuzz',\n",
              " '91',\n",
              " '92',\n",
              " 'Fizz',\n",
              " '94',\n",
              " 'Buzz',\n",
              " 'Fizz',\n",
              " '97',\n",
              " '98',\n",
              " 'Fizz']"
            ]
          },
          "metadata": {},
          "execution_count": 6
        }
      ]
    },
    {
      "cell_type": "code",
      "source": [],
      "metadata": {
        "id": "YySCyix1XPF4"
      },
      "execution_count": null,
      "outputs": []
    }
  ]
}