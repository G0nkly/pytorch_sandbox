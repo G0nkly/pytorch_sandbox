{
  "nbformat": 4,
  "nbformat_minor": 0,
  "metadata": {
    "colab": {
      "provenance": [],
      "authorship_tag": "ABX9TyMeBLTtciFtw0ON81fdbmkK",
      "include_colab_link": true
    },
    "kernelspec": {
      "name": "python3",
      "display_name": "Python 3"
    },
    "language_info": {
      "name": "python"
    }
  },
  "cells": [
    {
      "cell_type": "markdown",
      "metadata": {
        "id": "view-in-github",
        "colab_type": "text"
      },
      "source": [
        "<a href=\"https://colab.research.google.com/github/G0nkly/pytorch_sandbox/blob/main/primer/PyTorch_FizzBuzz.ipynb\" target=\"_parent\"><img src=\"https://colab.research.google.com/assets/colab-badge.svg\" alt=\"Open In Colab\"/></a>"
      ]
    },
    {
      "cell_type": "code",
      "execution_count": 181,
      "metadata": {
        "id": "FZUYMDIVVidy"
      },
      "outputs": [],
      "source": [
        "###################\n",
        "# Library Imports #\n",
        "###################\n",
        "\n",
        "import torch\n",
        "import torch.nn as nn\n",
        "import random\n",
        "from functools import partial"
      ]
    },
    {
      "cell_type": "code",
      "source": [
        "####################\n",
        "# Dataset creation #\n",
        "####################\n",
        "\n",
        "def fizz_buzz(number):\n",
        "  if number % 3 == 0 and number % 5 == 0:\n",
        "    return \"FizzBuzz\"\n",
        "  elif number % 3 == 0:\n",
        "    return \"Fizz\"\n",
        "  elif number % 5 == 0:\n",
        "    return \"Buzz\"\n",
        "  else:\n",
        "    return \"Number\"\n",
        "\n",
        "def binary_encode(num_digits, number):\n",
        "    return [int(d) for d in f\"{number:0{num_digits}b}\"]\n",
        "\n",
        "def one_hot_encode(categorical_value):\n",
        "  if categorical_value == \"Fizz\":\n",
        "    return 0\n",
        "  elif categorical_value == \"Buzz\":\n",
        "    return 1\n",
        "  elif categorical_value == \"FizzBuzz\":\n",
        "    return 2\n",
        "  elif categorical_value == \"Number\":\n",
        "    return 3\n",
        "  else:\n",
        "    raise ValueError(f\"Value: {categorical_value} is not supported!\")\n",
        "\n",
        "encode = partial(binary_encode, 13)\n",
        "\n",
        "numbers = [i for i in range(5000)]\n",
        "\n",
        "x_raw = numbers\n",
        "y_raw = list(map(fizz_buzz, [i for i in range(5000)]))\n",
        "\n",
        "print(x_raw[10:15], y_raw[10:15])\n",
        "\n",
        "x_enc = list(map(lambda num: encode(num), x_raw))\n",
        "y_enc = list(map(one_hot_encode, y_raw))"
      ],
      "metadata": {
        "id": "_dD44xb9W7r9",
        "colab": {
          "base_uri": "https://localhost:8080/"
        },
        "outputId": "4c81c9fa-6ce0-4ee0-a8e3-d38d71349e39"
      },
      "execution_count": 182,
      "outputs": [
        {
          "output_type": "stream",
          "name": "stdout",
          "text": [
            "[10, 11, 12, 13, 14] ['Buzz', 'Number', 'Fizz', 'Number', 'Number']\n"
          ]
        }
      ]
    },
    {
      "cell_type": "code",
      "source": [
        "############################\n",
        "# Create Train / Test Data #\n",
        "############################"
      ],
      "metadata": {
        "id": "i5MEGfqEzDnu"
      },
      "execution_count": null,
      "outputs": []
    },
    {
      "cell_type": "code",
      "source": [
        "# this is a inconvenient way of creating a shuffled dataset\n",
        "temp = list(zip(x_enc, y_enc))\n",
        "random.shuffle(temp)\n",
        "X, Y = zip(*temp)\n",
        "X, Y = list(X), list(Y)\n",
        "\n",
        "print(X[:5], Y[:5])\n",
        "\n",
        "x_train, y_train = X[:4200], Y[:4200]\n",
        "x_test, y_test = X[4200:], Y[4200:]\n",
        "\n",
        "# we need to move the data to the pytorch universe\n",
        "inputs = torch.tensor(x_train, dtype=torch.float)\n",
        "targets = torch.tensor(y_train, dtype=torch.long)\n",
        "\n",
        "test_inputs = torch.tensor(x_test, dtype=torch.float)\n",
        "test_targets = torch.tensor(y_test, dtype=torch.long)"
      ],
      "metadata": {
        "colab": {
          "base_uri": "https://localhost:8080/"
        },
        "id": "_MB_ERMWZD00",
        "outputId": "2e5fe198-b936-4ccf-d5c4-1246ed282635"
      },
      "execution_count": 174,
      "outputs": [
        {
          "output_type": "stream",
          "name": "stdout",
          "text": [
            "[[0, 0, 0, 0, 0, 0, 0, 0, 1, 0, 1, 1, 0], [0, 1, 0, 0, 1, 1, 1, 0, 1, 0, 1, 0, 0], [0, 0, 0, 0, 0, 1, 1, 0, 1, 1, 1, 1, 0], [1, 0, 0, 0, 1, 0, 0, 1, 0, 0, 1, 1, 1], [0, 0, 1, 1, 0, 0, 0, 0, 0, 1, 0, 0, 0]] [3, 3, 0, 3, 3]\n"
          ]
        }
      ]
    },
    {
      "cell_type": "code",
      "source": [
        "###################\n",
        "# Build the model #\n",
        "###################\n",
        "\n",
        "net = nn.Sequential(\n",
        "    nn.Linear(13, 128),\n",
        "    nn.ReLU(),\n",
        "    nn.Linear(128, 128),\n",
        "    nn.ReLU(),\n",
        "    nn.Linear(128, 4)\n",
        ")\n",
        "\n",
        "optimizer = torch.optim.Adam(net.parameters(), lr=1e-03)\n",
        "criterion = nn.CrossEntropyLoss()"
      ],
      "metadata": {
        "id": "YSfNTN3Vcxoa"
      },
      "execution_count": 175,
      "outputs": []
    },
    {
      "cell_type": "code",
      "source": [
        "###################\n",
        "# Train the model #\n",
        "###################\n",
        "\n",
        "n_epochs = 1000\n",
        "\n",
        "for i in range(n_epochs):\n",
        "  logits = net(inputs)\n",
        "  loss = criterion(logits, targets)\n",
        "\n",
        "  optimizer.zero_grad()\n",
        "  loss.backward()\n",
        "  optimizer.step()\n",
        "\n",
        "  if i % 50 == 0 or i == 1000 - 1:\n",
        "    with torch.no_grad():\n",
        "      test_logits = net(test_inputs)\n",
        "      test_loss = criterion(test_logits, test_targets)\n",
        "    print(f\"Epoch: {i}, Train loss: {loss.item():.4f}, Test loss:{test_loss.item():.4f} \")"
      ],
      "metadata": {
        "id": "0MURArkQ0K07"
      },
      "execution_count": null,
      "outputs": []
    },
    {
      "cell_type": "code",
      "source": [
        "######################\n",
        "# Evaluate the model #\n",
        "######################\n",
        "\n",
        "with torch.no_grad():\n",
        "    predictions = torch.argmax(test_logits, dim=1)\n",
        "    accuracy = (predictions == test_targets).float().mean().item()\n",
        "    print(f\"Test Accuracy: {accuracy:.4f}\")\n"
      ],
      "metadata": {
        "colab": {
          "base_uri": "https://localhost:8080/"
        },
        "id": "VEgJ1twTgCWS",
        "outputId": "409a99e5-67dd-4e46-8943-d4a8ffd63306"
      },
      "execution_count": 183,
      "outputs": [
        {
          "output_type": "stream",
          "name": "stdout",
          "text": [
            "Test Accuracy: 0.9550\n"
          ]
        }
      ]
    },
    {
      "cell_type": "code",
      "source": [
        "##################################\n",
        "# Switch to a \"batched\" training #\n",
        "##################################\n",
        "\n",
        "from torch.utils.data import DataLoader, TensorDataset\n",
        "\n",
        "net = nn.Sequential(\n",
        "    nn.Linear(13, 64),\n",
        "    nn.ReLU(),\n",
        "    nn.Linear(64, 64),\n",
        "    nn.ReLU(),\n",
        "    nn.Linear(64, 4)\n",
        ")\n",
        "\n",
        "optimizer = torch.optim.Adam(net.parameters(), lr=1e-03)\n",
        "scheduler = torch.optim.lr_scheduler.StepLR(optimizer, step_size=30, gamma=0.05)\n",
        "criterion = nn.CrossEntropyLoss()\n",
        "\n",
        "batch_size = 64\n",
        "n_epochs = 150\n",
        "\n",
        "train_ds = TensorDataset(inputs, targets)\n",
        "train_loader = DataLoader(train_ds, batch_size=batch_size, shuffle=True)\n",
        "losses = torch.zeros(n_epochs)\n",
        "\n",
        "for i in range(n_epochs):\n",
        "  net.train()\n",
        "  for inputs_batched, targets_batched in train_loader:\n",
        "    logits = net(inputs_batched)\n",
        "    loss = criterion(logits, targets_batched)\n",
        "    optimizer.zero_grad()\n",
        "    loss.backward()\n",
        "    optimizer.step()\n",
        "\n",
        "  losses[i] = loss.mean().item()\n",
        "\n",
        "  if i % 10 == 0 or i == n_epochs - 1:\n",
        "    with torch.no_grad():\n",
        "      net.eval()\n",
        "      test_logits = net(test_inputs)\n",
        "      test_loss = criterion(test_logits, test_targets)\n",
        "    print(f\"Epoch: {i}, Train loss: {loss.item():.4f}, Test loss:{test_loss.item():.4f} \")\n"
      ],
      "metadata": {
        "colab": {
          "base_uri": "https://localhost:8080/"
        },
        "id": "QosHXzaI11R9",
        "outputId": "8c1d15db-cc76-4cd6-8ea8-b916617586d5"
      },
      "execution_count": 213,
      "outputs": [
        {
          "output_type": "stream",
          "name": "stdout",
          "text": [
            "Epoch: 0, Train loss: 1.1621, Test loss:1.1300 \n",
            "Epoch: 10, Train loss: 0.9259, Test loss:1.1303 \n",
            "Epoch: 20, Train loss: 1.1224, Test loss:0.9835 \n",
            "Epoch: 30, Train loss: 0.6669, Test loss:0.6305 \n",
            "Epoch: 40, Train loss: 0.2863, Test loss:0.4573 \n",
            "Epoch: 50, Train loss: 0.2564, Test loss:0.3541 \n",
            "Epoch: 60, Train loss: 0.2885, Test loss:0.3059 \n",
            "Epoch: 70, Train loss: 0.1439, Test loss:0.2930 \n",
            "Epoch: 80, Train loss: 0.0877, Test loss:0.2411 \n",
            "Epoch: 90, Train loss: 0.1052, Test loss:0.2199 \n",
            "Epoch: 100, Train loss: 0.0784, Test loss:0.2140 \n",
            "Epoch: 110, Train loss: 0.0490, Test loss:0.2016 \n",
            "Epoch: 120, Train loss: 0.0651, Test loss:0.1714 \n",
            "Epoch: 130, Train loss: 0.0758, Test loss:0.1530 \n",
            "Epoch: 140, Train loss: 0.0217, Test loss:0.1429 \n",
            "Epoch: 149, Train loss: 0.0516, Test loss:0.1437 \n"
          ]
        }
      ]
    },
    {
      "cell_type": "code",
      "source": [
        "######################\n",
        "# Evaluate the model #\n",
        "######################\n",
        "\n",
        "with torch.no_grad():\n",
        "    test_logits = net(test_inputs)\n",
        "    test_loss = criterion(test_logits, test_targets)\n",
        "    preds = torch.argmax(test_logits, dim=1)\n",
        "    acc = (preds == test_targets).float().mean().item()\n",
        "print(f\"Test accuracy: {acc:.4f}\")\n"
      ],
      "metadata": {
        "colab": {
          "base_uri": "https://localhost:8080/"
        },
        "id": "kW-8_4TP-jCq",
        "outputId": "36217efe-98cd-483d-a36e-5cd67864a189"
      },
      "execution_count": 214,
      "outputs": [
        {
          "output_type": "stream",
          "name": "stdout",
          "text": [
            "Test accuracy: 0.9675\n"
          ]
        }
      ]
    },
    {
      "cell_type": "code",
      "source": [
        "import matplotlib.pyplot as plt\n",
        "\n",
        "plt.plot(losses)"
      ],
      "metadata": {
        "colab": {
          "base_uri": "https://localhost:8080/",
          "height": 447
        },
        "id": "X6bGhGHc-Msi",
        "outputId": "56938c44-e475-407a-f821-faf6539f6bb6"
      },
      "execution_count": 215,
      "outputs": [
        {
          "output_type": "execute_result",
          "data": {
            "text/plain": [
              "[<matplotlib.lines.Line2D at 0x7edde3495ad0>]"
            ]
          },
          "metadata": {},
          "execution_count": 215
        },
        {
          "output_type": "display_data",
          "data": {
            "text/plain": [
              "<Figure size 640x480 with 1 Axes>"
            ],
            "image/png": "[encoded data removed]"
          },
          "metadata": {}
        }
      ]
    }
  ]
}