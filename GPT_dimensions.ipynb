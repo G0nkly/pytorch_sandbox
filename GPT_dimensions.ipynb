{
  "nbformat": 4,
  "nbformat_minor": 0,
  "metadata": {
    "colab": {
      "provenance": [],
      "authorship_tag": "ABX9TyOddZNYLfd9G5kP42BV9+r8",
      "include_colab_link": true
    },
    "kernelspec": {
      "name": "python3",
      "display_name": "Python 3"
    },
    "language_info": {
      "name": "python"
    }
  },
  "cells": [
    {
      "cell_type": "markdown",
      "metadata": {
        "id": "view-in-github",
        "colab_type": "text"
      },
      "source": [
        "<a href=\"https://colab.research.google.com/github/G0nkly/pytorch_sandbox/blob/main/GPT_dimensions.ipynb\" target=\"_parent\"><img src=\"https://colab.research.google.com/assets/colab-badge.svg\" alt=\"Open In Colab\"/></a>"
      ]
    },
    {
      "cell_type": "code",
      "source": [
        "import torch\n",
        "import torch.nn as nn\n",
        "import torch.nn.functional as F"
      ],
      "metadata": {
        "id": "Y1aOJOJ1KCmK"
      },
      "execution_count": 69,
      "outputs": []
    },
    {
      "cell_type": "code",
      "execution_count": 70,
      "metadata": {
        "id": "3qCyCGVskuv4"
      },
      "outputs": [],
      "source": [
        "# Lets look at each of the layers\n",
        "# 1) Encoding\n",
        "# 2) Embedding\n",
        "# 3) Positional Encoding\n",
        "# 4) Attention: key, query, value\n",
        "# 5) Feedforward\n",
        "# 6) Block/Layernorm\n",
        "# 7) Classification / LM Head"
      ]
    },
    {
      "cell_type": "code",
      "source": [
        "################\n",
        "# DATA EXAMPLE #\n",
        "################\n",
        "\n",
        "!wget https://raw.githubusercontent.com/karpathy/char-rnn/master/data/tinyshakespeare/input.txt\n",
        "\n",
        "with open(mode=\"r\", file=\"input.txt\") as f:\n",
        "  text = f.read()\n",
        "\n",
        "vocab = list(sorted(set(text)))"
      ],
      "metadata": {
        "colab": {
          "base_uri": "https://localhost:8080/"
        },
        "id": "FaC8pwxBKXVi",
        "outputId": "fd3fdf1e-fa0e-4ecc-8f68-27c084ca1158"
      },
      "execution_count": 71,
      "outputs": [
        {
          "output_type": "stream",
          "name": "stdout",
          "text": [
            "--2025-06-18 21:59:00--  https://raw.githubusercontent.com/karpathy/char-rnn/master/data/tinyshakespeare/input.txt\n",
            "Resolving raw.githubusercontent.com (raw.githubusercontent.com)... 185.199.108.133, 185.199.109.133, 185.199.110.133, ...\n",
            "Connecting to raw.githubusercontent.com (raw.githubusercontent.com)|185.199.108.133|:443... connected.\n",
            "HTTP request sent, awaiting response... 200 OK\n",
            "Length: 1115394 (1.1M) [text/plain]\n",
            "Saving to: ‘input.txt.2’\n",
            "\n",
            "\rinput.txt.2           0%[                    ]       0  --.-KB/s               \rinput.txt.2         100%[===================>]   1.06M  --.-KB/s    in 0.06s   \n",
            "\n",
            "2025-06-18 21:59:00 (18.0 MB/s) - ‘input.txt.2’ saved [1115394/1115394]\n",
            "\n"
          ]
        }
      ]
    },
    {
      "cell_type": "code",
      "source": [
        "##################\n",
        "# HYPERPARAMTERS #\n",
        "##################"
      ],
      "metadata": {
        "id": "QITuTbF7KLJB"
      },
      "execution_count": 72,
      "outputs": []
    },
    {
      "cell_type": "code",
      "source": [
        "vocab_size = len(vocab)\n",
        "embedding_dim = 32\n",
        "block_size = 8\n",
        "n_heads = 4"
      ],
      "metadata": {
        "id": "inC3GWsPKQSl"
      },
      "execution_count": 39,
      "outputs": []
    },
    {
      "cell_type": "code",
      "source": [
        "############\n",
        "# ENCODING #\n",
        "############"
      ],
      "metadata": {
        "id": "KznIrUvIJrAn"
      },
      "execution_count": 40,
      "outputs": []
    },
    {
      "cell_type": "code",
      "source": [
        "stoi = {v:k for k,v in enumerate(vocab)}\n",
        "itos = {k:v for k,v in enumerate(vocab)}\n",
        "encode = lambda seq: [stoi[char] for char in seq]\n",
        "decode = lambda numbers: \"\".join([itos[num] for num in numbers])\n",
        "\n",
        "def get_batch(split: str):\n",
        "  dataset = train if split == \"train\" else val"
      ],
      "metadata": {
        "id": "ghD7YPk8HXsr"
      },
      "execution_count": 41,
      "outputs": []
    },
    {
      "cell_type": "code",
      "source": [
        "#############\n",
        "# EMBEDDING #\n",
        "#############"
      ],
      "metadata": {
        "id": "7bf0P7L9Id9u"
      },
      "execution_count": 42,
      "outputs": []
    },
    {
      "cell_type": "code",
      "source": [
        "embedding = nn.Embedding(num_embeddings=vocab_size, embedding_dim=embedding_dim)"
      ],
      "metadata": {
        "id": "d0zeDIuzKBgA"
      },
      "execution_count": 43,
      "outputs": []
    },
    {
      "cell_type": "code",
      "source": [
        "t = torch.tensor(encode(\"Haubi\"))"
      ],
      "metadata": {
        "id": "HirEowEUODk6"
      },
      "execution_count": 44,
      "outputs": []
    },
    {
      "cell_type": "code",
      "source": [
        "embedding(t)"
      ],
      "metadata": {
        "colab": {
          "base_uri": "https://localhost:8080/"
        },
        "id": "KyIOe9_tOMPE",
        "outputId": "c91f9827-59d5-4225-bc3d-f966e7d5b7ad"
      },
      "execution_count": 45,
      "outputs": [
        {
          "output_type": "execute_result",
          "data": {
            "text/plain": [
              "tensor([[ 2.5800, -0.0949,  0.7592, -0.3650,  1.3564, -0.8533,  0.5991,  1.1836,\n",
              "          1.7810,  1.2654,  2.4589,  1.5647,  0.1009, -0.3783,  0.6628, -0.0811,\n",
              "         -0.3990,  0.3540, -0.8643,  0.9216, -1.4456, -0.1202, -0.7636,  0.7841,\n",
              "         -0.0887, -0.1448, -0.1449, -0.2748, -1.0291, -0.1812,  0.2785, -2.5819],\n",
              "        [ 0.8975, -1.0679,  0.0434,  0.5751, -0.5031, -0.9826, -1.0476,  0.1031,\n",
              "          0.0763,  1.2359, -0.6472,  0.7668, -0.2575, -0.6466,  0.3242,  0.1444,\n",
              "         -2.3190,  0.5099,  1.3419,  0.1118,  0.5495, -0.0386,  0.2451,  0.9431,\n",
              "          0.3770,  1.8286, -0.7861,  0.3404,  0.4163,  0.3839, -0.6465,  0.4309],\n",
              "        [ 0.3578, -0.7341, -0.3830, -0.1290, -2.2323, -1.4891,  0.1240, -1.2331,\n",
              "         -1.1088,  1.0324, -0.3613, -1.8569, -1.6749,  0.8790, -0.5744,  0.3798,\n",
              "         -0.9525,  1.1148,  0.2572, -0.1452, -0.4806, -0.6876,  1.1803, -0.8684,\n",
              "          0.9645,  1.1917, -1.2154,  0.1223, -0.0257, -0.7730, -1.7858, -0.9728],\n",
              "        [-1.0123,  0.2110,  0.3092,  0.2566,  0.8572, -0.8038, -0.0850, -0.1515,\n",
              "          0.8396, -1.3793, -0.8999, -0.4175, -1.5159, -1.7426,  0.1631,  0.8274,\n",
              "         -1.2719, -0.9353,  0.3955,  0.0458, -0.1466, -0.4039, -0.2203,  1.6535,\n",
              "          2.0026,  0.9665, -1.3696,  1.7848,  0.0514,  0.4185,  1.0348, -0.4276],\n",
              "        [-0.5587, -0.3511,  0.1438, -1.0593, -2.7687,  1.1564, -0.5800, -0.3770,\n",
              "         -1.8474,  0.1155, -2.0143,  0.9884,  1.3092, -1.2809,  0.3953,  1.0954,\n",
              "         -0.6044,  0.4596, -0.1423,  0.3588, -0.1517, -0.7476, -2.6014, -0.8637,\n",
              "         -1.0805, -2.4748,  2.2084, -2.2691, -0.2987, -0.4043, -0.7333,  0.6096]],\n",
              "       grad_fn=<EmbeddingBackward0>)"
            ]
          },
          "metadata": {},
          "execution_count": 45
        }
      ]
    },
    {
      "cell_type": "code",
      "source": [
        "#########################\n",
        "# POSITIONAL 'ENCODING' #\n",
        "#########################"
      ],
      "metadata": {
        "id": "uEBhtYKQONlj"
      },
      "execution_count": 46,
      "outputs": []
    },
    {
      "cell_type": "code",
      "source": [
        "postional_embedding = nn.Embedding(num_embeddings=5, embedding_dim=32)"
      ],
      "metadata": {
        "id": "dHmnOaSVPmeS"
      },
      "execution_count": 47,
      "outputs": []
    },
    {
      "cell_type": "code",
      "source": [
        "postional_embedding(torch.arange(5)).shape"
      ],
      "metadata": {
        "colab": {
          "base_uri": "https://localhost:8080/"
        },
        "id": "24mQLBiyReS5",
        "outputId": "ccf0cfeb-23fa-4450-a75b-865adeb044b3"
      },
      "execution_count": 48,
      "outputs": [
        {
          "output_type": "execute_result",
          "data": {
            "text/plain": [
              "torch.Size([5, 32])"
            ]
          },
          "metadata": {},
          "execution_count": 48
        }
      ]
    },
    {
      "cell_type": "code",
      "source": [
        "embedded_tensor = embedding(t) + postional_embedding(torch.arange(5, dtype=torch.long))\n",
        "embedded_tensor"
      ],
      "metadata": {
        "colab": {
          "base_uri": "https://localhost:8080/"
        },
        "id": "fnBn3VO3RnEw",
        "outputId": "77b0ee29-e655-4798-877e-fb572194005e"
      },
      "execution_count": 49,
      "outputs": [
        {
          "output_type": "execute_result",
          "data": {
            "text/plain": [
              "tensor([[ 4.4155, -0.2162,  0.0065, -1.7307,  1.6822, -0.4931,  1.4304,  1.0572,\n",
              "          3.9727,  0.7057,  1.8026,  1.3689,  0.3920, -0.1285,  2.1611, -0.8483,\n",
              "          1.0468,  1.0871, -0.8970,  1.0322, -1.9415, -2.1131, -1.2541,  0.5004,\n",
              "         -0.4549, -0.2385, -0.5177,  0.1364, -0.9234, -0.0941,  2.1807, -2.1845],\n",
              "        [ 2.8370, -0.9739,  1.0963,  0.9426, -1.3841,  0.2568, -0.8726, -1.0413,\n",
              "         -0.4496,  2.0147, -1.6400,  0.6019, -0.3357, -2.0018,  0.2246,  1.3742,\n",
              "         -0.3641,  0.2372,  0.7284,  1.2351,  0.1472, -0.3036,  0.8625, -0.4231,\n",
              "         -1.2266,  2.6165, -0.8946, -0.1381, -0.1918,  0.6834, -0.9202, -0.5171],\n",
              "        [ 0.8210, -0.7542, -2.1300,  0.9705, -0.4383, -1.9120, -1.9551, -1.0408,\n",
              "         -0.4011,  2.3656, -0.4639, -1.8330, -1.5049, -0.5385, -0.5345,  1.8234,\n",
              "         -0.0545,  1.8965,  0.3158, -1.3977,  0.4461, -2.2009,  0.7559, -0.4497,\n",
              "          2.6115,  0.7996, -1.5283,  0.6124, -0.6363,  0.6133, -2.0057, -1.5494],\n",
              "        [-0.0797, -0.1761, -0.3930,  1.2878,  2.5078, -0.2282,  0.0997,  0.0216,\n",
              "          1.1198, -0.6565,  0.6898, -0.4133, -1.8509, -3.6019,  1.4981,  0.1436,\n",
              "         -0.7120, -1.6250,  0.8470,  1.0239, -1.2492, -0.3736,  1.5672,  1.5981,\n",
              "          1.5861,  0.3212, -1.8351,  3.3009,  0.2303,  0.6304,  2.5664,  0.3228],\n",
              "        [-0.5969,  0.2610,  0.3091, -1.4457, -1.3468,  2.9288,  1.7586, -0.4938,\n",
              "         -2.4058,  0.5060, -1.3460, -0.6189,  0.1537, -1.2638,  0.9121,  0.2292,\n",
              "         -0.8401,  2.2757, -0.0168,  1.0977,  0.9817, -0.9073, -2.0040, -0.8047,\n",
              "         -1.9776, -2.7699,  0.3657, -2.2640, -1.0316, -0.4132, -1.8266,  0.5418]],\n",
              "       grad_fn=<AddBackward0>)"
            ]
          },
          "metadata": {},
          "execution_count": 49
        }
      ]
    },
    {
      "cell_type": "code",
      "source": [
        "#########################\n",
        "# SINGLE HEAD ATTENTION #\n",
        "#########################"
      ],
      "metadata": {
        "id": "kVyuxDh5Rwvo"
      },
      "execution_count": 50,
      "outputs": []
    },
    {
      "cell_type": "code",
      "source": [
        "# since its not MultiHeadAttention input_dim == output_dim\n",
        "block_size = len(t) if t is not None else block_size\n",
        "\n",
        "key_layer = nn.Linear(in_features=embedding_dim, out_features=embedding_dim)\n",
        "query_layer = nn.Linear(in_features=embedding_dim, out_features=embedding_dim)\n",
        "value_layer = nn.Linear(in_features=embedding_dim, out_features=embedding_dim)\n",
        "tril = torch.tril(torch.ones(block_size, block_size, dtype=torch.long))"
      ],
      "metadata": {
        "id": "CLdJKYDZm7cP"
      },
      "execution_count": 51,
      "outputs": []
    },
    {
      "cell_type": "code",
      "source": [
        "k = key_layer(embedded_tensor)\n",
        "q = query_layer(embedded_tensor)\n",
        "wei = (q @ k.transpose(-2,-1)) / (embedding_dim ** -0.5)\n",
        "wei = wei.masked_fill(tril == 0, -float(\"inf\"))\n",
        "wei = F.softmax(wei, dim=-1)\n",
        "v = value_layer(embedded_tensor)\n",
        "\n",
        "out = wei @ v\n",
        "wei, out"
      ],
      "metadata": {
        "id": "3WSinYAipzEh",
        "colab": {
          "base_uri": "https://localhost:8080/"
        },
        "outputId": "06cbdb08-0531-4117-d5a0-14bbbcc4b697"
      },
      "execution_count": 52,
      "outputs": [
        {
          "output_type": "execute_result",
          "data": {
            "text/plain": [
              "(tensor([[1.0000e+00, 0.0000e+00, 0.0000e+00, 0.0000e+00, 0.0000e+00],\n",
              "         [1.0000e+00, 1.9345e-14, 0.0000e+00, 0.0000e+00, 0.0000e+00],\n",
              "         [4.3111e-18, 4.2640e-03, 9.9574e-01, 0.0000e+00, 0.0000e+00],\n",
              "         [2.5450e-09, 3.5147e-10, 4.9606e-08, 1.0000e+00, 0.0000e+00],\n",
              "         [9.4689e-01, 5.1852e-02, 2.2750e-10, 1.2546e-03, 6.3807e-17]],\n",
              "        grad_fn=<SoftmaxBackward0>),\n",
              " tensor([[-0.6631, -0.8471,  0.3540, -0.3995,  0.4347, -0.8918,  0.2366,  1.5138,\n",
              "           0.5878,  1.5658, -0.8060,  0.0741,  0.1215, -1.0118,  0.3655,  0.9200,\n",
              "          -0.3271, -0.1265,  0.1571, -1.8154, -1.6308, -0.6471,  0.9462,  0.6098,\n",
              "           1.0935, -0.8272,  0.3581,  0.2497,  0.1220, -0.7735,  0.3773, -0.3455],\n",
              "         [-0.6631, -0.8471,  0.3540, -0.3995,  0.4347, -0.8918,  0.2366,  1.5138,\n",
              "           0.5878,  1.5658, -0.8060,  0.0741,  0.1215, -1.0118,  0.3655,  0.9200,\n",
              "          -0.3271, -0.1265,  0.1571, -1.8154, -1.6308, -0.6471,  0.9462,  0.6098,\n",
              "           1.0935, -0.8272,  0.3581,  0.2497,  0.1220, -0.7735,  0.3773, -0.3455],\n",
              "         [ 0.7821,  0.1671, -1.2827,  1.4762, -0.3211, -0.5193, -0.3480, -0.6622,\n",
              "          -1.3690, -0.2995,  0.2288, -0.1176,  0.5468,  0.3056,  0.7073,  0.1029,\n",
              "          -1.4941, -0.3021,  0.0446,  0.9471, -1.3578,  0.4475,  0.0148, -0.7619,\n",
              "          -0.7178,  0.5858, -0.0363,  0.4026,  0.3768,  0.6454,  0.7618,  0.9205],\n",
              "         [-1.6596, -0.1413,  0.9172,  0.5842,  0.2719, -0.8685,  0.5324, -0.3696,\n",
              "          -0.8619, -0.4521, -0.9045,  0.4003, -1.8561,  0.4524, -1.5245,  0.4342,\n",
              "          -0.1059, -0.0123,  0.6796, -0.1172, -1.2381,  1.2701, -0.7749, -0.6544,\n",
              "           0.6290,  0.6561,  1.5848, -0.5228, -1.0148, -1.0127,  0.5564,  0.3366],\n",
              "         [-0.6424, -0.8587,  0.3058, -0.4140,  0.3947, -0.8252,  0.2305,  1.3979,\n",
              "           0.5828,  1.4462, -0.7175,  0.0725,  0.1269, -0.9009,  0.3021,  0.8877,\n",
              "          -0.3037, -0.1650,  0.0938, -1.6971, -1.6008, -0.5641,  0.8703,  0.5008,\n",
              "           1.0762, -0.7714,  0.4056,  0.2098,  0.0928, -0.7060,  0.3628, -0.2744]],\n",
              "        grad_fn=<MmBackward0>))"
            ]
          },
          "metadata": {},
          "execution_count": 52
        }
      ]
    },
    {
      "cell_type": "code",
      "source": [
        "########################\n",
        "# MULTI HEAD ATTENTION #\n",
        "########################"
      ],
      "metadata": {
        "id": "-JTijNAxr3l3"
      },
      "execution_count": 53,
      "outputs": []
    },
    {
      "cell_type": "code",
      "source": [
        "class AttentionHead(nn.Module):\n",
        "\n",
        "  def __init__(self, embedding_dim, head_size):\n",
        "    super().__init__()\n",
        "    self.embedding_dim = embedding_dim\n",
        "    self.query_layer = nn.Linear(in_features=embedding_dim, out_features=head_size)\n",
        "    self.key_layer = nn.Linear(in_features=embedding_dim, out_features=head_size)\n",
        "    self.value_layer = nn.Linear(in_features=embedding_dim, out_features=head_size)\n",
        "    self.register_buffer(\"tril\", torch.tril(torch.ones(block_size, block_size, dtype=torch.long)))\n",
        "\n",
        "  def forward(self, x):\n",
        "    B, T, C = x.shape\n",
        "    q = self.query_layer(x)\n",
        "    k = self.key_layer(x)\n",
        "    v = self.value_layer(x)\n",
        "    wei = (q @ k.transpose(-2,-1)) / C ** -0.5\n",
        "    wei = wei.masked_fill(self.tril == 0, float(\"-inf\"))\n",
        "    wei = F.softmax(wei, dim=-1)\n",
        "    out = wei @ v\n",
        "\n",
        "    return out"
      ],
      "metadata": {
        "id": "HM_aXT9Er7lP"
      },
      "execution_count": 54,
      "outputs": []
    },
    {
      "cell_type": "code",
      "source": [
        "class MultiHeadAttention(nn.Module):\n",
        "\n",
        "  def __init__(self, embedding_dim, n_heads):\n",
        "    super().__init__()\n",
        "    head_size = embedding_dim // n_heads\n",
        "    self.heads = nn.ModuleList([AttentionHead(embedding_dim=embedding_dim, head_size=head_size) for _ in range(n_heads)])\n",
        "    self.projection_layer = nn.Linear(in_features=embedding_dim, out_features=embedding_dim)\n",
        "\n",
        "  def forward(self, x):\n",
        "    x = torch.cat([head(x) for head in self.heads], dim=-1)\n",
        "    out = self.projection_layer(x)\n",
        "    return out"
      ],
      "metadata": {
        "id": "X_0YzYwJvHs9"
      },
      "execution_count": 55,
      "outputs": []
    },
    {
      "cell_type": "code",
      "source": [
        "embedded_tensor = embedded_tensor.unsqueeze(0)\n",
        "embedded_tensor.shape"
      ],
      "metadata": {
        "colab": {
          "base_uri": "https://localhost:8080/"
        },
        "id": "igleMpjk2won",
        "outputId": "7db0507a-09b7-4a9e-8006-0ba0d3a26121"
      },
      "execution_count": 56,
      "outputs": [
        {
          "output_type": "execute_result",
          "data": {
            "text/plain": [
              "torch.Size([1, 5, 32])"
            ]
          },
          "metadata": {},
          "execution_count": 56
        }
      ]
    },
    {
      "cell_type": "code",
      "source": [
        "multi_head_attention = MultiHeadAttention(embedding_dim=embedding_dim, n_heads=n_heads)\n",
        "t_ma = multi_head_attention(embedded_tensor)\n",
        "t_ma"
      ],
      "metadata": {
        "colab": {
          "base_uri": "https://localhost:8080/"
        },
        "id": "UrrWxTzt1VkU",
        "outputId": "a305d929-3771-4e00-b927-40a9b3d2684e"
      },
      "execution_count": 57,
      "outputs": [
        {
          "output_type": "execute_result",
          "data": {
            "text/plain": [
              "tensor([[[-1.0545, -0.8248, -1.2653,  0.3533, -0.3357,  1.2724,  1.2836,\n",
              "          -0.3933, -0.5026,  0.0551,  0.1272,  0.6789,  0.0463, -0.2834,\n",
              "           0.4041,  0.7685,  0.2765,  0.6673, -0.0652, -0.4075, -0.0361,\n",
              "           0.6307, -0.2322, -0.1729, -0.2958,  0.4914, -0.3151, -0.2354,\n",
              "          -1.1973, -0.3631,  0.1999, -0.7662],\n",
              "         [-0.5489, -0.2506, -1.0980,  0.1862, -0.6716,  1.2653,  1.0010,\n",
              "          -0.3168, -0.3356, -0.2549, -0.0885, -0.0576, -0.0037, -0.2394,\n",
              "           0.4813,  0.6366,  0.0957, -0.3787,  0.2402, -0.1543, -0.2183,\n",
              "           1.1449, -0.2358,  1.0939,  0.3573,  0.9340,  0.2921,  0.0878,\n",
              "          -1.2566, -0.1301, -0.6037,  0.0780],\n",
              "         [-0.5327, -0.2657, -1.2460,  0.0581, -0.1193,  1.0900,  1.2358,\n",
              "          -0.1291, -0.4546, -0.0655,  0.1892,  0.0221,  0.3257, -0.7979,\n",
              "          -0.0376,  0.6193, -0.0521,  0.2909,  0.3014,  0.0581, -0.5964,\n",
              "           1.3661, -0.2233,  0.8258,  0.3469,  0.7413,  0.5981, -0.3863,\n",
              "          -1.0663, -0.3041, -0.7325,  0.1376],\n",
              "         [ 0.4778, -0.5365, -0.1209, -0.2824, -0.1827,  0.3363,  0.1948,\n",
              "           0.4648, -0.0517,  0.2086, -0.3162, -0.2052, -0.1701,  0.6748,\n",
              "           0.6772,  0.5689, -0.0801, -0.1509, -0.0405,  0.2406, -0.8691,\n",
              "          -0.1452, -0.8397,  0.2138, -0.1837,  0.2562,  0.3461,  0.5567,\n",
              "          -0.3733, -0.0834, -0.7374,  0.0608],\n",
              "         [-0.3789, -0.5557, -0.2848, -0.3063, -0.3997,  0.1756, -0.1984,\n",
              "          -0.3469,  0.5883, -0.4626, -0.1404, -0.2920,  0.0507, -0.4036,\n",
              "           0.0406, -0.3221,  0.2900,  0.1219, -0.1167, -0.5133, -0.0361,\n",
              "           0.3104, -0.7633,  0.0275,  0.4131,  0.2740, -0.2205,  0.1723,\n",
              "          -0.3680, -1.0415, -0.1559, -0.7333]]], grad_fn=<ViewBackward0>)"
            ]
          },
          "metadata": {},
          "execution_count": 57
        }
      ]
    },
    {
      "cell_type": "code",
      "source": [
        "################\n",
        "# FEED-FORWARD #\n",
        "################"
      ],
      "metadata": {
        "id": "t7QOv8O_Cian"
      },
      "execution_count": 58,
      "outputs": []
    },
    {
      "cell_type": "code",
      "source": [
        "feed_forward_layer = nn.Sequential(\n",
        "    nn.Linear(32, 4 * 32),\n",
        "    nn.Linear(4 * 32, 32)\n",
        ")\n",
        "\n",
        "t_ff = feed_forward_layer(t_ma)\n",
        "t_ff"
      ],
      "metadata": {
        "colab": {
          "base_uri": "https://localhost:8080/"
        },
        "id": "-oJhELEiCgs0",
        "outputId": "7c2638c5-a6fa-4ceb-f307-a5ec96444878"
      },
      "execution_count": 59,
      "outputs": [
        {
          "output_type": "execute_result",
          "data": {
            "text/plain": [
              "tensor([[[-0.0211,  0.0744,  0.1264,  0.1699, -0.2576, -0.0369,  0.1442,\n",
              "           0.1003,  0.1561, -0.0962,  0.3293,  0.0320,  0.1998, -0.2574,\n",
              "           0.0230,  0.2018,  0.1788,  0.1161,  0.0851,  0.2169, -0.1008,\n",
              "          -0.1533, -0.0895, -0.1598, -0.2883,  0.1405, -0.0723,  0.4079,\n",
              "          -0.3392, -0.0624,  0.2001, -0.3019],\n",
              "         [-0.1276,  0.2321, -0.0021, -0.0290, -0.3454,  0.3835,  0.1918,\n",
              "          -0.2028,  0.1626, -0.2369,  0.1337, -0.0267,  0.2928, -0.1264,\n",
              "           0.2216,  0.1580, -0.0204,  0.1128, -0.1065,  0.2821, -0.2652,\n",
              "           0.1285, -0.0313, -0.3092, -0.2041,  0.2325,  0.0369,  0.3849,\n",
              "          -0.1925, -0.0475,  0.1249, -0.3190],\n",
              "         [-0.1152,  0.0384,  0.0619,  0.0358, -0.3171,  0.3231,  0.0837,\n",
              "          -0.1357,  0.0153, -0.1977,  0.0671, -0.0552,  0.2185, -0.2442,\n",
              "           0.0798,  0.1346, -0.0491,  0.2840, -0.0619,  0.2442, -0.2030,\n",
              "          -0.0539, -0.0870, -0.2087, -0.3249,  0.2875, -0.0526,  0.4013,\n",
              "          -0.2529, -0.0071,  0.1709, -0.3355],\n",
              "         [-0.1883,  0.2052, -0.2780,  0.2296,  0.0891,  0.0215, -0.1723,\n",
              "          -0.0876,  0.3115, -0.3269,  0.1356, -0.2084,  0.1729, -0.0038,\n",
              "          -0.0907,  0.1244, -0.1712,  0.1089,  0.0802, -0.3873, -0.2486,\n",
              "          -0.0204, -0.0425, -0.0646, -0.1833, -0.1448,  0.2491,  0.1135,\n",
              "          -0.0905,  0.0150,  0.0499, -0.0834],\n",
              "         [-0.0398, -0.0221,  0.0946,  0.0483, -0.1252, -0.1176, -0.2715,\n",
              "          -0.0671,  0.3624, -0.1584,  0.2513, -0.2625, -0.0331, -0.0609,\n",
              "           0.0017,  0.1355, -0.2790,  0.1614, -0.0209, -0.0133, -0.1806,\n",
              "          -0.1411, -0.1304, -0.2379,  0.0477, -0.0290, -0.0349,  0.1341,\n",
              "          -0.2027,  0.0044,  0.0810, -0.1357]]], grad_fn=<ViewBackward0>)"
            ]
          },
          "metadata": {},
          "execution_count": 59
        }
      ]
    },
    {
      "cell_type": "code",
      "source": [
        "########################\n",
        "# BLOCK AND LAYER-NORM #\n",
        "########################"
      ],
      "metadata": {
        "id": "oazuvtJZyeEq"
      },
      "execution_count": 60,
      "outputs": []
    },
    {
      "cell_type": "code",
      "source": [
        "class AttentionBlock(nn.Module):\n",
        "\n",
        "  def __init__(self, embedding_dim, n_heads):\n",
        "    super().__init__()\n",
        "    self.multi_head_attention = MultiHeadAttention(embedding_dim=embedding_dim, n_heads=n_heads)\n",
        "    self.feed_forward = nn.Sequential(\n",
        "        nn.Linear(in_features=embedding_dim, out_features=4 * embedding_dim),\n",
        "        nn.Linear(4 * embedding_dim, embedding_dim)\n",
        "    )\n",
        "\n",
        "  def forward(self, x):\n",
        "    x = self.multi_head_attention(x)\n",
        "    x = self.feed_forward(x)\n",
        "    return x"
      ],
      "metadata": {
        "id": "1yZ90h90BcKM"
      },
      "execution_count": 63,
      "outputs": []
    },
    {
      "cell_type": "code",
      "source": [
        "attention_block = AttentionBlock(embedding_dim=embedding_dim, n_heads=n_heads)\n",
        "t_block_2 = attention_block(t_ff)\n",
        "t_block_2"
      ],
      "metadata": {
        "id": "F0lyArs6Nw2b",
        "colab": {
          "base_uri": "https://localhost:8080/"
        },
        "outputId": "73e7f5bc-410e-400e-c777-2b8ee17c372e"
      },
      "execution_count": 64,
      "outputs": [
        {
          "output_type": "execute_result",
          "data": {
            "text/plain": [
              "tensor([[[ 1.3628e-01, -1.1693e-01, -1.4897e-02,  1.0651e-02,  4.1129e-02,\n",
              "           1.2110e-01,  7.0368e-02, -3.7389e-02,  1.1911e-01, -6.5945e-02,\n",
              "           3.6065e-04, -7.6318e-02,  1.4899e-01, -4.1852e-02,  5.1185e-02,\n",
              "          -6.3043e-02, -2.6743e-02, -4.6493e-02,  1.7397e-01,  1.6558e-01,\n",
              "          -2.9394e-02,  1.1385e-01, -6.5799e-02,  1.6398e-01, -8.4144e-02,\n",
              "          -1.0490e-01, -3.0380e-02,  3.7267e-03,  1.3677e-01,  1.5944e-01,\n",
              "          -3.5852e-02,  1.4431e-01],\n",
              "         [ 1.2629e-01, -1.0874e-01, -1.4859e-02,  5.1874e-03,  2.8196e-02,\n",
              "           1.1750e-01,  6.6046e-02, -4.3696e-02,  1.1677e-01, -6.5234e-02,\n",
              "           6.1439e-03, -8.1933e-02,  1.5270e-01, -3.5471e-02,  4.9201e-02,\n",
              "          -4.9665e-02, -1.9192e-02, -4.9481e-02,  1.5990e-01,  1.6782e-01,\n",
              "          -2.6687e-02,  1.0790e-01, -6.1787e-02,  1.5872e-01, -7.1192e-02,\n",
              "          -1.0990e-01, -2.3950e-02, -1.9822e-05,  1.4497e-01,  1.4763e-01,\n",
              "          -4.0706e-02,  1.4467e-01],\n",
              "         [ 1.2695e-01, -1.0793e-01, -1.6679e-02,  1.0282e-03,  2.7460e-02,\n",
              "           1.1893e-01,  6.8699e-02, -4.0852e-02,  1.1556e-01, -6.7663e-02,\n",
              "           1.2634e-02, -8.0656e-02,  1.4787e-01, -3.7574e-02,  5.3915e-02,\n",
              "          -5.1263e-02, -2.0394e-02, -4.6074e-02,  1.6283e-01,  1.6393e-01,\n",
              "          -2.5391e-02,  1.0571e-01, -6.6039e-02,  1.6227e-01, -7.1943e-02,\n",
              "          -1.0740e-01, -2.6636e-02,  4.5920e-03,  1.4546e-01,  1.4934e-01,\n",
              "          -3.9977e-02,  1.4688e-01],\n",
              "         [ 1.2427e-01, -1.1790e-01, -1.3314e-02,  9.5194e-03,  3.3396e-02,\n",
              "           1.2060e-01,  6.9798e-02, -3.7137e-02,  1.1598e-01, -6.2512e-02,\n",
              "           7.3101e-03, -8.1862e-02,  1.5431e-01, -3.6065e-02,  5.4378e-02,\n",
              "          -5.2349e-02, -1.9400e-02, -4.6872e-02,  1.6121e-01,  1.6471e-01,\n",
              "          -2.6852e-02,  1.1353e-01, -6.7578e-02,  1.5986e-01, -7.4871e-02,\n",
              "          -1.1003e-01, -3.0432e-02,  3.3652e-04,  1.4299e-01,  1.5389e-01,\n",
              "          -4.0119e-02,  1.4603e-01],\n",
              "         [ 1.2298e-01, -1.2440e-01, -1.1125e-02,  1.3213e-02,  3.5010e-02,\n",
              "           1.1906e-01,  7.1176e-02, -3.7121e-02,  1.1433e-01, -5.9431e-02,\n",
              "           8.8418e-03, -8.5152e-02,  1.5810e-01, -3.5676e-02,  5.3053e-02,\n",
              "          -5.2858e-02, -1.7901e-02, -4.5858e-02,  1.5936e-01,  1.6250e-01,\n",
              "          -2.7032e-02,  1.1382e-01, -7.0729e-02,  1.5851e-01, -7.7659e-02,\n",
              "          -1.1341e-01, -3.1957e-02,  3.7257e-05,  1.4229e-01,  1.5318e-01,\n",
              "          -4.1146e-02,  1.5085e-01]]], grad_fn=<ViewBackward0>)"
            ]
          },
          "metadata": {},
          "execution_count": 64
        }
      ]
    },
    {
      "cell_type": "code",
      "source": [
        "#############\n",
        "# (LM) HEAD #\n",
        "#############"
      ],
      "metadata": {
        "id": "y7sfUzouQVjD"
      },
      "execution_count": 27,
      "outputs": []
    },
    {
      "cell_type": "code",
      "source": [
        "lm_head = nn.Linear(in_features=embedding_dim, out_features=vocab_size)\n",
        "logits = lm_head(t_block_2)\n",
        "logits"
      ],
      "metadata": {
        "colab": {
          "base_uri": "https://localhost:8080/"
        },
        "id": "M_U-pPfXQkDl",
        "outputId": "6c227adc-db5c-4db3-a110-dc02ad23c66e"
      },
      "execution_count": 65,
      "outputs": [
        {
          "output_type": "execute_result",
          "data": {
            "text/plain": [
              "tensor([[[ 1.3321e-01, -1.1161e-01,  1.9875e-01, -5.9498e-02, -2.0814e-01,\n",
              "           2.3002e-02, -3.7312e-02, -1.8708e-02,  9.9739e-02, -7.2411e-02,\n",
              "           1.4606e-01,  1.8686e-02,  2.4535e-01, -9.6089e-02, -8.1794e-04,\n",
              "           2.9721e-02,  2.2889e-01,  7.6256e-02, -2.2849e-02, -8.3181e-02,\n",
              "           1.8891e-01, -3.8253e-03,  1.1956e-02,  2.4068e-01,  1.3616e-02,\n",
              "          -7.8111e-02, -6.2523e-02, -1.3010e-01, -1.8175e-01, -9.9558e-02,\n",
              "          -6.5696e-02, -5.6963e-02, -1.8788e-02, -1.2138e-02,  8.6316e-02,\n",
              "          -4.3037e-02, -1.7990e-01, -3.7059e-02, -6.8783e-02, -1.0026e-01,\n",
              "           1.5803e-01, -4.7147e-02,  1.4728e-01,  9.6631e-02,  1.1522e-01,\n",
              "          -1.4173e-01, -4.7850e-04,  4.6883e-02, -1.8378e-01,  3.6787e-03,\n",
              "          -3.7405e-02,  5.9665e-02,  4.7141e-02,  1.0253e-01,  9.6597e-02,\n",
              "           1.4454e-01,  5.5597e-03,  1.0009e-02,  1.0874e-01, -7.9356e-03,\n",
              "           1.5096e-01, -3.5419e-02,  4.2991e-02,  1.7127e-01, -2.0562e-01],\n",
              "         [ 1.3553e-01, -1.1274e-01,  2.0001e-01, -5.8491e-02, -2.0448e-01,\n",
              "           2.1437e-02, -3.6588e-02, -1.3757e-02,  9.9998e-02, -7.8570e-02,\n",
              "           1.4090e-01,  1.8514e-02,  2.5015e-01, -9.8499e-02, -2.3948e-03,\n",
              "           3.3793e-02,  2.2387e-01,  7.5037e-02, -2.4552e-02, -8.2067e-02,\n",
              "           1.8301e-01, -3.9706e-03,  1.4975e-02,  2.4020e-01,  1.5645e-02,\n",
              "          -8.0716e-02, -6.1277e-02, -1.2361e-01, -1.8633e-01, -9.3600e-02,\n",
              "          -6.0431e-02, -5.3322e-02, -1.3267e-02, -8.1511e-03,  8.5014e-02,\n",
              "          -4.1277e-02, -1.8005e-01, -2.7084e-02, -6.6618e-02, -1.0430e-01,\n",
              "           1.6047e-01, -4.8672e-02,  1.4782e-01,  9.5547e-02,  1.1464e-01,\n",
              "          -1.3914e-01, -2.3704e-03,  4.3444e-02, -1.9160e-01,  4.2660e-03,\n",
              "          -3.9811e-02,  6.3392e-02,  4.2332e-02,  1.0200e-01,  9.9564e-02,\n",
              "           1.4854e-01,  4.7400e-03,  1.2588e-02,  1.0992e-01, -9.1663e-03,\n",
              "           1.4955e-01, -3.9466e-02,  4.7626e-02,  1.7896e-01, -2.0450e-01],\n",
              "         [ 1.3200e-01, -1.1379e-01,  2.0038e-01, -5.9404e-02, -2.0473e-01,\n",
              "           2.1524e-02, -3.6632e-02, -1.3867e-02,  1.0272e-01, -7.9478e-02,\n",
              "           1.4404e-01,  2.1615e-02,  2.5142e-01, -9.7513e-02, -2.4733e-03,\n",
              "           3.3625e-02,  2.2310e-01,  7.3324e-02, -2.4783e-02, -8.1513e-02,\n",
              "           1.8361e-01, -7.3671e-03,  1.6068e-02,  2.3922e-01,  1.5137e-02,\n",
              "          -8.2812e-02, -6.0159e-02, -1.2297e-01, -1.8461e-01, -9.4769e-02,\n",
              "          -6.0603e-02, -5.2450e-02, -1.3890e-02, -8.6949e-03,  8.3872e-02,\n",
              "          -3.9914e-02, -1.7631e-01, -2.7460e-02, -6.6485e-02, -1.0322e-01,\n",
              "           1.6003e-01, -4.6958e-02,  1.4630e-01,  9.4212e-02,  1.1462e-01,\n",
              "          -1.4160e-01,  1.9667e-04,  4.2627e-02, -1.9062e-01,  2.4619e-03,\n",
              "          -4.0094e-02,  6.5198e-02,  4.4256e-02,  1.0199e-01,  9.8607e-02,\n",
              "           1.4762e-01,  4.9906e-03,  1.1203e-02,  1.0755e-01, -7.3338e-03,\n",
              "           1.5121e-01, -3.8127e-02,  5.0754e-02,  1.7700e-01, -2.0828e-01],\n",
              "         [ 1.3362e-01, -1.1352e-01,  2.0074e-01, -5.8028e-02, -2.0439e-01,\n",
              "           2.4686e-02, -3.7238e-02, -1.5110e-02,  1.0367e-01, -7.8083e-02,\n",
              "           1.4594e-01,  2.0054e-02,  2.5212e-01, -9.8196e-02, -7.9453e-04,\n",
              "           3.2836e-02,  2.2625e-01,  7.6963e-02, -2.2676e-02, -8.3535e-02,\n",
              "           1.8672e-01, -4.4829e-03,  1.3892e-02,  2.3805e-01,  1.7829e-02,\n",
              "          -8.0108e-02, -6.4699e-02, -1.2408e-01, -1.8506e-01, -9.8176e-02,\n",
              "          -5.9998e-02, -5.4255e-02, -1.7130e-02, -4.8996e-03,  8.2866e-02,\n",
              "          -4.2737e-02, -1.8075e-01, -3.2335e-02, -6.8218e-02, -1.0154e-01,\n",
              "           1.6055e-01, -5.0161e-02,  1.4701e-01,  9.6313e-02,  1.1193e-01,\n",
              "          -1.3812e-01, -3.6502e-04,  4.4855e-02, -1.9019e-01,  2.5611e-03,\n",
              "          -4.0736e-02,  6.0552e-02,  4.5275e-02,  1.0034e-01,  9.9188e-02,\n",
              "           1.4929e-01,  3.1737e-03,  1.3233e-02,  1.0666e-01, -8.6100e-03,\n",
              "           1.4971e-01, -3.7875e-02,  4.7162e-02,  1.7805e-01, -2.0610e-01],\n",
              "         [ 1.3248e-01, -1.1483e-01,  2.0088e-01, -5.9858e-02, -2.0388e-01,\n",
              "           2.6767e-02, -3.6509e-02, -1.5222e-02,  1.0548e-01, -7.8036e-02,\n",
              "           1.4770e-01,  2.0027e-02,  2.5375e-01, -9.8406e-02, -1.3729e-03,\n",
              "           3.3303e-02,  2.2588e-01,  7.9986e-02, -2.1807e-02, -8.4760e-02,\n",
              "           1.8732e-01, -4.3536e-03,  1.4751e-02,  2.3814e-01,  1.7666e-02,\n",
              "          -7.9773e-02, -6.5645e-02, -1.2228e-01, -1.8633e-01, -9.9489e-02,\n",
              "          -6.0383e-02, -5.5305e-02, -1.8905e-02, -3.0963e-03,  8.2389e-02,\n",
              "          -4.3277e-02, -1.8303e-01, -3.3895e-02, -7.0878e-02, -1.0221e-01,\n",
              "           1.6282e-01, -5.0928e-02,  1.4755e-01,  9.7828e-02,  1.1051e-01,\n",
              "          -1.3682e-01,  3.9984e-04,  4.4228e-02, -1.9120e-01,  3.1819e-03,\n",
              "          -4.2500e-02,  5.9377e-02,  4.5451e-02,  1.0065e-01,  9.9056e-02,\n",
              "           1.4912e-01,  8.3913e-04,  1.3998e-02,  1.0525e-01, -9.7556e-03,\n",
              "           1.4838e-01, -3.9009e-02,  4.6701e-02,  1.7740e-01, -2.0540e-01]]],\n",
              "       grad_fn=<ViewBackward0>)"
            ]
          },
          "metadata": {},
          "execution_count": 65
        }
      ]
    },
    {
      "cell_type": "code",
      "source": [
        "###########\n",
        "# Softmax #\n",
        "###########"
      ],
      "metadata": {
        "id": "thcq_pd9Uer-"
      },
      "execution_count": 66,
      "outputs": []
    },
    {
      "cell_type": "code",
      "source": [
        "probs = F.softmax(logits[:, -1, :], dim=-1)\n",
        "encoded_token = torch.argmax(probs)\n",
        "probs, encoded_token\n",
        "decode([encoded_token.item()])"
      ],
      "metadata": {
        "colab": {
          "base_uri": "https://localhost:8080/",
          "height": 35
        },
        "id": "sy3HSPqwUhff",
        "outputId": "3e5b3739-43cd-424b-f773-b0d496835e5a"
      },
      "execution_count": 67,
      "outputs": [
        {
          "output_type": "execute_result",
          "data": {
            "text/plain": [
              "'?'"
            ],
            "application/vnd.google.colaboratory.intrinsic+json": {
              "type": "string"
            }
          },
          "metadata": {},
          "execution_count": 67
        }
      ]
    },
    {
      "cell_type": "code",
      "source": [
        "test = torch.ones(4,8,3)\n",
        "test"
      ],
      "metadata": {
        "colab": {
          "base_uri": "https://localhost:8080/"
        },
        "id": "IaYbte54hzQK",
        "outputId": "bdf44772-3604-46f4-b4f2-97cda857a562"
      },
      "execution_count": 32,
      "outputs": [
        {
          "output_type": "execute_result",
          "data": {
            "text/plain": [
              "tensor([[[1., 1., 1.],\n",
              "         [1., 1., 1.],\n",
              "         [1., 1., 1.],\n",
              "         [1., 1., 1.],\n",
              "         [1., 1., 1.],\n",
              "         [1., 1., 1.],\n",
              "         [1., 1., 1.],\n",
              "         [1., 1., 1.]],\n",
              "\n",
              "        [[1., 1., 1.],\n",
              "         [1., 1., 1.],\n",
              "         [1., 1., 1.],\n",
              "         [1., 1., 1.],\n",
              "         [1., 1., 1.],\n",
              "         [1., 1., 1.],\n",
              "         [1., 1., 1.],\n",
              "         [1., 1., 1.]],\n",
              "\n",
              "        [[1., 1., 1.],\n",
              "         [1., 1., 1.],\n",
              "         [1., 1., 1.],\n",
              "         [1., 1., 1.],\n",
              "         [1., 1., 1.],\n",
              "         [1., 1., 1.],\n",
              "         [1., 1., 1.],\n",
              "         [1., 1., 1.]],\n",
              "\n",
              "        [[1., 1., 1.],\n",
              "         [1., 1., 1.],\n",
              "         [1., 1., 1.],\n",
              "         [1., 1., 1.],\n",
              "         [1., 1., 1.],\n",
              "         [1., 1., 1.],\n",
              "         [1., 1., 1.],\n",
              "         [1., 1., 1.]]])"
            ]
          },
          "metadata": {},
          "execution_count": 32
        }
      ]
    },
    {
      "cell_type": "code",
      "source": [
        "torch.sum(test, dim=-1)"
      ],
      "metadata": {
        "colab": {
          "base_uri": "https://localhost:8080/"
        },
        "id": "o1TgNWpXsgvf",
        "outputId": "a3823cd6-c30a-4047-8c08-ec2e44b762f0"
      },
      "execution_count": 33,
      "outputs": [
        {
          "output_type": "execute_result",
          "data": {
            "text/plain": [
              "tensor([[3., 3., 3., 3., 3., 3., 3., 3.],\n",
              "        [3., 3., 3., 3., 3., 3., 3., 3.],\n",
              "        [3., 3., 3., 3., 3., 3., 3., 3.],\n",
              "        [3., 3., 3., 3., 3., 3., 3., 3.]])"
            ]
          },
          "metadata": {},
          "execution_count": 33
        }
      ]
    },
    {
      "cell_type": "code",
      "source": [],
      "metadata": {
        "id": "R6ziYO3ksk1k"
      },
      "execution_count": 33,
      "outputs": []
    }
  ]
}