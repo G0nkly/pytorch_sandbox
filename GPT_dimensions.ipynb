{
  "nbformat": 4,
  "nbformat_minor": 0,
  "metadata": {
    "colab": {
      "provenance": [],
      "authorship_tag": "ABX9TyN4PspyskeeQ0NZ+GS6aQrd",
      "include_colab_link": true
    },
    "kernelspec": {
      "name": "python3",
      "display_name": "Python 3"
    },
    "language_info": {
      "name": "python"
    }
  },
  "cells": [
    {
      "cell_type": "markdown",
      "metadata": {
        "id": "view-in-github",
        "colab_type": "text"
      },
      "source": [
        "<a href=\"https://colab.research.google.com/github/G0nkly/pytorch_sandbox/blob/main/GPT_dimensions.ipynb\" target=\"_parent\"><img src=\"https://colab.research.google.com/assets/colab-badge.svg\" alt=\"Open In Colab\"/></a>"
      ]
    },
    {
      "cell_type": "code",
      "source": [
        "import torch\n",
        "import torch.nn as nn\n",
        "import torch.nn.functional as F"
      ],
      "metadata": {
        "id": "Y1aOJOJ1KCmK"
      },
      "execution_count": 1,
      "outputs": []
    },
    {
      "cell_type": "code",
      "execution_count": 2,
      "metadata": {
        "id": "3qCyCGVskuv4"
      },
      "outputs": [],
      "source": [
        "# Lets look at each of the layers\n",
        "# 1) Encoding\n",
        "# 2) Embedding\n",
        "# 3) Positional Encoding\n",
        "# 4) Attention: key, query, value\n",
        "# 5) Feedforward\n",
        "# 6) Block/Layernorm\n",
        "# 7) Classification / LM Head"
      ]
    },
    {
      "cell_type": "code",
      "source": [
        "################\n",
        "# DATA EXAMPLE #\n",
        "################\n",
        "\n",
        "!wget https://raw.githubusercontent.com/karpathy/char-rnn/master/data/tinyshakespeare/input.txt\n",
        "\n",
        "with open(mode=\"r\", file=\"input.txt\") as f:\n",
        "  text = f.read()\n",
        "\n",
        "vocab = list(sorted(set(text)))"
      ],
      "metadata": {
        "colab": {
          "base_uri": "https://localhost:8080/"
        },
        "id": "FaC8pwxBKXVi",
        "outputId": "3df247de-b1bb-49a7-d36f-2cf8217dfd2c"
      },
      "execution_count": 3,
      "outputs": [
        {
          "output_type": "stream",
          "name": "stdout",
          "text": [
            "--2025-06-17 21:01:50--  https://raw.githubusercontent.com/karpathy/char-rnn/master/data/tinyshakespeare/input.txt\n",
            "Resolving raw.githubusercontent.com (raw.githubusercontent.com)... 185.199.108.133, 185.199.109.133, 185.199.110.133, ...\n",
            "Connecting to raw.githubusercontent.com (raw.githubusercontent.com)|185.199.108.133|:443... connected.\n",
            "HTTP request sent, awaiting response... 200 OK\n",
            "Length: 1115394 (1.1M) [text/plain]\n",
            "Saving to: ‘input.txt’\n",
            "\n",
            "\rinput.txt             0%[                    ]       0  --.-KB/s               \rinput.txt           100%[===================>]   1.06M  --.-KB/s    in 0.06s   \n",
            "\n",
            "2025-06-17 21:01:50 (18.3 MB/s) - ‘input.txt’ saved [1115394/1115394]\n",
            "\n"
          ]
        }
      ]
    },
    {
      "cell_type": "code",
      "source": [
        "##################\n",
        "# HYPERPARAMTERS #\n",
        "##################"
      ],
      "metadata": {
        "id": "QITuTbF7KLJB"
      },
      "execution_count": 4,
      "outputs": []
    },
    {
      "cell_type": "code",
      "source": [
        "vocab_size = len(vocab)\n",
        "embedding_dim = 32\n",
        "block_size = 8\n",
        "n_heads = 4"
      ],
      "metadata": {
        "id": "inC3GWsPKQSl"
      },
      "execution_count": 5,
      "outputs": []
    },
    {
      "cell_type": "code",
      "source": [
        "############\n",
        "# ENCODING #\n",
        "############"
      ],
      "metadata": {
        "id": "KznIrUvIJrAn"
      },
      "execution_count": 6,
      "outputs": []
    },
    {
      "cell_type": "code",
      "source": [
        "stoi = {v:k for k,v in enumerate(vocab)}\n",
        "itos = {k:v for k,v in enumerate(vocab)}\n",
        "encode = lambda seq: [stoi[char] for char in seq]\n",
        "decode = lambda numbers: \"\".join([itos[num] for num in numbers])\n",
        "\n",
        "def get_batch(split: str):\n",
        "  dataset = train if split == \"train\" else val"
      ],
      "metadata": {
        "id": "ghD7YPk8HXsr"
      },
      "execution_count": 7,
      "outputs": []
    },
    {
      "cell_type": "code",
      "source": [
        "#############\n",
        "# EMBEDDING #\n",
        "#############"
      ],
      "metadata": {
        "id": "7bf0P7L9Id9u"
      },
      "execution_count": 8,
      "outputs": []
    },
    {
      "cell_type": "code",
      "source": [
        "embedding = nn.Embedding(num_embeddings=vocab_size, embedding_dim=embedding_dim)"
      ],
      "metadata": {
        "id": "d0zeDIuzKBgA"
      },
      "execution_count": 9,
      "outputs": []
    },
    {
      "cell_type": "code",
      "source": [
        "t = torch.tensor(encode(\"Haubi\"))"
      ],
      "metadata": {
        "id": "HirEowEUODk6"
      },
      "execution_count": 10,
      "outputs": []
    },
    {
      "cell_type": "code",
      "source": [
        "embedding(t)"
      ],
      "metadata": {
        "colab": {
          "base_uri": "https://localhost:8080/"
        },
        "id": "KyIOe9_tOMPE",
        "outputId": "dc18ea72-d402-4daf-c1e7-8ddf0d8318a1"
      },
      "execution_count": 11,
      "outputs": [
        {
          "output_type": "execute_result",
          "data": {
            "text/plain": [
              "tensor([[-7.5366e-01, -1.3355e+00, -9.5343e-01, -1.2788e-01, -5.9261e-01,\n",
              "         -6.8150e-02,  2.6740e+00, -5.5221e-01,  3.3798e-01,  1.0125e+00,\n",
              "          5.0238e-01,  1.6657e+00,  8.6034e-01, -3.5557e-01,  1.4691e+00,\n",
              "          2.4734e-04,  3.9077e-01,  2.7046e-01, -4.7595e-01, -1.3449e+00,\n",
              "          3.2421e-01,  2.5409e-01,  1.6422e-01, -2.2238e-01,  2.0846e+00,\n",
              "          9.2306e-01,  1.3367e+00,  1.1470e+00,  9.1751e-01, -6.8443e-01,\n",
              "         -2.2108e-01,  4.9571e-01],\n",
              "        [ 1.1345e+00, -2.0509e+00,  1.2738e+00,  2.6450e-01,  9.2227e-01,\n",
              "          1.3787e+00, -1.6864e-01,  5.2769e-01,  3.8739e-01,  1.0233e-01,\n",
              "          3.4869e-01,  4.8322e-01, -7.7627e-01, -1.0864e+00, -3.2532e-01,\n",
              "          1.2600e+00, -7.4000e-01, -6.0799e-01, -7.3361e-01, -2.3849e+00,\n",
              "         -2.8244e-01,  2.5775e-01, -7.0811e-02, -2.0738e-02, -6.2029e-01,\n",
              "         -5.9893e-01, -5.6213e-01,  5.3727e-01, -4.8552e-01, -5.8281e-01,\n",
              "          7.6324e-02,  1.2060e-01],\n",
              "        [ 4.9665e-01,  5.9644e-01,  3.1787e-01,  4.1464e-01, -5.4041e-01,\n",
              "         -3.7459e-01,  2.1538e-01,  8.2579e-02,  9.8631e-01, -6.5277e-01,\n",
              "         -4.1806e-02, -1.4330e+00, -3.0319e-01,  1.6668e+00, -4.2250e-01,\n",
              "          1.5341e+00, -6.1101e-01,  9.0040e-02,  2.5511e-01, -1.9764e-01,\n",
              "         -7.2061e-01, -1.3249e+00, -2.6837e-01,  1.1947e+00, -3.1634e-02,\n",
              "          2.6237e-01, -9.6568e-01, -2.9722e-01, -2.1149e-01, -8.1981e-01,\n",
              "         -2.3894e+00, -9.9154e-02],\n",
              "        [-9.4098e-01,  1.6099e+00, -1.3910e+00, -9.9934e-01, -5.7738e-01,\n",
              "         -1.6019e+00,  3.3289e-01,  1.5675e+00, -5.3167e-01,  2.5756e+00,\n",
              "         -2.2512e-01, -7.3880e-02, -1.9146e+00, -1.0234e+00, -3.4590e-01,\n",
              "         -6.9160e-01, -3.3838e-01, -1.7512e-01, -3.3514e-01,  5.0578e-01,\n",
              "          1.1650e+00, -4.2033e-02, -3.0695e-01, -1.9948e-01,  7.1019e-01,\n",
              "         -6.7068e-01,  1.1201e+00, -1.7112e+00,  6.6538e-01, -1.0445e+00,\n",
              "         -3.6237e-01, -9.0090e-01],\n",
              "        [ 1.6085e+00,  4.3991e-01, -5.0242e-01,  6.6990e-01, -4.2894e-01,\n",
              "         -5.3151e-01,  2.0739e-01, -6.5609e-01, -1.0869e-01, -4.6816e-01,\n",
              "         -3.3746e-01, -1.0336e+00,  5.4584e-01, -9.1861e-01, -6.3752e-01,\n",
              "          1.1891e+00, -1.3124e+00,  1.7085e+00, -1.1512e+00,  7.4173e-01,\n",
              "         -9.7613e-01,  1.1388e-01, -6.6346e-01,  1.1628e+00, -4.5600e-01,\n",
              "          1.4387e+00, -2.7253e-01, -1.5871e+00, -1.6497e+00,  1.2239e+00,\n",
              "          7.7433e-01, -1.1747e+00]], grad_fn=<EmbeddingBackward0>)"
            ]
          },
          "metadata": {},
          "execution_count": 11
        }
      ]
    },
    {
      "cell_type": "code",
      "source": [
        "#########################\n",
        "# POSITIONAL 'ENCODING' #\n",
        "#########################"
      ],
      "metadata": {
        "id": "uEBhtYKQONlj"
      },
      "execution_count": 12,
      "outputs": []
    },
    {
      "cell_type": "code",
      "source": [
        "postional_embedding = nn.Embedding(num_embeddings=5, embedding_dim=32)"
      ],
      "metadata": {
        "id": "dHmnOaSVPmeS"
      },
      "execution_count": 13,
      "outputs": []
    },
    {
      "cell_type": "code",
      "source": [
        "postional_embedding(torch.arange(5)).shape"
      ],
      "metadata": {
        "colab": {
          "base_uri": "https://localhost:8080/"
        },
        "id": "24mQLBiyReS5",
        "outputId": "dcd4c529-9cfe-467d-b1da-46d5e13f0d34"
      },
      "execution_count": 14,
      "outputs": [
        {
          "output_type": "execute_result",
          "data": {
            "text/plain": [
              "torch.Size([5, 32])"
            ]
          },
          "metadata": {},
          "execution_count": 14
        }
      ]
    },
    {
      "cell_type": "code",
      "source": [
        "embedded_tensor = embedding(t) + postional_embedding(torch.arange(5, dtype=torch.long))\n",
        "embedded_tensor"
      ],
      "metadata": {
        "colab": {
          "base_uri": "https://localhost:8080/"
        },
        "id": "fnBn3VO3RnEw",
        "outputId": "27228694-4b8f-4408-e2c7-8e03b5eb7bf6"
      },
      "execution_count": 15,
      "outputs": [
        {
          "output_type": "execute_result",
          "data": {
            "text/plain": [
              "tensor([[-1.2532e+00, -1.6064e+00,  1.1530e+00,  4.4417e-01, -4.4237e-01,\n",
              "          1.0037e+00,  2.7590e+00, -4.1486e-01,  3.3742e-01,  1.6255e+00,\n",
              "          4.4659e-01,  1.7538e-01,  7.9587e-01,  1.0253e+00,  2.0597e+00,\n",
              "          8.1405e-01, -9.0300e-02, -6.0260e-01,  4.0990e-01, -1.5487e+00,\n",
              "         -7.1260e-01,  3.9477e-02,  8.1003e-01, -8.8245e-01,  2.6071e+00,\n",
              "          4.6272e-01,  1.8757e+00,  1.1595e+00, -1.6260e-01, -8.3013e-01,\n",
              "         -2.1645e-01,  5.1799e-02],\n",
              "        [-1.1807e+00, -2.1285e+00,  5.0259e-01,  6.6119e-01,  2.4258e+00,\n",
              "          4.7797e-01, -6.9167e-01,  1.2287e+00, -8.6285e-01, -1.9747e-01,\n",
              "         -7.3997e-01,  2.3542e-01,  7.5654e-01, -5.6673e-01, -3.3865e-01,\n",
              "          8.2985e-01, -1.5717e+00, -2.4658e+00,  1.2715e+00, -3.1994e+00,\n",
              "         -1.2450e+00,  3.6129e-01, -5.4724e-01, -6.9233e-01, -8.9199e-01,\n",
              "         -1.3559e+00, -7.4846e-01, -9.3394e-01, -1.1047e+00, -1.0573e+00,\n",
              "          7.3455e-01, -2.7298e-01],\n",
              "        [-1.3896e-01, -3.6571e-01, -2.0726e+00,  8.1760e-01, -7.2295e-01,\n",
              "         -5.7680e-01,  5.8325e-01,  1.3601e-01,  1.2569e+00, -3.8381e-01,\n",
              "          2.7633e-01, -2.0868e+00, -2.7256e-01,  1.8311e+00, -1.5727e+00,\n",
              "          2.2399e+00,  1.0106e-01,  1.2946e+00, -3.9229e-01, -4.6245e-01,\n",
              "         -1.2539e+00, -2.6546e+00, -1.6811e+00,  1.9348e+00, -2.2751e-01,\n",
              "          7.9369e-01,  1.4648e+00,  1.6914e+00, -6.6541e-01,  1.9811e-01,\n",
              "         -1.6840e+00, -6.4285e-01],\n",
              "        [-9.3967e-01,  2.4866e+00, -8.3442e-01, -1.0552e+00,  7.4783e-01,\n",
              "         -2.0120e+00, -4.8844e-02,  2.6698e+00, -1.6004e+00,  2.7910e+00,\n",
              "         -4.1901e-01,  8.5816e-01,  1.9026e-01, -3.6733e-01, -1.0544e+00,\n",
              "         -8.6463e-01, -6.3526e-01,  9.6894e-01, -6.5506e-01,  1.0659e+00,\n",
              "          9.0582e-01,  2.5458e-03, -8.2354e-01, -6.3718e-01,  7.8125e-01,\n",
              "         -4.1825e-01,  1.6394e+00, -1.8243e+00, -3.1842e-01,  1.4547e+00,\n",
              "         -6.1448e-01, -2.1203e+00],\n",
              "        [-1.6647e-01,  7.3545e-01,  9.0181e-01,  1.2862e+00,  1.0180e-01,\n",
              "          4.2265e-01,  1.7290e+00,  1.0576e-01, -1.3819e+00, -9.3056e-01,\n",
              "         -3.3936e-01, -4.6437e-01,  1.1539e+00,  1.4914e-01,  6.4601e-01,\n",
              "          1.3787e+00, -2.2649e+00,  2.3322e+00,  3.8810e-01,  7.4644e-01,\n",
              "          8.6324e-02, -2.3799e+00, -1.2650e+00,  1.5348e+00,  3.8106e-01,\n",
              "          2.5874e+00,  1.2465e+00, -2.3455e+00, -2.0260e+00, -8.3309e-02,\n",
              "          2.2146e+00, -1.8241e+00]], grad_fn=<AddBackward0>)"
            ]
          },
          "metadata": {},
          "execution_count": 15
        }
      ]
    },
    {
      "cell_type": "code",
      "source": [
        "#########################\n",
        "# SINGLE HEAD ATTENTION #\n",
        "#########################"
      ],
      "metadata": {
        "id": "kVyuxDh5Rwvo"
      },
      "execution_count": 16,
      "outputs": []
    },
    {
      "cell_type": "code",
      "source": [
        "# since its not MultiHeadAttention input_dim == output_dim\n",
        "block_size = len(t) if t is not None else block_size\n",
        "\n",
        "key_layer = nn.Linear(in_features=embedding_dim, out_features=embedding_dim)\n",
        "query_layer = nn.Linear(in_features=embedding_dim, out_features=embedding_dim)\n",
        "value_layer = nn.Linear(in_features=embedding_dim, out_features=embedding_dim)\n",
        "tril = torch.tril(torch.ones(block_size, block_size, dtype=torch.long))"
      ],
      "metadata": {
        "id": "CLdJKYDZm7cP"
      },
      "execution_count": 17,
      "outputs": []
    },
    {
      "cell_type": "code",
      "source": [
        "k = key_layer(embedded_tensor)\n",
        "q = query_layer(embedded_tensor)\n",
        "wei = (q @ k.transpose(-2,-1)) / (embedding_dim ** -0.5)\n",
        "wei = wei.masked_fill(tril == 0, -float(\"inf\"))\n",
        "wei = F.softmax(wei, dim=-1)\n",
        "v = value_layer(embedded_tensor)\n",
        "\n",
        "out = wei @ v\n",
        "wei, out"
      ],
      "metadata": {
        "id": "3WSinYAipzEh",
        "colab": {
          "base_uri": "https://localhost:8080/"
        },
        "outputId": "18b29043-2b46-4e55-a431-1e4b6b983dc6"
      },
      "execution_count": 18,
      "outputs": [
        {
          "output_type": "execute_result",
          "data": {
            "text/plain": [
              "(tensor([[1.0000e+00, 0.0000e+00, 0.0000e+00, 0.0000e+00, 0.0000e+00],\n",
              "         [1.5129e-04, 9.9985e-01, 0.0000e+00, 0.0000e+00, 0.0000e+00],\n",
              "         [3.3234e-02, 9.6677e-01, 5.4140e-10, 0.0000e+00, 0.0000e+00],\n",
              "         [9.9939e-01, 2.0449e-09, 3.1674e-11, 6.0595e-04, 0.0000e+00],\n",
              "         [4.0029e-05, 9.5305e-01, 3.8786e-17, 4.6906e-02, 5.5173e-11]],\n",
              "        grad_fn=<SoftmaxBackward0>),\n",
              " tensor([[ 0.0761, -0.0034, -0.3397, -0.7339, -0.4812,  0.0147, -0.4112,  0.2808,\n",
              "           0.3040, -0.2096,  0.7364, -0.0332, -0.5945, -0.0239, -0.1495, -0.3491,\n",
              "          -0.0406,  0.9874, -0.6307,  0.6437, -0.3366,  0.1362, -0.4442, -0.0879,\n",
              "           1.2862,  0.9153, -0.9047,  0.2046, -0.2290, -0.6694,  0.8536, -0.1262],\n",
              "         [ 1.2878, -0.4434, -0.4567,  0.6370,  0.3212,  0.5554,  0.4604,  0.2023,\n",
              "          -0.0785, -0.1363,  0.6354, -1.0524, -0.4914, -1.0078,  1.2723,  0.0829,\n",
              "          -0.5597,  0.4052,  0.1319,  0.8915, -0.2411, -0.7821, -0.4712,  0.4452,\n",
              "          -0.2944, -1.2060, -1.1712,  0.0051,  0.8950, -0.7688, -0.1971,  0.5058],\n",
              "         [ 1.2477, -0.4288, -0.4528,  0.5917,  0.2946,  0.5375,  0.4316,  0.2049,\n",
              "          -0.0658, -0.1387,  0.6388, -1.0187, -0.4948, -0.9752,  1.2252,  0.0686,\n",
              "          -0.5425,  0.4244,  0.1067,  0.8833, -0.2443, -0.7517, -0.4703,  0.4275,\n",
              "          -0.2421, -1.1358, -1.1624,  0.0118,  0.8578, -0.7655, -0.1623,  0.4849],\n",
              "         [ 0.0761, -0.0036, -0.3393, -0.7329, -0.4810,  0.0153, -0.4107,  0.2801,\n",
              "           0.3045, -0.2098,  0.7358, -0.0327, -0.5941, -0.0243, -0.1490, -0.3490,\n",
              "          -0.0401,  0.9864, -0.6306,  0.6437, -0.3369,  0.1361, -0.4444, -0.0874,\n",
              "           1.2846,  0.9140, -0.9042,  0.2041, -0.2282, -0.6688,  0.8538, -0.1261],\n",
              "         [ 1.2361, -0.4333, -0.4242,  0.6494,  0.3062,  0.5795,  0.4625,  0.1512,\n",
              "          -0.0232, -0.1540,  0.5904, -0.9616, -0.4662, -0.9943,  1.2459,  0.0759,\n",
              "          -0.4950,  0.3548,  0.1084,  0.8853, -0.2715, -0.7470, -0.4922,  0.4645,\n",
              "          -0.3408, -1.2094, -1.1186, -0.0268,  0.9006, -0.7219, -0.1315,  0.4781]],\n",
              "        grad_fn=<MmBackward0>))"
            ]
          },
          "metadata": {},
          "execution_count": 18
        }
      ]
    },
    {
      "cell_type": "code",
      "source": [
        "########################\n",
        "# MULTI HEAD ATTENTION #\n",
        "########################"
      ],
      "metadata": {
        "id": "-JTijNAxr3l3"
      },
      "execution_count": 19,
      "outputs": []
    },
    {
      "cell_type": "code",
      "source": [
        "class AttentionHead(nn.Module):\n",
        "\n",
        "  def __init__(self, embedding_dim, head_size):\n",
        "    super().__init__()\n",
        "    self.embedding_dim = embedding_dim\n",
        "    self.query_layer = nn.Linear(in_features=embedding_dim, out_features=head_size)\n",
        "    self.key_layer = nn.Linear(in_features=embedding_dim, out_features=head_size)\n",
        "    self.value_layer = nn.Linear(in_features=embedding_dim, out_features=head_size)\n",
        "    self.register_buffer(\"tril\", torch.tril(torch.ones(block_size, block_size, dtype=torch.long)))\n",
        "\n",
        "  def forward(self, x):\n",
        "    B, T, C = x.shape\n",
        "    q = self.query_layer(x)\n",
        "    k = self.key_layer(x)\n",
        "    v = self.value_layer(x)\n",
        "    wei = (q @ k.transpose(-2,-1)) / C ** -0.5\n",
        "    wei = wei.masked_fill(self.tril == 0, float(\"-inf\"))\n",
        "    wei = F.softmax(wei, dim=-1)\n",
        "    out = wei @ v\n",
        "\n",
        "    return out"
      ],
      "metadata": {
        "id": "HM_aXT9Er7lP"
      },
      "execution_count": 20,
      "outputs": []
    },
    {
      "cell_type": "code",
      "source": [
        "class MultiHeadAttention(nn.Module):\n",
        "\n",
        "  def __init__(self, embedding_dim, n_heads):\n",
        "    super().__init__()\n",
        "    head_size = embedding_dim // n_heads\n",
        "    self.heads = nn.ModuleList([AttentionHead(embedding_dim=embedding_dim, head_size=head_size) for _ in range(n_heads)])\n",
        "    self.projection_layer = nn.Linear(in_features=embedding_dim, out_features=embedding_dim)\n",
        "\n",
        "  def forward(self, x):\n",
        "    x = torch.cat([head(x) for head in self.heads], dim=-1)\n",
        "    out = self.projection_layer(x)\n",
        "    return out"
      ],
      "metadata": {
        "id": "X_0YzYwJvHs9"
      },
      "execution_count": 21,
      "outputs": []
    },
    {
      "cell_type": "code",
      "source": [
        "embedded_tensor = embedded_tensor.unsqueeze(0)\n",
        "embedded_tensor.shape"
      ],
      "metadata": {
        "colab": {
          "base_uri": "https://localhost:8080/"
        },
        "id": "igleMpjk2won",
        "outputId": "0a8b275a-ffc8-42fe-a0e0-dedefb97f9ca"
      },
      "execution_count": 22,
      "outputs": [
        {
          "output_type": "execute_result",
          "data": {
            "text/plain": [
              "torch.Size([1, 5, 32])"
            ]
          },
          "metadata": {},
          "execution_count": 22
        }
      ]
    },
    {
      "cell_type": "code",
      "source": [
        "multi_head_attention = MultiHeadAttention(embedding_dim=embedding_dim, n_heads=n_heads)\n",
        "t_ma = multi_head_attention(embedded_tensor)\n",
        "t_ma"
      ],
      "metadata": {
        "colab": {
          "base_uri": "https://localhost:8080/"
        },
        "id": "UrrWxTzt1VkU",
        "outputId": "50dd27f8-06c4-451a-eaf4-ebd8d2cd3338"
      },
      "execution_count": 23,
      "outputs": [
        {
          "output_type": "execute_result",
          "data": {
            "text/plain": [
              "tensor([[[ 0.6135,  0.4676, -0.8231, -0.3076,  0.2564,  0.0790,  0.4323,\n",
              "          -0.9637,  0.1887, -0.2450, -0.0472,  0.4426, -0.0499,  0.0243,\n",
              "          -0.0822, -0.1053, -0.1355, -0.1296, -0.1779,  0.2735,  0.0200,\n",
              "          -0.0737, -0.6891, -0.1153,  0.0649, -0.3029, -0.0251, -0.2023,\n",
              "           0.0402,  0.2548,  0.0284,  0.4415],\n",
              "         [ 0.2549,  0.2140, -0.3102, -0.0268,  0.6124,  0.0846,  0.2621,\n",
              "          -0.5599,  0.4099, -0.4623,  0.1836,  0.2203, -0.0319,  0.0119,\n",
              "          -0.1157,  0.0531, -0.3506, -0.0069,  0.1406, -0.0348, -0.0272,\n",
              "          -0.2335, -0.5661, -0.1182,  0.1854, -0.6343, -0.2388, -0.3064,\n",
              "           0.2775, -0.4665,  0.1687, -0.1624],\n",
              "         [ 0.4415, -0.3585, -0.4773, -0.0803, -0.1515, -0.3374, -0.1755,\n",
              "           0.1813, -0.2888, -0.3172,  0.2831, -0.0774,  0.2015,  0.8621,\n",
              "           0.3630,  0.0156, -0.1749, -0.7266,  0.8180, -0.1115,  0.0387,\n",
              "          -0.3817, -0.0071,  0.0643, -0.2760, -0.2032, -0.1750, -0.1988,\n",
              "           0.3453,  0.0054,  0.3602,  0.4569],\n",
              "         [ 0.1178,  0.0909, -0.6913, -0.0265,  0.6985,  0.1107,  0.1686,\n",
              "          -0.3563,  0.1668, -0.6212,  0.0424, -0.0300, -0.2971,  0.7774,\n",
              "          -0.2123, -0.0058, -0.8147, -0.1328,  0.3715, -0.0807,  0.3887,\n",
              "          -0.1637, -0.3459, -0.2850, -0.7153,  0.3933, -0.1052, -0.1740,\n",
              "           0.0527, -0.1660,  0.2561, -0.0015],\n",
              "         [-0.1240, -0.3021, -0.4047, -0.3413,  0.1707, -0.4029,  0.3001,\n",
              "          -0.1191,  0.0021, -0.3866,  0.0024, -0.1052, -0.5339,  0.0417,\n",
              "           0.7580, -0.4915,  0.3956, -0.4642,  0.0302,  0.0038, -0.1404,\n",
              "           0.0605, -0.0586,  0.4603,  0.1890,  0.6445,  0.4753, -0.5744,\n",
              "           0.1398, -0.1561,  0.9085,  0.0801]]], grad_fn=<ViewBackward0>)"
            ]
          },
          "metadata": {},
          "execution_count": 23
        }
      ]
    },
    {
      "cell_type": "code",
      "source": [
        "########################\n",
        "# BLOCK AND LAYER-NORM #\n",
        "########################"
      ],
      "metadata": {
        "id": "oazuvtJZyeEq"
      },
      "execution_count": null,
      "outputs": []
    },
    {
      "cell_type": "code",
      "source": [
        "################\n",
        "# FEED FORWARD #\n",
        "################"
      ],
      "metadata": {
        "id": "F0lyArs6Nw2b"
      },
      "execution_count": 24,
      "outputs": []
    },
    {
      "cell_type": "code",
      "source": [
        "feed_forward_layer = nn.Sequential(\n",
        "    nn.Linear(32, 4 * 32),\n",
        "    nn.Linear(4 * 32, 32)\n",
        ")\n",
        "\n",
        "t_ff = feed_forward_layer(t_ma)\n",
        "t_ff"
      ],
      "metadata": {
        "colab": {
          "base_uri": "https://localhost:8080/"
        },
        "id": "2O12cNbmN5Mc",
        "outputId": "42892578-e97f-418a-ddd5-3672b45d8035"
      },
      "execution_count": 25,
      "outputs": [
        {
          "output_type": "execute_result",
          "data": {
            "text/plain": [
              "tensor([[[ 0.0322, -0.0222, -0.1197, -0.1735, -0.0272, -0.1213,  0.0260,\n",
              "           0.0487, -0.0979, -0.1702, -0.0087,  0.0167,  0.3371,  0.1032,\n",
              "          -0.1167, -0.1177,  0.0526,  0.2495,  0.0627,  0.0480,  0.1684,\n",
              "           0.0268,  0.1032, -0.0744, -0.2038,  0.0711, -0.0529, -0.2110,\n",
              "          -0.0500, -0.0478, -0.0237,  0.0801],\n",
              "         [ 0.0509, -0.1033, -0.1740, -0.1748, -0.0296, -0.1390,  0.0074,\n",
              "          -0.0642, -0.1643, -0.0703,  0.0762, -0.0052,  0.2806, -0.0990,\n",
              "          -0.1343, -0.1219, -0.0541,  0.1315, -0.0105,  0.0103,  0.0883,\n",
              "           0.1194, -0.0304, -0.1036, -0.2488,  0.0967, -0.0571, -0.1384,\n",
              "          -0.0286, -0.0931, -0.0866, -0.1186],\n",
              "         [-0.1277,  0.0565, -0.1293,  0.0694,  0.2484, -0.1059, -0.1790,\n",
              "          -0.2926, -0.3403, -0.2118,  0.1978, -0.1498,  0.0350, -0.1406,\n",
              "          -0.0943, -0.1315,  0.0386,  0.1323,  0.2245,  0.1076,  0.1844,\n",
              "           0.1840,  0.0637, -0.0875,  0.0692, -0.0242, -0.0996, -0.0533,\n",
              "          -0.1709, -0.2883,  0.1055, -0.0684],\n",
              "         [-0.0814, -0.0745, -0.0193, -0.0911, -0.0374, -0.0105, -0.0248,\n",
              "          -0.0331, -0.2763, -0.1939,  0.2324, -0.0661,  0.2115, -0.0932,\n",
              "          -0.0044,  0.0774, -0.0852,  0.0882,  0.1935,  0.0681,  0.0816,\n",
              "           0.0571, -0.0820, -0.0529, -0.1373, -0.0884, -0.0891, -0.2273,\n",
              "           0.0256, -0.1429,  0.0738,  0.0590],\n",
              "         [ 0.1044,  0.0461, -0.0286, -0.0686,  0.2409, -0.0509,  0.0456,\n",
              "          -0.0250, -0.3175, -0.2010, -0.1966, -0.0119,  0.3029,  0.1099,\n",
              "          -0.1062, -0.2820,  0.0928,  0.2355,  0.1525, -0.0170, -0.0100,\n",
              "           0.2447,  0.0898,  0.0122,  0.1604,  0.0398, -0.0129,  0.1286,\n",
              "          -0.0326,  0.0422, -0.0072, -0.2063]]], grad_fn=<ViewBackward0>)"
            ]
          },
          "metadata": {},
          "execution_count": 25
        }
      ]
    },
    {
      "cell_type": "code",
      "source": [
        "#############\n",
        "# (LM) HEAD #\n",
        "#############"
      ],
      "metadata": {
        "id": "y7sfUzouQVjD"
      },
      "execution_count": 26,
      "outputs": []
    },
    {
      "cell_type": "code",
      "source": [
        "lm_head = nn.Linear(in_features=embedding_dim, out_features=vocab_size)\n",
        "logits = lm_head(t_ff)\n",
        "logits"
      ],
      "metadata": {
        "colab": {
          "base_uri": "https://localhost:8080/"
        },
        "id": "M_U-pPfXQkDl",
        "outputId": "812d7e61-d43e-4271-ffe8-6c35f7ec2938"
      },
      "execution_count": 27,
      "outputs": [
        {
          "output_type": "execute_result",
          "data": {
            "text/plain": [
              "tensor([[[-1.7702e-01, -2.1801e-02,  3.5937e-02,  1.4307e-02, -2.9243e-01,\n",
              "          -1.9164e-02, -2.1975e-02,  8.3152e-02, -4.2611e-02, -5.8562e-02,\n",
              "          -4.6714e-03,  1.0765e-01,  7.3775e-02,  2.0142e-01,  4.2462e-02,\n",
              "          -1.0779e-02, -1.0092e-03, -1.0248e-01, -4.8939e-02,  8.8126e-02,\n",
              "           2.2856e-01, -5.8215e-02, -2.9996e-02,  2.4623e-01,  1.6888e-01,\n",
              "           2.1802e-01,  2.6469e-01, -2.2612e-02,  1.0754e-01, -1.0461e-01,\n",
              "          -7.1441e-02,  2.0041e-01,  6.6664e-02,  7.8956e-03, -1.6338e-01,\n",
              "           1.3341e-01, -4.6898e-02,  1.1171e-01, -1.1750e-01, -8.0280e-02,\n",
              "           1.8590e-01, -1.7282e-03,  7.8408e-02, -5.0425e-03,  2.1106e-02,\n",
              "           5.2028e-02,  1.8085e-01,  1.7908e-01, -1.3047e-01,  1.0643e-01,\n",
              "          -2.6701e-01, -1.3622e-01,  3.9973e-02,  5.5455e-02,  1.1953e-01,\n",
              "           9.2822e-02, -2.7424e-02,  8.1813e-02, -1.7213e-01, -4.9791e-02,\n",
              "          -1.2629e-01, -8.1584e-02,  9.6156e-02,  7.6072e-02,  9.8191e-02],\n",
              "         [-9.2503e-02, -1.3085e-03,  3.0688e-02,  3.7693e-02, -1.7339e-01,\n",
              "          -1.4561e-01, -9.5502e-02,  1.2164e-01,  1.9002e-02, -1.0933e-01,\n",
              "          -2.1022e-02,  3.8105e-02,  7.2917e-02,  1.9744e-01,  5.1744e-02,\n",
              "          -3.4912e-03, -2.5568e-02, -6.6417e-02, -2.9691e-02,  1.0557e-01,\n",
              "           2.6578e-01, -1.2291e-01, -2.9292e-02,  2.5937e-01,  2.2281e-01,\n",
              "           2.9544e-01,  1.5766e-01, -3.4619e-02,  2.0108e-02, -1.4177e-01,\n",
              "          -7.8693e-02,  2.0402e-01,  1.1168e-01,  4.5657e-02, -1.7921e-01,\n",
              "           7.8143e-02,  2.7189e-02,  1.2710e-01, -8.9223e-02, -1.1195e-01,\n",
              "           1.3650e-01,  1.3916e-02, -2.5575e-04, -5.7202e-02,  3.9725e-02,\n",
              "           2.3333e-02,  6.7738e-02,  2.3841e-01, -1.8728e-01,  1.7761e-01,\n",
              "          -1.6353e-01, -1.5408e-01,  4.5102e-02,  6.3475e-02,  3.3139e-02,\n",
              "           6.7436e-02,  2.0147e-02,  2.2337e-02, -1.5490e-01, -3.0321e-02,\n",
              "          -1.1919e-01, -1.3132e-01,  1.5922e-01,  7.8266e-02,  4.3188e-02],\n",
              "         [-3.9736e-02, -5.4351e-03,  1.3359e-02, -1.1233e-01, -1.7820e-01,\n",
              "          -4.0312e-02, -5.3710e-03,  1.6564e-01,  6.3010e-03, -1.2904e-01,\n",
              "           5.6031e-02,  9.0988e-02,  1.5744e-01,  1.7044e-01,  6.1721e-02,\n",
              "           2.8488e-02, -1.5598e-01,  7.6809e-03, -1.2815e-01,  1.5374e-01,\n",
              "           1.8575e-01, -7.3482e-02,  1.0560e-01,  2.6243e-01,  1.8872e-01,\n",
              "           2.1439e-01,  2.0852e-01, -8.2113e-03,  1.9779e-01, -1.3253e-01,\n",
              "           1.5724e-01,  1.7601e-01,  1.2278e-01, -5.9097e-02, -2.7810e-01,\n",
              "           5.3658e-02, -5.7044e-02,  2.1952e-01,  5.0675e-03, -1.2501e-01,\n",
              "           3.1113e-01,  5.8645e-02, -7.4833e-03,  5.5135e-02, -5.4615e-02,\n",
              "           4.6806e-02, -3.4668e-03,  1.8416e-01, -1.8059e-01,  4.5628e-02,\n",
              "          -1.0688e-01, -1.0833e-01,  1.0262e-01, -1.6684e-02, -3.0882e-02,\n",
              "           6.7816e-02, -1.0096e-01,  8.7413e-02, -1.0726e-01,  4.5198e-02,\n",
              "          -5.3922e-02, -1.7349e-01,  1.4613e-01,  2.6532e-02,  1.6694e-01],\n",
              "         [-9.6315e-02, -2.3557e-02, -1.4787e-03, -4.7575e-02, -1.7598e-01,\n",
              "          -1.7148e-01, -7.5638e-02,  8.7556e-02, -1.4154e-02, -8.2918e-02,\n",
              "           5.4074e-02,  1.4485e-01,  7.9969e-02,  1.5167e-01,  8.0645e-02,\n",
              "           2.8406e-03, -4.8001e-02, -2.4770e-02, -7.9011e-02,  5.1515e-02,\n",
              "           2.2373e-01, -9.4469e-02,  3.7530e-02,  2.7678e-01,  1.4068e-01,\n",
              "           1.5582e-01,  1.7802e-01, -1.0349e-02,  3.3195e-02, -1.1914e-01,\n",
              "           1.4478e-02,  1.9329e-01,  1.1618e-01,  7.5497e-03, -2.4581e-01,\n",
              "           9.0358e-02, -1.5923e-03,  1.6066e-01, -1.1929e-01,  8.6204e-03,\n",
              "           1.5398e-01,  2.3093e-02,  6.3460e-02, -5.5934e-02,  9.6265e-02,\n",
              "          -5.4766e-02,  1.2037e-02,  1.9076e-01, -1.8749e-01,  1.3692e-01,\n",
              "          -1.2316e-01, -9.9628e-02,  8.0430e-02, -7.0170e-02, -9.4548e-03,\n",
              "           3.2115e-02,  1.6779e-02,  1.4205e-01, -1.3451e-01, -2.2685e-02,\n",
              "          -9.0197e-02, -1.7118e-01,  1.4124e-01,  6.7614e-02,  2.0655e-01],\n",
              "         [-1.3568e-01, -1.2105e-01,  9.7515e-02, -4.0409e-03, -2.2776e-01,\n",
              "           3.4691e-03, -8.4245e-02,  8.4632e-02, -4.8043e-02, -1.0335e-01,\n",
              "           1.0699e-01,  5.1083e-02,  8.3834e-02,  1.2554e-01,  2.9505e-02,\n",
              "           2.4465e-02, -1.0354e-01, -1.6113e-01, -8.6052e-02,  1.1614e-01,\n",
              "           1.3919e-01,  7.6414e-04,  4.8886e-02,  6.4553e-02,  1.0322e-01,\n",
              "           1.3814e-01,  2.4224e-01,  1.2024e-02,  2.1906e-01, -4.5384e-02,\n",
              "          -1.3362e-02,  9.9469e-02,  1.4289e-01,  1.0532e-02, -2.2419e-01,\n",
              "           1.0408e-01,  1.1968e-01, -2.2131e-03,  6.0637e-02, -2.2443e-01,\n",
              "           2.5951e-01, -6.2707e-03, -2.0480e-01, -3.3903e-02, -4.3195e-02,\n",
              "           3.6159e-02,  1.5682e-01,  1.2762e-01, -1.4904e-01,  1.1001e-01,\n",
              "          -3.2862e-01, -2.2467e-01, -7.5656e-02,  1.3096e-01,  1.6472e-01,\n",
              "           5.2495e-02, -2.7930e-02, -3.2591e-02, -9.6088e-02,  1.9960e-02,\n",
              "          -1.3778e-01, -3.6023e-02,  5.0296e-02,  2.4117e-02,  9.0964e-02]]],\n",
              "       grad_fn=<ViewBackward0>)"
            ]
          },
          "metadata": {},
          "execution_count": 27
        }
      ]
    },
    {
      "cell_type": "code",
      "source": [
        "###########\n",
        "# Softmax #\n",
        "###########"
      ],
      "metadata": {
        "id": "thcq_pd9Uer-"
      },
      "execution_count": 28,
      "outputs": []
    },
    {
      "cell_type": "code",
      "source": [
        "probs = F.softmax(logits[:, -1, :], dim=-1)\n",
        "encoded_token = torch.argmax(probs)\n",
        "probs, encoded_token\n",
        "decode([encoded_token.item()])"
      ],
      "metadata": {
        "colab": {
          "base_uri": "https://localhost:8080/",
          "height": 35
        },
        "id": "sy3HSPqwUhff",
        "outputId": "d4fd910c-d080-46a4-d270-d26d512b4d52"
      },
      "execution_count": 29,
      "outputs": [
        {
          "output_type": "execute_result",
          "data": {
            "text/plain": [
              "'b'"
            ],
            "application/vnd.google.colaboratory.intrinsic+json": {
              "type": "string"
            }
          },
          "metadata": {},
          "execution_count": 29
        }
      ]
    },
    {
      "cell_type": "code",
      "source": [
        "decode([58])"
      ],
      "metadata": {
        "colab": {
          "base_uri": "https://localhost:8080/",
          "height": 35
        },
        "id": "i2cbIXbfV05q",
        "outputId": "7d781400-ea19-4685-81a6-62396d3b8dae"
      },
      "execution_count": 30,
      "outputs": [
        {
          "output_type": "execute_result",
          "data": {
            "text/plain": [
              "'t'"
            ],
            "application/vnd.google.colaboratory.intrinsic+json": {
              "type": "string"
            }
          },
          "metadata": {},
          "execution_count": 30
        }
      ]
    },
    {
      "cell_type": "code",
      "source": [
        "test = torch.ones(4,8,3)\n",
        "test"
      ],
      "metadata": {
        "colab": {
          "base_uri": "https://localhost:8080/"
        },
        "id": "IaYbte54hzQK",
        "outputId": "749fdeb9-1bc3-408b-fe09-4255c35075ad"
      },
      "execution_count": 31,
      "outputs": [
        {
          "output_type": "execute_result",
          "data": {
            "text/plain": [
              "tensor([[[1., 1., 1.],\n",
              "         [1., 1., 1.],\n",
              "         [1., 1., 1.],\n",
              "         [1., 1., 1.],\n",
              "         [1., 1., 1.],\n",
              "         [1., 1., 1.],\n",
              "         [1., 1., 1.],\n",
              "         [1., 1., 1.]],\n",
              "\n",
              "        [[1., 1., 1.],\n",
              "         [1., 1., 1.],\n",
              "         [1., 1., 1.],\n",
              "         [1., 1., 1.],\n",
              "         [1., 1., 1.],\n",
              "         [1., 1., 1.],\n",
              "         [1., 1., 1.],\n",
              "         [1., 1., 1.]],\n",
              "\n",
              "        [[1., 1., 1.],\n",
              "         [1., 1., 1.],\n",
              "         [1., 1., 1.],\n",
              "         [1., 1., 1.],\n",
              "         [1., 1., 1.],\n",
              "         [1., 1., 1.],\n",
              "         [1., 1., 1.],\n",
              "         [1., 1., 1.]],\n",
              "\n",
              "        [[1., 1., 1.],\n",
              "         [1., 1., 1.],\n",
              "         [1., 1., 1.],\n",
              "         [1., 1., 1.],\n",
              "         [1., 1., 1.],\n",
              "         [1., 1., 1.],\n",
              "         [1., 1., 1.],\n",
              "         [1., 1., 1.]]])"
            ]
          },
          "metadata": {},
          "execution_count": 31
        }
      ]
    },
    {
      "cell_type": "code",
      "source": [
        "torch.sum(test, dim=-1)"
      ],
      "metadata": {
        "colab": {
          "base_uri": "https://localhost:8080/"
        },
        "id": "o1TgNWpXsgvf",
        "outputId": "fd832e9b-5dfb-4931-b132-aff0a7f815c3"
      },
      "execution_count": 32,
      "outputs": [
        {
          "output_type": "execute_result",
          "data": {
            "text/plain": [
              "tensor([[3., 3., 3., 3., 3., 3., 3., 3.],\n",
              "        [3., 3., 3., 3., 3., 3., 3., 3.],\n",
              "        [3., 3., 3., 3., 3., 3., 3., 3.],\n",
              "        [3., 3., 3., 3., 3., 3., 3., 3.]])"
            ]
          },
          "metadata": {},
          "execution_count": 32
        }
      ]
    },
    {
      "cell_type": "code",
      "source": [],
      "metadata": {
        "id": "R6ziYO3ksk1k"
      },
      "execution_count": 32,
      "outputs": []
    }
  ]
}