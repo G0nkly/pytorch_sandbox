{
  "nbformat": 4,
  "nbformat_minor": 0,
  "metadata": {
    "colab": {
      "provenance": [],
      "authorship_tag": "ABX9TyM78I+W0qTHMgo+vxrzOUQp",
      "include_colab_link": true
    },
    "kernelspec": {
      "name": "python3",
      "display_name": "Python 3"
    },
    "language_info": {
      "name": "python"
    }
  },
  "cells": [
    {
      "cell_type": "markdown",
      "metadata": {
        "id": "view-in-github",
        "colab_type": "text"
      },
      "source": [
        "<a href=\"https://colab.research.google.com/github/G0nkly/pytorch_sandbox/blob/main/GPT_dimensions.ipynb\" target=\"_parent\"><img src=\"https://colab.research.google.com/assets/colab-badge.svg\" alt=\"Open In Colab\"/></a>"
      ]
    },
    {
      "cell_type": "code",
      "source": [
        "import torch\n",
        "import torch.functional as F\n",
        "import torch.nn as nn"
      ],
      "metadata": {
        "id": "Y1aOJOJ1KCmK"
      },
      "execution_count": 33,
      "outputs": []
    },
    {
      "cell_type": "code",
      "execution_count": 2,
      "metadata": {
        "id": "3qCyCGVskuv4"
      },
      "outputs": [],
      "source": [
        "# Lets look at each of the layers\n",
        "# 1) Encoding\n",
        "# 2) Embedding\n",
        "# 3) Positional Encoding\n",
        "# 4) Attention: key, query, value\n",
        "# 5) Feedforward\n",
        "# 6) Block/Layernorm\n",
        "# 7) Classification / LM Head"
      ]
    },
    {
      "cell_type": "code",
      "source": [
        "################\n",
        "# DATA EXAMPLE #\n",
        "################\n",
        "\n",
        "!wget https://raw.githubusercontent.com/karpathy/char-rnn/master/data/tinyshakespeare/input.txt\n",
        "\n",
        "with open(mode=\"r\", file=\"input.txt\") as f:\n",
        "  text = f.read()\n",
        "\n",
        "vocab = list(sorted(set(text)))"
      ],
      "metadata": {
        "colab": {
          "base_uri": "https://localhost:8080/"
        },
        "id": "FaC8pwxBKXVi",
        "outputId": "8510f076-77a0-4110-a162-50281dd9727e"
      },
      "execution_count": 3,
      "outputs": [
        {
          "output_type": "stream",
          "name": "stdout",
          "text": [
            "--2025-06-14 08:11:25--  https://raw.githubusercontent.com/karpathy/char-rnn/master/data/tinyshakespeare/input.txt\n",
            "Resolving raw.githubusercontent.com (raw.githubusercontent.com)... 185.199.111.133, 185.199.108.133, 185.199.109.133, ...\n",
            "Connecting to raw.githubusercontent.com (raw.githubusercontent.com)|185.199.111.133|:443... connected.\n",
            "HTTP request sent, awaiting response... 200 OK\n",
            "Length: 1115394 (1.1M) [text/plain]\n",
            "Saving to: ‘input.txt’\n",
            "\n",
            "input.txt           100%[===================>]   1.06M  --.-KB/s    in 0.06s   \n",
            "\n",
            "2025-06-14 08:11:25 (16.5 MB/s) - ‘input.txt’ saved [1115394/1115394]\n",
            "\n"
          ]
        }
      ]
    },
    {
      "cell_type": "code",
      "source": [
        "##################\n",
        "# HYPERPARAMTERS #\n",
        "##################"
      ],
      "metadata": {
        "id": "QITuTbF7KLJB"
      },
      "execution_count": 4,
      "outputs": []
    },
    {
      "cell_type": "code",
      "source": [
        "vocab_size = len(vocab)\n",
        "embedding_dim = 32\n",
        "block_size = 8"
      ],
      "metadata": {
        "id": "inC3GWsPKQSl"
      },
      "execution_count": 5,
      "outputs": []
    },
    {
      "cell_type": "code",
      "source": [
        "############\n",
        "# ENCODING #\n",
        "############"
      ],
      "metadata": {
        "id": "KznIrUvIJrAn"
      },
      "execution_count": 6,
      "outputs": []
    },
    {
      "cell_type": "code",
      "source": [
        "stoi = {v:k for k,v in enumerate(vocab)}\n",
        "itos = {k:v for k,v in enumerate(vocab)}\n",
        "encode = lambda seq: [stoi[char] for char in seq]\n",
        "decode = lambda numbers: \"\".join([itos[num] for num in numbers])\n",
        "\n",
        "def get_batch(split: str):\n",
        "  dataset = train if split == \"train\" else val"
      ],
      "metadata": {
        "id": "ghD7YPk8HXsr"
      },
      "execution_count": 7,
      "outputs": []
    },
    {
      "cell_type": "code",
      "source": [
        "#############\n",
        "# EMBEDDING #\n",
        "#############"
      ],
      "metadata": {
        "id": "7bf0P7L9Id9u"
      },
      "execution_count": 8,
      "outputs": []
    },
    {
      "cell_type": "code",
      "source": [
        "embedding = nn.Embedding(num_embeddings=vocab_size, embedding_dim=embedding_dim)"
      ],
      "metadata": {
        "id": "d0zeDIuzKBgA"
      },
      "execution_count": 9,
      "outputs": []
    },
    {
      "cell_type": "code",
      "source": [
        "t = torch.tensor(encode(\"Haubi\"))"
      ],
      "metadata": {
        "id": "HirEowEUODk6"
      },
      "execution_count": 10,
      "outputs": []
    },
    {
      "cell_type": "code",
      "source": [
        "embedding(t)"
      ],
      "metadata": {
        "colab": {
          "base_uri": "https://localhost:8080/"
        },
        "id": "KyIOe9_tOMPE",
        "outputId": "55080389-3e0c-423c-cae7-3e04cb2443cd"
      },
      "execution_count": 11,
      "outputs": [
        {
          "output_type": "execute_result",
          "data": {
            "text/plain": [
              "tensor([[ 0.4646, -0.0149,  0.3435,  0.5761, -1.1145, -0.7385,  1.0395, -0.2676,\n",
              "          2.1257,  0.9982,  0.6423,  1.0178, -0.6761, -0.9002,  0.4569,  0.1439,\n",
              "          0.5009,  0.5609,  0.0184, -0.7316,  0.8684, -0.9999,  0.1195,  1.2926,\n",
              "          1.0712,  0.1777,  0.6568,  1.1869, -0.5965,  0.0420,  0.8793,  0.3581],\n",
              "        [ 0.7694, -1.0650, -1.0797, -1.1844,  1.3605, -1.5668, -0.6813,  2.4511,\n",
              "         -1.7009, -0.4427,  0.1543, -1.1184, -2.0370, -0.5854,  0.1013,  0.9152,\n",
              "          0.5762, -0.9898, -0.5361, -0.1852,  0.0799,  0.1055, -1.3476,  0.1201,\n",
              "         -1.5262, -0.9159, -2.1541, -1.2946,  0.9344, -1.3839,  0.9120,  0.9466],\n",
              "        [ 1.0494, -0.8446, -0.8193,  2.0454, -0.3023, -2.3372, -0.6200, -0.3865,\n",
              "         -0.9838,  0.4093,  0.3887, -1.2767,  0.6851, -0.7245,  0.7791, -0.1937,\n",
              "          1.4171, -0.1410,  1.7504,  0.8271,  1.7866,  0.1745,  1.0301,  0.1924,\n",
              "         -0.8051, -0.2964,  0.1315, -0.2587, -1.5750, -1.8424, -0.5006, -1.4816],\n",
              "        [-1.4492,  0.1909, -0.9957,  2.4137,  1.0930,  1.3910, -1.3678, -0.1842,\n",
              "          0.3190, -0.4569, -0.1318,  0.9873,  0.1489, -0.5334,  0.6581,  0.9879,\n",
              "          3.0089,  0.7937,  0.9413, -1.0561,  0.4787,  0.3675, -0.5411,  1.6003,\n",
              "         -0.1799,  0.0323,  0.1446, -1.4573,  1.2630,  1.2527, -0.7214, -0.5974],\n",
              "        [-2.1645, -0.4275,  2.5903, -0.4861,  0.5352,  1.3754,  0.5820, -1.5343,\n",
              "          0.5888, -0.1035, -0.9577,  0.1988,  1.2427,  0.4779, -0.0143, -0.2713,\n",
              "          0.4699,  3.1036,  0.4439,  0.0817, -0.7369, -0.2362, -0.4524,  2.9763,\n",
              "          0.9839, -0.4169,  0.7638, -0.5362, -0.2993, -2.5351,  1.0394,  1.2312]],\n",
              "       grad_fn=<EmbeddingBackward0>)"
            ]
          },
          "metadata": {},
          "execution_count": 11
        }
      ]
    },
    {
      "cell_type": "code",
      "source": [
        "#########################\n",
        "# POSITIONAL 'ENCODING' #\n",
        "#########################"
      ],
      "metadata": {
        "id": "uEBhtYKQONlj"
      },
      "execution_count": 12,
      "outputs": []
    },
    {
      "cell_type": "code",
      "source": [
        "postional_embedding = nn.Embedding(num_embeddings=5, embedding_dim=32)"
      ],
      "metadata": {
        "id": "dHmnOaSVPmeS"
      },
      "execution_count": 13,
      "outputs": []
    },
    {
      "cell_type": "code",
      "source": [
        "postional_embedding(torch.arange(5)).shape"
      ],
      "metadata": {
        "colab": {
          "base_uri": "https://localhost:8080/"
        },
        "id": "24mQLBiyReS5",
        "outputId": "16404fec-78c0-40c1-fe7b-58b7d5d80dd1"
      },
      "execution_count": 14,
      "outputs": [
        {
          "output_type": "execute_result",
          "data": {
            "text/plain": [
              "torch.Size([5, 32])"
            ]
          },
          "metadata": {},
          "execution_count": 14
        }
      ]
    },
    {
      "cell_type": "code",
      "source": [
        "embedded_tensor = embedding(t) + postional_embedding(torch.arange(5, dtype=torch.long))\n",
        "embedded_tensor"
      ],
      "metadata": {
        "colab": {
          "base_uri": "https://localhost:8080/"
        },
        "id": "fnBn3VO3RnEw",
        "outputId": "7d216d29-0446-48c7-bbd4-64f0581bcfca"
      },
      "execution_count": 23,
      "outputs": [
        {
          "output_type": "execute_result",
          "data": {
            "text/plain": [
              "tensor([[ 8.6069e-01,  1.8929e+00, -4.3834e-01,  9.6341e-01,  6.0632e-01,\n",
              "         -4.3953e-01,  2.5188e+00, -4.3335e-01,  1.1392e+00,  1.3037e+00,\n",
              "          3.0560e-01,  2.5644e+00,  9.4646e-01, -1.7907e+00, -7.3763e-01,\n",
              "         -8.2333e-02,  2.1173e+00, -8.1425e-01,  6.2488e-01, -1.5842e+00,\n",
              "         -2.3368e+00, -1.2851e+00, -2.2978e+00, -5.0649e-01, -5.4852e-01,\n",
              "          3.6887e-01,  1.5811e+00,  2.3222e+00, -1.6001e+00, -5.1744e-01,\n",
              "          6.5312e-01,  8.7307e-01],\n",
              "        [ 1.7661e-01, -1.7812e+00,  5.9334e-01, -1.0513e+00,  1.6564e+00,\n",
              "         -1.6683e+00, -1.2088e+00,  2.4184e+00, -3.3611e+00, -5.1567e-01,\n",
              "         -1.2049e+00, -2.0708e+00, -1.2121e+00,  3.9219e-01, -5.6400e-01,\n",
              "          1.1737e+00,  8.4079e-01,  5.9288e-01, -1.0628e+00,  4.0933e-01,\n",
              "          4.8127e-01,  6.8801e-01, -4.4802e-01,  4.3441e-01, -4.1006e-01,\n",
              "         -1.6611e+00, -2.3569e+00, -1.8499e+00,  7.6150e-01, -1.1566e+00,\n",
              "          2.9548e+00,  1.2468e+00],\n",
              "        [ 4.8376e-01, -1.1898e+00,  3.9182e-02,  3.3889e-03,  9.0280e-01,\n",
              "         -2.4312e+00, -1.6582e-01, -8.9775e-01, -1.0890e+00, -2.4934e-01,\n",
              "          5.2504e-01, -1.7632e+00,  8.4092e-01,  1.4138e-01, -1.2356e-01,\n",
              "          1.8087e+00,  1.1072e+00, -1.7221e+00,  1.6912e+00,  1.1032e+00,\n",
              "          1.3431e+00,  7.0547e-01,  2.1335e+00,  3.7761e-01, -8.2361e-01,\n",
              "         -1.0651e+00, -1.1269e+00, -5.5731e-01, -2.1188e+00, -1.3831e+00,\n",
              "         -1.1758e+00, -4.0039e-01],\n",
              "        [-1.4615e+00,  4.1468e-01, -1.7460e+00,  3.4210e+00,  1.0803e+00,\n",
              "          1.7603e+00, -8.5024e-01,  4.5371e-01,  1.2838e+00,  2.1133e+00,\n",
              "         -3.8416e-01,  9.4257e-01, -1.6769e-01, -2.0170e-01, -7.1971e-01,\n",
              "          5.5345e-02,  2.8030e+00, -2.2343e-01,  6.4006e-01, -1.0225e+00,\n",
              "          6.7166e-01,  3.2254e-01, -3.0232e+00,  1.9882e+00, -5.3954e-01,\n",
              "          1.8740e+00, -1.0643e+00, -2.2927e+00,  1.9236e+00,  2.2024e-02,\n",
              "         -7.3107e-01,  3.5245e-01],\n",
              "        [-2.2089e+00, -1.6563e+00,  2.4801e+00, -7.2092e-01, -1.0917e+00,\n",
              "          8.7636e-01, -2.8097e-01, -2.0774e+00, -6.3034e-01, -3.1685e-01,\n",
              "         -1.4326e-01, -1.5539e-01,  1.7594e+00, -1.2690e+00,  8.5049e-01,\n",
              "         -1.0129e+00,  6.6617e-01,  2.5323e+00, -8.7148e-01,  1.0089e-01,\n",
              "         -6.1849e-01,  1.4765e+00, -5.2324e-02,  3.9460e+00,  1.6219e+00,\n",
              "         -7.0277e-01, -1.6432e-01,  5.7508e-02,  4.2093e-01, -2.9571e+00,\n",
              "          3.9390e-01,  1.8109e+00]], grad_fn=<AddBackward0>)"
            ]
          },
          "metadata": {},
          "execution_count": 23
        }
      ]
    },
    {
      "cell_type": "code",
      "source": [
        "#############\n",
        "# ATTENTION #\n",
        "#############"
      ],
      "metadata": {
        "id": "kVyuxDh5Rwvo"
      },
      "execution_count": 16,
      "outputs": []
    },
    {
      "cell_type": "code",
      "source": [
        "# since its not MultiHeadAttention input_dim == output_dim\n",
        "\n",
        "key_layer = nn.Linear(in_features=embedding_dim, out_features=embedding_dim)\n",
        "query_layer = nn.Linear(in_features=embedding_dim, out_features=embedding_dim)\n",
        "value_layer = nn.Linear(in_features=embedding_dim, out_features=embedding_dim)\n",
        "tril = torch.tril(torch.ones(block_size, block_size, dtype=torch.long))"
      ],
      "metadata": {
        "id": "CLdJKYDZm7cP"
      },
      "execution_count": 20,
      "outputs": []
    },
    {
      "cell_type": "code",
      "source": [
        "k = key_layer(embedded_tensor)\n",
        "q = query_layer(embedded_tensor)\n",
        "wei = (q @ k.transpose(-2,-1)) / (embedding_dim ** -0.5)\n",
        "wei[0,:], wei"
      ],
      "metadata": {
        "id": "3WSinYAipzEh",
        "colab": {
          "base_uri": "https://localhost:8080/"
        },
        "outputId": "8fa335d9-99af-4ac0-a517-65861aae553a"
      },
      "execution_count": 36,
      "outputs": [
        {
          "output_type": "execute_result",
          "data": {
            "text/plain": [
              "(tensor([ 6.1532,  7.2973, 24.7115, 17.0612,  5.2714], grad_fn=<SliceBackward0>),\n",
              " tensor([[  6.1532,   7.2973,  24.7115,  17.0612,   5.2714],\n",
              "         [ -7.9225,   2.1976,  -1.3756,  -6.1142,  10.7823],\n",
              "         [ -9.6927,  15.3615,  23.9902, -12.0375,  -6.4471],\n",
              "         [  3.1362,   6.9147,  -6.5888,  24.6519,  18.4033],\n",
              "         [  8.3315,   4.9903, -26.4701,  17.0638,   5.6914]],\n",
              "        grad_fn=<DivBackward0>))"
            ]
          },
          "metadata": {},
          "execution_count": 36
        }
      ]
    },
    {
      "cell_type": "code",
      "source": [
        "test = torch.ones(3,4)\n",
        "test"
      ],
      "metadata": {
        "colab": {
          "base_uri": "https://localhost:8080/"
        },
        "id": "IaYbte54hzQK",
        "outputId": "293d2a48-b381-4d53-f5e2-7a09a17f89c3"
      },
      "execution_count": 41,
      "outputs": [
        {
          "output_type": "execute_result",
          "data": {
            "text/plain": [
              "tensor([[1., 1., 1., 1.],\n",
              "        [1., 1., 1., 1.],\n",
              "        [1., 1., 1., 1.]])"
            ]
          },
          "metadata": {},
          "execution_count": 41
        }
      ]
    },
    {
      "cell_type": "code",
      "source": [
        "torch.sum(test, dim=0)"
      ],
      "metadata": {
        "colab": {
          "base_uri": "https://localhost:8080/"
        },
        "id": "o1TgNWpXsgvf",
        "outputId": "42e9e173-d1ef-478e-fbc3-53910a6546b1"
      },
      "execution_count": 42,
      "outputs": [
        {
          "output_type": "execute_result",
          "data": {
            "text/plain": [
              "tensor([3., 3., 3., 3.])"
            ]
          },
          "metadata": {},
          "execution_count": 42
        }
      ]
    },
    {
      "cell_type": "code",
      "source": [],
      "metadata": {
        "id": "R6ziYO3ksk1k"
      },
      "execution_count": null,
      "outputs": []
    }
  ]
}