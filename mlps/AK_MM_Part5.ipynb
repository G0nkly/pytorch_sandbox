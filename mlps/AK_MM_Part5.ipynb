{
  "nbformat": 4,
  "nbformat_minor": 0,
  "metadata": {
    "colab": {
      "provenance": [],
      "authorship_tag": "ABX9TyPtwLe6J0zl6Mg5akxgdFcN",
      "include_colab_link": true
    },
    "kernelspec": {
      "name": "python3",
      "display_name": "Python 3"
    },
    "language_info": {
      "name": "python"
    }
  },
  "cells": [
    {
      "cell_type": "markdown",
      "metadata": {
        "id": "view-in-github",
        "colab_type": "text"
      },
      "source": [
        "<a href=\"https://colab.research.google.com/github/G0nkly/pytorch_sandbox/blob/main/mlps/AK_MM_Part5.ipynb\" target=\"_parent\"><img src=\"https://colab.research.google.com/assets/colab-badge.svg\" alt=\"Open In Colab\"/></a>"
      ]
    },
    {
      "cell_type": "code",
      "execution_count": null,
      "metadata": {
        "id": "Ub0sL0yLg99_"
      },
      "outputs": [],
      "source": [
        "import torch\n",
        "import torch.nn.functional as F\n",
        "import matplotlib.pyplot as plt\n",
        "%matplotlib inline"
      ]
    },
    {
      "cell_type": "code",
      "source": [
        "# Import the library to mount Google Drive\n",
        "from google.colab import drive\n",
        "# Mount the Google Drive at /content/drive\n",
        "drive.mount('/content/drive')"
      ],
      "metadata": {
        "colab": {
          "base_uri": "https://localhost:8080/"
        },
        "id": "N2nQHTUChguQ",
        "outputId": "fb6aef98-7c34-4d2d-8bf2-ba0728174037"
      },
      "execution_count": null,
      "outputs": [
        {
          "output_type": "stream",
          "name": "stdout",
          "text": [
            "Mounted at /content/drive\n"
          ]
        }
      ]
    },
    {
      "cell_type": "code",
      "source": [
        "# read all the words\n",
        "words = open(\"/content/drive/MyDrive/Data/AK/names.txt\", \"r\").read().splitlines()\n",
        "print(len(words))\n",
        "print(max(len(w) for w in words))\n",
        "print(words[:8])"
      ],
      "metadata": {
        "colab": {
          "base_uri": "https://localhost:8080/"
        },
        "id": "UZ_nrlR_hWxZ",
        "outputId": "e47afc9c-0e84-4708-c3ab-cb80bb88d4ec"
      },
      "execution_count": null,
      "outputs": [
        {
          "output_type": "stream",
          "name": "stdout",
          "text": [
            "32033\n",
            "15\n",
            "['emma', 'olivia', 'ava', 'isabella', 'sophia', 'charlotte', 'mia', 'amelia']\n"
          ]
        }
      ]
    },
    {
      "cell_type": "code",
      "source": [
        "# build the vocabulary of the characters and mapping to/from integers\n",
        "chars = sorted(list(set(''.join(words))))\n",
        "stoi =  {s: i+1 for i,s in enumerate(chars)}\n",
        "stoi[\".\"] = 0\n",
        "itos = {i: s for s, i in stoi.items()}\n",
        "vocab_size = len(itos)\n",
        "print(itos)\n",
        "print(vocab_size)"
      ],
      "metadata": {
        "colab": {
          "base_uri": "https://localhost:8080/"
        },
        "id": "b0vL-vbmh88D",
        "outputId": "06c58b78-fca3-4995-a693-fcdd991b1be7"
      },
      "execution_count": null,
      "outputs": [
        {
          "output_type": "stream",
          "name": "stdout",
          "text": [
            "{1: 'a', 2: 'b', 3: 'c', 4: 'd', 5: 'e', 6: 'f', 7: 'g', 8: 'h', 9: 'i', 10: 'j', 11: 'k', 12: 'l', 13: 'm', 14: 'n', 15: 'o', 16: 'p', 17: 'q', 18: 'r', 19: 's', 20: 't', 21: 'u', 22: 'v', 23: 'w', 24: 'x', 25: 'y', 26: 'z', 0: '.'}\n",
            "27\n"
          ]
        }
      ]
    },
    {
      "cell_type": "code",
      "source": [
        "# shuffle up the words\n",
        "import random\n",
        "random.seed(42)\n",
        "random.shuffle(words)"
      ],
      "metadata": {
        "id": "zawmB1aTiixD"
      },
      "execution_count": null,
      "outputs": []
    },
    {
      "cell_type": "code",
      "source": [
        "# build dataset\n",
        "block_size = 3 # context length: how many characters do we take to predict the next one\n",
        "def build_dataset(words):\n",
        "  X, Y = [], []\n",
        "\n",
        "  for w in words:\n",
        "    context = [0] * block_size\n",
        "    for ch in w + \".\":\n",
        "      ix = stoi[ch]\n",
        "      X.append(context)\n",
        "      Y.append(ix)\n",
        "      context = context[1:] + [ix] # crop and append\n",
        "\n",
        "  X = torch.tensor(X)\n",
        "  Y = torch.tensor(Y)\n",
        "  print(X.shape, Y.shape)\n",
        "  return X, Y\n",
        "\n",
        "n1 = int(0.8 * len(words))\n",
        "n2 = int(0.9 * len(words))\n",
        "\n",
        "Xtr, Ytr    = build_dataset(words[:n1])   # 80%\n",
        "Xdev, Ydev  = build_dataset(words[n1:n2]) # 10%\n",
        "Xte, Yte    = build_dataset(words[n2:])   # 10%"
      ],
      "metadata": {
        "colab": {
          "base_uri": "https://localhost:8080/"
        },
        "id": "ax-TcoTIipq1",
        "outputId": "749d2979-b774-4366-d8dc-826f7cabea5a"
      },
      "execution_count": null,
      "outputs": [
        {
          "output_type": "stream",
          "name": "stdout",
          "text": [
            "torch.Size([182625, 3]) torch.Size([182625])\n",
            "torch.Size([22655, 3]) torch.Size([22655])\n",
            "torch.Size([22866, 3]) torch.Size([22866])\n"
          ]
        }
      ]
    },
    {
      "cell_type": "code",
      "source": [
        "for x,y in zip(Xtr[:20], Ytr[:20]):\n",
        "  print(\"\".join(itos[ix.item()] for ix in x), '--->', itos[y.item()])"
      ],
      "metadata": {
        "colab": {
          "base_uri": "https://localhost:8080/"
        },
        "id": "LCM3cmRhkJYQ",
        "outputId": "4d45d3eb-c528-4a8c-f1b7-7a6226a0b176"
      },
      "execution_count": null,
      "outputs": [
        {
          "output_type": "stream",
          "name": "stdout",
          "text": [
            "... ---> y\n",
            "..y ---> u\n",
            ".yu ---> h\n",
            "yuh ---> e\n",
            "uhe ---> n\n",
            "hen ---> g\n",
            "eng ---> .\n",
            "... ---> d\n",
            "..d ---> i\n",
            ".di ---> o\n",
            "dio ---> n\n",
            "ion ---> d\n",
            "ond ---> r\n",
            "ndr ---> e\n",
            "dre ---> .\n",
            "... ---> x\n",
            "..x ---> a\n",
            ".xa ---> v\n",
            "xav ---> i\n",
            "avi ---> e\n"
          ]
        }
      ]
    },
    {
      "cell_type": "code",
      "source": [
        "class Linear:\n",
        "\n",
        "  def __init__(self, fan_in, fan_out, bias=True):\n",
        "    self.weight = torch.randn((fan_in, fan_out)) / fan_in**0.5 # note: kaiming init\n",
        "    self.bias = torch.zeros(fan_out) if bias else None\n",
        "\n",
        "  def __call__(self, x):\n",
        "    self.out = x @ self.weight\n",
        "    if self.bias is not None:\n",
        "      self.out += self.bias\n",
        "    return self.out\n",
        "\n",
        "  def parameters(self):\n",
        "    return [self.weight] + ([] if self.bias is None else [self.bias])"
      ],
      "metadata": {
        "id": "b6xgQOy9kezU"
      },
      "execution_count": null,
      "outputs": []
    },
    {
      "cell_type": "code",
      "source": [
        "class BatchNorm1d:\n",
        "\n",
        "  def __init__(self, dim, eps=1e-5, momentum=0.1):\n",
        "    self.eps = eps\n",
        "    self.momentum = momentum\n",
        "    self.training = True\n",
        "    # parameters (trained with backprop)\n",
        "    self.gamma = torch.ones(dim)\n",
        "    self.beta = torch.zeros(dim)\n",
        "    # buffers (trained with a running 'momentum update')\n",
        "    self.running_mean = torch.zeros(dim)\n",
        "    self.running_var = torch.ones(dim)\n",
        "\n",
        "  def __call__(self, x):\n",
        "    # calculate the forward pass\n",
        "    if self.training:\n",
        "      xmean = x.mean(0, keepdim=True) # batch mean\n",
        "      xvar = x.var(0, keepdim=True) # batch variance\n",
        "    else:\n",
        "      xmean = self.running_mean\n",
        "      xvar = self.running_var\n",
        "    xhat = (x - xmean) / torch.sqrt(xvar + self.eps) # normalize to unit variance\n",
        "    self.out = self.gamma * xhat + self.beta\n",
        "    if self.training:\n",
        "      with torch.no_grad():\n",
        "        self.running_mean = (1- self.momentum) * self.running_mean + self.momentum * xmean\n",
        "        self.running_var = (1 - self.momentum) * self.running_var + self.momentum * xvar\n",
        "    return self.out\n",
        "\n",
        "  def parameters(self):\n",
        "    return [self.gamma, self.beta]"
      ],
      "metadata": {
        "id": "rj3kyn6plfDZ"
      },
      "execution_count": 52,
      "outputs": []
    },
    {
      "cell_type": "code",
      "source": [
        "class Tanh:\n",
        "\n",
        "  def __call__(self, x):\n",
        "    self.out = torch.tanh(x)\n",
        "    return self.out\n",
        "\n",
        "  def parameters(self):\n",
        "    return []"
      ],
      "metadata": {
        "id": "am2VDLlcmmmP"
      },
      "execution_count": 53,
      "outputs": []
    },
    {
      "cell_type": "code",
      "source": [
        "class Embedding:\n",
        "\n",
        "  def __init__(self, num_embeddings, embedding_dim):\n",
        "    self.weight = torch.randn((num_embeddings, embedding_dim))\n",
        "\n",
        "  def __call__(self, IX):\n",
        "    self.out = self.weight[IX]\n",
        "    return self.out\n",
        "\n",
        "  def parameters(self):\n",
        "    return [self.weight]"
      ],
      "metadata": {
        "id": "6d4ltQdBLE0k"
      },
      "execution_count": 80,
      "outputs": []
    },
    {
      "cell_type": "code",
      "source": [
        "class Flatten:\n",
        "\n",
        "  def __call__(self, x):\n",
        "    self.out = x.view(x.shape[0], -1)\n",
        "    return self.out\n",
        "\n",
        "  def parameters(self):\n",
        "    return []"
      ],
      "metadata": {
        "id": "NjAZ_eyWLuyF"
      },
      "execution_count": 81,
      "outputs": []
    },
    {
      "cell_type": "code",
      "source": [
        "class Sequential:\n",
        "\n",
        "  def __init__(self, layers):\n",
        "    self.layers = layers\n",
        "\n",
        "  def __call__(self, x):\n",
        "    for layer in self.layers:\n",
        "      x = layer(x)\n",
        "    self.out = x\n",
        "    return self.out\n",
        "\n",
        "  def parameters(self):\n",
        "    # get parameters of all layers and stretch them out into one list\n",
        "    return [p for layer in self.layers for p in layer.parameters()]"
      ],
      "metadata": {
        "id": "dx4OIOakPGIh"
      },
      "execution_count": 84,
      "outputs": []
    },
    {
      "cell_type": "code",
      "source": [
        "torch.manual_seed(42) # seed RNG for reproducability"
      ],
      "metadata": {
        "colab": {
          "base_uri": "https://localhost:8080/"
        },
        "id": "VcbTtVZVzG3c",
        "outputId": "4599a893-e182-47a8-a536-f3cba3b402a4"
      },
      "execution_count": 54,
      "outputs": [
        {
          "output_type": "execute_result",
          "data": {
            "text/plain": [
              "<torch._C.Generator at 0x7f6cf51098d0>"
            ]
          },
          "metadata": {},
          "execution_count": 54
        }
      ]
    },
    {
      "cell_type": "code",
      "source": [
        "n_embd = 10     # the dimensionality of the character embedding vectors\n",
        "n_hidden = 200  # the number of neurons in the hidden layer of the MLP\n",
        "\n",
        "C = torch.randn((vocab_size, n_embd))\n",
        "layers = [\n",
        "    Linear(n_embd * block_size, n_hidden, bias=False), BatchNorm1d(n_hidden), Tanh(),\n",
        "    Linear(n_hidden, vocab_size),\n",
        "]\n",
        "\n",
        "# parameter init\n",
        "with torch.no_grad():\n",
        "  layers[-1].weight *= 0.1 # last layer make less confident\n",
        "\n",
        "parameters = [C] + [p for layer in layers for p in layer.parameters()]\n",
        "print(sum(p.nelement() for p in parameters))\n",
        "for p in parameters:\n",
        "  p.requires_grad = True"
      ],
      "metadata": {
        "colab": {
          "base_uri": "https://localhost:8080/"
        },
        "id": "te_-UpDyzKyu",
        "outputId": "e4c9d75c-8a38-4902-e70b-4ebfee1b6a06"
      },
      "execution_count": 55,
      "outputs": [
        {
          "output_type": "stream",
          "name": "stdout",
          "text": [
            "12097\n"
          ]
        }
      ]
    },
    {
      "cell_type": "code",
      "source": [
        "# Same optimization as last time\n",
        "max_steps = 200000\n",
        "batch_size = 32\n",
        "lossi = []\n",
        "\n",
        "for i in range(max_steps):\n",
        "  # minibatch construct\n",
        "  ix = torch.randint(0, Xtr.shape[0], (batch_size,))\n",
        "  Xb, Yb = Xtr[ix], Ytr[ix] # batch X, Y\n",
        "\n",
        "  # forward pass\n",
        "  emb = C[Xb] # embed the characters into vectors\n",
        "  x = emb.view(emb.shape[0], -1) # concatenate vectors\n",
        "  for layer in layers:\n",
        "    x = layer(x)\n",
        "  loss = F.cross_entropy(x, Yb) # loss function\n",
        "\n",
        "  # backward pass\n",
        "  for p in parameters:\n",
        "    p.grad = None\n",
        "  loss.backward()\n",
        "\n",
        "  # update: simple SGD\n",
        "  lr = 0.1 if i < 150000 else 0.01 # step learning rate decay\n",
        "  for p in parameters:\n",
        "    p.data += -lr * p.grad\n",
        "\n",
        "  # track stats\n",
        "  if i % 10000 == 0: # print every once in a while\n",
        "    print(f\"{i:7d}/{max_steps:7d}: {loss.item():.4f}\")\n",
        "  lossi.append(loss.log10().item())"
      ],
      "metadata": {
        "colab": {
          "base_uri": "https://localhost:8080/"
        },
        "id": "vRQ67Gz70YKl",
        "outputId": "8034d176-e730-4e39-ff95-7c455738b844"
      },
      "execution_count": 56,
      "outputs": [
        {
          "output_type": "stream",
          "name": "stdout",
          "text": [
            "      0/ 200000: 3.2966\n",
            "  10000/ 200000: 2.2322\n",
            "  20000/ 200000: 2.4111\n",
            "  30000/ 200000: 2.1004\n",
            "  40000/ 200000: 2.3157\n",
            "  50000/ 200000: 2.2104\n",
            "  60000/ 200000: 1.9653\n",
            "  70000/ 200000: 1.9767\n",
            "  80000/ 200000: 2.6738\n",
            "  90000/ 200000: 2.0837\n",
            " 100000/ 200000: 2.2730\n",
            " 110000/ 200000: 1.7491\n",
            " 120000/ 200000: 2.2891\n",
            " 130000/ 200000: 2.3443\n",
            " 140000/ 200000: 2.1731\n",
            " 150000/ 200000: 1.8246\n",
            " 160000/ 200000: 1.7614\n",
            " 170000/ 200000: 2.2419\n",
            " 180000/ 200000: 2.0803\n",
            " 190000/ 200000: 2.1326\n"
          ]
        }
      ]
    },
    {
      "cell_type": "code",
      "source": [
        "plt.plot(lossi)"
      ],
      "metadata": {
        "colab": {
          "base_uri": "https://localhost:8080/",
          "height": 448
        },
        "id": "ASnoAzas1hzU",
        "outputId": "1da851f3-43ab-4396-b4fa-89c9c7f47d3b"
      },
      "execution_count": 57,
      "outputs": [
        {
          "output_type": "execute_result",
          "data": {
            "text/plain": [
              "[<matplotlib.lines.Line2D at 0x7f6bfc330d50>]"
            ]
          },
          "metadata": {},
          "execution_count": 57
        },
        {
          "output_type": "display_data",
          "data": {
            "text/plain": [
              "<Figure size 640x480 with 1 Axes>"
            ],
            "image/png": "[encoded data removed]"
          },
          "metadata": {}
        }
      ]
    },
    {
      "cell_type": "code",
      "source": [
        "for layer in layers:\n",
        "  layer.training = False"
      ],
      "metadata": {
        "id": "PO6lqiL62pYr"
      },
      "execution_count": 58,
      "outputs": []
    },
    {
      "cell_type": "code",
      "source": [
        "# evaluate the loss\n",
        "@torch.no_grad() # this decorator disables gradient tracking inside pytorch\n",
        "def split_loss(split):\n",
        "  x,y = {\n",
        "    'train': (Xtr, Ytr),\n",
        "    'val': (Xdev, Ydev),\n",
        "    'test': (Xte, Yte),\n",
        "  }[split]\n",
        "  emb = C[x]\n",
        "  x = emb.view(emb.shape[0], -1)\n",
        "  for layer in layers:\n",
        "    x = layer(x)\n",
        "  loss = F.cross_entropy(x, y)\n",
        "  print(split, loss.item())\n",
        "\n",
        "split_loss('train')\n",
        "split_loss('val')"
      ],
      "metadata": {
        "colab": {
          "base_uri": "https://localhost:8080/"
        },
        "id": "8l5TUdQE4SOw",
        "outputId": "82525f93-458d-444a-96c6-5c48cbc67f93"
      },
      "execution_count": 59,
      "outputs": [
        {
          "output_type": "stream",
          "name": "stdout",
          "text": [
            "train 2.0583250522613525\n",
            "val 2.1065292358398438\n"
          ]
        }
      ]
    },
    {
      "cell_type": "code",
      "source": [
        "# Sample from the model\n",
        "for _ in range(20):\n",
        "  out = []\n",
        "  context = [0] * block_size # initialize with all ...\n",
        "  while True:\n",
        "    # forward pass the neural net\n",
        "    emb = C[torch.tensor([context])] # (1, block_size, n_embd)\n",
        "    x = emb.view(emb.shape[0], -1)\n",
        "    for layer in layers:\n",
        "      x = layer(x)\n",
        "    logits = x\n",
        "    probs = F.softmax(logits, dim=1)\n",
        "    # sample from the distribution\n",
        "    ix = torch.multinomial(probs, num_samples=1).item()\n",
        "    # shift the context window and track the samples\n",
        "    context = context[1:] + [ix]\n",
        "    out.append(ix)\n",
        "    # if we sample the special '.' token, break\n",
        "    if ix == 0:\n",
        "      break\n",
        "  print(\"\".join(itos[i] for i in out)) # decode and print the generated word"
      ],
      "metadata": {
        "colab": {
          "base_uri": "https://localhost:8080/"
        },
        "id": "R9KIUZH-5Sn1",
        "outputId": "2906fc60-e53f-4e21-86fd-3743cbdfd9bc"
      },
      "execution_count": 65,
      "outputs": [
        {
          "output_type": "stream",
          "name": "stdout",
          "text": [
            "beir.\n",
            "damelays.\n",
            "kascacolton.\n",
            "edinicioannie.\n",
            "karleah.\n",
            "arleniya.\n",
            "doslaycensayah.\n",
            "marelizion.\n",
            "tamura.\n",
            "fraelayanna.\n",
            "kalin.\n",
            "aldoncreigh.\n",
            "katiya.\n",
            "shalle.\n",
            "ris.\n",
            "taya.\n",
            "abbikkingan.\n",
            "azimith.\n",
            "zisha.\n",
            "moslefriel.\n"
          ]
        }
      ]
    },
    {
      "cell_type": "code",
      "source": [
        "# improvements"
      ],
      "metadata": {
        "id": "cT9R2nPM5ZjW"
      },
      "execution_count": 66,
      "outputs": []
    },
    {
      "cell_type": "code",
      "source": [
        "plt.plot(torch.tensor(lossi).view(-1, 1000).mean(dim=1))"
      ],
      "metadata": {
        "colab": {
          "base_uri": "https://localhost:8080/",
          "height": 448
        },
        "id": "0hnXD1FM9WIf",
        "outputId": "1e1a3dd4-e3c5-4fa4-e56a-aa544212c519"
      },
      "execution_count": 74,
      "outputs": [
        {
          "output_type": "execute_result",
          "data": {
            "text/plain": [
              "[<matplotlib.lines.Line2D at 0x7f6bfb6c9190>]"
            ]
          },
          "metadata": {},
          "execution_count": 74
        },
        {
          "output_type": "display_data",
          "data": {
            "text/plain": [
              "<Figure size 640x480 with 1 Axes>"
            ],
            "image/png": "[encoded data removed]"
          },
          "metadata": {}
        }
      ]
    },
    {
      "cell_type": "code",
      "source": [
        "n_embd = 10     # the dimensionality of the character embedding vectors\n",
        "n_hidden = 200  # the number of neurons in the hidden layer of the MLP\n",
        "\n",
        "model = Sequential([\n",
        "    Embedding(vocab_size, n_embd),\n",
        "    Flatten(),\n",
        "    Linear(n_embd * block_size, n_hidden, bias=False), BatchNorm1d(n_hidden), Tanh(),\n",
        "    Linear(n_hidden, vocab_size),\n",
        "])\n",
        "\n",
        "# parameter init\n",
        "with torch.no_grad():\n",
        "  layers[-1].weight *= 0.1 # last layer make less confident\n",
        "\n",
        "parameters = model.parameters()\n",
        "print(sum(p.nelement() for p in parameters))\n",
        "for p in parameters:\n",
        "  p.requires_grad = True"
      ],
      "metadata": {
        "colab": {
          "base_uri": "https://localhost:8080/"
        },
        "id": "CI84X2xgOREC",
        "outputId": "adc80e45-3a18-42c9-87da-d03934be80d4"
      },
      "execution_count": 94,
      "outputs": [
        {
          "output_type": "stream",
          "name": "stdout",
          "text": [
            "12097\n"
          ]
        }
      ]
    },
    {
      "cell_type": "code",
      "source": [
        "# Same optimization as last time\n",
        "max_steps = 200000\n",
        "batch_size = 32\n",
        "lossi = []\n",
        "\n",
        "for i in range(max_steps):\n",
        "  # minibatch construct\n",
        "  ix = torch.randint(0, Xtr.shape[0], (batch_size,))\n",
        "  Xb, Yb = Xtr[ix], Ytr[ix] # batch X, Y\n",
        "\n",
        "  # forward pass\n",
        "  logits = model(Xb)\n",
        "  loss = F.cross_entropy(logits, Yb) # loss function\n",
        "\n",
        "  # backward pass\n",
        "  for p in parameters:\n",
        "    p.grad = None\n",
        "  loss.backward()\n",
        "\n",
        "  # update: simple SGD\n",
        "  lr = 0.1 if i < 150000 else 0.01 # step learning rate decay\n",
        "  for p in parameters:\n",
        "    p.data += -lr * p.grad\n",
        "\n",
        "  # track stats\n",
        "  if i % 10000 == 0: # print every once in a while\n",
        "    print(f\"{i:7d}/{max_steps:7d}: {loss.item():.4f}\")\n",
        "  lossi.append(loss.log10().item())"
      ],
      "metadata": {
        "colab": {
          "base_uri": "https://localhost:8080/"
        },
        "id": "-M1vR9JB9afP",
        "outputId": "0874de90-4ed4-41f3-a0f9-93205a356d7f"
      },
      "execution_count": 95,
      "outputs": [
        {
          "output_type": "stream",
          "name": "stdout",
          "text": [
            "      0/ 200000: 3.4903\n",
            "  10000/ 200000: 2.1646\n",
            "  20000/ 200000: 2.4964\n",
            "  30000/ 200000: 2.1751\n",
            "  40000/ 200000: 2.2827\n",
            "  50000/ 200000: 2.2198\n",
            "  60000/ 200000: 2.1376\n",
            "  70000/ 200000: 2.1031\n",
            "  80000/ 200000: 2.2049\n",
            "  90000/ 200000: 2.2368\n",
            " 100000/ 200000: 2.0246\n",
            " 110000/ 200000: 2.2993\n",
            " 120000/ 200000: 2.3433\n",
            " 130000/ 200000: 2.3731\n",
            " 140000/ 200000: 1.9719\n",
            " 150000/ 200000: 2.0153\n",
            " 160000/ 200000: 1.9812\n",
            " 170000/ 200000: 1.9957\n",
            " 180000/ 200000: 2.0490\n",
            " 190000/ 200000: 2.0030\n"
          ]
        }
      ]
    },
    {
      "cell_type": "code",
      "source": [
        "for layer in model.layers:\n",
        "  layer.training = False"
      ],
      "metadata": {
        "id": "-5yyNFO3Ms3u"
      },
      "execution_count": 96,
      "outputs": []
    },
    {
      "cell_type": "code",
      "source": [
        "# evaluate the loss\n",
        "@torch.no_grad() # this decorator disables gradient tracking inside pytorch\n",
        "def split_loss(split):\n",
        "  x,y = {\n",
        "    'train': (Xtr, Ytr),\n",
        "    'val': (Xdev, Ydev),\n",
        "    'test': (Xte, Yte),\n",
        "  }[split]\n",
        "  logits = model(x)\n",
        "  loss = F.cross_entropy(logits, y)\n",
        "  print(split, loss.item())\n",
        "\n",
        "split_loss('train')\n",
        "split_loss('val')"
      ],
      "metadata": {
        "colab": {
          "base_uri": "https://localhost:8080/"
        },
        "id": "QqRXcuRVMuPy",
        "outputId": "2d531c05-c957-4d21-bf57-58ac94a01b5a"
      },
      "execution_count": 97,
      "outputs": [
        {
          "output_type": "stream",
          "name": "stdout",
          "text": [
            "train 2.0594072341918945\n",
            "val 2.106184720993042\n"
          ]
        }
      ]
    },
    {
      "cell_type": "code",
      "source": [
        "# Sample from the model\n",
        "for _ in range(20):\n",
        "  out = []\n",
        "  context = [0] * block_size # initialize with all ...\n",
        "  while True:\n",
        "    # forward pass the neural net\n",
        "    logits = model(torch.tensor([context]))\n",
        "    probs = F.softmax(logits, dim=1)\n",
        "    # sample from the distribution\n",
        "    ix = torch.multinomial(probs, num_samples=1).item()\n",
        "    # shift the context window and track the samples\n",
        "    context = context[1:] + [ix]\n",
        "    out.append(ix)\n",
        "    # if we sample the special '.' token, break\n",
        "    if ix == 0:\n",
        "      break\n",
        "  print(\"\".join(itos[i] for i in out)) # decode and print the generated word"
      ],
      "metadata": {
        "colab": {
          "base_uri": "https://localhost:8080/"
        },
        "id": "PPu97s2BQXRG",
        "outputId": "0ade08f1-6c92-4b79-dc0e-fa3316a7ac5f"
      },
      "execution_count": 93,
      "outputs": [
        {
          "output_type": "stream",
          "name": "stdout",
          "text": [
            "izclesumgzjwna.\n",
            "hnebgthuigcylxzprdmej.\n",
            "gkauszl.\n",
            "iknwsstqxovcltrwimnbtckoxbjrwdwktii.\n",
            "xkfzlkkhderbuclvieasaxjbfhcprucxkqr.\n",
            "qqdfiwjkpr.\n",
            "cnkuyxyiaf.\n",
            "mlkhqhkhkqyxugeorcutlupvxatr.\n",
            "q.\n",
            "xlnhzxvystcwotsfbnilculs.\n",
            "qqkszmvsztpnot.\n",
            "mfkrifqqwrhtnz.\n",
            "sgbhqvpisvwiesho.\n",
            "sabcl.\n",
            "b.\n",
            "lsyem.\n",
            "dttnf.\n",
            "gjac.\n",
            "ssngapwwqwnvwfannoopf.\n",
            ".\n"
          ]
        }
      ]
    },
    {
      "cell_type": "code",
      "source": [],
      "metadata": {
        "id": "gNun48HPQihG"
      },
      "execution_count": null,
      "outputs": []
    }
  ]
}