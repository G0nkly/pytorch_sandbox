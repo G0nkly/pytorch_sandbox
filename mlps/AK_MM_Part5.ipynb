{
  "nbformat": 4,
  "nbformat_minor": 0,
  "metadata": {
    "colab": {
      "provenance": [],
      "authorship_tag": "ABX9TyMFFewpAKlnGWFyMYUWSFx5",
      "include_colab_link": true
    },
    "kernelspec": {
      "name": "python3",
      "display_name": "Python 3"
    },
    "language_info": {
      "name": "python"
    }
  },
  "cells": [
    {
      "cell_type": "markdown",
      "metadata": {
        "id": "view-in-github",
        "colab_type": "text"
      },
      "source": [
        "<a href=\"https://colab.research.google.com/github/G0nkly/pytorch_sandbox/blob/main/mlps/AK_MM_Part5.ipynb\" target=\"_parent\"><img src=\"https://colab.research.google.com/assets/colab-badge.svg\" alt=\"Open In Colab\"/></a>"
      ]
    },
    {
      "cell_type": "code",
      "execution_count": 2,
      "metadata": {
        "id": "Ub0sL0yLg99_"
      },
      "outputs": [],
      "source": [
        "import torch\n",
        "import torch.nn.functional as F\n",
        "import matplotlib.pyplot as plt\n",
        "%matplotlib inline"
      ]
    },
    {
      "cell_type": "code",
      "source": [
        "# Import the library to mount Google Drive\n",
        "from google.colab import drive\n",
        "# Mount the Google Drive at /content/drive\n",
        "drive.mount('/content/drive')"
      ],
      "metadata": {
        "colab": {
          "base_uri": "https://localhost:8080/"
        },
        "id": "N2nQHTUChguQ",
        "outputId": "6bb03181-3502-4790-a23a-04bc82b8fe39"
      },
      "execution_count": 3,
      "outputs": [
        {
          "output_type": "stream",
          "name": "stdout",
          "text": [
            "Mounted at /content/drive\n"
          ]
        }
      ]
    },
    {
      "cell_type": "code",
      "source": [
        "# read all the words\n",
        "words = open(\"/content/drive/MyDrive/Data/AK/names.txt\", \"r\").read().splitlines()\n",
        "print(len(words))\n",
        "print(max(len(w) for w in words))\n",
        "print(words[:8])"
      ],
      "metadata": {
        "colab": {
          "base_uri": "https://localhost:8080/"
        },
        "id": "UZ_nrlR_hWxZ",
        "outputId": "1b6b637a-ceda-49ec-bc9f-dc644fc1474c"
      },
      "execution_count": 4,
      "outputs": [
        {
          "output_type": "stream",
          "name": "stdout",
          "text": [
            "32033\n",
            "15\n",
            "['emma', 'olivia', 'ava', 'isabella', 'sophia', 'charlotte', 'mia', 'amelia']\n"
          ]
        }
      ]
    },
    {
      "cell_type": "code",
      "source": [
        "# build the vocabulary of the characters and mapping to/from integers\n",
        "chars = sorted(list(set(''.join(words))))\n",
        "stoi =  {s: i+1 for i,s in enumerate(chars)}\n",
        "stoi[\".\"] = 0\n",
        "itos = {i: s for s, i in stoi.items()}\n",
        "vocab_size = len(itos)\n",
        "print(itos)\n",
        "print(vocab_size)"
      ],
      "metadata": {
        "colab": {
          "base_uri": "https://localhost:8080/"
        },
        "id": "b0vL-vbmh88D",
        "outputId": "8544a477-0072-41da-b03c-f6096e64d673"
      },
      "execution_count": 5,
      "outputs": [
        {
          "output_type": "stream",
          "name": "stdout",
          "text": [
            "{1: 'a', 2: 'b', 3: 'c', 4: 'd', 5: 'e', 6: 'f', 7: 'g', 8: 'h', 9: 'i', 10: 'j', 11: 'k', 12: 'l', 13: 'm', 14: 'n', 15: 'o', 16: 'p', 17: 'q', 18: 'r', 19: 's', 20: 't', 21: 'u', 22: 'v', 23: 'w', 24: 'x', 25: 'y', 26: 'z', 0: '.'}\n",
            "27\n"
          ]
        }
      ]
    },
    {
      "cell_type": "code",
      "source": [
        "# shuffle up the words\n",
        "import random\n",
        "random.seed(42)\n",
        "random.shuffle(words)"
      ],
      "metadata": {
        "id": "zawmB1aTiixD"
      },
      "execution_count": 6,
      "outputs": []
    },
    {
      "cell_type": "code",
      "source": [
        "# build dataset\n",
        "block_size = 3 # context length: how many characters do we take to predict the next one\n",
        "def build_dataset(words):\n",
        "  X, Y = [], []\n",
        "\n",
        "  for w in words:\n",
        "    context = [0] * block_size\n",
        "    for ch in w + \".\":\n",
        "      ix = stoi[ch]\n",
        "      X.append(context)\n",
        "      Y.append(ix)\n",
        "      context = context[1:] + [ix] # crop and append\n",
        "\n",
        "  X = torch.tensor(X)\n",
        "  Y = torch.tensor(Y)\n",
        "  print(X.shape, Y.shape)\n",
        "  return X, Y\n",
        "\n",
        "n1 = int(0.8 * len(words))\n",
        "n2 = int(0.9 * len(words))\n",
        "\n",
        "Xtr, Ytr    = build_dataset(words[:n1])   # 80%\n",
        "Xdev, Ydev  = build_dataset(words[n1:n2]) # 10%\n",
        "Xte, Yte    = build_dataset(words[n2:])   # 10%"
      ],
      "metadata": {
        "colab": {
          "base_uri": "https://localhost:8080/"
        },
        "id": "ax-TcoTIipq1",
        "outputId": "749d2979-b774-4366-d8dc-826f7cabea5a"
      },
      "execution_count": null,
      "outputs": [
        {
          "output_type": "stream",
          "name": "stdout",
          "text": [
            "torch.Size([182625, 3]) torch.Size([182625])\n",
            "torch.Size([22655, 3]) torch.Size([22655])\n",
            "torch.Size([22866, 3]) torch.Size([22866])\n"
          ]
        }
      ]
    },
    {
      "cell_type": "code",
      "source": [
        "for x,y in zip(Xtr[:20], Ytr[:20]):\n",
        "  print(\"\".join(itos[ix.item()] for ix in x), '--->', itos[y.item()])"
      ],
      "metadata": {
        "colab": {
          "base_uri": "https://localhost:8080/"
        },
        "id": "LCM3cmRhkJYQ",
        "outputId": "4d45d3eb-c528-4a8c-f1b7-7a6226a0b176"
      },
      "execution_count": null,
      "outputs": [
        {
          "output_type": "stream",
          "name": "stdout",
          "text": [
            "... ---> y\n",
            "..y ---> u\n",
            ".yu ---> h\n",
            "yuh ---> e\n",
            "uhe ---> n\n",
            "hen ---> g\n",
            "eng ---> .\n",
            "... ---> d\n",
            "..d ---> i\n",
            ".di ---> o\n",
            "dio ---> n\n",
            "ion ---> d\n",
            "ond ---> r\n",
            "ndr ---> e\n",
            "dre ---> .\n",
            "... ---> x\n",
            "..x ---> a\n",
            ".xa ---> v\n",
            "xav ---> i\n",
            "avi ---> e\n"
          ]
        }
      ]
    },
    {
      "cell_type": "code",
      "source": [
        "class Linear:\n",
        "\n",
        "  def __init__(self, fan_in, fan_out, bias=True):\n",
        "    self.weight = torch.randn((fan_in, fan_out)) / fan_in**0.5 # note: kaiming init\n",
        "    self.bias = torch.zeros(fan_out) if bias else None\n",
        "\n",
        "  def __call__(self, x):\n",
        "    self.out = x @ self.weight\n",
        "    if self.bias is not None:\n",
        "      self.out += self.bias\n",
        "    return self.out\n",
        "\n",
        "  def parameters(self):\n",
        "    return [self.weight] + ([] if self.bias is None else [self.bias])"
      ],
      "metadata": {
        "id": "b6xgQOy9kezU"
      },
      "execution_count": 10,
      "outputs": []
    },
    {
      "cell_type": "code",
      "source": [
        "class BatchNorm1d:\n",
        "\n",
        "  def __init__(self, dim, eps=1e-5, momentum=0.1):\n",
        "    self.eps = eps\n",
        "    self.momentum = momentum\n",
        "    self.training = True\n",
        "    # parameters (trained with backprop)\n",
        "    self.gamma = torch.ones(dim)\n",
        "    self.beta = torch.zeros(dim)\n",
        "    # buffers (trained with a running 'momentum update')\n",
        "    self.running_mean = torch.zeros(dim)\n",
        "    self.running_var = torch.ones(dim)\n",
        "\n",
        "  def __call__(self, x):\n",
        "    # calculate the forward pass\n",
        "    if self.training:\n",
        "      xmean = x.mean(0, keepdim=True) # batch mean\n",
        "      xvar = x.var(0, keepdim=True) # batch variance\n",
        "    else:\n",
        "      xmean = self.running_mean\n",
        "      xvar = self.running_var\n",
        "    xhat = (x - xmean) / torch.sqrt(xvar + self.eps) # normalize to unit variance\n",
        "    self.out = self.gamma * xhat + self.beta\n",
        "    if self.training:\n",
        "      with torch.no_grad():\n",
        "        self.running_mean = (1- self.momentum) * self.running_mean + self.momentum * xmean\n",
        "        self.running_var = (1 - self.momentum) * self.running_var + self.momentum * xvar\n",
        "    return self.out\n",
        "\n",
        "  def parameters(self):\n",
        "    return [self.gamma, self.beta]"
      ],
      "metadata": {
        "id": "rj3kyn6plfDZ"
      },
      "execution_count": 11,
      "outputs": []
    },
    {
      "cell_type": "code",
      "source": [
        "class Tanh:\n",
        "\n",
        "  def __call__(self, x):\n",
        "    self.out = torch.tanh(x)\n",
        "    return self.out\n",
        "\n",
        "  def parameters(self):\n",
        "    return []"
      ],
      "metadata": {
        "id": "am2VDLlcmmmP"
      },
      "execution_count": 12,
      "outputs": []
    },
    {
      "cell_type": "code",
      "source": [
        "class Embedding:\n",
        "\n",
        "  def __init__(self, num_embeddings, embedding_dim):\n",
        "    self.weight = torch.randn((num_embeddings, embedding_dim))\n",
        "\n",
        "  def __call__(self, IX):\n",
        "    self.out = self.weight[IX]\n",
        "    return self.out\n",
        "\n",
        "  def parameters(self):\n",
        "    return [self.weight]"
      ],
      "metadata": {
        "id": "6d4ltQdBLE0k"
      },
      "execution_count": 13,
      "outputs": []
    },
    {
      "cell_type": "code",
      "source": [
        "class Flatten:\n",
        "\n",
        "  def __call__(self, x):\n",
        "    self.out = x.view(x.shape[0], -1)\n",
        "    return self.out\n",
        "\n",
        "  def parameters(self):\n",
        "    return []"
      ],
      "metadata": {
        "id": "NjAZ_eyWLuyF"
      },
      "execution_count": 14,
      "outputs": []
    },
    {
      "cell_type": "code",
      "source": [
        "class Sequential:\n",
        "\n",
        "  def __init__(self, layers):\n",
        "    self.layers = layers\n",
        "\n",
        "  def __call__(self, x):\n",
        "    for layer in self.layers:\n",
        "      x = layer(x)\n",
        "    self.out = x\n",
        "    return self.out\n",
        "\n",
        "  def parameters(self):\n",
        "    # get parameters of all layers and stretch them out into one list\n",
        "    return [p for layer in self.layers for p in layer.parameters()]"
      ],
      "metadata": {
        "id": "dx4OIOakPGIh"
      },
      "execution_count": 15,
      "outputs": []
    },
    {
      "cell_type": "code",
      "source": [
        "torch.manual_seed(42) # seed RNG for reproducability"
      ],
      "metadata": {
        "colab": {
          "base_uri": "https://localhost:8080/"
        },
        "id": "VcbTtVZVzG3c",
        "outputId": "cbfe2bb6-0fde-4f89-bbfd-8c25b4cd3a43"
      },
      "execution_count": 16,
      "outputs": [
        {
          "output_type": "execute_result",
          "data": {
            "text/plain": [
              "<torch._C.Generator at 0x7fb26dfee5d0>"
            ]
          },
          "metadata": {},
          "execution_count": 16
        }
      ]
    },
    {
      "cell_type": "code",
      "source": [
        "n_embd = 10     # the dimensionality of the character embedding vectors\n",
        "n_hidden = 200  # the number of neurons in the hidden layer of the MLP\n",
        "\n",
        "C = torch.randn((vocab_size, n_embd))\n",
        "layers = [\n",
        "    Linear(n_embd * block_size, n_hidden, bias=False), BatchNorm1d(n_hidden), Tanh(),\n",
        "    Linear(n_hidden, vocab_size),\n",
        "]\n",
        "\n",
        "# parameter init\n",
        "with torch.no_grad():\n",
        "  layers[-1].weight *= 0.1 # last layer make less confident\n",
        "\n",
        "parameters = [C] + [p for layer in layers for p in layer.parameters()]\n",
        "print(sum(p.nelement() for p in parameters))\n",
        "for p in parameters:\n",
        "  p.requires_grad = True"
      ],
      "metadata": {
        "colab": {
          "base_uri": "https://localhost:8080/"
        },
        "id": "te_-UpDyzKyu",
        "outputId": "e4c9d75c-8a38-4902-e70b-4ebfee1b6a06"
      },
      "execution_count": 55,
      "outputs": [
        {
          "output_type": "stream",
          "name": "stdout",
          "text": [
            "12097\n"
          ]
        }
      ]
    },
    {
      "cell_type": "code",
      "source": [
        "# Same optimization as last time\n",
        "max_steps = 200000\n",
        "batch_size = 32\n",
        "lossi = []\n",
        "\n",
        "for i in range(max_steps):\n",
        "  # minibatch construct\n",
        "  ix = torch.randint(0, Xtr.shape[0], (batch_size,))\n",
        "  Xb, Yb = Xtr[ix], Ytr[ix] # batch X, Y\n",
        "\n",
        "  # forward pass\n",
        "  emb = C[Xb] # embed the characters into vectors\n",
        "  x = emb.view(emb.shape[0], -1) # concatenate vectors\n",
        "  for layer in layers:\n",
        "    x = layer(x)\n",
        "  loss = F.cross_entropy(x, Yb) # loss function\n",
        "\n",
        "  # backward pass\n",
        "  for p in parameters:\n",
        "    p.grad = None\n",
        "  loss.backward()\n",
        "\n",
        "  # update: simple SGD\n",
        "  lr = 0.1 if i < 150000 else 0.01 # step learning rate decay\n",
        "  for p in parameters:\n",
        "    p.data += -lr * p.grad\n",
        "\n",
        "  # track stats\n",
        "  if i % 10000 == 0: # print every once in a while\n",
        "    print(f\"{i:7d}/{max_steps:7d}: {loss.item():.4f}\")\n",
        "  lossi.append(loss.log10().item())"
      ],
      "metadata": {
        "colab": {
          "base_uri": "https://localhost:8080/"
        },
        "id": "vRQ67Gz70YKl",
        "outputId": "8034d176-e730-4e39-ff95-7c455738b844"
      },
      "execution_count": 56,
      "outputs": [
        {
          "output_type": "stream",
          "name": "stdout",
          "text": [
            "      0/ 200000: 3.2966\n",
            "  10000/ 200000: 2.2322\n",
            "  20000/ 200000: 2.4111\n",
            "  30000/ 200000: 2.1004\n",
            "  40000/ 200000: 2.3157\n",
            "  50000/ 200000: 2.2104\n",
            "  60000/ 200000: 1.9653\n",
            "  70000/ 200000: 1.9767\n",
            "  80000/ 200000: 2.6738\n",
            "  90000/ 200000: 2.0837\n",
            " 100000/ 200000: 2.2730\n",
            " 110000/ 200000: 1.7491\n",
            " 120000/ 200000: 2.2891\n",
            " 130000/ 200000: 2.3443\n",
            " 140000/ 200000: 2.1731\n",
            " 150000/ 200000: 1.8246\n",
            " 160000/ 200000: 1.7614\n",
            " 170000/ 200000: 2.2419\n",
            " 180000/ 200000: 2.0803\n",
            " 190000/ 200000: 2.1326\n"
          ]
        }
      ]
    },
    {
      "cell_type": "code",
      "source": [
        "plt.plot(lossi)"
      ],
      "metadata": {
        "colab": {
          "base_uri": "https://localhost:8080/",
          "height": 448
        },
        "id": "ASnoAzas1hzU",
        "outputId": "1da851f3-43ab-4396-b4fa-89c9c7f47d3b"
      },
      "execution_count": 57,
      "outputs": [
        {
          "output_type": "execute_result",
          "data": {
            "text/plain": [
              "[<matplotlib.lines.Line2D at 0x7f6bfc330d50>]"
            ]
          },
          "metadata": {},
          "execution_count": 57
        },
        {
          "output_type": "display_data",
          "data": {
            "text/plain": [
              "<Figure size 640x480 with 1 Axes>"
            ],
            "image/png": "[encoded data removed]"
          },
          "metadata": {}
        }
      ]
    },
    {
      "cell_type": "code",
      "source": [
        "for layer in layers:\n",
        "  layer.training = False"
      ],
      "metadata": {
        "id": "PO6lqiL62pYr"
      },
      "execution_count": 58,
      "outputs": []
    },
    {
      "cell_type": "code",
      "source": [
        "# evaluate the loss\n",
        "@torch.no_grad() # this decorator disables gradient tracking inside pytorch\n",
        "def split_loss(split):\n",
        "  x,y = {\n",
        "    'train': (Xtr, Ytr),\n",
        "    'val': (Xdev, Ydev),\n",
        "    'test': (Xte, Yte),\n",
        "  }[split]\n",
        "  emb = C[x]\n",
        "  x = emb.view(emb.shape[0], -1)\n",
        "  for layer in layers:\n",
        "    x = layer(x)\n",
        "  loss = F.cross_entropy(x, y)\n",
        "  print(split, loss.item())\n",
        "\n",
        "split_loss('train')\n",
        "split_loss('val')"
      ],
      "metadata": {
        "colab": {
          "base_uri": "https://localhost:8080/"
        },
        "id": "8l5TUdQE4SOw",
        "outputId": "82525f93-458d-444a-96c6-5c48cbc67f93"
      },
      "execution_count": 59,
      "outputs": [
        {
          "output_type": "stream",
          "name": "stdout",
          "text": [
            "train 2.0583250522613525\n",
            "val 2.1065292358398438\n"
          ]
        }
      ]
    },
    {
      "cell_type": "code",
      "source": [
        "# Sample from the model\n",
        "for _ in range(20):\n",
        "  out = []\n",
        "  context = [0] * block_size # initialize with all ...\n",
        "  while True:\n",
        "    # forward pass the neural net\n",
        "    emb = C[torch.tensor([context])] # (1, block_size, n_embd)\n",
        "    x = emb.view(emb.shape[0], -1)\n",
        "    for layer in layers:\n",
        "      x = layer(x)\n",
        "    logits = x\n",
        "    probs = F.softmax(logits, dim=1)\n",
        "    # sample from the distribution\n",
        "    ix = torch.multinomial(probs, num_samples=1).item()\n",
        "    # shift the context window and track the samples\n",
        "    context = context[1:] + [ix]\n",
        "    out.append(ix)\n",
        "    # if we sample the special '.' token, break\n",
        "    if ix == 0:\n",
        "      break\n",
        "  print(\"\".join(itos[i] for i in out)) # decode and print the generated word"
      ],
      "metadata": {
        "colab": {
          "base_uri": "https://localhost:8080/"
        },
        "id": "R9KIUZH-5Sn1",
        "outputId": "2906fc60-e53f-4e21-86fd-3743cbdfd9bc"
      },
      "execution_count": 65,
      "outputs": [
        {
          "output_type": "stream",
          "name": "stdout",
          "text": [
            "beir.\n",
            "damelays.\n",
            "kascacolton.\n",
            "edinicioannie.\n",
            "karleah.\n",
            "arleniya.\n",
            "doslaycensayah.\n",
            "marelizion.\n",
            "tamura.\n",
            "fraelayanna.\n",
            "kalin.\n",
            "aldoncreigh.\n",
            "katiya.\n",
            "shalle.\n",
            "ris.\n",
            "taya.\n",
            "abbikkingan.\n",
            "azimith.\n",
            "zisha.\n",
            "moslefriel.\n"
          ]
        }
      ]
    },
    {
      "cell_type": "code",
      "source": [
        "# improvements"
      ],
      "metadata": {
        "id": "cT9R2nPM5ZjW"
      },
      "execution_count": 66,
      "outputs": []
    },
    {
      "cell_type": "code",
      "source": [
        "# build dataset\n",
        "block_size = 8 # context length: how many characters do we take to predict the next one\n",
        "def build_dataset(words):\n",
        "  X, Y = [], []\n",
        "\n",
        "  for w in words:\n",
        "    context = [0] * block_size\n",
        "    for ch in w + \".\":\n",
        "      ix = stoi[ch]\n",
        "      X.append(context)\n",
        "      Y.append(ix)\n",
        "      context = context[1:] + [ix] # crop and append\n",
        "\n",
        "  X = torch.tensor(X)\n",
        "  Y = torch.tensor(Y)\n",
        "  print(X.shape, Y.shape)\n",
        "  return X, Y\n",
        "\n",
        "n1 = int(0.8 * len(words))\n",
        "n2 = int(0.9 * len(words))\n",
        "\n",
        "Xtr, Ytr    = build_dataset(words[:n1])   # 80%\n",
        "Xdev, Ydev  = build_dataset(words[n1:n2]) # 10%\n",
        "Xte, Yte    = build_dataset(words[n2:])   # 10%"
      ],
      "metadata": {
        "colab": {
          "base_uri": "https://localhost:8080/"
        },
        "id": "SHG8aneVHUmn",
        "outputId": "5436443e-b0bd-4642-c41f-76fa3ec934a6"
      },
      "execution_count": 17,
      "outputs": [
        {
          "output_type": "stream",
          "name": "stdout",
          "text": [
            "torch.Size([182625, 8]) torch.Size([182625])\n",
            "torch.Size([22655, 8]) torch.Size([22655])\n",
            "torch.Size([22866, 8]) torch.Size([22866])\n"
          ]
        }
      ]
    },
    {
      "cell_type": "code",
      "source": [
        "plt.plot(torch.tensor(lossi).view(-1, 1000).mean(dim=1))"
      ],
      "metadata": {
        "colab": {
          "base_uri": "https://localhost:8080/",
          "height": 448
        },
        "id": "0hnXD1FM9WIf",
        "outputId": "1e1a3dd4-e3c5-4fa4-e56a-aa544212c519"
      },
      "execution_count": 74,
      "outputs": [
        {
          "output_type": "execute_result",
          "data": {
            "text/plain": [
              "[<matplotlib.lines.Line2D at 0x7f6bfb6c9190>]"
            ]
          },
          "metadata": {},
          "execution_count": 74
        },
        {
          "output_type": "display_data",
          "data": {
            "text/plain": [
              "<Figure size 640x480 with 1 Axes>"
            ],
            "image/png": "[encoded data removed]"
          },
          "metadata": {}
        }
      ]
    },
    {
      "cell_type": "code",
      "source": [
        "n_embd = 10     # the dimensionality of the character embedding vectors\n",
        "n_hidden = 200  # the number of neurons in the hidden layer of the MLP\n",
        "\n",
        "model = Sequential([\n",
        "    Embedding(vocab_size, n_embd),\n",
        "    Flatten(),\n",
        "    Linear(n_embd * block_size, n_hidden, bias=False), BatchNorm1d(n_hidden), Tanh(),\n",
        "    Linear(n_hidden, vocab_size),\n",
        "])\n",
        "\n",
        "# parameter init\n",
        "with torch.no_grad():\n",
        "  model.layers[-1].weight *= 0.1 # last layer make less confident\n",
        "\n",
        "parameters = model.parameters()\n",
        "print(sum(p.nelement() for p in parameters))\n",
        "for p in parameters:\n",
        "  p.requires_grad = True"
      ],
      "metadata": {
        "colab": {
          "base_uri": "https://localhost:8080/"
        },
        "id": "CI84X2xgOREC",
        "outputId": "6f4288dc-06b2-4760-9f81-544bf1108cc2"
      },
      "execution_count": 19,
      "outputs": [
        {
          "output_type": "stream",
          "name": "stdout",
          "text": [
            "22097\n"
          ]
        }
      ]
    },
    {
      "cell_type": "code",
      "source": [
        "ix"
      ],
      "metadata": {
        "colab": {
          "base_uri": "https://localhost:8080/"
        },
        "id": "FtcSYKk0Lg4x",
        "outputId": "67d7b7d9-a355-4f82-92b8-162e988b5da1"
      },
      "execution_count": 31,
      "outputs": [
        {
          "output_type": "execute_result",
          "data": {
            "text/plain": [
              "tensor([ 25827,  89307,  46849, 133904])"
            ]
          },
          "metadata": {},
          "execution_count": 31
        }
      ]
    },
    {
      "cell_type": "code",
      "source": [
        "# Scratch space\n",
        "ix = torch.randint(0, Xtr.shape[0], (4,)) # let's look at a batch of just 4 examples\n",
        "Xb, Yb = Xtr[ix], Ytr[ix]\n",
        "logits = model(Xb)\n",
        "print(Xb.shape)\n",
        "Xb"
      ],
      "metadata": {
        "colab": {
          "base_uri": "https://localhost:8080/"
        },
        "id": "RAGcbyLpK-Fb",
        "outputId": "ae1ae215-fa31-4d5f-98c2-e98ee170bb43"
      },
      "execution_count": 32,
      "outputs": [
        {
          "output_type": "stream",
          "name": "stdout",
          "text": [
            "torch.Size([4, 8])\n"
          ]
        },
        {
          "output_type": "execute_result",
          "data": {
            "text/plain": [
              "tensor([[ 0,  0,  0,  1, 18, 12,  1, 14],\n",
              "        [ 0,  0,  0,  0, 14,  9,  3,  8],\n",
              "        [ 0,  0,  0,  0,  0,  0,  0,  5],\n",
              "        [ 0, 20, 18, 25, 19, 20, 25, 14]])"
            ]
          },
          "metadata": {},
          "execution_count": 32
        }
      ]
    },
    {
      "cell_type": "code",
      "source": [
        "model.layers[0].out.shape # output of Embedding layer"
      ],
      "metadata": {
        "colab": {
          "base_uri": "https://localhost:8080/"
        },
        "id": "RNuYtfVGMO-Y",
        "outputId": "4247c3dc-c785-4760-cdbc-22f4c0f8441d"
      },
      "execution_count": 36,
      "outputs": [
        {
          "output_type": "execute_result",
          "data": {
            "text/plain": [
              "torch.Size([4, 8, 10])"
            ]
          },
          "metadata": {},
          "execution_count": 36
        }
      ]
    },
    {
      "cell_type": "code",
      "source": [
        "model.layers[1].out.shape # output of Flatten layer"
      ],
      "metadata": {
        "colab": {
          "base_uri": "https://localhost:8080/"
        },
        "id": "DXzMmWa8MRYP",
        "outputId": "df95f336-9b91-442c-d358-893c2c7f5642"
      },
      "execution_count": 37,
      "outputs": [
        {
          "output_type": "execute_result",
          "data": {
            "text/plain": [
              "torch.Size([4, 80])"
            ]
          },
          "metadata": {},
          "execution_count": 37
        }
      ]
    },
    {
      "cell_type": "code",
      "source": [
        "model.layers[2].out.shape # output of Linear layer"
      ],
      "metadata": {
        "colab": {
          "base_uri": "https://localhost:8080/"
        },
        "id": "es7JezhZMZk9",
        "outputId": "65e9b7ba-8a7b-4646-9430-be934b78a8a6"
      },
      "execution_count": 38,
      "outputs": [
        {
          "output_type": "execute_result",
          "data": {
            "text/plain": [
              "torch.Size([4, 200])"
            ]
          },
          "metadata": {},
          "execution_count": 38
        }
      ]
    },
    {
      "cell_type": "code",
      "source": [
        "# we introduce a second batch dimension where we group 2 consecutive characters: (1 2) (3 4) (5 6) (7 8)\n",
        "(torch.randn(4, 4, 20) @ torch.randn(20, 200) + torch.randn(200)).shape"
      ],
      "metadata": {
        "colab": {
          "base_uri": "https://localhost:8080/"
        },
        "id": "CmuKCWYNNeOG",
        "outputId": "66f9b09d-8cad-4966-b961-07844c95a17b"
      },
      "execution_count": 39,
      "outputs": [
        {
          "output_type": "execute_result",
          "data": {
            "text/plain": [
              "torch.Size([4, 4, 200])"
            ]
          },
          "metadata": {},
          "execution_count": 39
        }
      ]
    },
    {
      "cell_type": "code",
      "source": [
        "list(range(10))[::2]"
      ],
      "metadata": {
        "colab": {
          "base_uri": "https://localhost:8080/"
        },
        "id": "MWejcou_Og_s",
        "outputId": "4d4c9f35-efcd-4a92-968b-2930fdf285ee"
      },
      "execution_count": 42,
      "outputs": [
        {
          "output_type": "execute_result",
          "data": {
            "text/plain": [
              "[0, 2, 4, 6, 8]"
            ]
          },
          "metadata": {},
          "execution_count": 42
        }
      ]
    },
    {
      "cell_type": "code",
      "source": [
        "e = torch.randn(4, 8, 10) # goal: want this to be (4, 4, 20) where consecutive 10-d vectors get concatenated\n",
        "explicit = torch.cat([e[:, ::2, :], e[:, 1::2, :]], dim=2)"
      ],
      "metadata": {
        "id": "p_AcSanCOU5P"
      },
      "execution_count": 48,
      "outputs": []
    },
    {
      "cell_type": "code",
      "source": [
        "(e.view(4, 4, 20) == explicit).all()"
      ],
      "metadata": {
        "colab": {
          "base_uri": "https://localhost:8080/"
        },
        "id": "zALkOjaxO8Sj",
        "outputId": "c18b1bdd-0a1c-48f6-d724-bb9c0c932f00"
      },
      "execution_count": 49,
      "outputs": [
        {
          "output_type": "execute_result",
          "data": {
            "text/plain": [
              "tensor(True)"
            ]
          },
          "metadata": {},
          "execution_count": 49
        }
      ]
    },
    {
      "cell_type": "code",
      "source": [
        "# Same optimization as last time\n",
        "max_steps = 200000\n",
        "batch_size = 32\n",
        "lossi = []\n",
        "\n",
        "for i in range(max_steps):\n",
        "  # minibatch construct\n",
        "  ix = torch.randint(0, Xtr.shape[0], (batch_size,))\n",
        "  Xb, Yb = Xtr[ix], Ytr[ix] # batch X, Y\n",
        "\n",
        "  # forward pass\n",
        "  logits = model(Xb)\n",
        "  loss = F.cross_entropy(logits, Yb) # loss function\n",
        "\n",
        "  # backward pass\n",
        "  for p in parameters:\n",
        "    p.grad = None\n",
        "  loss.backward()\n",
        "\n",
        "  # update: simple SGD\n",
        "  lr = 0.1 if i < 150000 else 0.01 # step learning rate decay\n",
        "  for p in parameters:\n",
        "    p.data += -lr * p.grad\n",
        "\n",
        "  # track stats\n",
        "  if i % 10000 == 0: # print every once in a while\n",
        "    print(f\"{i:7d}/{max_steps:7d}: {loss.item():.4f}\")\n",
        "  lossi.append(loss.log10().item())"
      ],
      "metadata": {
        "colab": {
          "base_uri": "https://localhost:8080/"
        },
        "id": "-M1vR9JB9afP",
        "outputId": "ac243f5d-821e-4b2e-c8d1-5d22c7592afe"
      },
      "execution_count": 21,
      "outputs": [
        {
          "output_type": "stream",
          "name": "stdout",
          "text": [
            "      0/ 200000: 3.2108\n",
            "  10000/ 200000: 2.6345\n",
            "  20000/ 200000: 2.1854\n",
            "  30000/ 200000: 2.0107\n",
            "  40000/ 200000: 1.9816\n",
            "  50000/ 200000: 1.9689\n",
            "  60000/ 200000: 2.2406\n",
            "  70000/ 200000: 2.0550\n",
            "  80000/ 200000: 1.8591\n",
            "  90000/ 200000: 1.9557\n",
            " 100000/ 200000: 1.6680\n",
            " 110000/ 200000: 2.3874\n",
            " 120000/ 200000: 2.0764\n",
            " 130000/ 200000: 1.7143\n",
            " 140000/ 200000: 2.1207\n",
            " 150000/ 200000: 1.8761\n",
            " 160000/ 200000: 1.5235\n",
            " 170000/ 200000: 1.9717\n",
            " 180000/ 200000: 1.5620\n",
            " 190000/ 200000: 2.0342\n"
          ]
        }
      ]
    },
    {
      "cell_type": "code",
      "source": [
        "plt.plot(torch.tensor(lossi).view(-1, 1000).mean(dim=1))"
      ],
      "metadata": {
        "colab": {
          "base_uri": "https://localhost:8080/",
          "height": 448
        },
        "id": "55hXg9q3IVhn",
        "outputId": "5133b71c-e41f-4f56-ce1b-a465a4103c2f"
      },
      "execution_count": 22,
      "outputs": [
        {
          "output_type": "execute_result",
          "data": {
            "text/plain": [
              "[<matplotlib.lines.Line2D at 0x7fb26c19c7d0>]"
            ]
          },
          "metadata": {},
          "execution_count": 22
        },
        {
          "output_type": "display_data",
          "data": {
            "text/plain": [
              "<Figure size 640x480 with 1 Axes>"
            ],
            "image/png": "[encoded data removed]"
          },
          "metadata": {}
        }
      ]
    },
    {
      "cell_type": "code",
      "source": [
        "for layer in model.layers:\n",
        "  layer.training = False"
      ],
      "metadata": {
        "id": "-5yyNFO3Ms3u"
      },
      "execution_count": 23,
      "outputs": []
    },
    {
      "cell_type": "code",
      "source": [
        "# evaluate the loss\n",
        "@torch.no_grad() # this decorator disables gradient tracking inside pytorch\n",
        "def split_loss(split):\n",
        "  x,y = {\n",
        "    'train': (Xtr, Ytr),\n",
        "    'val': (Xdev, Ydev),\n",
        "    'test': (Xte, Yte),\n",
        "  }[split]\n",
        "  logits = model(x)\n",
        "  loss = F.cross_entropy(logits, y)\n",
        "  print(split, loss.item())\n",
        "\n",
        "split_loss('train')\n",
        "split_loss('val')"
      ],
      "metadata": {
        "colab": {
          "base_uri": "https://localhost:8080/"
        },
        "id": "QqRXcuRVMuPy",
        "outputId": "01501c01-746f-4ae3-a817-9e69d00efa0b"
      },
      "execution_count": 24,
      "outputs": [
        {
          "output_type": "stream",
          "name": "stdout",
          "text": [
            "train 1.9197931289672852\n",
            "val 2.0251195430755615\n"
          ]
        }
      ]
    },
    {
      "cell_type": "code",
      "source": [
        "# Sample from the model\n",
        "for _ in range(20):\n",
        "  out = []\n",
        "  context = [0] * block_size # initialize with all ...\n",
        "  while True:\n",
        "    # forward pass the neural net\n",
        "    logits = model(torch.tensor([context]))\n",
        "    probs = F.softmax(logits, dim=1)\n",
        "    # sample from the distribution\n",
        "    ix = torch.multinomial(probs, num_samples=1).item()\n",
        "    # shift the context window and track the samples\n",
        "    context = context[1:] + [ix]\n",
        "    out.append(ix)\n",
        "    # if we sample the special '.' token, break\n",
        "    if ix == 0:\n",
        "      break\n",
        "  print(\"\".join(itos[i] for i in out)) # decode and print the generated word"
      ],
      "metadata": {
        "colab": {
          "base_uri": "https://localhost:8080/"
        },
        "id": "PPu97s2BQXRG",
        "outputId": "6c7522e8-b723-4870-a9e1-1de244761e6a"
      },
      "execution_count": 25,
      "outputs": [
        {
          "output_type": "stream",
          "name": "stdout",
          "text": [
            "braizy.\n",
            "aayaus.\n",
            "khaloise.\n",
            "xkvum.\n",
            "remsin.\n",
            "iyanna.\n",
            "khovyn.\n",
            "aresleigh.\n",
            "zymarie.\n",
            "dadetz.\n",
            "peralery.\n",
            "mazie.\n",
            "nikeel.\n",
            "kylen.\n",
            "conned.\n",
            "rais.\n",
            "kaevyn.\n",
            "aamar.\n",
            "zohina.\n",
            "miliana.\n"
          ]
        }
      ]
    },
    {
      "cell_type": "code",
      "source": [],
      "metadata": {
        "id": "gNun48HPQihG"
      },
      "execution_count": null,
      "outputs": []
    }
  ]
}