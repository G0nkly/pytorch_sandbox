{
  "nbformat": 4,
  "nbformat_minor": 0,
  "metadata": {
    "colab": {
      "provenance": [],
      "authorship_tag": "ABX9TyMUagRSAUOOMNNeCr6zpiM3",
      "include_colab_link": true
    },
    "kernelspec": {
      "name": "python3",
      "display_name": "Python 3"
    },
    "language_info": {
      "name": "python"
    }
  },
  "cells": [
    {
      "cell_type": "markdown",
      "metadata": {
        "id": "view-in-github",
        "colab_type": "text"
      },
      "source": [
        "<a href=\"https://colab.research.google.com/github/G0nkly/pytorch_sandbox/blob/main/gpts/DIY_AK_GPT2.ipynb\" target=\"_parent\"><img src=\"https://colab.research.google.com/assets/colab-badge.svg\" alt=\"Open In Colab\"/></a>"
      ]
    },
    {
      "cell_type": "code",
      "source": [
        "import torch\n",
        "import torch.nn as nn\n",
        "import torch.functional as F"
      ],
      "metadata": {
        "id": "ij8tuG9igQYh"
      },
      "execution_count": 27,
      "outputs": []
    },
    {
      "cell_type": "code",
      "source": [
        "#####################\n",
        "# DATASET RETRIEVAL #\n",
        "#####################"
      ],
      "metadata": {
        "id": "vOE6izkkcXgR"
      },
      "execution_count": 4,
      "outputs": []
    },
    {
      "cell_type": "code",
      "execution_count": 1,
      "metadata": {
        "colab": {
          "base_uri": "https://localhost:8080/"
        },
        "id": "3M-nuBUubq5B",
        "outputId": "02d210e9-f76c-4ace-c69a-ed0bb82045e9"
      },
      "outputs": [
        {
          "output_type": "stream",
          "name": "stdout",
          "text": [
            "--2025-09-20 14:03:56--  https://raw.githubusercontent.com/karpathy/char-rnn/master/data/tinyshakespeare/input.txt\n",
            "Resolving raw.githubusercontent.com (raw.githubusercontent.com)... 185.199.108.133, 185.199.109.133, 185.199.110.133, ...\n",
            "Connecting to raw.githubusercontent.com (raw.githubusercontent.com)|185.199.108.133|:443... connected.\n",
            "HTTP request sent, awaiting response... 200 OK\n",
            "Length: 1115394 (1.1M) [text/plain]\n",
            "Saving to: ‘input.txt’\n",
            "\n",
            "input.txt           100%[===================>]   1.06M  --.-KB/s    in 0.05s   \n",
            "\n",
            "2025-09-20 14:03:56 (22.2 MB/s) - ‘input.txt’ saved [1115394/1115394]\n",
            "\n"
          ]
        }
      ],
      "source": [
        "!wget https://raw.githubusercontent.com/karpathy/char-rnn/master/data/tinyshakespeare/input.txt"
      ]
    },
    {
      "cell_type": "code",
      "source": [
        "with open(\"input.txt\", mode=\"r\") as f:\n",
        "  text = f.read()\n",
        "\n",
        "print(text[:10])"
      ],
      "metadata": {
        "colab": {
          "base_uri": "https://localhost:8080/"
        },
        "id": "F1nI2CsZcD2U",
        "outputId": "e4765e13-b92c-4449-f704-9850fd9d2e2c"
      },
      "execution_count": 3,
      "outputs": [
        {
          "output_type": "stream",
          "name": "stdout",
          "text": [
            "First Citi\n"
          ]
        }
      ]
    },
    {
      "cell_type": "code",
      "source": [
        "###################\n",
        "# HYPERPARAMETERS #\n",
        "###################"
      ],
      "metadata": {
        "id": "pwiNVJYyiJFP"
      },
      "execution_count": 33,
      "outputs": []
    },
    {
      "cell_type": "code",
      "source": [
        "block_size = 8\n",
        "batch_size = 32\n",
        "device = \"cuda\" if torch.cuda.is_available() else \"cpu\""
      ],
      "metadata": {
        "id": "g5J-q-fMiNtP"
      },
      "execution_count": 46,
      "outputs": []
    },
    {
      "cell_type": "code",
      "source": [
        "###############################\n",
        "# TOKENIZATION AND DATALOADER #\n",
        "###############################"
      ],
      "metadata": {
        "id": "f7vKkDkbcNUu"
      },
      "execution_count": 5,
      "outputs": []
    },
    {
      "cell_type": "code",
      "source": [
        "vocab = list(sorted(set(text)))\n",
        "text_to_num = {v:k for k,v in enumerate(vocab)}\n",
        "num_to_text = {k:v for k,v in enumerate(vocab)}\n",
        "vocab_size = len(vocab)"
      ],
      "metadata": {
        "id": "E3yxlHxlcm3S"
      },
      "execution_count": 22,
      "outputs": []
    },
    {
      "cell_type": "code",
      "source": [
        "encode = lambda text: [text_to_num[t] for t in text]\n",
        "decode = lambda numbers: \"\".join([num_to_text[n] for n in numbers])"
      ],
      "metadata": {
        "id": "F6Aoo7z3dBYI"
      },
      "execution_count": 23,
      "outputs": []
    },
    {
      "cell_type": "code",
      "source": [
        "decode(encode(\"Haubi\"))"
      ],
      "metadata": {
        "colab": {
          "base_uri": "https://localhost:8080/",
          "height": 35
        },
        "id": "MwWi_kfzeds3",
        "outputId": "3265538d-461d-45a2-a1be-ef3ed8bedd75"
      },
      "execution_count": 25,
      "outputs": [
        {
          "output_type": "execute_result",
          "data": {
            "text/plain": [
              "'Haubi'"
            ],
            "application/vnd.google.colaboratory.intrinsic+json": {
              "type": "string"
            }
          },
          "metadata": {},
          "execution_count": 25
        }
      ]
    },
    {
      "cell_type": "code",
      "source": [
        "data = torch.tensor(encode(text))\n",
        "train_idx = int(0.9 * len(data))\n",
        "train = data[:train_idx]\n",
        "test = data[train_idx:]\n",
        "len(train), len(test)"
      ],
      "metadata": {
        "colab": {
          "base_uri": "https://localhost:8080/"
        },
        "id": "4_IMCrZOefWn",
        "outputId": "d1d78d97-f40c-42bd-ce3d-122f22843963"
      },
      "execution_count": 37,
      "outputs": [
        {
          "output_type": "execute_result",
          "data": {
            "text/plain": [
              "(1003854, 111540)"
            ]
          },
          "metadata": {},
          "execution_count": 37
        }
      ]
    },
    {
      "cell_type": "code",
      "source": [
        "def get_batch(dataset):\n",
        "  dataset = train if dataset == \"train\" else test\n",
        "  idx = torch.randint(0, len(train) - block_size, (batch_size,))\n",
        "  X = torch.stack([train[i:i +  block_size] for i in idx])\n",
        "  Y = torch.stack([train[i + 1: i + block_size + 1] for i in idx])\n",
        "  X, Y = X.to(device), Y.to(device)\n",
        "\n",
        "  return X, Y"
      ],
      "metadata": {
        "id": "o_6L3ABziYiV"
      },
      "execution_count": 48,
      "outputs": []
    },
    {
      "cell_type": "code",
      "source": [
        "X, Y = get_batch(\"train\")\n",
        "X[1], Y[1]"
      ],
      "metadata": {
        "colab": {
          "base_uri": "https://localhost:8080/"
        },
        "id": "nqyYIA7wjQiv",
        "outputId": "056633cc-26bc-431a-c0b6-7e6f4fb13caa"
      },
      "execution_count": 50,
      "outputs": [
        {
          "output_type": "execute_result",
          "data": {
            "text/plain": [
              "(tensor([58, 46, 47, 57,  1, 57, 59, 40]),\n",
              " tensor([46, 47, 57,  1, 57, 59, 40, 51]))"
            ]
          },
          "metadata": {},
          "execution_count": 50
        }
      ]
    },
    {
      "cell_type": "code",
      "source": [],
      "metadata": {
        "id": "9vrslYjGjvkW"
      },
      "execution_count": null,
      "outputs": []
    }
  ]
}