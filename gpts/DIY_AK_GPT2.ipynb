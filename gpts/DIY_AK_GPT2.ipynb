{
  "nbformat": 4,
  "nbformat_minor": 0,
  "metadata": {
    "colab": {
      "provenance": [],
      "authorship_tag": "ABX9TyMkzt56ZwQJTXQIkIZ4dYzn",
      "include_colab_link": true
    },
    "kernelspec": {
      "name": "python3",
      "display_name": "Python 3"
    },
    "language_info": {
      "name": "python"
    }
  },
  "cells": [
    {
      "cell_type": "markdown",
      "metadata": {
        "id": "view-in-github",
        "colab_type": "text"
      },
      "source": [
        "<a href=\"https://colab.research.google.com/github/G0nkly/pytorch_sandbox/blob/main/gpts/DIY_AK_GPT2.ipynb\" target=\"_parent\"><img src=\"https://colab.research.google.com/assets/colab-badge.svg\" alt=\"Open In Colab\"/></a>"
      ]
    },
    {
      "cell_type": "code",
      "source": [
        "##\n",
        "# LETS DO THE FOLLOWING\n",
        "# TASK I:\n",
        "# - download https://raw.githubusercontent.com/karpathy/char-rnn/master/data/tinyshakespeare/input.txt\n",
        "# - load the downloaded data, create a vocab and a tokenization\n",
        "# - split the dataset into train and test and move it into the pytorch \"world\"\n",
        "# - create a get_batch(split) function\n",
        "# - create a estimate_loss() function (for the loss on train and test)\n",
        "# - create a Bigram model with a forward(self, x, targets) and generate(self, idx, max_new_tokens) function\n",
        "# - create a train loop (with evaluation) and extract all hyperparameters into a separate space\n",
        "# - use the model on some example input\n",
        "# - common pitfalls: torch device, # of parameters, train loop + eval\n",
        "#\n",
        "# TASK II:\n",
        "# - Create a new model from the Bigram Model and add the following\n",
        "# -- Positional Encoding\n",
        "# -- A single attention head\n",
        "# -- Multiple Attention Heads in parallel\n",
        "# -- A FeedForward Layer\n",
        "# -- LayerNormas and Residual Connections\n"
      ],
      "metadata": {
        "id": "VR2z2kdmJp3U"
      },
      "execution_count": null,
      "outputs": []
    },
    {
      "cell_type": "markdown",
      "source": [
        "![transformer.webp](data:image/webp;base64,UklGRlhiAABXRUJQVlA4TExiAAAvQkKRAFWLI7dtJElRUv9/dLq6llnOETEB3F5zoM7zc7OyLrjTqohzdxrd45dYVcVpaR58wIO8MPq+6Gr2Tb2q6g57ZqqyVYoKwOkWnyOM7s6H6HBAX2XfpLnIbmmgzQ9mgkz4D0cHHGOMQxExurvpg+fBaZW/1rke9v/X280k6WFmZmZmZmZmZmZ+nvDDzMzMzMzMzMxPaJjxnPM/5557ju/5nwHfZpisB2dm1zrSxtWwl4ZS2dVQ8l8prtxYLq68DDfVg1U0TLmFNUy5y5DK8kKq5xTW0qDlhWGyhlz5FNaQl+9CqqXooVTRT7KWKbqFvYxDrhbjaim60tpLQ5GXhlw5y3gKa+lWGXQz6FTLZ5nBd2koleWFVP4WkZtUudJeDbMXUi1bilJZVxt5Gay7kGrJGnrQOtIwR15INRR5yU10ingZIkv7GybL1VL0KTJM1tXKukvVc6uhVMnSUHQLayjV46VhspYppxjMrXyX3KSyhin/IhpKFV3p2tWyF1wtDU9lXcka5odSPXyrIe8p4mrJC0GybdNOf8Z2Mv952bazIEeSpEjyqNnja/3VOhHuyczc/wnAav//8stuwszMzDDMhzcOMzMzM88cZmYaZsY9eOYMz2wYZmbmuYXnefbM/u8ntK8hnCuIynFZ2+UOzopiTv52ZFZk4kGeawi5o8IMiplG5QJ2/mHmRB4X+rvJGhUXl/V3YY7kqMisONAHXJiZOZGoGS+AE5uiqz2qsVVPuZIU3UOzRhVdYJf+vvQuXgRz6wKq6LriSk+vgFsZl+PKXBu4gcKsowoSR8VVpfK0iquYW8U3wOzOuKzaqkSXmVm2nlwU+awtR5IkRbZSfe99uP/VGEWUuDucggAAbdtIZLY927n//8nW3gi0hbYEYkge6f8E2Ln//5xtlzSttW+ubdu2bdu2bdu2bds+59r2vUdXh7l34qTee2b/f/ObnfP779i2baPKvVFvozN3bOsB2LaNyrZRZ9mdU9npJlaVzqmcyp2dyqhsp0uegu10duWW+wHEE5Tmjm27sstbnSquUjk7tlnZzg6rVCp9Vkp9gi6Vky5Vele2VaU2KjuVbdvJRH2W0eZW4XyjKt2tUqWy7VROKucJHAmSZJu2lc+2Mf9B2X7v29hFQZJt07ZVOZ79+t8q2/o2rtH/CcCjbft6yVaiE7oLut2lvara3d3dXau3711etXvXbu+Sdtvt7r6rqm13ubs3Ep1prLVqrepe57rW2lPA4bjEuITuHOmTohn5ngDu1oQwgUNWuLv70VGg4SH0HeIWunSINQM4hO46BA+djAm4Q4fMwN3dIdXMBtApdizGHTJI3bVwPxafEHe3LtwdJuDukLJ+Ee6uU1iNuzuEbimEPQLc7UGikzEDJrCwcO8Ml8jd3Z0JkHaMa58Ul0iCbNtpIzm2mCx98Ze8/5VNMzNNRWIAAG3bxP3/QYstQEhsMQWS3P5PAN36/9fdSU/r7u7u3Jvr0Xvv0bi7u9t1i7u7u1+N27W4XHfJIvdJzuW5D82vYgZdgJMxkA0+uNR0qakyAR0DUFmXWdiANiVaOTswQSbAoc6zBJUOwCJ3jZzU6AgOE7CAD6BlbIOc84yAU9PmHFvh3yF9ek46BmAQ2CD/BdjAncqtCiOkYgCrHDrtLSUnJdYzgHNLOn+wlnNXQKrbpScDoDUDuFUObWuHqvv+j3j9NKFkqswiECTZdpXIuzmz/xWifsxkyur/BNjR///c9WgDsVPZNh7btm2bB/cT28Zj27ZtazP3P3fO9Tz3g/8W0jlLSJX7ulIbtbGB1HbqVE+XKl1WkDbVvYXgVEGbU8ZorXcRJ6dM6xWozPVsIbXtZLwBVp6prD14puIKpjPPNZX2YHZPPe20tj2zBONcswPjnH6uabmXKW3bRmuzsrEBbkGnGtvT2fYGMhuwZ1agOKnSjbWHuxvWKR0GANK2otq4EUcEVDQCghJJ/yfgAkjs/8T+T+z/xP4n0s+f84ORkcf5sjGmxkyYNvNl/5AQ1j4aYT4EgzR7Nsx5ATocc2bbCOmQNtDIObEqCIYNsG4IAM6TKXPOqGc5N8hIgibOeQClm2FTYMHYAeyMHbN7FscgqyB052yN6HWyReZKGWAh2AHsgh2yB5bAVInuAGOFqJkC5YdlEWBOnCsAts92QegowA6YPFZAmjFWzAUrgFtuiaicMFpsj1oq2mUeqNMmANDyrYwiXDNAxUFYNOpsC4XDsEKMImgSWJVtiK2g7HlUbAGFg5Na2XYwbsBmSU0K58IUOHcwT3wA5FQxPwjAxtkRmBfxAFrDyIH1kDOU2H6YLhmBy90owOGZGd8arrlBSFZspwCh0+G8weYZDTgCM6clzF2S8QKoWuYJMSmWzxEBIC2P+XC7lxu0P0AbITo02X0kWzjLoA8XIL1DpdttELRfQHcUHWC8oOlkHxPGn0Yhh+aQGIFcGKikXC0itYiUEYEIREqIjAQOwHjw9vaeBil2izqRa0YdmhaSsvAXwzPtFaohwSctsDIqGwu0DQAKmCZB2mLrXWEnEPbC6wJN7MYEwDYoSjYwB+Czbw6MpECHomY4AZAK7ovkpGBtciAYQA48U++wkO1jNjCRgwA6KDXDCaAjUbKgJPY1vmdTi9JTYRPQGmiLQ7ArmgUjclksic9UeXX0TXDNgiuPuaMeiEqMtkYOxi6ZI1EIfzE8U+9UQ8r4DkvmeVhgZdjmTkvPvvMSfY4NEtSygk20+xxERHc+SeJNQ/bPsGv6BhBfgSLHTTCAFbM3sFb2CYDFEEBTYk0A8KskADf3ukBgZayEPQFQ9AFxzgYAm+OWRbux0VdfffXVsy9ME+R8AOaPDwDcrV/k8AAQs3IgE8gxK8KocAAAamVTS5oiBKBuanli1GQQ7yP7hnJTZgCDMIUBM0Z2o+CcIbCsj6SjLo1WYdSdDAB9BKll+16B0dHRd/sD4bccii2S70Pi3ywBUMGp0A5lIr+Qgs+ioB4b2witE0ZJTApJXWo5Tk1QSeFLZf0YB/RbDYCUwhY5ESQAW+WeaXIQQNMnjAq/CQBbMRJSTYF6sQOouSVuIwJA1IIwDrDV9yXbMmmJyGH7sJBnZpm63DNkWS89bxnpgTspSJZ/uTsgoMndWimwMpqUs1PagayWQWJIXhdvJdZZw1SwPQIA8uVGp44kWJPHn/SRLsIBmLp/pLUQYP0+UkZ5m0SPcueAowmSR9EwBMr4fZivCUjed/QluwDzMQNTn4DEugtd1W4EwpqR8ccJxkCY8ccC4X0YfYRy3txu7HHJnPNujTykHM35WMnKjDtqXvlq4OshWZhxB2Ft8AYg4w4oMfpMfBZK/jh9amt93qxPbb2PWHGNnojr5r5JTGvAx8wcvr6W/P6+5PcPnTub7+8xwiNENBqZt/HyepizC128/Nc3XoHEM2ksjIk9XN9qyPvKONzY4Es9Ve309p6PHyaq7en6ViNhl7rQ9yzyOaq91ezfs/jHFXVxxCBSuPCWu/55zGe+zPY3ptrVzZ0xgOFbs3nOQojV31qd9y7rW/73SdN+09VQHEmLPF9z4q0XQoRcGqvXKkTgpbZ8KVHcqbD5cmQHS/6WwXxN1P7z68/i6pO3PlLcvzXEu+n+VlNsJfRnZHfKaH8O7t8+9M7Xe6uNn3PUpRZi+J1f+aWs+lIcbpwYd+Ncrq0Qtvy1qPp04K+EguVrzfY1R9/6/xRCCM9rm/LnafNwasrjexHDxeR4j//8jtX/1e7ftNfPlO8z5nPSkEcN/TXT+5TzZy15DBwvub5v49c2+sat+toqf3TR+TEV+hrDbl3/O2/w+0y8cS+o9/sGX2oROZyV3YkmFA7u4mj9lHJ8jWX/3mxf49huQFR5710eT0E78leh+tA/t3d56pOm516Tnn1PmjYU23J/rxCRlzrV7yOMXqvvtRXC/LXZPJ6i08NZ+HN0eTil8r05qSCE+M9Rt77kx5Xvawq93yfiUguaVnCnjPdv0+al6Xpi+3YhPinp7yPOf9B9NHspxm8tw/fd+CkJUfm9L/H/15kmFA7m4qj03oQQ4uAvjtfYRcqfO+zKCJqWdafM10/TovtzM5T+HNav1evKfNLaL/W5RfTFkeHnTvn7aKpPUkEs8/937EKIPS35/7enmu+99WMS9MHNjcTmzF+6Ntuekv8+QohSn+O5xafYPKVjn+Z9NjreSIVeDzHR32v2Wrvch+/64QavVWyS+vf5lpzmSzLfErkT7SymP0ukaxH10Swiy/dc7bV2vg/VPnqFjyvP50WpryFEXvMlWu72/JUA2OP1rUbEJXR6PF++xVO6HCFE5MXR5vFUev4qyCNND6whNpoeWPE81tvfdqx7vNP02a7XVohzm3BtReTl0frxXPuljL9xB/dvH3PjHG9s1MUhBF353P50iZ3f3otqlIOv+flFM1N9m8+vfOqQeIbVw8fOYt8/nlj33lII3yQQ0dlC4bp5KCamgaqslqfV2sC/l6uY9tk7Jxgp0gIhGH2edozEGH8sAP4ORh+uOD4OTMYez8Q5T2fkwSZKHI8rRsYd+6Jlav73NkeYcQchG28AMu6AEqPPxGeRdsSSWBTaWiz9v/up2jrilTNRTf40NPPCYGLa54D7xDdupPn/luZd2v/B2MT7FNFoPCCTcdvOv4eaeLV/RzwJiWdSiEWp/+4xMOyj3YtBuV7Gfe8Kdvx7yl+GGQlk7RHiYwYBP9br7Qp28ruMDozbWLYhQOJ8atS7fKvk3SJ+wjfQy8D8PSmqcEvvg3gG+f6o9rkY659LFN/3PWpmf42tzk/EPmfsPwufFe7Z6YT0RzV6F+o57lhaPanqrScYy7Lta7biGWjUmups4sMYta9s978256f5+fHt89Vbnh+P3tL2fSejk4ogH1MUNf3ARq0TdsnY3aLtW7WK2NeX57z/tTz/Gy8bxle2e/phd95anB+j04ooXSiKmnlQw9YBhkw1gO/D++77+uLn9HKx+j5Hyv6Y+8x6Tz9s4cPoJCPqpzm6UxRV6pysz8WHj/rnx2iM07eTjS/uM2576hyfvVufs2fv/220OZeNestyT04lCvScfICnp6dnzE+XN+hTupd8V4qi/Axp3JpS/IzvA9FBe93PmLDvcXwE9hW6z1nv33duef9/NScEBlv/7zFwyZa125i1vdFobHh+6t2fyxodent/S1SjIZHo/xtqxbxfhc8IEs/QEgi0hdc1zTvdNs6rQUSnZx8zXBeH5CUxDWif79NSW7fF7bbU2s/kgrEi82Yw+twN/ATGH/X58Yw+YjnP7TL2eFrOeVMjD8e4eBk+PiaOZNzRedga4BumzJ0bdwBrgzeA0eeFakGOqFCtXRH8y4e6bwuJUuw2cnYRx/Vojp/6ug6xiYZJwTkfVyauLrR23OGZunDXk9TLcM4nRANJVHLcJOeT0Aq0gzqEjqT2SmuXWnxFddXuul0dRruv1Wq64bxEsIhUHy0F7qrjNVIX1DoOTU0JjHb0NZErPoAHdF82+sRS4JNKhtRcFojsWWjgEJ2Tibb5G3hHpUVmEjnh+/BVn5CHZm+4UXGQGUX7PQ4+KAttMyQhAUhpy4FCA7MMaKoJTfULfJum5m/2YEL5x7CIekoO+qzhAXZRMiHt61Q59oh0qEtY1MzZkI/koOyFyCCTM0dV17TnhnbIr5cuYMgFFnQKhKZtykARCVmYEl9Qo5j7pA/oJr9Ox6Mo+huBooBFJex+95+Qf7b5TyOVaibVaBZL18kf2FWObY+3GL9DWOi9KhxU/pn2y1F5lA1pmmefPFI/Y4pEu+w4BrG0SN18Eev8EFb/aEFYrHLRuLZuGUC/9ODW/t0cqNzxGh5jzYJ8A7uWhaqINIFsgbEKoETLHN82sQimGoUCxWSifn7XzDEnR4iUKlmdV0wT0Dfd3Y5+3TSkPJKiAqQJHHxWtrIriGquFIxoERinU8wDtsjVQefMbLIs8vZsMcPYk52z8D3eKUssssWfrWhIolLRtIoykqF0zKosbMW5S8+MVtktcmaVFysxtMmeQ54X7p0+CDZ5EJZuFDUktyUyVCxWfFLOkEG7cG4o89qYFh1Nc31NzaTMIguBmk6IkKMsrmkCXeZ1iO34gJ7sFxCJb4y5OXcoZX2wsb7drEUhsRBYTmmzfHMyjikXFN0UqSX2lmen0oW32KssksNnAfBBfmPcX8IijVSJTNadaT6pZQLt9Goa5fnGDTClRkek5vJBWGgte4oVgdfpEdOMFFnl3yooVxLWAqRen0V+sA3vGE6r3I3sPoruGWv1dAbvuyv2uFn67B2qu0NCrEEWm7sitKUw+AazVHimlNzSSbRAw3wd41G9M4C3FZlNGc/YPfObyoMVSipKJJTQ1ou73VKbOlIIBmoXfuPBHgufGQ4FV/PtgKcd/bva45fWVCLR4wpR0XLjhZBOggQIAjvIYMopJ6yeTPXLvzwmXq0we+nkCNAkT8fY1Chg5wI3Hzvc6JBtSoQdLReU4AJe7A35t9Qm1RWDgDqCiNaDJTTCZ0awgqvF9sFAZJ+0CZ6qQiYqyA1LI63KceQv68JgGEAB6TNthMFRYC6ljuCYdQH0ylj/DsHveN+hhZLQiv06S1E47Ht8Iw5twdL4BmAK5MsciKgmHMYkotIyfiQt+SuBsQAs6JX+bs6RLBnW2fByyEKjwbZRtfD55YqrCXdsMiUgiSGGqYagCDQecdiwVoMUsYxr99C6Bd42GWKTt7NxiREOpnJ2wANVg+xVuthVQKXCDlm/c+D4urkV3TIrF0JdfnokHWKXb8NfQKC9baJ1E2vasilX1C4baJdVvUCwZLEguM6piLduxqoRdGHVzofFqxXAgK4VxMCL4yA6/0BGyFPOWIRaGJKQ15zGZ5xObzpKthAF8hRFgLrmPWeoyimT3/T70QvniBGSMBcQNDLVs0+uyrPvfECKLiOwkqmoBRCPtpGBXWvq/OpBdq2pAbA2u5CspslxaGpKYLTjbsAXtgMzDfyFplrSvjAg8BeampmVb/KaNs7AEFWOd580OjktNVTV3f93i18f8uvf3wGZIqMp8K6WNS3Rz+/Or3+6vvqR3+pOH8T45RqaoUA+c2gWS9f6eN6GHBd/exee4BD57LoWQ+w+nB2m4qdT+q/fwqofT4PD9v2p8Jf/HKaUm7v4pbX5gSRSAz9chMajjz7agLRLFGYe/hKCIrEWMLaCtoB2QgPA8d9m0HaondnBnMomMLqHvdl7JFGPkpHMcENjC+GMYo4EM2YQDmQWLpRA3JNEJEVjJIWYpxTCfv45J3coa5PVAhTjcYA1NE+G+qSwnc+INZfSm5M/oyUeWODmy0BSSHnKeHjbtgWYQzBB6S0qLPXCC1O/UJyFf0cvvPCCnDEFrUpa058GIJ00kuJ/AHD6z4QVwlgJZ8XDI6KR1NJmSOjh4eGRl3skI8WYAyjEnLiASML6UwFIoawsjRAPA6i4ptYW6sqSKQOQVBl5kVxZQMfdOVmEHdt9mgIaNGGO+3aDpa6YtkDdqWA0F0+F8LeQEy1z7cGALa/1QoGIx1rhxrWSgfgiCifMvwdQhsWrApGCOtKkkfZ0csLVXrjDbNE0xOXcGoY5DnUjFTIfPn4F6YdWW221IsyZ4+Z4RoiF3mBe8kFvrhC3+PKkpM0GGvm562yhojWGlfTC3cFJcdovQB4epqT7xNfs3WOwm2sshfpzpz6tAHf6uzpzRbj47a36kw7XTl9AZ8tfkmgTC8h5WKRgFuGne0+0Ge4Y5tvl2h0tpitgj7p13t2tYLRpzljgLr21Ose42JhUY9Kdy9CwhDmrM7kw2rv4Ip58sh9HnOCOi7EA4NeTBsuHY1sBUiq7GkmVqhoN6hi6NEM+3OTf8lYBLGsCpbfWJoCqtqTaAES6hFzoDefTFrTCDSClcs+Hcx8ONJhaPBL8eDQnLZ7IHk0cI0V4QH+uflEvjmNl9L6MofTWCuYY2EWHJoD+pAN/woZTAZAzmv60h/PsDuCgRlO3RkwrujR8JHyqzpQCCfXn5IA342N6awV/GIh0cSkWADxJB3mjiYwA1nguqzs1g6RSw3hWU4bXAnsK9TAGRbAMHDn8t2MwKPhDwAkbkA620NKBDpCVIpggtXQwuGKIsas9F2xhRm2rIA+0n6xCNCtxtPgLFMBRDCPO2F39OZJVdm/MW4iFFnZoGMC90loFWTQmBdijOQEA3ADYoHYHTi9OY5+7Wlijdu8OgFN9qUIsVmHfRSq4/vrHsPujpZNKuL2L/jxOPlOUV/BVPhzopAQ+34Bf6OQzShY+pszyY5v3y57uDfrXFdcKaUEymv59cd0cC3VGTqMOtUO1puWW1kr+dtcxbYrYNpJUxlLnxwVaTiG+zQVkCQZv/iPwwrnNfUwU2H05mPeIqQAkIL5yLASL3FctHtQD4MorWXOVcCFGyX35ctcF4X7ZWRHwZOMjGKHcR7QgjIi4Ti3wRtVj3iNPboSMQvKA/QBsi63hDnfEwZH0n/XE3CrcXycLHI6hanN3OkHe3aIbwk+28Jphxcz0gJc5hmQAenUv7jU3nrZ/d9gaZ+d8AkTqBK4/mW0UkAxAq4R7/T4r3CcdinnDQ5roguP0idcISKQKKj2pLO4+E6+9Z+B+aaXwceLSASMiTSns5M54ebhnWiR8CYh/1fh0IXeF9sjtZdaUzWjUNY5CohmNuurlioXAk8GdLxz+mTRTA/Az8B0rG9DUz1WXP3BOTT3lDXstS1A93gHubfPwS9bIRF+oyrOnfEOOYBOGW93bnuBto5GQUd3ZrST1C+S34D745hQRSp7aG3wUTdi4JbVC8cCucpx/n+CFnCCcPtG5BtsR7/siEy8dpr1ZjoikNde1GNI0zz7NcwpJpHqmv7hYRWHHLJF+6aWD+UM9MsRaZ+eHBAO6FYQUByp3vMYvrcXStMvScg8BM3f0IUqSe0hgWM8ebXMkWuboxCKYahSKJGlIWj+Z2u94/64iD1+6SAjom+5uh3aTa7cOQAD+GbzCKt7nohA+W92T9s6SSYtzPtAh0L7uGX6J6asnQwbTUG9TbgQabZUn5hf3sKN9liZVx3ArRARRtjLA6+r4s7XE/RFNDr4P00iL2zN70wN9L+71VqRtsyunV3XN9GFXwDY/0LgZGtxWsFRH/26ZEDPiF9LpwplFiLG5ZEmzXN8TQ8V2nK38yGLVC09pivomikLYilLrExmD2lrk3TOpwc/YWJMVizPqAqBjkAXhQSmV2GjZxhQIILo0uEY8OIQ0obY1atTopyxGnD+TlilX/EHCWyoE6ZkxFtUgj+FhMB0zVCc3QGF4jXuJtc5Zn3sQ23ORIOxoFoXgWN6pT6FL5jgTdvnWovXvWS7IZ67T812pm786r/fD2ZvDXlVbNgm6AFzodsZDV5zkjiMETgF+oywgzegOGnWo1eWix0BZ7apZFM0MViXht/CmSeqBSkEd5sQPAiaEyAE/caqaSzzBuWO2RPtsj/ZmXLdbaqeunkEFFA395sGCo/CZAXDone5jdwW87DDY4+Upxlug+qsPpBU1oel5p8nMatTogfjLmLQqrtETYTa6dRN0jXs+ZQ7ZboED6vBF9ckAwpsFit9tdfLJL33UGXLJJCgUCoD1yrilNqG+NAg8IwJ6sIXhM4eBq8V24IT7tscvrUeTUx1+94g2eZjxrBRPfBQQCTWYoFkefM6qucyy9zcj+JrQpoXGJt2AzGunU5eCktcDz9Px/QsA5rjAdaztwETaNXu14UgR2zRl5JbayTUzq4AS0HwOQaSgTOIlEOxDJjokDblTRrqhVsg4vbxuncyyRtsWH92hRbOpxtcCNM09UJeskR+Da3hrQBuTIRlqoXTJmvcSKLcwYki3fr3ueaX2GOGVWvce2ha5j3g9fslsvJrIYYhoUEqI1tp3pB0hU43PQo2Ya6tJ1VHT/TQd8Z3avoaWfvN2JaBD/cUxUEWL5vsYAa/VJLeKyA9hMRrCdqk06+mTnmSD+URALJl+Sk39PACbAstxc8wCn0KzZOTmpYAFJ0QAKoqDWg2UBb/fHDUn9TTiT6WBp2TWQt9uCTcDkbZcZ9BUnik6Vh0iZmXw1G6l35slNPC4taQcRioaLVt8XbiVI5u5WqtQwt4GRK9zHaQNCoPTwOB/Fyx7YbpadoisETEzhW+x3KqjwE/ccalxx+6f81/RQalYr+GLwK3If1R/WJscV/mtsufBd4AQiiRMDESHiKnHdyQ3Kq0s4HKpjtmyO54sxze3XCIvlOQJwhazvPODmtu5S+XbQrhF16XIqRBsiZkXcKN0DTPcGXIcSf8gvijJG4QlZtRx+Rz08qdRxr6r0yRllxFYiahUDKE5OKF90yP5YKncoXmLRIam0ImVKAljvsoTxKZUz1UumKcwe5lDnQexRp1+aDvLx/38mXD+TKmFz3+asufPFU+pvXYGCbChu5CiZa4JOd6EQSKjRi/SJ93rlEh9vin+KbuKYxDb+Ro86+QD2cMu8jIFVzv/aXb3Q1O3aCrY/CAVrmm63ygQDtNasxBQbAUVRYsLumRZiT9GopzkUCwVBJOY1DDe5Cix69QqKF80P9Tj9Uo/ll2eQWnJvdgI2meXEj1lU2O1VJi8kh0mf6zJaGuU7FWrmpsF0TujWChuI/RihEBjbsqkedGj9PzteERmdRxTer3YUNPJ6uKIW0tLJCoF0+gz6UQ6ZQawxTVs+hZWQRKYJjSExIpK/jChObYxg8bj9ulr4pjO6Y2qLHIkd9b//PmiCstnSl3m/KdZcfmcyJQaF/+oRVBZp4Gfgmm7F2lUKh5KrcPV644l2e3EWhixwd31w33anWF6jYftIoarrGy/JcJI9coYk6xSJEhoyCaHttm/0CNzWBIj/OHCMENVIBTKhE7hOPSPqlHO71iqkLJtFwI81BbOrdRLAA+JuUogJVMpGPqhDXJePpJpLgXBxprnAb+pry46MtCB42W7wHCvaaufH2LULZdilBi1C7xMLfZ0F8Xn9sWA2MZK4LDKYvjDQqWQp+wPobYorNFxpIRmM6e/7KLW0lH5RrLwn5su8RQRdchfwjtlag4gpZXz8gDqnPYguq0qLXM8UDH1D3xglI1mOJbbOuQA6bR6K3EyA9Az8/0EP5NgI0ynTmq0INwkmBT5zae79M3wThqANDqr0DDbQvjD4mHIUzYl4nh6qVnFhMnHVxmnsfYbRuE44qkaJoLb2YVUzNeKQktkis+YQwlgStQteK2yEuAT9a/ixwZUK36OYO7yLYDy5PAWpAymEzEsLvjBG+WCYjHeJFcOdq8ZXFelVMb+J7hX9k08xVLwm+ogCVXRetpxAMH3JDPYCHxONuAP/xYfDj3/OXXN4h8SEh2XErTkuN9RuWiU3hw3wSsXS9GIt4q9XCgFWeIPmz+zNoYZOZi5ZmhjMYua3+jjKyX6WD5c1tNIexppUcciJer4KmZWzMra/yii7OCuUCjEpk12LhjhAWZRYIxs+v9sspoFdXm4Tqbxb0miP2DOUgF2Bb/vZ+tESPeMT5hTrgAFoBsBlALLiaFSUXhTIMv/aNly+2yoLGqcB/XyFoR22QVBWVh0fYrKLKWyTgutj6wXHZQkNmEPRkifKOubKMWpsEysS0TPJREZgYgUoU3KRtiAqq7245k6SdIDgXW0MzGZjdQ/6AI/S63PiuvjPxAQNsBy25Noe2KUR1SvSvDtaHxlaoAECkMgSUtJow2pjJ9bZ7fLkV2742lW49tPkDv8LL099XVq6g1gF3R9E5JtD84dO1QKdMkiai4vOrtD3BLRYe7smEadG+2XNrmCB9xxUX2a7z54AOieZHkdy5nYI0mYPL9d0lZWx3o2OHeq+oq2cFZpFMQQI+Hv3kh23XEJhFC1cOSURSZ+xUF6djlXOoO2sJs6DxjwForwRWevl2QSOnbs0Om+H1QeXU7eGnvjjLhFMLl4j5xLO9hLqDKuU8fKMvA+tAisvCsmy7hGR9S1kKhLk1vlFRVIHWnIJgk8lSrDrmKlOiOO/DsuKKpTXRlXWU5eI8YSI/75m5C1ldObRlTJbZ7e7Q1Ioqo+gdo69s/SenduncI6u7UKJnwAfTJCBwCXRra1/lR2RDZ2o64mP5inb5Wx/mFWx5CKXHSGrY6N1Nahc1QKKaFzQsKQzM/n8wCmfcT2TJ1Zgs6EhIQbstztS3UCVdf5lfWZhXWzYFw7Pgkg6gCJ6K3CU98Th/y99N3mM1fIRdgEqekMQJSC3BFzkZWUjphIxqCBN412Ddx65PwWEbWF1yED0mg3p+iJOAfrQOQEy5NbhfenKair0VjP9y33Wxsza084o4aO5USubwLzZtA9bu8Ezo1sff1J5BXVsxIFjCprNt7uGUqp0i/Kr9cRV1LmU9QZ0OHeCQzMYuunn8qu4U9ZMTTwIqLArvHlUNhml/8bNCoRMFBicq9lnXXQpWTNwobEyjpkFq1LEfLxTttvEo+K+qwg07RiMpfVqVE4yshsqM80rPsh7JlkKnqtE7SJs4Vky0SHqk7BiowE9+JRNK4HAEGg58cdkZa43wc8EYHfQG3j1jnKkAkmFDbNf8DwuRB1LK6IAwc4yYABpLyU10ASeCDSoh1d1mZxH1x49PwSMUGvLG3j7tKI1qXj+8Oj41Zx75NFvPdAqOhsxWCR1vvNqs7vV3N+X+NWfX4/+6fb7gQ5wY/SFGnpgsB/X9lzjScPNHGk368hHmS02yKUX1c7yNYGxgqmQ4cO1jAuYofa6T+zTMxfr2PU5gimKiAU0LuntdeWcdTdJSQ8VVuSoDCeCi5NYJhDyRpZTVGrFTRgMFfES/w+nOUwRzSAJs0QN7+iucWsgIkzbaKSeHYdkcfihli+Z9dxBR2jUrs4oBZMmFV4A9JLSERi15lrhgIaNOpMFcNyAsMozqNd9aUM5wpz84QvsDw/RCnp1KdDB+QUzacT3DvOz5t8uXh7CEZm3g60OmXmCHwBudwchxfiHtMqgDCP6NCMdmlR5gBbJNPpXhPWWhroPk5bLM9ydy3AFJNlcBYxijzAiMLWr0wrMaaxEZXppIRNGIwI5g2pq2NjUhwaG15Y5ARqjjsBIK6WiSpwudzxK6Q+nS/hTAm5XO6IbS03fV1sAGIeWV56OkIm7J1kSVWgmCpbW18D3teyTo/3a0gjavixTGw0JR01TKigz+ysBwyE/vZWkKWmCeX1mYKOBSVkPsyrbp9EN1BrmsCwwpPTWdv6cvrMzC5fRKTa7soqf2JFcyal8zzUIHJaMwoDYIPaDo2PgHXnAmAB7fSfmSr8BsBbRFY3MImKOhGfjMxrhzt6CK7paCAvr8cNHUEZmsC2Tv/HlBWq6LN9VOTi7SHoCmoNE3RJye3WMLQFVU4lDnL9Dcsc6ppoC1oNorWlaEAnNOBIB6q8Zj85o4CblwIX+3d4E1CP1LB9x+qKyNwFNhdEM2+nobeyoo5l8e1tEdVjPVajoFOyC731BSy8bhqMtNGFFRIFeCk9esfrrw/QCI4dq0EQ+mYZT0lPC+go6sWwwCOQoLeatPOyCsMy3yZWoqhUPKJkQBbng3gZchfV51VeZSGVDjBNRhjCg96exnBstNFGbeNGyu0BLIKW0TeL8uoESE9m2AAvyAtfmN7Wz/KGMW53BpzZMnOvtCYHsEdTikVW7ksBcCvEogiLi39xQMPaLHZntVuA/YyqXAZJt3s2eHdsbJ0c3oj16QQ8O05Jh1YN4mq5u+ek9L52iVawV1Yn+Xm1CdoDoU9HT9u38qcxsbakTMED3mlRWdrBLqsAry2C/v3X/xEqq7SyCefjhTi7aG1gZ0MLPoiawYFk6IBre8v4Rld1dkhltAdl6NxetU28ySZqDlnbRAVNvQGGVDqyrRzDOQyubEKl/TNH93qZZc0nS7e0wUa88IVF7n8qbPeLOQSlWP8XfoL8d75qpFL2PsP9cmCCT9LTjAm5XK63gOZ4mMIBRjhik39ztwUMteqjNxroorEu/QNfqUV92EBHVrJlqhiU2uktCaa1hznf6d/c5QLg7cR5QFOnmtf7qQvge6RGHXVmVdgAV26QqrJkIiVdlgKyHO6WQloh7oZTASa4Ky4JOP5Hd000Jq0mNYbW44ADG5EqyD374Vg6rpZ00i3IsADa5QOgid1WsujUaTJsge9KBqtsh4lELMwizx7flqUJXwn9BMogvDQNiUDAyhO0xYYGzcAPNyLNWyDn7iW38OcomVJEueTcRIZrzqlkTNpTCRqZD/PrafIKLIB6kg+5xeRcLZG8ibXR+fPNsb2wNynN06oykpSBtHi2jTJ2BBTahxmEpsvI5XLTnm4LM02F9sAFghkxxQtt4M6fwRoPJCPdWGVNRLdSmHkxHkcAhkuKesKABEZgjXvqCvYwQHGe472LFahYpvmNntieX+LlE7T8+6HYdYhvVSXElgGzTZ52USItkIMDHI754zAIPQ0Av94LAAIZLXCLFLRDDcQxXISHCWn/nkqykNXC+dIGBkZTpheubDTkQyKeMECTBiqs2RWADdSUZbGU+EC+MBq2fDRGyyeWsgcpwQ1KZmYKkBbCwai+IBwwHFVbStKjswX6eMtoBwNUWfOjbVNLs4MWT2i4VDes0013SxNctZYS8YQBbVBxzSCOAWw0RQVWUj2jQNgwyn/+0xz08tnO8okVBcHESL6g5QaXllcJpGajOmBA6j51BTPcwAp8GeGMLZoohOOl4M9TPMs7Q8yT/tJAgd0Z2EBPWcEeDVCUxU6sJKsCdl8xTHb97hpN9+UTK/OwAL7LjzRtDo6SQ5O9h4NiSELOw9stnG336QqsygAxrPAU+B4ZhI3cly00FJT2LEwjidKwjieuMHhAG0BFm3iggizSnCYdWKAAC9FdHUDiMDFZPhqNJtPyiZVYBSBc+EHyabB8rhw4DPNBlnqoaxCqMudXDDBYUaq6tCvQ6S6P1n112mmnP383h6vTTt/oLTrt9L62eH4cX0mew9mn1SNtNJUlNIA2slJ6bVd1SciHLfMYrwU/ylvZMND7gCVWvIhyw8Ceea6vw3tcVWr8YH3wK4dpvsiAtFDMhiDXr6mSfB64TYFUQlCFnFJ0GsOgFHImoSBOik/uxuDmtggTpEUZKRgeKC8p0DMlBxgAEMQLM68juwnZiyuUB7ENEmQMMa0C90CpRmwlM3QmYtB04dvFbdIS/C0tG9uGn1RiTBQWGwgMnYjLCvjwb0vURZ9vFl87vhJpBLuBd2Z1i/u+HBlBTNcwfkQKMc0yrsmiIEjEXdgVgvt1dd03Rxu4OtK5670+nu/bjvNdSjPUM/e2aq4CfC0EhZ5JDYQr/PLZLB6XEBZIABJyNKrdQzevshppBqZpwoskkzVjn9TwsLDD3hPD0eSC70Lfp0jGFdjPKvPH9NklbiyNZIi7tIKOik1UmmnNNFo7/RpZa+eri22kKZjmDufpB10Bt7tMQvg861Ve5VV+ztz0qZS2KVC5C4B9v59hSHgKUNteiYj003jLzCGtr8q1iL2wUuf9qHU1co9qgXZJZi/uPl12dxVERBURHMCNfFLgZfrHxEFerIHkkOuZhO5GFwBk9kyVqmV+3iZr1TVe41qzWn0ypWmkG31knW2VjJOQ8XKpDR4pGZZekxGv4u9uJhd+XN2glL0M/7ON3OPj/AObKS/EcS7CnATfZsL5bKX/kgbbrQziOdnCNAXfHMU533Ppu4Z7KuRQxLPuf8g0Yu/GxyLO+dJL310QPsqGq6yDltlF7K1Kq6q/yD/UP/vweu7hiKqIZ1vlceFQJHQWFX5D7u2MjaYXvjX+xeFLz8VdSDwcaT82foRQaxA7/cM8eSNjxKHshB0oM+BYC7KzBiTgj/aLxE6uYP61OBc46qv+YQ0keKrllMhVzgWrHdgQzbEGQMT1vVGSymKGEgG1fcB5ICUwWi4FzaD8EgLQ/817UNl4L5wyaSvftOY7qKL6I7D7jgVYHLst8wCkzTEh1szBt+bqs7euA5oag6YmAd5KU7XCioiqt9LsKxz7VhrromYDlxmiqaqqDtFUd9XFb4grvlekqVrzQlWePalvyGmPUd3bSwdr5clvQb330ykiQEY74I3U8uDArnKcfx/hhdYgn13XYkjTPPs0zs0OS3XPKCgRK1V8R5G+6fngOeWXFGuRPbdMoGSTKg40GfzSWq6LZdpaqxyJG/m2iUUw1SgUiW3MiMxSYYZrRR6u5ikF3Nzt0DpV6MLyNzFr5YRaEa0iYjBIDPU2pSXw1lZ5Yp/46E+R0irAgK4YgP5drwP7vo5TgJmqZlV2z/RmN8CCficsR4PZcpTrcNuHBR5g7HBhLCIkMBYorZsfADeIRTXnlwbGDCLlwCUsUIvJXKVYi34zljkE2jzvkfFN/lFfVHEolSHQ6MjsZYNhzluS2a5jSXTOIorZqoQlx6KacnGNZNUxZU3GOnj2GvYSe5V1eQTH2mQjQTTzzGrBq4x8PX7JfLym8GDr27OKmFa56/RskEej3NXuVbmYrpneHIOiK56YeOagZLYP2iJUCIa2UgpKrgc+SIfZZOdMYAkR54C22ZXmE52yjtU2W8LZM9Uw183dDu0U1bNUAiVLEhkOFsoKnxloHFx97QA87zDYq1oyox2uCffPSsZzpDUNl8ue6R03G926KboWj13sabdAixwdI/tkAN8nUCwmGuVRAgqFTobkKZWgpMTS1iPT3Q7tbkqDwDMioAdbGD4zghVcLbYDnnbs2x4ekWyzhMreqEkfkMU6Zo1NaoGJkanUVlBiA1CpWMf3/yBgggtc7wxMo1mD11OkSGycQOduh/Z7ZqgCisAPHXy/7Mm2wywLIGDCwXgI8qIAy8ELi7T7RQn7mx6BL5gEAbiRL7Jr1sj6efTMCDkWcBvTqpMZFAqF17qXQBl3cp5itN+44R1Z5PbokeF9at3u2jY53ra/CwuNPWFd4ADWRP9PFK+0Oh0ZtxlTQIIhUxMVN+x1CBRMU4U8ACnqbiTgZZrm2ggC2czQUFi54vF19O+WQWs24d+WXjuzqmEewH8Fwkxtf/ys3hlxGlvnADULp1QDVC+I2GSgquj1/9VysliIJvyZKqFj9qQIuKU2AK91nUEgWkNOVIgJRDYxFfpeYkTFECUk91WNfSoKEJGmqSdSzaZtVUMXqxvaV2mTI5u5apSQ16LHO3iG4xhTWRt+ISh0giJV05wqSIFIywo3L4Asj75RaREFhLqlFrkfLb+XC84BDk+mv7A7oChEBZsD+0AJDWEFaOPsE+2qPi7ho7PIhqgG2V28m2n2yescQ4vGdFZ1Rftd5X7l122X6HvhkYCiBIlIVMAng0kB58xcsdLGGJC0K1fgqYuTIcPPOTVfvC1pEV3sf1Q5nll+ISmHi9BKWKDlryYFmOfM6nhBgnalZgitgxPK8pI88C+rTaN7D/zeEzU15IAaZeCJmjoFLUmajxB4iQtaDK+rhNphSBe07LYIzYEqBq/UNaUyaXLLRPqk/4SIIa7JZPz7axSInT+kVQFyhNPoHWpg/vG1SoPj0NQDj3bcXUZgJS5gH7pkMQI13RSuZmZtcYACKSoXxTKPQQ2XyKjRi3mdEqlYHMVEw7wzioW2bGiP5wPZwy6bgsIeyFCMaD1sBoK1lllLcrNz54ZjTBfTXEuYXJ+vFPiYdEh8vZVk03q0uUofOBlyLLE6BUExqhVFN0nkV3jZ3jxXrH5eSm2c9YXh65Cz9FVmVs2psMtvnjOd+oEFYLdnRdfPpTQ4kh972Qi0RTX1LOqlF9XUqMmC6YsXWgnFiJoQAHsHuE31lIGtmFycrR33SZKKYgpnvzi2BTeHJrzHlwnWz73XmKSepIYU+pcvLbmeF0qEx94rGHYjiZcuBJ/OIDj9eJPli+vmxTGl15HAFN6Wpbx91h8Gmihesktz22t/8MtHssxZ4ThG896qPM/JQQkUIgUQg2bV0G37HR4Iqv+kiy9T6aNmUaGMRxyfHRUJAea4vl22KXEdKFvi0S5yoye721GuBClimKZXC4Ki1gWgvd1Sw2asgj/cLmRTvBZUF0czOo7ZqCvYb7gHlubZLL+xLv6zHoxaoLAWduHOALD0pZSOGMDhrZI1lbzYk2szrz6qCbYV/GLtc4Dz6c+UtAE4wPsJnM2J1/uDcYjW2QmswyW6Mt3vaJT3dJehW9MCb1MmNMy6CP6wWBjylP0s1BbtxXH4hMbYepRxpuu/wvNquIBy4QO4asKUgwIy2T7XX8yxG0N0W1XmLQ6CWomOdKTioCeHW+Cx1rlAinr9VydoBDpne6UEu5oEgY980R8rEvzNo+cud1F8UqOA+SoEh9kWwh8WDzuumWsGt1UplbX/Ee6VfRNP1eOvMP8Fkopf6441kSkimSuAAI8qHvqNmVTg6nG7fsQjhkMWhccdgsLhheE6YawBMIMUKQxLuBDZUhSGET62LyQPQxtTTDtQeqwHIJTwQZyMX32TkGNgFrZByxeCoJRKqrPEC96pWSShKj/oza4I/iYYeklT/C1nl4dGo6F63vp0e/qNx1pSgl4ZluOJ9XPJwlvS6lLpJ0XssfhzXLiRCTEhMqvCYjxHGTJmvdutnv43D1rCanfbWn7tQcnRJSpT6+QLRKjHhsqsfS3D10jKgSNUh0p6prfNQqg047DY2XOGd9E1o3sGNMibq2xeseFTBPRNLwPOLquXj7ZpjgK0zXIF6JzRMRPmLxTKKnsudMgcBQvsEXqkd8mAUW1ZUkvywJdcOqC0KFlZnzy/oE1FRyWZ24NC1ytLazj6JT4f3Dq2g701qIABpURMMDjJeFw6aQ5H+6hCJwAc6toQjq8OQKQ6yx34il6SXAyeO7+GmLwe/v9s6r54m9IBK+uQV7QJlcKQIorJvLuz1haVdWUT7JIqq3NtHRlaeDp6NQVt6W1aNt54+r4JGaCIKC3DQde0ZWC9KRwmzmZklz9CzJzLJ6otqNWNr6Sy6izRQsyQpNXhLfDBaWxTPKPsVplmHzz/vowu6ADK0AR42/5Z7q49KJdGqsgMYROmIJNVTbCFA5oFPSCL6fv26igb75/OS6Vj49qhPexrGO/RyTvdOqy7W9VZdCDlSENFxRKynH8TNNIFoQOmpjM+eMDkZGp31x4U4RPsxj7oVUxYeLtxrEyPjjWNG5h56IRMLyvK0xaVFVw7Xmy76zq36aZVTMzEW7e01TcR8GxEdfYypI5EtKU0iD7wJE1d9TTVkvYkDV2C2tA+1UgnUFWfPePWyNtbZndnPbHRLPxqHszoxgI7SkQnvNSgzI2cTUnH8LJOT06HR8N5RW0bdjboRJ9dAyv77M/+7PUb7RTlqjoAPh2rAdTZA039h9GO0H2NKvx6UrNx3+zurI2sexX4kUXJTUUdTxOGJFFJp+n7xhdRUjInNRI2gB6ZZwQjMl/D+r1l5V0LHWDfcMPk+dVno4CosLuz7hS3DPwaXVn/LMrJvCy9R9e1TdhzizqisJF1zServdfT9w3Xk572eFPn8sv6nW+Rmo53jCujUn0bnBrpHNVus9BL9WeXDYaaFmyapq6Spv7Ah2nqr9+h0QUTGlm/UhhZ2cRG4BTcOorrFFV5G1e3zgPx8LoOKow+WVa1oYYJvZPAo+OxlQB9MvdGpO0at8om1LHeqVKIv4NyJlp7G4SwX+Yqv8u2CrLs9cV0wFQv0vQrgpeTF7GfzYlfjrK73OXb2U4/OP8gIlpJhhuVuPf522X4T8515o0vUiJaIcDnyXO7x2/k6B+3tnLNZ4eottD6xCx8gLIm/oSURsGY7FaW9W4CEOPRURwNvfHrWMqowmzhkNDVs0Eh4xtpDjpmJrtW5wUj3Prpl4V3iZABFlvfjPySlZ83j0bJSEcoAsyt9+5ESseo/k0iYoCltkch/TMvq5PSsIF9cFmljKqsBeyyBuX1iyTcGx5SuBR/hJ2SlNIqqniFtImbTk1woPR0uHcCtAp7SVH/X55ARDr5xjd62/HAWwyrzLFS7eTjC76IZ126Ellsfd5bSgZ2XbCsWjoOSpJiqvhUzOAozGyQ4lRYJtYloueSiIxARIrQJmUjbEB1QfPdrGUdcIkD4vb/5OPVr2EY3UgZnTka58Jyy7Ll9X8q0QYUVkwU18rkOaM8vJZUuZoJvz6hUYYV/t81rS+t06ZvgfnuPq+2c3l5e1DlcaCMdDrWFZjUaDo6km1PjPKI6lUJcfMVEHUsUubPlzJfq0YIRGxAppYXycHbS/4/OXnzbRhGNlpCZY7mNDnVZ6ewKC6VSVuBjurOv//7v3814xdfH9ayvpE3cDFfTD5eXSqFcjINLNyxsM/TMS2faErEfje1TARWMsE+6Bl8T8twAOVNeIsXnV1Wpa2vjz7vBxychLkNcvVN4lTTyZqeze8hEGEJmTOKno71oiKHDcAnFRIlPe/Z2GW9O/VB/NsOTIJ6JraDXRGn2zKqOb+vnXlEwxq7i7u4i5dacntIw68mQc+ZM+czIueyvTOa2GnvLA/QOQsrZ1sEDXQGpUS+KQ2ds4lPss1Ln0Fb2E2dBwx4C0X4ooOS5J+/iT5RPqi05cmcM2fOHPu4L77d2zvdlHScLm/83z4drWRCKzignomtYaeQqOvBBmbOH9j6Ux8My6KkymEDpKTzL2SMqCwmr7MOHEd8TtqZ/wbwM58RtwKdlt4c8REf8RFHjOVKKsh0Un2TrKjS665sXUdQQN8klIh/x3VM7Awb64G62HmKcEU8sePfCh3L+SxF7iM+4iM+4gZBL7I923uAujb81m/9lqENe3Mo61/c6OlW19EsmC/bcxyETHjB6gNtSjLtva5tIi/5/+Tmzb1TaAt7TJCUxek51hW0D+qPKDXvcVBa5tdtFfbVjAca7FaZnE9BWcnF27hKFVLf+pImzh1T2fl8HsC0j9iekbMpeZs7d+7cHlnMOpkaJlq4UFWdpzip40MFtEnYVB9gYt021t+4wiTqmbC68S/l1kk+3suoLJGOji5J+k0oX7e4pWX9i+Kv5N1CB1hquyc2Gt8m7InJ3TCYBUnJ+Oq4IZlnoKOCTkpEm5H1YUlkYhfzZtAOdhPr4Z6X2e6YSMbAHvRaxgG7+TUDNvw6hAbOnuL20rChhQWLbK+aYJ65d/fMJZt5B4EDHgULauqYRtQqOo4tq423tAxH0EDMquucQyOtQX2ZFKdGO6VNQmfuLXSJWx5RMopqbN2t0yvLXLJmkfWl97YpLo0cd3pRVzJhYmMd06ZEaOztEuttH7TE8Myz8h49v7QO++FJFBDFoXAF+CBajtxnzU+kosO1kRXIfcn8yF2b7obCorSBHVY1YZH1VRMoz6mqjErBiPAbKK8sC4ga3yoqoa1tQgoycvBqsfvaKocj2Pn50CvJzKK0SuoKmgcj5SZfQyLuY56dr85Ir4Qb6xUlbUEdTzreioo6PPM8sngheuLisqRjPQdr97GK8fEbGlCaF54EXf+y6mLHqdF5G4bom+UWTv+7RQX808omglOhe5HrdHcHhUU9ze0O1+iKOHYcKg2eUN1x9+28zs0r4NZJft7hcqrrU6595eMdtqfbrrCLz7h/YBdVVAbnTq5Krr+orApUUnlcWdUcj5eTN20qOj07YUJjBVReaHvm9k88uyjLkFndeSY1UkqVtKIWkXVsZdx2R1CGNh7wjkbVdYNKC6p00Ns799ZNtffthHcsJEvC17wjjpX+1iompBM1O2/DMldWdkGbuaBHxhPDw2ahA8Y2VlIWuYImzEwnnJFOzWFqXctwsBcj6wmbYGARWdk1sePACdtFVUpl547CBvjcoYXj1NY09ApC0A7UCuszsnDOPBmZswcVkYVdv6UtwKt7o/tKQadDZaxf18T0/qebW2Z9hmTBmLouTx4lFZed9zs0tr6ht3g0kkflba9vAZ16J5lVlIXIU9ScbFJClrSi5RJ9SOGMrbRFMIYmbnzSfZL0bCSvSttafzfoO6C5DS6Vcfxfnlq0fKIOzALdmibcRzbRPtF8d2qHl0pPr+ABeOJHumdmnh5czgnQI0pDGwEz59rCfgi1zAkkp1cYwn39M+z2b/+ySbCAtbemu7+5ijoBydkVgkg5OdS1mCxs8k7aqPkd32k6Oj0GCp3LgCIKiuo54EtloNeQxNlXKja8O+qb5BLrO7xw9rb09rzUBKRp6T3vnsvI7FS4P6ILcqiMs05Bxt4i5rLQ6X+T3ep2kZpdI8uqbtjeVtd344033vzp1y8JWRa7vaGEhAQD0WzCfghXAhjw9kHSisj0i8CoIirqdHNXBaQULRiRcrrR7cFNjSorD/t58DnnyJlX0idg6/Ul9U2yrEyAPutBiIImfDf4CKfCrb0xdw44hDom3vqK2xs9v7C6c/ag1Q2FZH2aqOM7a1bvKAvIKssuHCbWAS6I3RDLUd3GQwU6gno3ZXZGx5pS9ISERcj8N1k24fiThISEhHWD6ZtkPR2B+w1EJK2yiT2TBCY1VpTXW09LbsB413ag1QwenaSkYz7wUkm2+5LdkeRiHYZlXkFnZiYh443Zay7enkGGB5KcrEsMLiIr7+ETcBV/tXNlZhv0VQHxS63PbBk9kqylI+CK+FTkMLK2WTBAnyzLq1M90dCbdb1F0si594oYy6He7637I0rNRj6VsA/610uZMzPvlruna5QNdwPkkvnJ43Pzdr/hcymvklcj3HM6dpUyMQMbjbylbxIWzgK5VQ4ZSCmlZdekRgFqmmgTdNCA6cjUMr6x7fMTj+TWMVHHkl+0D5fxAr+m5SPu6mL02fx0wseSjbf+WaonFHlG4zt5Y+T/9PEd74JY1AHOjRaWBUmnyorJfM+lVblfX4SzHz+TLPSMMg0dBXXKzPq+GZq5mXVAYZ2CB4qe3zKqpBbVe0BDEybWlXawp2WjoEq/vY53vFRR3oBGsHdKSu0xFeoARc5zHyhoAOTfvzuiC0fh5hOmeJH2FXg/cW7n6I1OWsnSHa+lRYtAvjvfNFLJe5/hfjkwUXYiN4SLVX0N3bub3fMpjn74CqVFwQRD/OqHNO8wo1r4D36gFWV0cWDSw99iOvf/j9M//0+3pEX5YIAnk5e+TJ5pXs8nL4DMIGHmkBi4EdfFU2NHppEWUWbxHGhij5RGFIgzomYVgJXJGWtqVoyzrvixYpyd4iwrk3PFdmxIrehPRVmOWJmYg2LDivHSIsSKdRxYKS0ycyZJxZWKp4gUYvzkUCHGvw4IHUmoHiq68F2OIbb/X/EHiG21eEe7iK0Am5NbejajsKiTXDCKRIYSjbvEwPUYJRKkJEYZgVRL8JUZ4GpsXLhZSAA2lWb3iCW8OcEH0CMFTA7omYzkq2yY1OJPwc9SIPaaBHitGmCSaAGeaDRMEgvgqe7A2dEAnIFJtgWgsUzaDqD5Qm8NngvAclg8zlsBGB+L6XtWALKEs/AEICoxmROAMGEStgBEjdBrhFeaHlwGhpZBznmZvyChiigsMisfauYIsIIrBVyN4+V+Am/Ksl0MyubesQhxV6yciME3HmIJf/AEB4i8XFJHvIXIqmiqNgb2oGBBadyhpjBobCFBy+7wjzq4+nXplodh3mXbGRjoKXEhJagWBg8rAy+FvdrmDCKPyFbwk1KMmN4OtRPT0EE0RVKqFZHD2i6GS0yNMU0F+Cw9sRVgFD4IUPvlqI1wW9/gjyYNV7VzVCTuFDIPCb9neyusuyx4GU0SZUCaRRrAmYUoeEbeUcCJLsecEhFIK/6oBLwBi4hR9xr6s6WeOt73bKkH1Mb5wzB2BZqAehIEMISW7DLGZ0sdpzC1Z0t9g6zZELC6QZEMQCcKG3C73exQQBqBHheffgJeF5E4oyFZgHT9jQW/65KWUlvAw7KUeiLvyKjuQFKrH1H5lXim7iWWUvcdm7aU2iuCJGmeTWooyIioZtNLPmJ0WS91LcSQByIFesm/b6T76aX+O6mnOGMYUOFnxCEfDOMuJBHiW/REA1KN+Y/4C/GUCMgFBF1CJxsQIDoBsGREUUKnahZh2Kvzn84/IWMTOhR9IYCydu7LPvAIOyZ2PjAKhKw71Hexv9I/r10xkoGUTlE82HCShO9QKqgIVgyfya6szZ7Nic8Daagi/6X6RpuTvRzByGmU/OaJhXeI4WTm8M0bVfSw4wAtC57w4PiUfJyKLwJpMH/4qdxHjLker0VYG7cABFN1kNKHzF1bMpyk5quSALpDCvgEOOdi6eLPJNFF8AXJfXA96yQYDSn/FnxwMpzsAj4ThBDZ1G6VeXHskosfXZGXlCg2bpyc0l207Km8+sXw0uIDpOKPzswbw3Bq84rbiVGJ8xVxsWXDX0aSiOYKX6bcReLR8aqAVN+SxkB+kwEFy4DPToMzy9qtaYtXhdQHJm4s7DDuYUSkEQ9RkxVfFzCk2gfgHTfL7olPBIfGaPnwSfEx9NTfmK14CcmggmrcIl0UmFU/elXF4/YCNC/NCv67P65essNsw4scFhhWaa3AEBN1mE2/fUHifJPALc+dacMHeJdb1zu1WE2Ej4eDAEMrHdECl+xAaXFmZs1vHuFmX4bX3gbkJpBH5HxivPS2Zde0ZsdES85Z/SvAuz1ggD0EM4XzuJ9/izModz9O+JT0Nto73XTEOZ8DRwBuTXtmKnDO04+HIlpbm4+NIu57nOGcF9k0DAZZKrkY8nO9m2npHBCCFpJvzp684rSXcx7nvr0myBK5chmGW2YOc/8p+LYI0966VoL2OuzauzL4mrG7bxvB0F+cB0Pfrw2+GSDyJv4azZuZ0apVqzmyFUi9drlk4DAwsAVCmjsnUhsN1LMyxlyLo0/1XAWAFzOB1oAb+JxJE/Y90mf2NGnmyeq5cpeolsQBAKY3IkAOMCmxhkpQ+mImKKUoFymRQp0K5AplmjkYZwoZF2c66Q7YIRtgKXTklWbvkEfFHhAQEBBFGqAoZWbSHEWRh0bOQZS30JWvguEk2LJvnu0zG3YNDsdycaySoT9tOlaP4DsXtkmDOREMSrE9Vs6TL4mVQrjzNOnK91NSA85CcRd3WoJS8nukkPrxiW7Ms/FKGNW7x0faKkGkiZtcOJd2aZe2IHo6FOpJGYA9EQ5kdmqOVfTQ0B0tDWydKyLgYVYD7mj3ALasrPr9Ai9mAqtH5hkhAeYZIFGGogDVOiJU3wrYaqh3AEYu7gfBUQsl/etSotl5cswczXs7adHHueHUFUKGvgibBoIA4M4rMrUoC9DAE4hhHq+h07Ro0SLr4nHQjLEAoKkib452YICNhDR4cgB49T1AGewAsjWh6gRYHorU+Zvp24JBTbrnkG1DiWAUUafYwzihlOwFpsDLpCLNUKsoUMqBI0IBSGWLXpMZdEgoy4ro9s7JjwGW7VB0tzDAXyq4WbZMAIC0eYpeueSBqRcqy7IMSNOHAODF0jpap94ySWaBkMBYhb1xRTR1JABXtG9gKn/tC6CUWn75sxHU3yUhb5Lo5ThTnW/NIFRq0PyJmEZYFxZ2puex+I9UBZS9ilzQ2yxloCzX3u2dU2YnDk2LO7eV7VHGmZbDzrBULhGKksfzsZSeL+RxSeKAUpZVyYLxAVjaY6awCfl9ngrDDEgplDnqvZWL0WBqOIZ+B4ImB8wUmqhlmSENQ6FubIZakhpHttvtsff7DvRyzwTAUUK2NgOQcZ9IGYAGnkBmJ7WKAvCZnh1nGhjAfVwTPm0AgHJOjw8NGw/AkZU1lQGkDhNS7Y4Unqigqph3B2DLpMazV3TE5L3Jfq6mtKwGVZofpAnHu/IyiSqsVg0T1LcWLkTCjv9pP+2nXR4tCcNGAUAbnJa90T27CBASUAkA5CR0plgAGW8YBHLW7cjH44OwkRxgT/S6OOlFEBz9WBX6CCNWj6TeKhOV7YRUuSpIkK6mJ6sga+6rqeU1arZjXnuOTLdMgpA2d5h6nt8y5LNOWbVnyStRIsma6MIOTQaM/jjCgqD81LLCPZeGKV3SN7oaSUj1S1OgDNKZ4gH0esPwnBslRnmrCh6YppIK3HmhR8reK4FdRCf3e3GVYb5lIPablKc/QrB182kXzbqRQXkZgCP748krXfsKMVdr4HweAceMCynlAwDsnvOflASh0K9Wh0a71jXo61lM8RusyRBN+ozlTJ+NaSJt7ptzJhvuxe73cuNJGKo1j9JIpVCF1vAlAqSqTysk9FsqyElIBauXHEB2j4uOpJ54VYLygvlfTliZEFmNbgvvD8bWqvtlzK/C5yC9ZTvpYCP3NNitde9Qi4bvrZvmWXPe8Elb5f60NmH0yW9XI8maArCVkG8uGwCfQkp8FShzKIDvc1KocPRDgK2IgcPMhyeovueHkgXJ+X2FuepcNWNstVoyjLGDZ+Qs+ir5Gy2Ep7F+mnPRLvUTCvuoE8CbT4K/SQDIs0IxkyCcIMSpCfZi6ex+LVJCqrAznEE3WVIh1RMVpMxOBHVZ0JlqcFkVtWhp8b20420Qh0GjJo+BQGmwBEHoJUJY00WKqWJtpGM9FdXZ2nQ+YmmHtDO5nQxpUWNg3osJyh3Fa5Eg1tktC4iXVIBu4z6+tQuA1Guebx0FCgIoNojSEmCrlufIDIhnAGxWyKXzJDBbcgoyZLxcJhKCR181wm53iCaCUzyOkCMPRnqJSt0TY+zwGTdWxthi9efU6Ke2P1S78mcUhMD7FWCo7jcFBHf/54R9E65mleVUf/31d4Y/3V9//c0/sfmZXjJ//l8l4HbGJqcgah4IoU/bTNiT/yyD133UEPaCxYU9+sRpIbhOqsjdkZDwREkTEhJOEJaJ9FK+ZkwA+7FVjyz05XikoNuoLQkqE0KGrpvrSFjN9JIQ1tcVQfDtth3GGPthd8sYY5tRj/rpW7/0LlOjRo2GcdOkRo0a+9NCwtU0C4rysgg6rZdswKAeRlVaxq1sz4778HSDoDiLIHn0VEJ65RmFneA3uVTZZqFrgl6utlC1mxFGGGGbGeAXjDDCCOecPzzQmYQm5VGC7HEuQSfwchgy6rkkRXIrSyE8eZAbsPxVBGHgHGZV1jfiUcIo++Ilq7ghb0k/VX4qC2MsYXQrY+w8k8MfQhmPFER18gl69ZeBISOJA6otLkmBrGZSYC67ErJayVIISslsJwWLiwlC13crjHrOGqzMMyv3JmGwdNfJYcP2mkdkoZfUVzz0M6u4pQjYkLoiQchwTYJwu8OSAEeOfgSYXEptbmaG5PBw+Rzvmfps2dswQHyLG36cHssAD1rueV69lBOwlHumAktgfxTCH+kc//JhnuhjvmUlCex2h0v16G8yvBDfMRMqCI6LC3mkMmZXk6696jf/mFDXdr+jLyipL2vRutakVujrfG90EhXHmGCaQPjT9iAsoPa3VkX/km8EATc56LUrlnWzXOi1qIep8G3EKlJ8Jk/AVJhkbzvgTMIqZycgy/GJasUAbFEUwqvXxKN3TMC7Pzm6jwDofnsWQvUfnQSB9kGpAeLiHupMYVfUmawWEPo8J73Jxv7Q35S3p7eXzzWXbDufROR6JqhZprZTEB4mpAApcYzIeXUhQdDOXHCGepgmx+/Lli1btqosvjcCKIXjQfMCQHV2vXUB4ExB8SMBwCspuw0AD3pHrJgEwFMQYkLyCQMgm0wMMc3LQqMBVaHX6XWHnEmud621Is0gGR4U6rKfNZowuuU6n/xNwqOCNkFfhbOehjRAQexvNv5MMgB7y3QpCaCgiLfyIwCmh8nTOeWCxQqrJeCaImIIYBkbH5n5kUcliQNK4xcJAJoejgZ7RQEY3KKQLlXk1SgEKEsL4OY+gvzABMAsDM/0UEHqKEYNvWxIM6+eSdJrgNz7Cw5/wydgUD/ZQ9kFAVGpc3Eekvma6jZPCQ1IWQN9bR+zR0KZkYLs9zEoIW/buAKutygQP2oWU9nuB0OvRXHPj57XHN9lTcizJp/pNgLP7vEZStk951NWy6rwgmV9Uyv4K/NXImVVCFeDcn6vGPUCCteSoVE5B0+l5wD6rgRNssxdkzCA2UNlYrWyk6A+qipapSLJATp+PCvmAOhfxgZlJ4Ba+KNcLIAnH0DJTyWg7hPhmN8HQM3RPUyn/V8AqGv72tkdAChNqP00BOB1haGQL4BjqgEaJf99kDDqPcewMjSbj/NWei8yLkYjiB/g1UkNRfpFuawQlKy6oiQNTQDuNyjL9QIA0WgPCgCf6XIdWQmArYiS7wMgoBRmjBOA1JeHpaKnj6JFFWU/AeHIX5Ksp3GBHicn4feVJ0QlvThhAV+8tP9ol6wOqHz6y+6cVFH1rr2uiKBZKs45r67vSvH/pRmcoPZopBYNl98XwoKgVGqo8OeCal6EAtB/ZQXfUewDAQB9LyX5AISWQgoZAMvgYTnp71Pau/M+FP6IBOmPFOo6pwxE3e8HzV6UAXTMHr7QFdkLIGNalLcCCLo5gJ0gITyqhTqA+R1Chm5aJtTpdPleRGavodJC07FeXtzrevWci/P0Ts3gBAP8apMarhY5Tgu3qftICiZbvw+qUHpgWzEFWxFhpYIBmDryqLjTlDKAkoHqAdZ0zR4qjnNep7eLiIfm83TeG3+lvh36LS/nvLGGEH7qIt06BFgGzD+sC24kJXEA9FNj/QYlgL5lLJr5A3jyOsJ6vVsCfYfBDAoX8ewSTJcdowkAksnf3yzDTQnFeTBIr7HBQnjuFKQhsLfqok7HCbEW2VT9dS8uf8VkBLWu9wUVn1wVSnZS3XlHj0RUtX9zVPQxCcGjxtgyvns9YXRNSfsc8ZUqGhSo9P1Gv0MY3LGCfu/8YaL5FaXLoilAqvIOXXDenMedfbiSDOoHeyr1p+QK8TJgvabLTUkAxTRuXJkA2Mt3G0nJYTHDbALA0gJgMkmFDQruX/8RsvEGIM0BIIuPf4CNoDNbvhKA0/4XiElQolfNKd4koMoD+xt3gNUsW8UBIw+DKTtBHq0tnL7/PNr6rc3aReEfM4+21uLZ82hreT8yoDlbcbmc/sm1iZ5jAU0cF0gGM2rBxzNgL+Q0JXcXNtc0x3GvYC1KBQQ1XQRzNO9spsXxyzWYhfLc29ys5EcOH+BgZjGJ/z0tKoG4ltg5NmkNvMrFeAYylMXwyQ078EHy6JOtcjk+nBblR0G7Jq2Jd7sTTy8ZziY/yo3yHyWu0qS1lbSs0N0Y5NIjsM5Z5n3psvudRARbUaZJq7ogaaYygkJSmffUixCd/cg1KHSXQRNpgaRd/BBxfKHodBmh/ZfDpOg3ICl5ADKYMLTArLvIIYoUvboaYjJHwDGIzsi2xZm6HOwDF1lCAV2SZ0BmLZoIRUwH7kFEqQygbNLKvgEom3Ky7HMekRkQimVbJL06/mk2F40hMu0lmDXgD+VSpF0STEAnpNDR0qsus1qVTokh+Y76/wXAc6gUU/3W1+OQn4Qocp2TTyZciQWWvPwKoki7jT/ZjqmhJKsywF9Newj6yDoekkxuE8BmKpX82gYeIVn+k8/MmhNleFjIwYRT+Opi/DXAWFBgC8caMboYZT9EkYaNonfwngs93spCAMSTHaW6Bl8oOk0ZYFEbgVDPrVZC6df8Fg7cagP4QZ0NQoUUe/0RoohlB/BfCjneylcGFP9u1CqzZNyWE/IOOhlki0uAToeAmUjjDgIKqGY8gTCkTKH8SVZdqtj1k7UELIaEIhCg3ZdaIVXyatIRXebLq6D1bjisBjOC58xrhm8UlS4T0EFnL3oG6KuVPQEyrC148OuaH9fC+AMO7DQp8Y3CRiiBiEzcAUizVP94K2YtccVxYCdYwSuy6Mt3ppOXkUZttwHgS9BJd7pWXmUC/RYa815Q7CO2A/dgRfj/kTUaZ3E73rWw7FlOMqgD+4WdRJKW3cA3ToHjSj6QWsllZM17K84T87EEk/hR8FKwOVDkptrq7n1EFLGZCki/dEVlWopcOTfoo9BVJoC8R1T22q8DPCO6uJHe14sdFPvkvYp/DhyfZd1CUj8D9CKxGEyVdVHw4XwnQ/FDxq3uTimtO7TywJNSiooShzhl2cIo2ZSIU6rLWalb//6CFxZi0pJGpnDk0VrQOYlEBJRecvpD5d7LoUWfLm0DrChLgUst04KCx6ZC3rCix4DjiA+2o38W+Uw00USGMrXWnEgL1Ku2O4GKTdh213qVR5dD4Yc1Jppooomegax5DjueFrzMmEuoaddbk4kwYxHi1QhW0I3IEk36K0ZhcYSSzU6UW4Vh51UAObbQ7LwK2F3CKQKXT0n9evLxhr7A7l5e0fA0L3vtrRXwjNgiqnjG5nLCZYJghd3dOiKny77DspehY8dTxRKRhC6Q9xyezaAEvh6KG0Eq/3mR+OLDX3xrHwugq4wpH6sPIMMSkuVQz3iGiJBHWXGcJR+xGXkHrqKPuEjOzGZeE/uBRuMi5SpR0enYnLMvV8BNYviMSu6zJ1dyGjMgzGDSU695z23YuLW712RZ72DP2+4dNoNLkFMd12cRpBigKW9vcsVh5Af2U/grmrGCZn5R0KJRU5ZN53FjBkCBCuNW6ol/mnSCFZdYXpd2mrNf3iPwC92ARY2Cll7tPGrS9tZww18wZrhLAhdbNeZsj//CTiCpDeAMtNgWBSzFHOdudatbJZ7OWee/9ahY3b+HozBh6W5myqUED1kXr8L35hw98ItCjTcLjECvMZuBqgkrzwbtd3UbUpdTsbsGjO9corMXpJwq+yUn6jLd6la3ulWLFQ5j7XXgBgRE0HzVVqdT87/zwoDWAqV5VxYd2unvcnujzUEDGXMpzHmpFojJqn5I1fJIMgf/qL3XxtYDBYamfeJAqCGjmnvuuVc8pw0PMPYAjHu5j83uDMSQXUMxhXFfCz1tbU/ZwvZi6SdgFYN93wfIr/qWCoADJkKPN2bbG9C3nOhu7rnnnvuiHDzzGvziEQm026nVdMzZAEVTTrqpIUtbW7t3K9FVjgfs4gbntOgAioZMUh8H2hhaajSLdhpgl+JAXIb0Oe14gKmHUIcdkGBxnIQlVqPO2KlPfeqHjZt9DxzOIK7kFgA/OqZU4Ewqv96Mq7ACni0nXoDgwbOvwS8elQjYdACa9SVmTbpOfepTnzqaOFUQBOTabpBdWQoAmnCkfitwuA5ewJBihVsIaLNTx7Is5jzgvW/ZNPQA2I0MXmYEJBH1GTIU0J3GohO4XuUPuVXH41PwqaatPoxZz4AU8xDV5W0HQAT6BkP3OhusV9M/WX7lPAUlr+uLA5JSSKavr/9d2S7SXv8Aj27KeiDdBcd0bm3CNU36/diJhM5kRgYcOVDW7Xi/N+aWJcXykzbeOxrsBY05cmJdfenTyNS04TrJvB3iMr3hN3OXPTDdsu6ACjuhIQ/wbZueJYeT/+sUGRcHURMmWXZXyVvWFfMC2QhEgdBEsyXdOTnNToDOOuAYhT9Jp1Tr1vq2Up5R+gUOG6KxkXKb9Qsp12PYS3X8Sr58DlWrzfF85jJtXQ5MXuCcYZsB6JSq+Iyvt9O10Rur/6KHXNjz7QU330EP3tAL7Dv+7DThSVzhPHOQWgo+/EE7KafgDaC3S+upgFl2fVBKXuPYA2PsOxSl2vNh6PQFJFs2LnEVPvYvaQ3YYvNCMaD01UQddXB5sw5yofRd+jWGPOMa+xZzDuAwtrytxLyTZCqz0Wr7pnag0SUF5esmM+xAB6ML4Jq5DiUyJ9eyU+oEfpTjqIDMu97OgHbOeMV9AN3QTX/GtMd4v1rUG1/UXF9fJ3TjZS/GK54/hjJ6Iu413UkzmaFzZzzThAd4epcWJXD+P59g3jN07jTGON8mMJhLSyCO6+Jc+wZaTC9Ym+viMbN2yHAGOhL7QWv3wrpporUHRoJ2u3bDttDajp9Ha3dLFMTJg7NUoPfpss8diLxfKLdT7x0Snk7kcabnj6P3lgwvzMSdPJyPTHrOFMf5PhF1qDvO+T7Qc+k458cjMafJ+Bk3vKdO9BudvQueq45LzNklzuL8MJQ9T/RauxyQncAvuQNSijlAcR4MfX/l/DtA5E3sv8T+q38Ma+JuzwW9d9q73TFiT2L/0nlhYeLPHTVxC/nw6DzaBYP000O9b3LeCDotacSXxI01c3NuEb5GdF7VQlYC6zazJKSWpJGeJdGDiALagwFEFBouASACQESxq4UIFBrs0FmHw5tBcS0cE0QKRJTGQSA4gs8NAogUiKiWgwApvH2YeFF+nVz79ilQIxxb5XKXwVb4TJX2CtCVBcDW2CkZOz71l7dakpZ/8mafSVe9ezUodY5MZe8ZgNzQ9OVztcbOkTNvnTbJmPoXMSRcLgB5ENOXz7UqSqPmEGXvuReXeNGVDFS5XkQ0dADsNFZVCO8G2DB7AnBkZTpqVB9lKOxUAdSSIBcpDWCLbAJVQM8SMHEk4MhPK168IABXC0R0DwDlt4caj/MDJUAmHVXBpcLbrMYADIAjgzqD7B0CSeLF9wFgLYeIVAp1f6Aa8ruffai3MkFHl4tVRiNb1MgKxZ8lqRHbSXeXlpHEj2tS2C+vrqyxMoB8Nkk9m456wRtWFv7FocSmYkgFykVKbMWUgaRDMOK1k+gxKAH4Jg+K4qEAbjIVwt8d+HsygM9RV0c5h7Qr0Hctjb9ZFcBBaAj0I0H28gHgMziOvDYA1C0GdCnB/hEAsJ7EjxnyPER3Xp+h22MSdZ4mFQLKSVS1X4IljV1H4eYaJthYzH+JJjingwWO620IVPIjubOLs0Eean/AWcICx/UOAgx/aIimQQyRbylx4uaOAOpWBuAogIgdktDxF/omFoD1P1Rg6SMSA3qeV7ezdGd6h+VSHTo7tA3q9/JENQlA74MGvrutKOC3HhLkhlE5/9fFHQAArzRS4LvbigJ+fQ4D66U90YjrwgGxM+IzIRFRbgjx1iikeniiAist4lwYy8lVkKzCQYDk0ARJQiQSIJEA8hfpDktRFZaulJG3AwXLNcYtS2qZblJIYGUB6yOlMnpB4Gmt4tyj29RCFcK1JwcWi8VNslg0URGIf3ZRznqTAJ229JFlWLqi2yi9fwiIooByvQb4lPO1AtKRnzwLAbAPs2tCVdhkcklOBjgTypocNjRNaS1b1gU5eJL42CiNLMa97i2DhrrlqDfxtlm6S70vfE7aB5G36UF72RhHTuilQEHYe3vQ8D/y5QkHo0tP/2wDK7umxiMNHx5YGVXKefrnvN4INB3lpGkLevvZ8+VIiMeATcS4d0iOqEEB5OndEhIMUBIbeTtQKBzo2gLcZBmA3rIJq2cDKKeKDJWBwMpSdw6Aikeg6U0S0PuXB1UEcBsDinHDh0IeOcFBgCUJAHRpFiQnIQCerRNzvwBQUMW7Q6Hu9QJA4wg0LQsg6Aspi3kkMa5HKxDcfy+DpyNLVwrDCrP0FR0dHf2Fuu+8G4VQFa+rpExVhWoRaJoSQHUVyX+RGFfJDABkfYePoBGHN0Gx4A9UiFGj+qMrDKhW3UsT436RP8qmA+Dfh0ZQwQwg3w3LGRiAPtWgf5cWcNYQVBjA3xxYjEtVDZZip2XmX/Sg6v2iiCh4DhRPvvVtqPZBTVKq6BGFwafn7i/ifosKGrqkBceMFOPsvxowpevmmH5gZRQKSrgNQhYZcKTMAvj02809WwCEXVHVSFZZSYALgJ8NIJOTWraEvxOAIwZwVQmlUSUxDu9ggjuVAgmgnxoG4cHfAaJ8eL/uBX2/ZYC5wZckNX6fU5xDuLshz+1QoAlBOAUgsf8T+78BRAM=)"
      ],
      "metadata": {
        "id": "PX139YZjeJTv"
      }
    },
    {
      "cell_type": "code",
      "source": [
        "import torch\n",
        "import torch.nn as nn\n",
        "import torch.nn.functional as F"
      ],
      "metadata": {
        "id": "ij8tuG9igQYh"
      },
      "execution_count": null,
      "outputs": []
    },
    {
      "cell_type": "code",
      "source": [
        "from google.colab import drive\n",
        "drive.mount('/content/drive')"
      ],
      "metadata": {
        "colab": {
          "base_uri": "https://localhost:8080/"
        },
        "id": "KM7RpGqg0VV_",
        "outputId": "40f0a777-6edf-4652-fbb5-35afba41d5c4"
      },
      "execution_count": null,
      "outputs": [
        {
          "output_type": "stream",
          "name": "stdout",
          "text": [
            "Mounted at /content/drive\n"
          ]
        }
      ]
    },
    {
      "cell_type": "code",
      "source": [
        "#####################\n",
        "# DATASET RETRIEVAL #\n",
        "#####################"
      ],
      "metadata": {
        "id": "vOE6izkkcXgR"
      },
      "execution_count": null,
      "outputs": []
    },
    {
      "cell_type": "code",
      "execution_count": null,
      "metadata": {
        "colab": {
          "base_uri": "https://localhost:8080/"
        },
        "id": "3M-nuBUubq5B",
        "outputId": "dceb0f11-bbf8-4b17-8d65-63219f89fc11"
      },
      "outputs": [
        {
          "output_type": "stream",
          "name": "stdout",
          "text": [
            "--2025-10-19 06:50:11--  https://raw.githubusercontent.com/karpathy/char-rnn/master/data/tinyshakespeare/input.txt\n",
            "Resolving raw.githubusercontent.com (raw.githubusercontent.com)... 185.199.108.133, 185.199.109.133, 185.199.110.133, ...\n",
            "Connecting to raw.githubusercontent.com (raw.githubusercontent.com)|185.199.108.133|:443... connected.\n",
            "HTTP request sent, awaiting response... 200 OK\n",
            "Length: 1115394 (1.1M) [text/plain]\n",
            "Saving to: ‘input.txt’\n",
            "\n",
            "input.txt           100%[===================>]   1.06M  --.-KB/s    in 0.05s   \n",
            "\n",
            "2025-10-19 06:50:12 (21.6 MB/s) - ‘input.txt’ saved [1115394/1115394]\n",
            "\n"
          ]
        }
      ],
      "source": [
        "!wget https://raw.githubusercontent.com/karpathy/char-rnn/master/data/tinyshakespeare/input.txt"
      ]
    },
    {
      "cell_type": "code",
      "source": [
        "with open(\"input.txt\", mode=\"r\") as f:\n",
        "  text = f.read()\n",
        "\n",
        "print(text[:10])"
      ],
      "metadata": {
        "colab": {
          "base_uri": "https://localhost:8080/"
        },
        "id": "F1nI2CsZcD2U",
        "outputId": "36409833-e5fb-4d87-81f6-c892fdcc26f8"
      },
      "execution_count": null,
      "outputs": [
        {
          "output_type": "stream",
          "name": "stdout",
          "text": [
            "First Citi\n"
          ]
        }
      ]
    },
    {
      "cell_type": "code",
      "source": [
        "###################\n",
        "# HYPERPARAMETERS #\n",
        "###################"
      ],
      "metadata": {
        "id": "pwiNVJYyiJFP"
      },
      "execution_count": null,
      "outputs": []
    },
    {
      "cell_type": "code",
      "source": [
        "block_size = 8\n",
        "batch_size = 32\n",
        "device = \"cuda\" if torch.cuda.is_available() else \"cpu\"\n",
        "embed_dim = 32\n",
        "n_epochs = 10\n",
        "learning_rate = 1e-04\n",
        "test_epochs = 200\n",
        "eval_iters = 100\n",
        "head_size = 8\n",
        "n_heads = 4\n",
        "n_blocks = 6"
      ],
      "metadata": {
        "id": "g5J-q-fMiNtP",
        "colab": {
          "base_uri": "https://localhost:8080/",
          "height": 217
        },
        "outputId": "469268ee-4fed-4828-d4bc-17ed4eb2b4db"
      },
      "execution_count": 1,
      "outputs": [
        {
          "output_type": "error",
          "ename": "NameError",
          "evalue": "name 'torch' is not defined",
          "traceback": [
            "\u001b[0;31m---------------------------------------------------------------------------\u001b[0m",
            "\u001b[0;31mNameError\u001b[0m                                 Traceback (most recent call last)",
            "\u001b[0;32m/tmp/ipython-input-253340308.py\u001b[0m in \u001b[0;36m<cell line: 0>\u001b[0;34m()\u001b[0m\n\u001b[1;32m      1\u001b[0m \u001b[0mblock_size\u001b[0m \u001b[0;34m=\u001b[0m \u001b[0;36m8\u001b[0m\u001b[0;34m\u001b[0m\u001b[0;34m\u001b[0m\u001b[0m\n\u001b[1;32m      2\u001b[0m \u001b[0mbatch_size\u001b[0m \u001b[0;34m=\u001b[0m \u001b[0;36m32\u001b[0m\u001b[0;34m\u001b[0m\u001b[0;34m\u001b[0m\u001b[0m\n\u001b[0;32m----> 3\u001b[0;31m \u001b[0mdevice\u001b[0m \u001b[0;34m=\u001b[0m \u001b[0;34m\"cuda\"\u001b[0m \u001b[0;32mif\u001b[0m \u001b[0mtorch\u001b[0m\u001b[0;34m.\u001b[0m\u001b[0mcuda\u001b[0m\u001b[0;34m.\u001b[0m\u001b[0mis_available\u001b[0m\u001b[0;34m(\u001b[0m\u001b[0;34m)\u001b[0m \u001b[0;32melse\u001b[0m \u001b[0;34m\"cpu\"\u001b[0m\u001b[0;34m\u001b[0m\u001b[0;34m\u001b[0m\u001b[0m\n\u001b[0m\u001b[1;32m      4\u001b[0m \u001b[0membed_dim\u001b[0m \u001b[0;34m=\u001b[0m \u001b[0;36m32\u001b[0m\u001b[0;34m\u001b[0m\u001b[0;34m\u001b[0m\u001b[0m\n\u001b[1;32m      5\u001b[0m \u001b[0mn_epochs\u001b[0m \u001b[0;34m=\u001b[0m \u001b[0;36m10\u001b[0m\u001b[0;34m\u001b[0m\u001b[0;34m\u001b[0m\u001b[0m\n",
            "\u001b[0;31mNameError\u001b[0m: name 'torch' is not defined"
          ]
        }
      ]
    },
    {
      "cell_type": "code",
      "source": [
        "###############################\n",
        "# TOKENIZATION AND DATALOADER #\n",
        "###############################"
      ],
      "metadata": {
        "id": "f7vKkDkbcNUu"
      },
      "execution_count": null,
      "outputs": []
    },
    {
      "cell_type": "code",
      "source": [
        "vocab = list(sorted(set(text)))\n",
        "text_to_num = {v:k for k,v in enumerate(vocab)}\n",
        "num_to_text = {k:v for k,v in enumerate(vocab)}\n",
        "vocab_size = len(vocab)"
      ],
      "metadata": {
        "id": "E3yxlHxlcm3S"
      },
      "execution_count": null,
      "outputs": []
    },
    {
      "cell_type": "code",
      "source": [
        "encode = lambda text: [text_to_num[t] for t in text]\n",
        "decode = lambda numbers: \"\".join([num_to_text[n] for n in numbers])"
      ],
      "metadata": {
        "id": "F6Aoo7z3dBYI"
      },
      "execution_count": null,
      "outputs": []
    },
    {
      "cell_type": "code",
      "source": [
        "decode(encode(\"Haubi\"))"
      ],
      "metadata": {
        "colab": {
          "base_uri": "https://localhost:8080/",
          "height": 38
        },
        "id": "MwWi_kfzeds3",
        "outputId": "d031f3d7-f345-4079-f129-ffb5e7491bed"
      },
      "execution_count": null,
      "outputs": [
        {
          "output_type": "execute_result",
          "data": {
            "text/plain": [
              "'Haubi'"
            ],
            "application/vnd.google.colaboratory.intrinsic+json": {
              "type": "string"
            }
          },
          "metadata": {},
          "execution_count": 13
        }
      ]
    },
    {
      "cell_type": "code",
      "source": [
        "data = torch.tensor(encode(text))\n",
        "train_idx = int(0.9 * len(data))\n",
        "train = data[:train_idx]\n",
        "test = data[train_idx:]\n",
        "len(train), len(test)"
      ],
      "metadata": {
        "colab": {
          "base_uri": "https://localhost:8080/"
        },
        "id": "4_IMCrZOefWn",
        "outputId": "cf45fcea-e061-4ab7-f2b0-0b9f88eccee7"
      },
      "execution_count": null,
      "outputs": [
        {
          "output_type": "execute_result",
          "data": {
            "text/plain": [
              "(1003854, 111540)"
            ]
          },
          "metadata": {},
          "execution_count": 14
        }
      ]
    },
    {
      "cell_type": "code",
      "source": [
        "def get_batch(split):\n",
        "  dataset = train if split == \"train\" else test\n",
        "  idx = torch.randint(0, len(train) - block_size, (batch_size,))\n",
        "  X = torch.stack([train[i:i +  block_size] for i in idx])\n",
        "  Y = torch.stack([train[i + 1: i + block_size + 1] for i in idx])\n",
        "  X, Y = X.to(device), Y.to(device)\n",
        "\n",
        "  return X, Y"
      ],
      "metadata": {
        "id": "o_6L3ABziYiV"
      },
      "execution_count": null,
      "outputs": []
    },
    {
      "cell_type": "code",
      "source": [
        "X, Y = get_batch(\"train\")\n",
        "X[1], Y[1]"
      ],
      "metadata": {
        "colab": {
          "base_uri": "https://localhost:8080/"
        },
        "id": "nqyYIA7wjQiv",
        "outputId": "77ee4c94-1995-4c84-8720-696fec60bb57"
      },
      "execution_count": null,
      "outputs": [
        {
          "output_type": "execute_result",
          "data": {
            "text/plain": [
              "(tensor([60, 43,  1, 58, 46, 43, 51,  1]),\n",
              " tensor([43,  1, 58, 46, 43, 51,  1, 39]))"
            ]
          },
          "metadata": {},
          "execution_count": 16
        }
      ]
    },
    {
      "cell_type": "code",
      "source": [
        "@torch.no_grad()\n",
        "def evaluate_model(model):\n",
        "  out = {}\n",
        "  model.eval()\n",
        "  for split in [\"train\", \"test\"]:\n",
        "    test_loss = torch.zeros(test_epochs)\n",
        "    for epch in range(test_epochs):\n",
        "      Xtst_b, Ytst_b = get_batch(\"test\")\n",
        "      _, loss = model(Xtst_b, Ytst_b)\n",
        "\n",
        "      test_loss[epch] = loss.item()\n",
        "\n",
        "    out[split] = test_loss.mean(dim=-1)\n",
        "\n",
        "  model.train()\n",
        "\n",
        "  return out"
      ],
      "metadata": {
        "id": "OcG7SV-3PQd5"
      },
      "execution_count": null,
      "outputs": []
    },
    {
      "cell_type": "code",
      "source": [
        "################\n",
        "# BUILD MODELS #\n",
        "################"
      ],
      "metadata": {
        "id": "9vrslYjGjvkW"
      },
      "execution_count": null,
      "outputs": []
    },
    {
      "cell_type": "code",
      "source": [
        "class SimpleBiGramModel(nn.Module):\n",
        "\n",
        "  def __init__(self):\n",
        "    super().__init__()\n",
        "    self.emb = nn.Embedding(vocab_size, vocab_size)\n",
        "\n",
        "  def forward(self, x, targets=None):\n",
        "    logits = self.emb(x)\n",
        "    if targets is not None:\n",
        "      B, T, C = logits.shape\n",
        "      logits = logits.view(B*T, C)\n",
        "      targets = targets.view(B*T)\n",
        "      loss = F.cross_entropy(logits, targets)\n",
        "      return logits, loss\n",
        "    return logits\n",
        "\n",
        "  def generate(self, start_token, length):\n",
        "    \"\"\"\n",
        "    start_token: (B, 1) tensor with the initial token(s)\n",
        "    length: how many new tokens to generate\n",
        "    \"\"\"\n",
        "    for _ in range(length):\n",
        "      # only keep the last token\n",
        "      input = start_token[:, -block_size:]   # shape (B, 1)\n",
        "\n",
        "      # forward pass → logits for vocab\n",
        "      logits = self(input)          # (B, 1, C)\n",
        "\n",
        "      # take the logits at the last position\n",
        "      print(logits)\n",
        "      logits = logits[:, -1, :]     # (B, C)\n",
        "\n",
        "      # turn into probabilities\n",
        "      probs = F.softmax(logits, dim=-1)  # (B, C)\n",
        "\n",
        "      # sample next token for each batch\n",
        "      next_token = torch.multinomial(probs, num_samples=1)  # (B, 1)\n",
        "\n",
        "      # append to sequence\n",
        "      start_token = torch.cat((start_token, next_token), dim=1)\n",
        "\n",
        "    return start_token\n"
      ],
      "metadata": {
        "id": "mc9p2yfTll7f"
      },
      "execution_count": null,
      "outputs": []
    },
    {
      "cell_type": "code",
      "source": [
        "class AttentionHead(nn.Module):\n",
        "\n",
        "  def __init__(self, embed_dim, head_size):\n",
        "    super().__init__()\n",
        "    self.query = nn.Linear(in_features=embed_dim, out_features=head_size)\n",
        "    self.key = nn.Linear(in_features=embed_dim, out_features=head_size)\n",
        "    self.value = nn.Linear(in_features=embed_dim, out_features=head_size)\n",
        "    self.register_buffer(\"tril\", torch.tril(torch.ones((block_size, block_size))))\n",
        "\n",
        "\n",
        "  def forward(self, x):\n",
        "    B, T, C = x.shape\n",
        "    query = self.query(x)\n",
        "    key = self.key(x)\n",
        "    value = self.value(x)\n",
        "    weights = query @ torch.transpose(key, 1, -1)\n",
        "    weihgts = weights / (embed_dim)**0.5\n",
        "    weights = weights.masked_fill_(self.tril[:T, :T] == 0, float(\"-inf\"))\n",
        "    weights = F.softmax(weights, dim=-1)\n",
        "    weights = weights @ value\n",
        "\n",
        "    return weights\n",
        "\n"
      ],
      "metadata": {
        "id": "3cgDDcXimyFw"
      },
      "execution_count": null,
      "outputs": []
    },
    {
      "cell_type": "code",
      "source": [
        "class FeedForward(nn.Module):\n",
        "\n",
        "  def __init__(self):\n",
        "    super().__init__()\n",
        "    self.ff_layer = nn.Sequential(\n",
        "        nn.Linear(embed_dim, 4 * embed_dim),\n",
        "        nn.ReLU(),\n",
        "        nn.Linear(4 * embed_dim, embed_dim)\n",
        "    )\n",
        "\n",
        "  def forward(self, x):\n",
        "    x = self.ff_layer(x)\n",
        "\n",
        "    return x"
      ],
      "metadata": {
        "id": "6hTKNwXCkg6w"
      },
      "execution_count": null,
      "outputs": []
    },
    {
      "cell_type": "code",
      "source": [
        "class MultiHeadAttention(nn.Module):\n",
        "\n",
        "  def __init__(self):\n",
        "    super().__init__()\n",
        "    self.attention_heads = nn.ModuleList([AttentionHead(embed_dim, head_size) for _ in range(n_heads)])\n",
        "    self.projection = nn.Linear(embed_dim, embed_dim)\n",
        "\n",
        "  def forward(self, x):\n",
        "    B, T, C = x.shape\n",
        "    x = torch.cat([head(x) for head in self.attention_heads], dim=-1)\n",
        "    x = self.projection(x)\n",
        "\n",
        "    return x"
      ],
      "metadata": {
        "id": "4NBoTdwwDC8b"
      },
      "execution_count": null,
      "outputs": []
    },
    {
      "cell_type": "code",
      "source": [
        "class AttentionBlock(nn.Module):\n",
        "\n",
        "  def __init__(self):\n",
        "    super().__init__()\n",
        "    self.mhsa = MultiHeadAttention()\n",
        "    self.ff = FeedForward()\n",
        "    self.layer_norm1 = nn.LayerNorm(embed_dim)\n",
        "    self.layer_norm2 = nn.LayerNorm(embed_dim)\n",
        "\n",
        "  def forward(self, x):\n",
        "    x = x + self.mhsa(self.layer_norm1(x))\n",
        "    x = x + self.ff(self.layer_norm2(x))\n",
        "\n",
        "    return x\n"
      ],
      "metadata": {
        "id": "lYwqhoi-hfd9"
      },
      "execution_count": null,
      "outputs": []
    },
    {
      "cell_type": "code",
      "source": [
        "class MyBelovedTransformer(nn.Module):\n",
        "\n",
        "  def __init__(self):\n",
        "    super().__init__()\n",
        "    self.tok_embd = nn.Embedding(num_embeddings=vocab_size, embedding_dim=embed_dim)\n",
        "    self.pos_embd = nn.Embedding(num_embeddings=block_size, embedding_dim=embed_dim)\n",
        "    self.attention_blocks = nn.ModuleList([AttentionBlock() for _ in range(n_blocks)])\n",
        "    self.nn_head = nn.Linear(in_features=embed_dim, out_features=vocab_size)\n",
        "\n",
        "  def forward(self, x, targets=None):\n",
        "    x = self.tok_embd(x) # B, T, C\n",
        "    _, T, _ = x.shape\n",
        "    x = x + self.pos_embd(torch.arange(start=0, end=T))\n",
        "    for block in self.attention_blocks:\n",
        "      x = block(x)\n",
        "    logits = self.nn_head(x)\n",
        "    if targets is None:\n",
        "      return logits\n",
        "    else:\n",
        "      B, _, C = logits.shape\n",
        "      logits = logits.view(B*T, C) # B*T, C\n",
        "      targets = targets.view(B*T) # B*T\n",
        "      loss = F.cross_entropy(logits, targets)\n",
        "      return logits, loss\n",
        "\n",
        "  def generate(self, start_sequence, num_tokens):\n",
        "    for _ in range(num_tokens):\n",
        "\n",
        "      x = start_sequence[:, -block_size:] # B, block_size\n",
        "      logits = self(x) # B, block_size, C\n",
        "      logits = logits[:, -1, :] # B, 1, C\n",
        "      probs = F.softmax(logits, dim=-1)\n",
        "      idx_next = torch.multinomial(probs, num_samples=1) # B, 1\n",
        "      start_sequence = torch.cat((start_sequence, idx_next), dim=-1) # B, T + 1\n",
        "\n",
        "    return start_sequence"
      ],
      "metadata": {
        "id": "6IDrWDPGDGRd"
      },
      "execution_count": null,
      "outputs": []
    },
    {
      "cell_type": "code",
      "source": [
        "model = MyBelovedTransformer()\n",
        "optimizer = torch.optim.Adam(model.parameters(), lr=learning_rate)"
      ],
      "metadata": {
        "id": "AwGefE6kviC1"
      },
      "execution_count": null,
      "outputs": []
    },
    {
      "cell_type": "code",
      "source": [
        "for epoch in range(10000):\n",
        "\n",
        "  if epoch % eval_iters == 0 or epoch == n_epochs - 1:\n",
        "    out = evaluate_model(model)\n",
        "    print(f\"Epoch: {epoch}, train loss: {out[\"train\"]:.4f}, test loss: {out[\"test\"]:.4f}\")\n",
        "\n",
        "  X_batch, Y_batch = get_batch(\"train\")\n",
        "  logits, loss = model(X_batch, Y_batch)\n",
        "\n",
        "  optimizer.zero_grad()\n",
        "  loss.backward()\n",
        "  optimizer.step()\n",
        "\n",
        "  X_test_batch, Y_test_batch = get_batch(\"test\")\n",
        "  _, test_loss = model(X_test_batch, Y_test_batch)\n",
        "\n"
      ],
      "metadata": {
        "colab": {
          "base_uri": "https://localhost:8080/"
        },
        "id": "z5OebzBWxinF",
        "outputId": "158bf6db-c9d9-488b-d1f5-59ad8973cb18"
      },
      "execution_count": null,
      "outputs": [
        {
          "output_type": "stream",
          "name": "stdout",
          "text": [
            "Epoch: 0, train loss: 2.3342, test loss: 2.3514\n",
            "Epoch: 9, train loss: 2.3532, test loss: 2.3442\n",
            "Epoch: 100, train loss: 2.3458, test loss: 2.3390\n",
            "Epoch: 200, train loss: 2.3529, test loss: 2.3465\n",
            "Epoch: 300, train loss: 2.3303, test loss: 2.3320\n",
            "Epoch: 400, train loss: 2.3420, test loss: 2.3369\n",
            "Epoch: 500, train loss: 2.3427, test loss: 2.3458\n",
            "Epoch: 600, train loss: 2.3272, test loss: 2.3299\n",
            "Epoch: 700, train loss: 2.3273, test loss: 2.3440\n",
            "Epoch: 800, train loss: 2.3297, test loss: 2.3384\n",
            "Epoch: 900, train loss: 2.3316, test loss: 2.3403\n",
            "Epoch: 1000, train loss: 2.3218, test loss: 2.3261\n",
            "Epoch: 1100, train loss: 2.3351, test loss: 2.3252\n",
            "Epoch: 1200, train loss: 2.3212, test loss: 2.3243\n",
            "Epoch: 1300, train loss: 2.3165, test loss: 2.3326\n",
            "Epoch: 1400, train loss: 2.3232, test loss: 2.3226\n",
            "Epoch: 1500, train loss: 2.3223, test loss: 2.3170\n",
            "Epoch: 1600, train loss: 2.3264, test loss: 2.3311\n",
            "Epoch: 1700, train loss: 2.3288, test loss: 2.3247\n",
            "Epoch: 1800, train loss: 2.3128, test loss: 2.3156\n",
            "Epoch: 1900, train loss: 2.3205, test loss: 2.3218\n",
            "Epoch: 2000, train loss: 2.3055, test loss: 2.3153\n",
            "Epoch: 2100, train loss: 2.3162, test loss: 2.2995\n",
            "Epoch: 2200, train loss: 2.3092, test loss: 2.2977\n",
            "Epoch: 2300, train loss: 2.3150, test loss: 2.2932\n",
            "Epoch: 2400, train loss: 2.3056, test loss: 2.3091\n",
            "Epoch: 2500, train loss: 2.2942, test loss: 2.3023\n",
            "Epoch: 2600, train loss: 2.3031, test loss: 2.3039\n",
            "Epoch: 2700, train loss: 2.3061, test loss: 2.3025\n",
            "Epoch: 2800, train loss: 2.3058, test loss: 2.3047\n",
            "Epoch: 2900, train loss: 2.2962, test loss: 2.3059\n",
            "Epoch: 3000, train loss: 2.3044, test loss: 2.3048\n",
            "Epoch: 3100, train loss: 2.2978, test loss: 2.3001\n",
            "Epoch: 3200, train loss: 2.2996, test loss: 2.2971\n",
            "Epoch: 3300, train loss: 2.3003, test loss: 2.3007\n",
            "Epoch: 3400, train loss: 2.2975, test loss: 2.2935\n",
            "Epoch: 3500, train loss: 2.2797, test loss: 2.2881\n",
            "Epoch: 3600, train loss: 2.2944, test loss: 2.3044\n",
            "Epoch: 3700, train loss: 2.2880, test loss: 2.2908\n",
            "Epoch: 3800, train loss: 2.2941, test loss: 2.3036\n",
            "Epoch: 3900, train loss: 2.2939, test loss: 2.2901\n",
            "Epoch: 4000, train loss: 2.2897, test loss: 2.2880\n",
            "Epoch: 4100, train loss: 2.2806, test loss: 2.2775\n",
            "Epoch: 4200, train loss: 2.2930, test loss: 2.2896\n",
            "Epoch: 4300, train loss: 2.2887, test loss: 2.2824\n",
            "Epoch: 4400, train loss: 2.2782, test loss: 2.2986\n",
            "Epoch: 4500, train loss: 2.2930, test loss: 2.2874\n",
            "Epoch: 4600, train loss: 2.2869, test loss: 2.2853\n",
            "Epoch: 4700, train loss: 2.2870, test loss: 2.2814\n",
            "Epoch: 4800, train loss: 2.2785, test loss: 2.2722\n",
            "Epoch: 4900, train loss: 2.2909, test loss: 2.2715\n",
            "Epoch: 5000, train loss: 2.2836, test loss: 2.2660\n",
            "Epoch: 5100, train loss: 2.2745, test loss: 2.2829\n",
            "Epoch: 5200, train loss: 2.2782, test loss: 2.2868\n",
            "Epoch: 5300, train loss: 2.2712, test loss: 2.2703\n",
            "Epoch: 5400, train loss: 2.2694, test loss: 2.2840\n",
            "Epoch: 5500, train loss: 2.2843, test loss: 2.2681\n",
            "Epoch: 5600, train loss: 2.2780, test loss: 2.2754\n",
            "Epoch: 5700, train loss: 2.2694, test loss: 2.2729\n",
            "Epoch: 5800, train loss: 2.2564, test loss: 2.2638\n",
            "Epoch: 5900, train loss: 2.2577, test loss: 2.2624\n",
            "Epoch: 6000, train loss: 2.2574, test loss: 2.2681\n",
            "Epoch: 6100, train loss: 2.2646, test loss: 2.2623\n",
            "Epoch: 6200, train loss: 2.2687, test loss: 2.2529\n",
            "Epoch: 6300, train loss: 2.2563, test loss: 2.2546\n",
            "Epoch: 6400, train loss: 2.2495, test loss: 2.2557\n",
            "Epoch: 6500, train loss: 2.2669, test loss: 2.2605\n",
            "Epoch: 6600, train loss: 2.2535, test loss: 2.2684\n",
            "Epoch: 6700, train loss: 2.2493, test loss: 2.2624\n",
            "Epoch: 6800, train loss: 2.2546, test loss: 2.2658\n",
            "Epoch: 6900, train loss: 2.2524, test loss: 2.2523\n",
            "Epoch: 7000, train loss: 2.2445, test loss: 2.2540\n",
            "Epoch: 7100, train loss: 2.2496, test loss: 2.2673\n",
            "Epoch: 7200, train loss: 2.2596, test loss: 2.2593\n",
            "Epoch: 7300, train loss: 2.2567, test loss: 2.2473\n",
            "Epoch: 7400, train loss: 2.2468, test loss: 2.2437\n",
            "Epoch: 7500, train loss: 2.2524, test loss: 2.2601\n",
            "Epoch: 7600, train loss: 2.2439, test loss: 2.2487\n",
            "Epoch: 7700, train loss: 2.2629, test loss: 2.2498\n",
            "Epoch: 7800, train loss: 2.2487, test loss: 2.2497\n",
            "Epoch: 7900, train loss: 2.2414, test loss: 2.2426\n",
            "Epoch: 8000, train loss: 2.2484, test loss: 2.2531\n",
            "Epoch: 8100, train loss: 2.2452, test loss: 2.2430\n",
            "Epoch: 8200, train loss: 2.2499, test loss: 2.2445\n",
            "Epoch: 8300, train loss: 2.2399, test loss: 2.2466\n",
            "Epoch: 8400, train loss: 2.2401, test loss: 2.2317\n",
            "Epoch: 8500, train loss: 2.2439, test loss: 2.2384\n",
            "Epoch: 8600, train loss: 2.2459, test loss: 2.2396\n",
            "Epoch: 8700, train loss: 2.2461, test loss: 2.2458\n",
            "Epoch: 8800, train loss: 2.2276, test loss: 2.2341\n",
            "Epoch: 8900, train loss: 2.2323, test loss: 2.2393\n",
            "Epoch: 9000, train loss: 2.2410, test loss: 2.2374\n",
            "Epoch: 9100, train loss: 2.2334, test loss: 2.2378\n",
            "Epoch: 9200, train loss: 2.2457, test loss: 2.2343\n",
            "Epoch: 9300, train loss: 2.2322, test loss: 2.2395\n",
            "Epoch: 9400, train loss: 2.2411, test loss: 2.2335\n",
            "Epoch: 9500, train loss: 2.2354, test loss: 2.2335\n",
            "Epoch: 9600, train loss: 2.2282, test loss: 2.2468\n",
            "Epoch: 9700, train loss: 2.2320, test loss: 2.2416\n",
            "Epoch: 9800, train loss: 2.2259, test loss: 2.2251\n",
            "Epoch: 9900, train loss: 2.2240, test loss: 2.2371\n"
          ]
        }
      ]
    },
    {
      "cell_type": "code",
      "source": [
        "generated_output = model.generate(torch.randint(0, 65, (1, 8)), 300)\n",
        "output_list = generated_output.view(-1).tolist()\n",
        "\"\".join([decode(output_list)])"
      ],
      "metadata": {
        "colab": {
          "base_uri": "https://localhost:8080/",
          "height": 74
        },
        "id": "0l-VnHDCv8j-",
        "outputId": "631037d6-c614-49d2-f807-80f91a3e1992"
      },
      "execution_count": null,
      "outputs": [
        {
          "output_type": "execute_result",
          "data": {
            "text/plain": [
              "\"xi:UhaCh atinffolf fout cly be.\\n\\nOBORCOMIUS:\\nI'w, wardig hom cat fill\\nTo hat olll acemy worded!\\nBawn to and day fur in amath\\nCife last ror dut be the wit sinest as thy yow hiryf in he ougt in warweld thot mocosw be fefncyesory wafr furdaink and Is nom wilt toudst, bre me in the hiemm been.\\nSend hen onis cnd\""
            ],
            "application/vnd.google.colaboratory.intrinsic+json": {
              "type": "string"
            }
          },
          "metadata": {},
          "execution_count": 29
        }
      ]
    },
    {
      "cell_type": "code",
      "source": [
        "################\n",
        "# SAVE STATION #\n",
        "################"
      ],
      "metadata": {
        "id": "kSUOgqGQ2hsy"
      },
      "execution_count": null,
      "outputs": []
    },
    {
      "cell_type": "code",
      "source": [
        "save_path = '/content/drive/MyDrive/model_1_mhsa.pth'\n",
        "torch.save(model.state_dict(), save_path)"
      ],
      "metadata": {
        "id": "pkdXvENj2xTC"
      },
      "execution_count": null,
      "outputs": []
    },
    {
      "cell_type": "code",
      "source": [
        "################\n",
        "# LOAD STATION #\n",
        "################"
      ],
      "metadata": {
        "id": "O0pluAbo3-SR"
      },
      "execution_count": null,
      "outputs": []
    },
    {
      "cell_type": "code",
      "source": [
        "model.load_state_dict(torch.load(save_path))\n",
        "model.eval()"
      ],
      "metadata": {
        "colab": {
          "base_uri": "https://localhost:8080/"
        },
        "id": "qzvE0CLQ4EpB",
        "outputId": "59110883-2d40-4828-969f-024da275b294"
      },
      "execution_count": null,
      "outputs": [
        {
          "output_type": "execute_result",
          "data": {
            "text/plain": [
              "MyBelovedTransformer(\n",
              "  (tok_embd): Embedding(65, 32)\n",
              "  (pos_embd): Embedding(8, 32)\n",
              "  (attention_head): AttentionHead(\n",
              "    (query): Linear(in_features=32, out_features=32, bias=True)\n",
              "    (key): Linear(in_features=32, out_features=32, bias=True)\n",
              "    (value): Linear(in_features=32, out_features=32, bias=True)\n",
              "  )\n",
              "  (nn_head): Linear(in_features=32, out_features=65, bias=True)\n",
              ")"
            ]
          },
          "metadata": {},
          "execution_count": 48
        }
      ]
    },
    {
      "cell_type": "code",
      "source": [
        "##############\n",
        "# PLAYGROUND #\n",
        "##############"
      ],
      "metadata": {
        "id": "LMs_RLJIN2GA"
      },
      "execution_count": null,
      "outputs": []
    },
    {
      "cell_type": "code",
      "source": [
        "start_tensor = torch.randint(0, 65, size=(1, 8))\n",
        "tok_embedding = nn.Embedding(65, 32)\n",
        "pos_embedding = nn.Embedding(8, 32)\n",
        "query = nn.Linear(32, 32)\n",
        "nn_head = nn.Linear(32, 65)\n",
        "\n",
        "x = tok_embedding(start_tensor)\n",
        "x = x + pos_embedding(torch.arange(0, 8))\n",
        "x = query(x)\n",
        "x.shape\n",
        "#logits = nn_head(x)\n",
        "\n",
        "\n",
        "#logits.shape\n"
      ],
      "metadata": {
        "colab": {
          "base_uri": "https://localhost:8080/"
        },
        "id": "XroiU0JVEVdt",
        "outputId": "53f036dc-004b-4e1f-c6da-125647e28d34"
      },
      "execution_count": null,
      "outputs": [
        {
          "output_type": "execute_result",
          "data": {
            "text/plain": [
              "torch.Size([1, 8, 32])"
            ]
          },
          "metadata": {},
          "execution_count": 11
        }
      ]
    },
    {
      "cell_type": "code",
      "source": [],
      "metadata": {
        "id": "C9eSeWoGErlM"
      },
      "execution_count": null,
      "outputs": []
    }
  ]
}