{
  "nbformat": 4,
  "nbformat_minor": 0,
  "metadata": {
    "colab": {
      "provenance": [],
      "authorship_tag": "ABX9TyME/tmb7b5sc1Mcdgyl2qo5",
      "include_colab_link": true
    },
    "kernelspec": {
      "name": "python3",
      "display_name": "Python 3"
    },
    "language_info": {
      "name": "python"
    }
  },
  "cells": [
    {
      "cell_type": "markdown",
      "metadata": {
        "id": "view-in-github",
        "colab_type": "text"
      },
      "source": [
        "<a href=\"https://colab.research.google.com/github/G0nkly/pytorch_sandbox/blob/main/gpts/GPT_dimensions.ipynb\" target=\"_parent\"><img src=\"https://colab.research.google.com/assets/colab-badge.svg\" alt=\"Open In Colab\"/></a>"
      ]
    },
    {
      "cell_type": "code",
      "source": [
        "import torch\n",
        "import torch.nn as nn\n",
        "import torch.nn.functional as F\n",
        "device = \"cuda\" if torch.cuda.is_available() else \"cpu\""
      ],
      "metadata": {
        "id": "Y1aOJOJ1KCmK"
      },
      "execution_count": null,
      "outputs": []
    },
    {
      "cell_type": "code",
      "execution_count": null,
      "metadata": {
        "id": "3qCyCGVskuv4"
      },
      "outputs": [],
      "source": [
        "# Lets look at each of the layers\n",
        "# 1) Encoding\n",
        "# 2) Embedding\n",
        "# 3) Positional Encoding\n",
        "# 4) Attention: key, query, value\n",
        "# 5) Feedforward\n",
        "# 6) Block/Layernorm\n",
        "# 7) Classification / LM Head"
      ]
    },
    {
      "cell_type": "code",
      "source": [
        "################\n",
        "# DATA EXAMPLE #\n",
        "################\n",
        "\n",
        "!wget https://raw.githubusercontent.com/karpathy/char-rnn/master/data/tinyshakespeare/input.txt\n",
        "\n",
        "with open(mode=\"r\", file=\"input.txt\") as f:\n",
        "  text = f.read()\n",
        "\n",
        "vocab = list(sorted(set(text)))"
      ],
      "metadata": {
        "colab": {
          "base_uri": "https://localhost:8080/"
        },
        "id": "FaC8pwxBKXVi",
        "outputId": "709e88de-d8dc-4fa0-be02-8331fa36070f"
      },
      "execution_count": null,
      "outputs": [
        {
          "output_type": "stream",
          "name": "stdout",
          "text": [
            "--2025-06-19 08:56:16--  https://raw.githubusercontent.com/karpathy/char-rnn/master/data/tinyshakespeare/input.txt\n",
            "Resolving raw.githubusercontent.com (raw.githubusercontent.com)... 185.199.108.133, 185.199.109.133, 185.199.110.133, ...\n",
            "Connecting to raw.githubusercontent.com (raw.githubusercontent.com)|185.199.108.133|:443... connected.\n",
            "HTTP request sent, awaiting response... 200 OK\n",
            "Length: 1115394 (1.1M) [text/plain]\n",
            "Saving to: ‘input.txt.5’\n",
            "\n",
            "input.txt.5         100%[===================>]   1.06M  --.-KB/s    in 0.06s   \n",
            "\n",
            "2025-06-19 08:56:16 (16.8 MB/s) - ‘input.txt.5’ saved [1115394/1115394]\n",
            "\n"
          ]
        }
      ]
    },
    {
      "cell_type": "code",
      "source": [
        "##################\n",
        "# HYPERPARAMTERS #\n",
        "##################"
      ],
      "metadata": {
        "id": "QITuTbF7KLJB"
      },
      "execution_count": null,
      "outputs": []
    },
    {
      "cell_type": "code",
      "source": [
        "vocab_size = len(vocab)\n",
        "embedding_dim = 32\n",
        "block_size = 8\n",
        "n_heads = 4\n",
        "dropout = 0.2"
      ],
      "metadata": {
        "id": "inC3GWsPKQSl"
      },
      "execution_count": null,
      "outputs": []
    },
    {
      "cell_type": "code",
      "source": [
        "############\n",
        "# ENCODING #\n",
        "############"
      ],
      "metadata": {
        "id": "KznIrUvIJrAn"
      },
      "execution_count": null,
      "outputs": []
    },
    {
      "cell_type": "code",
      "source": [
        "stoi = {v:k for k,v in enumerate(vocab)}\n",
        "itos = {k:v for k,v in enumerate(vocab)}\n",
        "encode = lambda seq: [stoi[char] for char in seq]\n",
        "decode = lambda numbers: \"\".join([itos[num] for num in numbers])\n",
        "\n",
        "def get_batch(split: str):\n",
        "  dataset = train if split == \"train\" else val"
      ],
      "metadata": {
        "id": "ghD7YPk8HXsr"
      },
      "execution_count": null,
      "outputs": []
    },
    {
      "cell_type": "code",
      "source": [
        "#############\n",
        "# EMBEDDING #\n",
        "#############"
      ],
      "metadata": {
        "id": "7bf0P7L9Id9u"
      },
      "execution_count": null,
      "outputs": []
    },
    {
      "cell_type": "code",
      "source": [
        "embedding = nn.Embedding(num_embeddings=vocab_size, embedding_dim=embedding_dim)"
      ],
      "metadata": {
        "id": "d0zeDIuzKBgA"
      },
      "execution_count": null,
      "outputs": []
    },
    {
      "cell_type": "code",
      "source": [
        "encode(\"Hausi\")"
      ],
      "metadata": {
        "colab": {
          "base_uri": "https://localhost:8080/"
        },
        "id": "BRvbpL5AOR7I",
        "outputId": "71c28608-5e97-4b64-d2e1-f7da9b1f6f50"
      },
      "execution_count": null,
      "outputs": [
        {
          "output_type": "execute_result",
          "data": {
            "text/plain": [
              "[20, 39, 59, 57, 47]"
            ]
          },
          "metadata": {},
          "execution_count": 154
        }
      ]
    },
    {
      "cell_type": "code",
      "source": [
        "t = torch.tensor(encode(\"Hausi\"))"
      ],
      "metadata": {
        "id": "HirEowEUODk6"
      },
      "execution_count": null,
      "outputs": []
    },
    {
      "cell_type": "code",
      "source": [
        "embedding(t)"
      ],
      "metadata": {
        "colab": {
          "base_uri": "https://localhost:8080/"
        },
        "id": "KyIOe9_tOMPE",
        "outputId": "a209a62c-3735-45ea-c18f-a1db3a3a4c29"
      },
      "execution_count": null,
      "outputs": [
        {
          "output_type": "execute_result",
          "data": {
            "text/plain": [
              "tensor([[ 0.3424,  0.1892, -1.6773, -0.2433,  0.6982, -0.0476,  1.9028, -0.2640,\n",
              "          1.3070, -0.0214, -0.2487,  0.2917,  0.5369,  0.0881,  1.0006, -0.9031,\n",
              "         -0.2213, -0.6106, -0.2551, -0.0557,  0.0485,  0.2072, -0.7861, -1.8906,\n",
              "         -0.4887, -0.2578, -1.5979,  1.5447,  0.2110, -0.4547, -0.9896,  1.3935],\n",
              "        [ 0.2197, -2.0798, -0.1218,  1.0459, -0.8955, -0.6874, -0.5732, -0.9338,\n",
              "          0.1792,  0.7945, -0.7944, -0.6989,  0.9299,  0.0338,  0.3088,  2.5791,\n",
              "         -1.3677, -0.9097,  1.1450,  0.1276, -0.9261,  1.0553, -0.3282, -0.1189,\n",
              "          1.5103, -1.3650, -0.3967,  1.0384,  0.2777,  0.3414,  0.9193, -0.3074],\n",
              "        [-0.0748, -0.5401,  0.0269, -0.1526, -0.3768,  0.0337,  2.0632,  0.1679,\n",
              "         -0.1358,  1.9571,  0.1846, -0.4047, -0.7504, -0.3845, -0.0075,  0.4695,\n",
              "          0.9000,  0.0553,  0.5035, -0.2207, -0.7480, -0.7641, -0.3434, -0.7415,\n",
              "          0.1172,  0.7904,  1.4750,  0.4144, -1.8454, -0.5371,  1.5499,  0.5853],\n",
              "        [-0.2454,  1.1008,  0.0092,  0.1736, -0.1636, -0.1886,  0.3250,  0.5391,\n",
              "         -0.6819, -0.8067,  0.2278,  2.6383,  0.2868, -0.3905,  1.4058,  1.0990,\n",
              "          1.1505,  0.8848, -1.5513,  0.7744, -0.0992, -1.1049, -0.3666, -0.4255,\n",
              "         -0.0114,  0.9866, -0.9775,  0.8597, -0.4760,  0.7086, -0.8144, -0.8910],\n",
              "        [ 1.1323,  1.5876, -0.2205, -1.6831,  0.4446,  1.0119,  2.2024, -0.4206,\n",
              "         -0.6902,  0.1230,  1.0349, -1.2524, -0.1365, -1.4727, -0.2804, -0.2627,\n",
              "         -2.2612,  0.7795,  0.3371,  0.3278, -0.3441, -1.0624,  0.4815, -0.7796,\n",
              "          0.0448,  0.5791, -1.5283,  0.7706, -0.5347, -0.4548, -0.6849,  0.5683]],\n",
              "       grad_fn=<EmbeddingBackward0>)"
            ]
          },
          "metadata": {},
          "execution_count": 156
        }
      ]
    },
    {
      "cell_type": "code",
      "source": [
        "#########################\n",
        "# POSITIONAL 'ENCODING' #\n",
        "#########################"
      ],
      "metadata": {
        "id": "uEBhtYKQONlj"
      },
      "execution_count": null,
      "outputs": []
    },
    {
      "cell_type": "code",
      "source": [
        "postional_embedding = nn.Embedding(num_embeddings=5, embedding_dim=32)"
      ],
      "metadata": {
        "id": "dHmnOaSVPmeS"
      },
      "execution_count": null,
      "outputs": []
    },
    {
      "cell_type": "code",
      "source": [
        "postional_embedding(torch.arange(5, device=device)).shape"
      ],
      "metadata": {
        "colab": {
          "base_uri": "https://localhost:8080/"
        },
        "id": "24mQLBiyReS5",
        "outputId": "68ab6834-ecf2-4286-9b4a-f47865f6aecc"
      },
      "execution_count": null,
      "outputs": [
        {
          "output_type": "execute_result",
          "data": {
            "text/plain": [
              "torch.Size([5, 32])"
            ]
          },
          "metadata": {},
          "execution_count": 159
        }
      ]
    },
    {
      "cell_type": "code",
      "source": [
        "embedded_tensor = embedding(t) + postional_embedding(torch.arange(5, dtype=torch.long))\n",
        "embedded_tensor"
      ],
      "metadata": {
        "colab": {
          "base_uri": "https://localhost:8080/"
        },
        "id": "fnBn3VO3RnEw",
        "outputId": "a04deeb7-3c2b-4510-94c9-7eefdd2d19ea"
      },
      "execution_count": null,
      "outputs": [
        {
          "output_type": "execute_result",
          "data": {
            "text/plain": [
              "tensor([[ 7.8445e-01, -7.3034e-02, -1.2135e+00, -6.9916e-01, -1.3627e+00,\n",
              "          9.4943e-01,  1.4097e+00,  7.7847e-02,  7.7477e-01,  8.2858e-01,\n",
              "         -1.8097e+00,  1.3255e+00, -8.3703e-01, -9.8567e-01,  2.3934e+00,\n",
              "         -2.2901e+00, -3.5064e-02, -5.5237e-01,  4.5043e-01, -1.5222e+00,\n",
              "          4.0932e-01,  1.7884e+00, -1.1933e+00, -1.1935e+00, -1.3306e+00,\n",
              "         -2.6845e-01, -2.0549e+00,  9.1813e-01, -1.6675e-01, -1.1061e+00,\n",
              "         -8.9780e-01,  2.9494e+00],\n",
              "        [ 4.6685e-03, -2.2583e+00, -6.0004e-01,  3.0041e-01,  1.0476e-01,\n",
              "         -1.3330e+00, -9.6764e-01, -1.9530e+00,  2.0536e+00,  9.8330e-01,\n",
              "         -4.1896e-02, -1.0755e+00,  1.5022e+00,  5.9721e-01,  5.1236e-02,\n",
              "          1.5949e+00, -2.2966e+00,  2.9182e-01,  2.7345e-01,  1.2579e+00,\n",
              "         -2.1147e-01,  2.5808e+00, -4.8137e-01, -2.1678e-01,  1.9560e+00,\n",
              "          3.4885e-02, -1.4200e+00, -4.0003e-01,  1.7166e-01,  2.7913e-01,\n",
              "          2.4373e+00, -1.7765e-01],\n",
              "        [-1.1957e+00, -1.7523e+00, -8.6275e-01,  3.5240e-01, -7.6030e-01,\n",
              "         -2.0814e+00,  1.1021e+00, -9.6395e-02,  9.5423e-01,  1.2129e-01,\n",
              "         -1.6800e+00, -1.7107e+00, -2.3373e-01, -1.2735e-01, -1.8374e+00,\n",
              "          2.6793e-01, -1.1598e-01, -1.3572e-01, -6.6354e-01,  3.5900e-01,\n",
              "         -2.4337e-01, -4.0187e-01, -7.7938e-01, -2.8512e+00, -2.6769e-01,\n",
              "         -8.6837e-01,  1.3974e+00, -4.8494e-01, -2.3909e+00, -9.7654e-02,\n",
              "          1.3826e+00,  1.1653e+00],\n",
              "        [ 3.5323e-01,  1.4689e+00,  1.1275e+00,  1.0737e+00,  1.2067e+00,\n",
              "          1.3886e+00,  4.3949e-02, -6.4899e-01, -2.1127e+00, -1.3953e+00,\n",
              "          1.5516e+00,  1.2520e+00,  4.5192e-01, -1.1471e+00,  1.7981e+00,\n",
              "          1.1054e+00,  1.1859e+00,  2.4172e+00, -3.2772e+00,  7.0215e-01,\n",
              "         -1.6622e-01,  1.1021e-01, -2.8505e-01, -1.7380e-01,  1.7452e+00,\n",
              "          3.2001e-01,  9.0975e-01,  1.0628e+00, -5.4898e-01,  1.0455e+00,\n",
              "         -8.4663e-01, -1.0528e+00],\n",
              "        [ 1.5961e+00,  1.8143e+00, -2.5492e-01, -2.3777e+00,  1.2418e-01,\n",
              "          9.5590e-01,  3.0173e+00,  1.5343e+00, -1.9747e+00,  2.3817e+00,\n",
              "         -3.0895e-01, -1.0312e+00,  5.6259e-01, -2.2691e+00, -8.3653e-02,\n",
              "         -2.3395e-01, -1.0821e+00,  6.3002e-01,  4.9086e-01,  4.3983e-01,\n",
              "         -8.9350e-01, -1.1758e+00,  5.0015e-01, -9.1292e-01,  8.8312e-01,\n",
              "          8.1979e-01, -7.9796e-01,  7.2099e-01, -2.2562e-01,  1.3747e+00,\n",
              "          2.1036e-03,  1.5684e+00]], grad_fn=<AddBackward0>)"
            ]
          },
          "metadata": {},
          "execution_count": 160
        }
      ]
    },
    {
      "cell_type": "code",
      "source": [
        "#########################\n",
        "# SINGLE HEAD ATTENTION #\n",
        "#########################"
      ],
      "metadata": {
        "id": "kVyuxDh5Rwvo"
      },
      "execution_count": null,
      "outputs": []
    },
    {
      "cell_type": "code",
      "source": [
        "# since its not MultiHeadAttention input_dim == output_dim\n",
        "block_size = len(t) if t is not None else block_size\n",
        "\n",
        "key_layer = nn.Linear(in_features=embedding_dim, out_features=embedding_dim)\n",
        "query_layer = nn.Linear(in_features=embedding_dim, out_features=embedding_dim)\n",
        "value_layer = nn.Linear(in_features=embedding_dim, out_features=embedding_dim)\n",
        "tril = torch.tril(torch.ones(block_size, block_size, dtype=torch.long))"
      ],
      "metadata": {
        "id": "CLdJKYDZm7cP"
      },
      "execution_count": null,
      "outputs": []
    },
    {
      "cell_type": "code",
      "source": [
        "k = key_layer(embedded_tensor)\n",
        "q = query_layer(embedded_tensor)\n",
        "wei = (q @ k.transpose(-2,-1)) / (embedding_dim ** -0.5)\n",
        "wei = wei.masked_fill(tril == 0, -float(\"inf\"))\n",
        "wei = F.softmax(wei, dim=-1)\n",
        "v = value_layer(embedded_tensor)\n",
        "\n",
        "out = wei @ v\n",
        "wei, out"
      ],
      "metadata": {
        "id": "3WSinYAipzEh",
        "colab": {
          "base_uri": "https://localhost:8080/"
        },
        "outputId": "322552fa-b062-4254-a3e9-4714da7153d5"
      },
      "execution_count": null,
      "outputs": [
        {
          "output_type": "execute_result",
          "data": {
            "text/plain": [
              "(tensor([[1.0000e+00, 0.0000e+00, 0.0000e+00, 0.0000e+00, 0.0000e+00],\n",
              "         [1.0000e+00, 1.5445e-14, 0.0000e+00, 0.0000e+00, 0.0000e+00],\n",
              "         [1.8295e-01, 1.2970e-07, 8.1705e-01, 0.0000e+00, 0.0000e+00],\n",
              "         [9.9945e-01, 6.1713e-08, 7.3411e-09, 5.5259e-04, 0.0000e+00],\n",
              "         [2.6260e-17, 6.8185e-03, 9.8692e-01, 3.8821e-06, 6.2569e-03]],\n",
              "        grad_fn=<SoftmaxBackward0>),\n",
              " tensor([[ 0.2753,  0.7028,  0.6595,  0.3956, -1.5970,  0.8216, -0.1322, -0.6431,\n",
              "          -0.4727, -0.7208, -0.7353,  0.1581, -0.4889,  1.3761,  0.2936,  0.6707,\n",
              "           0.3895,  0.0179, -1.7495, -1.0783,  0.0419, -0.1996,  0.4298, -0.9294,\n",
              "          -0.2900, -0.1771,  0.3229,  0.6348, -1.5061,  0.1425,  1.2432,  0.4923],\n",
              "         [ 0.2753,  0.7028,  0.6595,  0.3956, -1.5970,  0.8216, -0.1322, -0.6431,\n",
              "          -0.4727, -0.7208, -0.7353,  0.1581, -0.4889,  1.3761,  0.2936,  0.6707,\n",
              "           0.3895,  0.0179, -1.7495, -1.0783,  0.0419, -0.1996,  0.4298, -0.9294,\n",
              "          -0.2900, -0.1771,  0.3229,  0.6348, -1.5061,  0.1425,  1.2432,  0.4923],\n",
              "         [-0.5341,  0.1210,  0.0960, -1.6859,  0.7139, -0.4963,  0.5248, -0.3819,\n",
              "          -0.0322,  0.3145, -0.7799,  0.0607,  0.1310,  0.9238, -0.1299,  1.3014,\n",
              "           0.1536,  0.1799, -0.8187, -0.5744,  0.7981,  0.1152,  0.3035,  0.1369,\n",
              "           0.4351,  0.1301, -0.8520, -0.3199, -0.2296,  0.3910,  0.0255, -0.4805],\n",
              "         [ 0.2748,  0.7024,  0.6587,  0.3959, -1.5965,  0.8206, -0.1324, -0.6431,\n",
              "          -0.4723, -0.7204, -0.7348,  0.1582, -0.4885,  1.3749,  0.2931,  0.6702,\n",
              "           0.3895,  0.0179, -1.7481, -1.0776,  0.0419, -0.1992,  0.4300, -0.9283,\n",
              "          -0.2886, -0.1768,  0.3229,  0.6343, -1.5060,  0.1423,  1.2417,  0.4916],\n",
              "         [-0.7018, -0.0042, -0.0272, -2.1286,  1.2119, -0.7831,  0.6613, -0.3197,\n",
              "           0.0783,  0.5382, -0.7907,  0.0378,  0.2676,  0.8159, -0.2148,  1.4256,\n",
              "           0.1044,  0.2165, -0.6101, -0.4643,  0.9492,  0.1808,  0.2710,  0.3740,\n",
              "           0.5884,  0.1973, -1.1107, -0.5288,  0.0512,  0.4453, -0.2342, -0.6954]],\n",
              "        grad_fn=<MmBackward0>))"
            ]
          },
          "metadata": {},
          "execution_count": 163
        }
      ]
    },
    {
      "cell_type": "code",
      "source": [
        "########################\n",
        "# MULTI HEAD ATTENTION #\n",
        "########################"
      ],
      "metadata": {
        "id": "-JTijNAxr3l3"
      },
      "execution_count": null,
      "outputs": []
    },
    {
      "cell_type": "code",
      "source": [
        "class AttentionHead(nn.Module):\n",
        "\n",
        "  def __init__(self, embedding_dim, head_size):\n",
        "    super().__init__()\n",
        "    self.embedding_dim = embedding_dim\n",
        "    self.query_layer = nn.Linear(in_features=embedding_dim, out_features=head_size, bias=False)\n",
        "    self.key_layer = nn.Linear(in_features=embedding_dim, out_features=head_size, bias=False)\n",
        "    self.value_layer = nn.Linear(in_features=embedding_dim, out_features=head_size, bias=False)\n",
        "    self.register_buffer(\"tril\", torch.tril(torch.ones(block_size, block_size)))\n",
        "    self.dropout = nn.Dropout(p=dropout)\n",
        "\n",
        "  def forward(self, x):\n",
        "    B, T, C = x.shape\n",
        "    q = self.query_layer(x)\n",
        "    k = self.key_layer(x)\n",
        "    v = self.value_layer(x)\n",
        "    wei = (q @ k.transpose(-2,-1)) * C ** -0.5\n",
        "    wei = wei.masked_fill(self.tril[:T, :T] == 0, float(\"-inf\"))\n",
        "    wei = F.softmax(wei, dim=-1)\n",
        "    wei = self.dropout(wei)\n",
        "    out = wei @ v\n",
        "\n",
        "    return out"
      ],
      "metadata": {
        "id": "HM_aXT9Er7lP"
      },
      "execution_count": null,
      "outputs": []
    },
    {
      "cell_type": "code",
      "source": [
        "class MultiHeadAttention(nn.Module):\n",
        "\n",
        "  def __init__(self, embedding_dim, n_heads):\n",
        "    super().__init__()\n",
        "    head_size = embedding_dim // n_heads\n",
        "    self.heads = nn.ModuleList([AttentionHead(embedding_dim=embedding_dim, head_size=head_size) for _ in range(n_heads)])\n",
        "    self.projection_layer = nn.Linear(in_features=embedding_dim, out_features=embedding_dim)\n",
        "    self.dropout = nn.Dropout(p=dropout)\n",
        "\n",
        "  def forward(self, x):\n",
        "    x = torch.cat([head(x) for head in self.heads], dim=-1)\n",
        "    out = self.projection_layer(x)\n",
        "    out = self.dropout(out)\n",
        "    return out"
      ],
      "metadata": {
        "id": "X_0YzYwJvHs9"
      },
      "execution_count": null,
      "outputs": []
    },
    {
      "cell_type": "code",
      "source": [
        "embedded_tensor = embedded_tensor.unsqueeze(0)\n",
        "embedded_tensor.shape"
      ],
      "metadata": {
        "colab": {
          "base_uri": "https://localhost:8080/"
        },
        "id": "igleMpjk2won",
        "outputId": "6ba1a773-b104-4477-dcbb-1f76e4e7ac4a"
      },
      "execution_count": null,
      "outputs": [
        {
          "output_type": "execute_result",
          "data": {
            "text/plain": [
              "torch.Size([1, 5, 32])"
            ]
          },
          "metadata": {},
          "execution_count": 167
        }
      ]
    },
    {
      "cell_type": "code",
      "source": [
        "multi_head_attention = MultiHeadAttention(embedding_dim=embedding_dim, n_heads=n_heads)\n",
        "t_ma = multi_head_attention(embedded_tensor)\n",
        "t_ma"
      ],
      "metadata": {
        "colab": {
          "base_uri": "https://localhost:8080/"
        },
        "id": "UrrWxTzt1VkU",
        "outputId": "93337b69-79b2-41d6-e3ed-6b88ee7bb93f"
      },
      "execution_count": null,
      "outputs": [
        {
          "output_type": "execute_result",
          "data": {
            "text/plain": [
              "tensor([[[-1.9018e+00, -6.1596e-01, -3.6287e-01, -2.5908e-01, -5.0330e-01,\n",
              "          -7.6079e-01,  4.2476e-02, -1.1918e+00,  1.1374e-01,  3.1972e-02,\n",
              "           1.2544e+00, -0.0000e+00,  4.7994e-01, -4.9977e-01,  0.0000e+00,\n",
              "           3.8351e-01,  2.4643e-01, -4.8315e-01,  6.7684e-01,  2.1209e-01,\n",
              "          -1.4506e-01,  9.6667e-01, -9.6921e-02,  1.6085e+00,  1.0439e+00,\n",
              "          -7.8131e-01,  9.3170e-01, -2.3281e-01,  3.0226e-01, -2.2466e-01,\n",
              "           5.5134e-01, -1.2402e+00],\n",
              "         [-1.4795e+00, -0.0000e+00, -9.2388e-03, -5.4363e-01, -5.6743e-01,\n",
              "          -3.6272e-01,  3.2711e-01, -6.8869e-01,  1.9443e-01,  2.3666e-01,\n",
              "           6.1336e-01, -3.3735e-01,  6.2848e-01, -0.0000e+00, -5.8455e-02,\n",
              "           1.5836e-01,  0.0000e+00, -0.0000e+00,  5.5047e-02,  0.0000e+00,\n",
              "          -1.3570e-01,  5.4271e-01, -2.4354e-01,  0.0000e+00,  3.1379e-01,\n",
              "          -8.5224e-01,  5.2351e-01, -5.9338e-01, -1.1881e-01,  2.6497e-01,\n",
              "           0.0000e+00, -8.4700e-01],\n",
              "         [-1.0377e+00,  8.5834e-02, -3.9501e-01, -0.0000e+00,  0.0000e+00,\n",
              "          -0.0000e+00,  0.0000e+00, -8.0603e-01,  4.1504e-01, -1.2405e-01,\n",
              "           2.8992e-01, -0.0000e+00,  2.0107e-01, -3.6496e-01, -1.3225e-02,\n",
              "          -2.8194e-02,  8.3811e-01, -3.5145e-01, -3.6990e-01,  1.6459e-01,\n",
              "          -2.5397e-01,  4.4481e-01, -5.1308e-01,  3.2917e-01, -0.0000e+00,\n",
              "          -1.1650e-01,  1.9550e-01, -2.3891e-01, -3.0983e-01,  2.8430e-01,\n",
              "           2.4704e-01,  0.0000e+00],\n",
              "         [-4.6612e-01,  1.8274e-01,  7.4068e-02, -0.0000e+00,  1.7390e-01,\n",
              "          -1.1015e-01, -3.9953e-02, -9.0536e-02,  4.5246e-01,  0.0000e+00,\n",
              "           2.8941e-01, -3.1823e-01, -1.8840e-01, -2.1684e-01, -3.4197e-01,\n",
              "          -0.0000e+00,  4.6717e-01,  0.0000e+00, -2.9605e-01,  4.1732e-01,\n",
              "          -2.4192e-01,  3.5090e-01, -3.3439e-01, -0.0000e+00, -5.4274e-01,\n",
              "          -4.2988e-01,  1.2450e-01, -1.2450e-01, -0.0000e+00,  2.7560e-01,\n",
              "          -2.1358e-02,  1.7269e-01],\n",
              "         [-5.9588e-01,  1.9810e-01,  3.4714e-01, -0.0000e+00,  3.6616e-01,\n",
              "          -3.5810e-02, -1.7527e-01, -4.2483e-01,  3.9114e-01, -0.0000e+00,\n",
              "           1.5160e-01, -2.7114e-01,  2.3711e-05, -0.0000e+00,  9.5294e-02,\n",
              "          -0.0000e+00,  0.0000e+00, -2.2687e-01, -1.5302e-01,  1.2521e-01,\n",
              "          -0.0000e+00,  0.0000e+00, -0.0000e+00,  6.4924e-02, -2.8691e-01,\n",
              "          -0.0000e+00,  8.5692e-02, -3.6943e-02, -2.9990e-01, -1.8045e-01,\n",
              "          -3.3110e-01,  8.4676e-02]]], grad_fn=<MulBackward0>)"
            ]
          },
          "metadata": {},
          "execution_count": 168
        }
      ]
    },
    {
      "cell_type": "code",
      "source": [
        "################\n",
        "# FEED-FORWARD #\n",
        "################"
      ],
      "metadata": {
        "id": "t7QOv8O_Cian"
      },
      "execution_count": null,
      "outputs": []
    },
    {
      "cell_type": "code",
      "source": [
        "feed_forward_layer = nn.Sequential(\n",
        "    nn.Linear(32, 4 * 32),\n",
        "    nn.Linear(4 * 32, 32)\n",
        ")\n",
        "\n",
        "t_ff = feed_forward_layer(t_ma)\n",
        "t_ff"
      ],
      "metadata": {
        "colab": {
          "base_uri": "https://localhost:8080/"
        },
        "id": "-oJhELEiCgs0",
        "outputId": "7df42653-a6dc-4364-c773-7711dcf938ee"
      },
      "execution_count": null,
      "outputs": [
        {
          "output_type": "execute_result",
          "data": {
            "text/plain": [
              "tensor([[[-6.9561e-02, -1.4250e-01,  3.1070e-02, -1.8291e-01,  2.4161e-01,\n",
              "          -3.7675e-01,  3.2730e-02,  1.8323e-02, -4.9823e-01, -2.0057e-01,\n",
              "          -1.2709e-01,  3.3223e-01,  7.4427e-02, -1.7740e-01,  6.0727e-01,\n",
              "           1.7553e-01, -2.5639e-01,  1.9310e-01,  1.2692e-01,  4.8282e-02,\n",
              "          -2.8849e-01, -5.7440e-03, -3.6806e-02, -1.4971e-01,  3.0018e-01,\n",
              "           3.5638e-01, -1.1089e-01, -9.4508e-02,  4.0093e-01,  2.0028e-01,\n",
              "           5.2127e-02, -1.3019e-01],\n",
              "         [-2.9404e-02, -1.3121e-01, -8.4553e-02, -1.8186e-01,  1.9564e-01,\n",
              "          -1.9973e-01,  3.8148e-03,  3.2353e-03, -2.4055e-01, -1.9473e-01,\n",
              "           5.5860e-02,  3.2112e-01,  5.1088e-02, -2.8851e-02,  3.5166e-01,\n",
              "           2.5772e-02, -4.2427e-03, -4.6352e-02,  2.1989e-01,  9.1748e-02,\n",
              "          -2.2866e-01,  9.1045e-02, -1.9676e-01, -1.7347e-01,  1.5584e-01,\n",
              "           2.1007e-01,  4.9586e-02, -3.3962e-02,  1.9153e-01,  2.2269e-01,\n",
              "          -1.6246e-02, -5.1122e-02],\n",
              "         [-5.6009e-02,  1.0615e-01, -7.5249e-03,  7.7557e-02,  8.7893e-02,\n",
              "          -3.0807e-01,  2.9360e-02, -3.6414e-02, -2.8447e-01, -1.4642e-01,\n",
              "          -2.3521e-02,  1.5218e-01,  2.4037e-01, -6.0321e-02,  1.8274e-01,\n",
              "           6.3889e-02, -4.9755e-02,  9.9754e-02,  9.8167e-02,  2.1047e-01,\n",
              "          -1.1333e-01,  6.4306e-02, -9.8206e-02, -4.4748e-03,  1.8445e-01,\n",
              "           2.7984e-01,  9.5206e-03, -1.2953e-01,  7.6203e-02,  9.1113e-02,\n",
              "           8.0279e-02, -1.1350e-02],\n",
              "         [-1.1642e-01,  1.3272e-02, -3.4324e-04,  1.9163e-02,  1.0269e-01,\n",
              "          -2.8837e-01,  3.7522e-02, -5.2968e-02, -2.4028e-01, -8.1921e-02,\n",
              "           4.0417e-02,  1.9471e-01,  2.5158e-01,  3.1563e-02,  1.2846e-01,\n",
              "          -8.8987e-02,  2.0132e-01, -6.7909e-02,  2.7200e-01,  1.1388e-01,\n",
              "          -1.5202e-01,  1.0026e-01, -3.7255e-02, -6.9790e-02,  2.3213e-01,\n",
              "           7.6404e-02, -5.7565e-03, -1.6175e-02,  1.1709e-01,  1.6039e-01,\n",
              "           1.2582e-01, -1.1621e-02],\n",
              "         [-5.8981e-02,  5.9376e-02,  2.5018e-04,  1.8574e-02,  9.1996e-02,\n",
              "          -2.6063e-01,  3.3900e-02, -3.2574e-02, -1.7617e-01, -1.4715e-01,\n",
              "          -3.5833e-02,  6.8578e-02,  2.0948e-01,  9.5448e-02,  2.3486e-01,\n",
              "          -4.0870e-02,  5.0218e-02, -5.1392e-02,  1.1463e-01,  6.4556e-02,\n",
              "          -1.2532e-01,  3.3056e-02,  5.2766e-02,  3.9347e-02,  2.3212e-01,\n",
              "           2.5959e-01,  4.5341e-02, -1.1105e-01, -5.4044e-02,  1.1928e-01,\n",
              "           1.2972e-01,  9.2309e-03]]], grad_fn=<ViewBackward0>)"
            ]
          },
          "metadata": {},
          "execution_count": 170
        }
      ]
    },
    {
      "cell_type": "code",
      "source": [
        "########################\n",
        "# BLOCK AND LAYER-NORM #\n",
        "########################"
      ],
      "metadata": {
        "id": "oazuvtJZyeEq"
      },
      "execution_count": null,
      "outputs": []
    },
    {
      "cell_type": "code",
      "source": [
        "class AttentionBlock(nn.Module):\n",
        "\n",
        "  def __init__(self, embedding_dim, n_heads):\n",
        "    super().__init__()\n",
        "    self.multi_head_attention = MultiHeadAttention(embedding_dim=embedding_dim, n_heads=n_heads)\n",
        "    self.feed_forward = nn.Sequential(\n",
        "        nn.Linear(in_features=embedding_dim, out_features=4 * embedding_dim),\n",
        "        nn.ReLU(),\n",
        "        nn.Linear(4 * embedding_dim, embedding_dim),\n",
        "        nn.Dropout(p=dropout)\n",
        "    )\n",
        "    self.ln_1 = nn.LayerNorm(embedding_dim)\n",
        "    self.ln_2 = nn.LayerNorm(embedding_dim)\n",
        "\n",
        "  def forward(self, x):\n",
        "    x = x + self.multi_head_attention(self.ln_1(x))\n",
        "    x = x + self.feed_forward(self.ln_2(x))\n",
        "    return x"
      ],
      "metadata": {
        "id": "1yZ90h90BcKM"
      },
      "execution_count": null,
      "outputs": []
    },
    {
      "cell_type": "code",
      "source": [
        "attention_block = AttentionBlock(embedding_dim=embedding_dim, n_heads=n_heads)\n",
        "t_block_2 = attention_block(t_ff)\n",
        "t_block_2"
      ],
      "metadata": {
        "id": "F0lyArs6Nw2b",
        "colab": {
          "base_uri": "https://localhost:8080/"
        },
        "outputId": "dcf088ea-67b4-4bf8-f102-096b27ad8aeb"
      },
      "execution_count": null,
      "outputs": [
        {
          "output_type": "execute_result",
          "data": {
            "text/plain": [
              "tensor([[[-4.6705e-02, -2.2203e-01,  5.1181e-01,  1.3837e+00, -5.3916e-01,\n",
              "          -6.9596e-01,  1.3463e-01,  1.2832e-01, -8.7962e-01,  4.9494e-01,\n",
              "          -1.5083e-01,  2.6517e-01, -1.3036e-01,  8.1951e-02,  1.5051e+00,\n",
              "          -5.4201e-01, -2.7874e-01,  1.1454e+00,  8.0541e-02, -1.8282e-01,\n",
              "          -3.2900e-01,  9.9515e-02, -3.8351e-01, -2.0474e-01,  6.5760e-01,\n",
              "          -8.0057e-02, -4.3272e-01, -5.6177e-02,  3.3964e-01, -5.2800e-01,\n",
              "           7.3702e-02, -4.5352e-01],\n",
              "         [-4.6152e-01, -6.1738e-02, -1.6903e-01,  2.7621e-01, -1.6193e-01,\n",
              "          -5.6841e-01,  1.1046e-01, -9.5739e-02, -2.7522e-01, -2.1133e-02,\n",
              "          -2.3048e-01,  2.9836e-01, -2.5770e-01, -1.8070e-01,  5.7188e-01,\n",
              "           4.0308e-02,  1.4410e-01,  2.8084e-01,  3.3511e-01, -6.1585e-01,\n",
              "          -4.9877e-01,  4.1035e-01, -5.4315e-01, -4.6382e-02,  7.8154e-02,\n",
              "          -7.0194e-01, -2.4573e-01,  2.1918e-02,  3.4481e-01, -1.3541e-01,\n",
              "          -2.4991e-01, -5.2442e-01],\n",
              "         [-2.5963e-02,  1.4225e-02,  5.4331e-02,  9.2836e-01,  8.7893e-02,\n",
              "          -4.0581e-01,  6.5432e-02,  1.6820e-01, -3.6846e-01, -6.5435e-02,\n",
              "          -2.7564e-01,  4.8617e-01, -1.5904e-02,  4.1434e-02,  7.0672e-01,\n",
              "          -2.8747e-01,  1.0959e-02,  6.6130e-01,  2.5774e-01, -4.3030e-01,\n",
              "           9.0325e-03, -6.6646e-02, -4.4853e-01,  1.3090e-02,  4.9029e-01,\n",
              "          -4.1134e-01, -3.0135e-02, -2.6505e-01,  1.7074e-01, -7.8566e-02,\n",
              "           1.6541e-01, -3.0673e-01],\n",
              "         [ 2.2123e-01, -3.2578e-02, -3.7155e-03,  7.4895e-01, -1.2279e-01,\n",
              "          -5.3123e-01,  1.8120e-01,  9.2459e-02, -1.8928e-01,  2.2511e-01,\n",
              "          -2.2622e-01,  1.9471e-01,  3.0222e-02, -5.7308e-02,  5.8013e-01,\n",
              "          -4.8198e-01, -2.4353e-01,  6.2459e-01,  4.0067e-01, -6.8397e-01,\n",
              "          -4.1465e-01,  2.0987e-01, -1.7562e-01, -7.6992e-02,  5.7940e-01,\n",
              "          -4.1712e-01, -1.3262e-01, -3.5401e-02,  9.7374e-03,  1.2486e-01,\n",
              "           2.2315e-01, -2.7266e-01],\n",
              "         [ 1.8289e-01,  5.9376e-02,  1.5976e-01,  6.7791e-01,  1.9113e-01,\n",
              "          -3.2914e-01, -1.8333e-01, -3.2574e-02, -3.1824e-01,  2.8579e-01,\n",
              "          -7.4313e-02,  6.9066e-01,  9.1199e-02, -1.3664e-01,  4.5468e-01,\n",
              "          -5.6954e-01, -2.5033e-02,  7.3914e-01,  2.2652e-01, -1.3011e-01,\n",
              "          -2.5352e-02, -1.3029e-01,  1.9908e-01, -4.9865e-02,  4.1079e-01,\n",
              "          -3.1249e-03, -1.6956e-01, -7.5032e-02, -1.2320e-04,  1.3420e-01,\n",
              "           1.7259e-01, -1.7459e-01]]], grad_fn=<AddBackward0>)"
            ]
          },
          "metadata": {},
          "execution_count": 173
        }
      ]
    },
    {
      "cell_type": "code",
      "source": [
        "#############\n",
        "# (LM) HEAD #\n",
        "#############"
      ],
      "metadata": {
        "id": "y7sfUzouQVjD"
      },
      "execution_count": null,
      "outputs": []
    },
    {
      "cell_type": "code",
      "source": [
        "lm_head = nn.Linear(in_features=embedding_dim, out_features=vocab_size)\n",
        "logits = lm_head(t_block_2)\n",
        "logits"
      ],
      "metadata": {
        "colab": {
          "base_uri": "https://localhost:8080/"
        },
        "id": "M_U-pPfXQkDl",
        "outputId": "a41daf01-1c81-4089-cee9-284d4f3ad762"
      },
      "execution_count": null,
      "outputs": [
        {
          "output_type": "execute_result",
          "data": {
            "text/plain": [
              "tensor([[[-6.0516e-01,  1.5655e-01,  2.6236e-01,  1.8331e-01, -2.7751e-01,\n",
              "          -1.2413e-01, -2.6983e-03, -1.3559e-01, -2.5169e-02, -3.4957e-01,\n",
              "          -3.7576e-01, -4.8344e-01, -3.9256e-01,  1.7772e-01, -3.6845e-01,\n",
              "           1.9012e-01,  1.5632e-01, -3.3650e-01, -3.7067e-01,  2.2451e-01,\n",
              "          -2.8597e-01,  1.5639e-01,  1.6548e-01, -2.7145e-01, -6.3642e-01,\n",
              "          -3.3663e-02, -3.7468e-01, -1.4023e-01,  9.9101e-02, -1.1596e-01,\n",
              "          -3.2395e-01, -2.2003e-01, -9.6624e-01,  4.5272e-02, -6.0836e-02,\n",
              "          -1.4989e-01,  2.2971e-01, -2.6963e-01, -1.5948e-01,  2.7682e-01,\n",
              "           4.6036e-01,  4.0381e-01, -6.1989e-01, -2.8557e-01, -5.4751e-01,\n",
              "           4.7636e-01,  1.6476e-01,  6.0592e-01, -6.0123e-02, -6.1876e-02,\n",
              "           9.4437e-02, -4.7597e-01, -1.3291e-01,  5.8116e-01, -2.9419e-01,\n",
              "           6.9870e-02, -7.4187e-03,  3.0580e-03, -8.4652e-01,  1.6101e-01,\n",
              "          -4.9168e-01, -1.6414e-01, -2.0172e-02, -2.7949e-02,  4.8693e-02],\n",
              "         [-3.7021e-01, -3.0444e-01,  2.5594e-01,  2.7104e-01,  9.8057e-02,\n",
              "          -2.1196e-01, -5.2636e-02,  1.1126e-01, -2.0511e-01, -4.0480e-02,\n",
              "          -2.2866e-01,  4.8766e-02,  5.3831e-02,  1.5822e-01, -8.9817e-02,\n",
              "          -1.7801e-01,  1.0194e-02, -6.1195e-02, -4.2064e-02,  3.7487e-02,\n",
              "          -9.7675e-02, -1.5347e-01,  5.8733e-02,  8.4607e-02, -2.1799e-01,\n",
              "           5.8967e-02, -1.8126e-01,  1.1482e-01,  4.3427e-02,  2.3150e-01,\n",
              "           2.4734e-01, -8.0725e-02, -4.8028e-01, -2.2539e-01, -3.1222e-03,\n",
              "          -1.2339e-02,  2.0929e-01, -9.2830e-02, -1.6823e-01,  2.8679e-01,\n",
              "           3.5175e-01,  3.1284e-01, -2.3105e-01, -2.5891e-01, -3.7605e-01,\n",
              "           5.2011e-01, -3.8249e-02,  1.2045e-01,  1.4396e-01,  1.8276e-01,\n",
              "           1.3053e-01,  2.5154e-02, -1.0090e-01,  2.2400e-01,  6.9596e-02,\n",
              "           3.5518e-01,  1.5390e-01,  3.3798e-02, -4.6225e-01, -6.1431e-02,\n",
              "          -2.1956e-01, -7.0268e-02, -1.3897e-01, -2.1315e-01, -5.4661e-02],\n",
              "         [-6.7546e-01, -5.2976e-02,  2.3551e-01,  2.4459e-01, -2.4620e-01,\n",
              "           8.4579e-02,  1.6356e-03, -1.0811e-01, -1.2891e-02, -1.5401e-01,\n",
              "          -2.2816e-01, -2.6128e-01,  4.9370e-02,  1.2556e-01, -1.1873e-01,\n",
              "           1.6038e-01,  1.7817e-01, -1.1699e-01, -1.3434e-01,  1.7208e-01,\n",
              "          -3.8709e-03, -4.0475e-02,  4.0456e-02, -5.5035e-02, -2.7471e-01,\n",
              "          -5.2763e-02, -1.6306e-01,  6.3513e-02,  8.1313e-02,  1.5116e-01,\n",
              "          -2.3674e-01, -9.0473e-02, -6.7351e-01, -1.2180e-01,  1.9868e-02,\n",
              "          -5.5206e-03,  8.4525e-02, -3.3899e-01, -2.0335e-01,  2.8636e-01,\n",
              "           2.6068e-01,  3.2315e-01, -2.8851e-01, -3.7063e-01, -3.8123e-01,\n",
              "           4.1958e-01,  3.3111e-02,  3.5035e-01, -1.3212e-01,  1.8200e-01,\n",
              "           2.9516e-02, -2.7414e-02, -3.7675e-03,  3.4076e-01, -2.1268e-01,\n",
              "           3.7277e-01, -1.0262e-02,  7.8344e-02, -4.7878e-01,  7.7082e-02,\n",
              "          -3.2062e-01, -3.1863e-01, -6.4190e-02, -8.3842e-02,  2.1041e-02],\n",
              "         [-5.6606e-01, -1.3481e-01,  3.3375e-01,  1.9012e-01, -1.8310e-01,\n",
              "          -6.5382e-02,  9.1333e-02,  2.1677e-02, -1.7319e-01, -1.3813e-01,\n",
              "          -3.5238e-01, -2.0578e-01,  1.6294e-01,  1.2563e-01, -2.0596e-01,\n",
              "           1.0783e-01,  2.4942e-01, -1.2065e-01, -1.0463e-01,  2.0016e-01,\n",
              "          -2.2004e-02,  4.3237e-02,  1.3094e-01, -3.4672e-01, -2.6676e-01,\n",
              "          -2.6521e-02, -6.5633e-02,  9.8898e-02,  2.8668e-01,  1.8083e-01,\n",
              "          -8.3437e-02, -1.5749e-01, -6.0164e-01,  1.2988e-01, -4.0638e-02,\n",
              "           8.3343e-02,  1.7284e-01, -2.2679e-01, -2.0109e-01,  1.6408e-01,\n",
              "           1.6586e-01,  4.6497e-01, -2.9427e-01, -3.2660e-01, -3.8002e-01,\n",
              "           5.9185e-01,  5.9911e-02,  3.4281e-01,  2.0890e-02,  2.1418e-01,\n",
              "          -1.6675e-03,  5.7682e-04, -5.7746e-02,  2.2240e-01, -2.2842e-01,\n",
              "           4.8068e-01,  6.4363e-02,  1.4325e-03, -6.7196e-01, -1.5266e-01,\n",
              "          -4.1932e-01, -1.9824e-01, -7.4791e-02, -1.3116e-01, -1.1999e-01],\n",
              "         [-5.2090e-01,  2.1589e-02,  3.1817e-01,  1.4184e-01, -2.4015e-01,\n",
              "           2.2421e-01, -1.4142e-01,  4.0331e-02,  3.2696e-02, -1.9338e-01,\n",
              "          -2.5402e-01, -2.9507e-01, -8.9703e-02, -4.3285e-03, -1.2173e-01,\n",
              "           2.1901e-01,  1.9871e-01, -4.2503e-03, -6.5242e-02,  1.2136e-01,\n",
              "           2.7501e-02,  3.7608e-02,  6.2656e-02, -1.8846e-01, -3.2235e-01,\n",
              "          -6.7581e-03,  3.1403e-05, -7.9237e-02,  9.3410e-02, -2.1853e-01,\n",
              "          -9.9796e-02, -1.3916e-02, -4.3592e-01, -1.1222e-01,  2.6423e-02,\n",
              "          -1.3610e-01,  9.0727e-02, -2.7822e-01, -7.6743e-02,  3.0005e-01,\n",
              "           2.7401e-01,  2.9631e-01, -2.5183e-01, -2.9095e-01, -2.6957e-01,\n",
              "           3.2619e-01,  3.0517e-02,  1.7076e-01, -9.7507e-02,  3.5654e-02,\n",
              "          -9.5324e-02, -1.0363e-01,  5.2526e-02,  2.9986e-01, -3.9054e-01,\n",
              "           3.1078e-01, -1.1488e-01, -2.1603e-01, -6.7871e-01, -3.1943e-02,\n",
              "          -4.4530e-01, -2.6601e-02, -1.3516e-01, -2.0793e-01, -1.4741e-01]]],\n",
              "       grad_fn=<ViewBackward0>)"
            ]
          },
          "metadata": {},
          "execution_count": 175
        }
      ]
    },
    {
      "cell_type": "code",
      "source": [
        "###########\n",
        "# Softmax #\n",
        "###########"
      ],
      "metadata": {
        "id": "thcq_pd9Uer-"
      },
      "execution_count": null,
      "outputs": []
    },
    {
      "cell_type": "code",
      "source": [
        "probs = F.softmax(logits[:, -1, :], dim=-1)\n",
        "encoded_token = torch.argmax(probs)\n",
        "probs, encoded_token\n",
        "decode([encoded_token.item()])"
      ],
      "metadata": {
        "colab": {
          "base_uri": "https://localhost:8080/",
          "height": 35
        },
        "id": "sy3HSPqwUhff",
        "outputId": "70482522-5ce8-46ba-ea37-7851baaf1dfb"
      },
      "execution_count": null,
      "outputs": [
        {
          "output_type": "execute_result",
          "data": {
            "text/plain": [
              "'t'"
            ],
            "application/vnd.google.colaboratory.intrinsic+json": {
              "type": "string"
            }
          },
          "metadata": {},
          "execution_count": 142
        }
      ]
    },
    {
      "cell_type": "code",
      "source": [
        "#################\n",
        "# TRAINING LOOP #\n",
        "#################"
      ],
      "metadata": {
        "id": "l_qH4nlOaK-N"
      },
      "execution_count": null,
      "outputs": []
    },
    {
      "cell_type": "code",
      "source": [
        "#####################\n",
        "# GENERATE FUNCTION #\n",
        "#####################"
      ],
      "metadata": {
        "id": "eZ_UxK68aPo7"
      },
      "execution_count": null,
      "outputs": []
    },
    {
      "cell_type": "code",
      "source": [
        "test = torch.ones(4,8,3)\n",
        "test"
      ],
      "metadata": {
        "colab": {
          "base_uri": "https://localhost:8080/"
        },
        "id": "IaYbte54hzQK",
        "outputId": "f6ef2cec-88e9-4b92-a41d-e2f3827aae2f"
      },
      "execution_count": null,
      "outputs": [
        {
          "output_type": "execute_result",
          "data": {
            "text/plain": [
              "tensor([[[1., 1., 1.],\n",
              "         [1., 1., 1.],\n",
              "         [1., 1., 1.],\n",
              "         [1., 1., 1.],\n",
              "         [1., 1., 1.],\n",
              "         [1., 1., 1.],\n",
              "         [1., 1., 1.],\n",
              "         [1., 1., 1.]],\n",
              "\n",
              "        [[1., 1., 1.],\n",
              "         [1., 1., 1.],\n",
              "         [1., 1., 1.],\n",
              "         [1., 1., 1.],\n",
              "         [1., 1., 1.],\n",
              "         [1., 1., 1.],\n",
              "         [1., 1., 1.],\n",
              "         [1., 1., 1.]],\n",
              "\n",
              "        [[1., 1., 1.],\n",
              "         [1., 1., 1.],\n",
              "         [1., 1., 1.],\n",
              "         [1., 1., 1.],\n",
              "         [1., 1., 1.],\n",
              "         [1., 1., 1.],\n",
              "         [1., 1., 1.],\n",
              "         [1., 1., 1.]],\n",
              "\n",
              "        [[1., 1., 1.],\n",
              "         [1., 1., 1.],\n",
              "         [1., 1., 1.],\n",
              "         [1., 1., 1.],\n",
              "         [1., 1., 1.],\n",
              "         [1., 1., 1.],\n",
              "         [1., 1., 1.],\n",
              "         [1., 1., 1.]]])"
            ]
          },
          "metadata": {},
          "execution_count": 143
        }
      ]
    },
    {
      "cell_type": "code",
      "source": [
        "torch.sum(test, dim=-1)"
      ],
      "metadata": {
        "colab": {
          "base_uri": "https://localhost:8080/"
        },
        "id": "o1TgNWpXsgvf",
        "outputId": "66403048-bd89-420b-d72f-4bd7bb76bc83"
      },
      "execution_count": null,
      "outputs": [
        {
          "output_type": "execute_result",
          "data": {
            "text/plain": [
              "tensor([[3., 3., 3., 3., 3., 3., 3., 3.],\n",
              "        [3., 3., 3., 3., 3., 3., 3., 3.],\n",
              "        [3., 3., 3., 3., 3., 3., 3., 3.],\n",
              "        [3., 3., 3., 3., 3., 3., 3., 3.]])"
            ]
          },
          "metadata": {},
          "execution_count": 144
        }
      ]
    },
    {
      "cell_type": "code",
      "source": [],
      "metadata": {
        "id": "R6ziYO3ksk1k"
      },
      "execution_count": null,
      "outputs": []
    }
  ]
}