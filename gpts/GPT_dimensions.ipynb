{
  "nbformat": 4,
  "nbformat_minor": 0,
  "metadata": {
    "colab": {
      "provenance": [],
      "authorship_tag": "ABX9TyPenjk7j3Oq1SHKPeT9OmHK",
      "include_colab_link": true
    },
    "kernelspec": {
      "name": "python3",
      "display_name": "Python 3"
    },
    "language_info": {
      "name": "python"
    }
  },
  "cells": [
    {
      "cell_type": "markdown",
      "metadata": {
        "id": "view-in-github",
        "colab_type": "text"
      },
      "source": [
        "<a href=\"https://colab.research.google.com/github/G0nkly/pytorch_sandbox/blob/main/gpts/GPT_dimensions.ipynb\" target=\"_parent\"><img src=\"https://colab.research.google.com/assets/colab-badge.svg\" alt=\"Open In Colab\"/></a>"
      ]
    },
    {
      "cell_type": "code",
      "source": [
        "import torch\n",
        "import torch.nn as nn"
      ],
      "metadata": {
        "id": "Y1aOJOJ1KCmK"
      },
      "execution_count": 2,
      "outputs": []
    },
    {
      "cell_type": "code",
      "execution_count": 3,
      "metadata": {
        "id": "3qCyCGVskuv4"
      },
      "outputs": [],
      "source": [
        "# Lets look at each of the layers\n",
        "# 1) Encoding\n",
        "# 2) Embedding\n",
        "# 3) Positional Encoding\n",
        "# 4) Attention: key, query, value\n",
        "# 5) Feedforward\n",
        "# 6) Block/Layernorm\n",
        "# 7) Classification / LM Head"
      ]
    },
    {
      "cell_type": "code",
      "source": [
        "################\n",
        "# DATA EXAMPLE #\n",
        "################\n",
        "\n",
        "!wget https://raw.githubusercontent.com/karpathy/char-rnn/master/data/tinyshakespeare/input.txt\n",
        "\n",
        "with open(mode=\"r\", file=\"input.txt\") as f:\n",
        "  text = f.read()\n",
        "\n",
        "vocab = list(sorted(set(text)))"
      ],
      "metadata": {
        "colab": {
          "base_uri": "https://localhost:8080/"
        },
        "id": "FaC8pwxBKXVi",
        "outputId": "462ac653-d5fb-407e-9c3a-6e505bf15d2e"
      },
      "execution_count": 4,
      "outputs": [
        {
          "output_type": "stream",
          "name": "stdout",
          "text": [
            "--2025-06-11 20:21:00--  https://raw.githubusercontent.com/karpathy/char-rnn/master/data/tinyshakespeare/input.txt\n",
            "Resolving raw.githubusercontent.com (raw.githubusercontent.com)... 185.199.111.133, 185.199.109.133, 185.199.110.133, ...\n",
            "Connecting to raw.githubusercontent.com (raw.githubusercontent.com)|185.199.111.133|:443... connected.\n",
            "HTTP request sent, awaiting response... 200 OK\n",
            "Length: 1115394 (1.1M) [text/plain]\n",
            "Saving to: ‘input.txt’\n",
            "\n",
            "input.txt           100%[===================>]   1.06M  --.-KB/s    in 0.04s   \n",
            "\n",
            "2025-06-11 20:21:01 (27.1 MB/s) - ‘input.txt’ saved [1115394/1115394]\n",
            "\n"
          ]
        }
      ]
    },
    {
      "cell_type": "code",
      "source": [
        "##################\n",
        "# HYPERPARAMTERS #\n",
        "##################"
      ],
      "metadata": {
        "id": "QITuTbF7KLJB"
      },
      "execution_count": 5,
      "outputs": []
    },
    {
      "cell_type": "code",
      "source": [
        "vocab_size = len(vocab)\n",
        "embedding_dim = 32\n",
        "block_size = 8"
      ],
      "metadata": {
        "id": "inC3GWsPKQSl"
      },
      "execution_count": 6,
      "outputs": []
    },
    {
      "cell_type": "code",
      "source": [
        "############\n",
        "# ENCODING #\n",
        "############"
      ],
      "metadata": {
        "id": "KznIrUvIJrAn"
      },
      "execution_count": 7,
      "outputs": []
    },
    {
      "cell_type": "code",
      "source": [
        "stoi = {v:k for k,v in enumerate(vocab)}\n",
        "itos = {k:v for k,v in enumerate(vocab)}\n",
        "encode = lambda seq: [stoi[char] for char in seq]\n",
        "decode = lambda numbers: \"\".join([itos[num] for num in numbers])\n",
        "\n",
        "def get_batch(split: str):\n",
        "  dataset = train if split == \"train\" else val"
      ],
      "metadata": {
        "id": "ghD7YPk8HXsr"
      },
      "execution_count": 8,
      "outputs": []
    },
    {
      "cell_type": "code",
      "source": [
        "#############\n",
        "# EMBEDDING #\n",
        "#############"
      ],
      "metadata": {
        "id": "7bf0P7L9Id9u"
      },
      "execution_count": 9,
      "outputs": []
    },
    {
      "cell_type": "code",
      "source": [
        "embedding = nn.Embedding(num_embeddings=vocab_size, embedding_dim=embedding_dim)"
      ],
      "metadata": {
        "id": "d0zeDIuzKBgA"
      },
      "execution_count": 10,
      "outputs": []
    },
    {
      "cell_type": "code",
      "source": [
        "t = torch.tensor(encode(\"Haubi\"))"
      ],
      "metadata": {
        "id": "HirEowEUODk6"
      },
      "execution_count": 11,
      "outputs": []
    },
    {
      "cell_type": "code",
      "source": [
        "embedding(t)"
      ],
      "metadata": {
        "colab": {
          "base_uri": "https://localhost:8080/"
        },
        "id": "KyIOe9_tOMPE",
        "outputId": "2e8b2658-5737-4022-dad1-9ebf221c034f"
      },
      "execution_count": 12,
      "outputs": [
        {
          "output_type": "execute_result",
          "data": {
            "text/plain": [
              "tensor([[ 8.4160e-02,  1.2279e+00,  3.6452e-01,  1.1919e+00,  8.0834e-01,\n",
              "          6.7032e-02, -2.1322e+00, -7.1546e-01,  4.9774e-01, -7.0984e-01,\n",
              "          4.0165e-01,  6.0844e-01, -2.0802e-01,  2.2465e-02,  4.6868e-01,\n",
              "         -1.5008e+00, -1.4298e+00, -1.1489e+00,  1.5756e+00, -1.8161e-01,\n",
              "          1.0268e+00,  1.9409e+00,  9.2082e-04, -3.5998e-01, -2.5109e-01,\n",
              "         -5.2287e-03,  2.5216e-01,  3.8218e-02, -1.7786e+00, -9.1354e-01,\n",
              "         -1.7150e+00,  9.9102e-01],\n",
              "        [ 1.2272e+00, -1.3678e+00, -9.7782e-02, -4.2614e-01, -8.0029e-01,\n",
              "         -7.6366e-01, -1.6327e+00,  1.2827e-01, -5.5607e-01, -1.1568e+00,\n",
              "          6.7547e-01, -1.0693e+00,  7.9825e-02,  1.6315e+00,  1.3325e+00,\n",
              "         -1.0740e+00, -8.8620e-01,  5.0538e-01,  1.9118e+00,  5.1301e-01,\n",
              "         -3.4828e-01, -3.7403e-01,  3.5642e+00,  5.7410e-01, -1.1791e-02,\n",
              "          2.3124e-01, -5.6447e-01, -1.3990e+00,  3.3921e-01,  6.5988e-01,\n",
              "         -9.4784e-01, -1.1806e+00],\n",
              "        [-3.6709e-01,  1.4608e+00, -7.5179e-04,  5.2248e-01,  3.1656e-01,\n",
              "         -1.2330e+00, -6.4928e-01, -1.3784e+00, -2.5550e-01, -1.1078e+00,\n",
              "          2.5484e-01, -1.1015e+00, -1.3920e+00,  4.7462e-02, -5.4322e-01,\n",
              "          4.7813e-01, -1.3362e+00,  1.0978e+00,  6.1443e-01,  1.2150e+00,\n",
              "          4.8171e-01,  2.4120e-01, -1.5108e+00, -1.7423e+00,  8.6211e-01,\n",
              "         -1.5243e+00, -7.9612e-01, -1.3380e+00, -6.4321e-02,  2.8406e-01,\n",
              "         -5.3894e-01, -1.3053e+00],\n",
              "        [-1.9301e+00, -1.7004e+00,  4.0235e-01, -1.1663e-01,  4.6136e-01,\n",
              "          2.1709e+00,  2.7855e-01, -1.3775e+00,  8.9787e-01, -2.3753e-01,\n",
              "         -2.0459e+00,  2.4545e-02, -1.6686e+00, -1.0472e+00,  6.5447e-01,\n",
              "          7.1423e-01, -7.0140e-01, -2.2152e-01, -1.5050e+00, -2.4644e+00,\n",
              "          4.4564e-01, -2.2368e+00,  8.3714e-01,  7.5773e-01,  1.3779e-01,\n",
              "         -3.6510e-01, -2.3049e-01, -4.3677e-01, -6.7050e-01,  1.6601e-01,\n",
              "          7.2602e-01,  2.6679e-02],\n",
              "        [-1.8775e-02,  6.9003e-01, -1.1234e+00, -1.5306e-01,  1.4507e+00,\n",
              "         -1.8822e+00, -4.9983e-01, -5.1052e-01,  4.0882e-02, -1.0826e-01,\n",
              "         -2.1179e-01, -5.1812e-01, -4.5449e-01,  7.5104e-01,  1.2818e-01,\n",
              "         -8.1540e-01,  4.0898e-01,  1.1639e+00,  1.4335e+00, -2.5821e+00,\n",
              "          1.6368e+00, -8.2393e-01,  1.7584e+00, -2.2812e-01,  3.0393e-01,\n",
              "         -1.8179e-01, -3.5740e-01,  4.7701e-01, -4.8519e-01,  7.7551e-01,\n",
              "          1.8462e+00,  1.5936e-01]], grad_fn=<EmbeddingBackward0>)"
            ]
          },
          "metadata": {},
          "execution_count": 12
        }
      ]
    },
    {
      "cell_type": "code",
      "source": [
        "#########################\n",
        "# POSITIONAL 'ENCODING' #\n",
        "#########################"
      ],
      "metadata": {
        "id": "uEBhtYKQONlj"
      },
      "execution_count": 13,
      "outputs": []
    },
    {
      "cell_type": "code",
      "source": [
        "postional_embedding = nn.Embedding(num_embeddings=5, embedding_dim=32)"
      ],
      "metadata": {
        "id": "dHmnOaSVPmeS"
      },
      "execution_count": 14,
      "outputs": []
    },
    {
      "cell_type": "code",
      "source": [
        "postional_embedding(torch.arange(5)).shape"
      ],
      "metadata": {
        "colab": {
          "base_uri": "https://localhost:8080/"
        },
        "id": "24mQLBiyReS5",
        "outputId": "e079376c-ce2d-40ec-a0cf-a20e243266b4"
      },
      "execution_count": 15,
      "outputs": [
        {
          "output_type": "execute_result",
          "data": {
            "text/plain": [
              "torch.Size([5, 32])"
            ]
          },
          "metadata": {},
          "execution_count": 15
        }
      ]
    },
    {
      "cell_type": "code",
      "source": [
        "embedding(t) + postional_embedding(torch.arange(5, dtype=torch.long))"
      ],
      "metadata": {
        "colab": {
          "base_uri": "https://localhost:8080/"
        },
        "id": "fnBn3VO3RnEw",
        "outputId": "6c516c32-72dc-4ad8-9221-5320652c4e58"
      },
      "execution_count": 16,
      "outputs": [
        {
          "output_type": "execute_result",
          "data": {
            "text/plain": [
              "tensor([[ 0.6987,  1.7524,  0.8935,  1.5398, -1.5348,  0.1344, -2.5978, -0.9702,\n",
              "          0.5046,  0.2203, -0.4480,  1.1483, -1.0087,  0.0417,  0.2136,  0.4590,\n",
              "         -2.1786, -0.1652,  1.7199,  1.3189,  0.2216,  0.7922, -0.8150,  0.0548,\n",
              "         -0.1591, -1.8776, -0.7800, -0.3977, -3.1736, -1.5457, -2.9193,  0.6388],\n",
              "        [ 2.2365, -0.7150, -1.8626, -1.2776, -1.7358,  0.9312, -0.7338, -0.3099,\n",
              "         -0.7670, -1.9667, -0.4987, -1.8199, -1.3588,  2.4415,  2.1411, -0.3670,\n",
              "          1.4963, -1.2768,  2.0183, -0.0157, -1.0846, -1.9387,  2.6798,  0.2521,\n",
              "          1.3079,  0.3426, -0.3875,  0.8383, -2.3966,  1.2665, -2.0983, -0.7075],\n",
              "        [ 0.0077,  0.5554,  1.2895,  1.3382,  0.8501, -2.5709, -2.2213, -2.4642,\n",
              "         -0.7230, -1.1186, -0.4687, -0.5210, -1.0520,  1.1431, -0.9622,  0.2143,\n",
              "         -1.5823,  2.4622,  4.4765,  3.3754,  0.3913,  0.5983, -2.3291, -0.3625,\n",
              "          1.4057, -0.3774,  0.2868, -2.5753,  1.5666,  0.2353,  0.2035, -1.5420],\n",
              "        [-2.2283, -1.0532,  1.3025, -0.2783,  2.1182,  2.1612, -0.1898, -0.2860,\n",
              "         -0.8043,  0.9729, -1.3056,  1.2463, -0.6316, -0.4108,  2.0639,  0.4094,\n",
              "         -0.8417, -1.2546, -1.0828, -3.7546,  2.0781, -0.9924,  0.5622,  0.9729,\n",
              "         -0.6598,  0.1692, -0.0141, -0.6171, -1.9045,  0.6278,  0.1246, -0.2242],\n",
              "        [-2.2577,  1.5069, -1.4133, -0.2064,  2.3551, -2.3299, -0.1610, -0.3762,\n",
              "         -0.9672, -0.6717, -1.2140, -0.4243, -0.9117,  0.4752,  1.1701, -0.2852,\n",
              "          0.7135,  0.8610,  0.1551, -3.1007,  0.7853, -0.5560,  1.3891, -0.9972,\n",
              "          2.1539, -1.6592, -1.9250, -1.2694, -1.2646,  0.9246,  0.7244, -0.3015]],\n",
              "       grad_fn=<AddBackward0>)"
            ]
          },
          "metadata": {},
          "execution_count": 16
        }
      ]
    },
    {
      "cell_type": "code",
      "source": [
        "#############\n",
        "# ATTENTION #\n",
        "#############"
      ],
      "metadata": {
        "id": "kVyuxDh5Rwvo"
      },
      "execution_count": 17,
      "outputs": []
    },
    {
      "cell_type": "code",
      "source": [
        "# since its not MultiHeadAttention input_dim == output_dim\n",
        "\n",
        "key_layer = nn.Linear(in_features=embedding_dim, out_features=embedding_dim)\n",
        "query_layer = nn.Linear(in_features=embedding_dim, out_features=embedding_dim)\n",
        "value_layer = nn.Linear(in_features=embedding_dim, out_features=embedding_dim)"
      ],
      "metadata": {
        "id": "CLdJKYDZm7cP"
      },
      "execution_count": 19,
      "outputs": []
    },
    {
      "cell_type": "code",
      "source": [],
      "metadata": {
        "id": "3WSinYAipzEh"
      },
      "execution_count": null,
      "outputs": []
    }
  ]
}