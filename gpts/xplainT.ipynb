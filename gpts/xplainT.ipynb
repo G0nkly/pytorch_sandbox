{
  "nbformat": 4,
  "nbformat_minor": 0,
  "metadata": {
    "colab": {
      "provenance": [],
      "authorship_tag": "ABX9TyNGz7dU9uytwnJa+WUbEKzd",
      "include_colab_link": true
    },
    "kernelspec": {
      "name": "python3",
      "display_name": "Python 3"
    },
    "language_info": {
      "name": "python"
    }
  },
  "cells": [
    {
      "cell_type": "markdown",
      "metadata": {
        "id": "view-in-github",
        "colab_type": "text"
      },
      "source": [
        "<a href=\"https://colab.research.google.com/github/G0nkly/pytorch_sandbox/blob/main/gpts/xplainT.ipynb\" target=\"_parent\"><img src=\"https://colab.research.google.com/assets/colab-badge.svg\" alt=\"Open In Colab\"/></a>"
      ]
    },
    {
      "cell_type": "code",
      "execution_count": 60,
      "metadata": {
        "id": "-knMob-ZM-1V"
      },
      "outputs": [],
      "source": [
        "import torch\n",
        "import torch.nn as nn\n",
        "import torch.nn.functional as F"
      ]
    },
    {
      "cell_type": "code",
      "source": [
        "! wget https://raw.githubusercontent.com/karpathy/char-rnn/master/data/tinyshakespeare/input.txt"
      ],
      "metadata": {
        "colab": {
          "base_uri": "https://localhost:8080/"
        },
        "id": "pdzsO4TKNFLB",
        "outputId": "e68b1352-497b-4248-e0f8-ddaa056177f6"
      },
      "execution_count": 2,
      "outputs": [
        {
          "output_type": "stream",
          "name": "stdout",
          "text": [
            "--2025-07-05 08:29:28--  https://raw.githubusercontent.com/karpathy/char-rnn/master/data/tinyshakespeare/input.txt\n",
            "Resolving raw.githubusercontent.com (raw.githubusercontent.com)... 185.199.108.133, 185.199.110.133, 185.199.109.133, ...\n",
            "Connecting to raw.githubusercontent.com (raw.githubusercontent.com)|185.199.108.133|:443... connected.\n",
            "HTTP request sent, awaiting response... 200 OK\n",
            "Length: 1115394 (1.1M) [text/plain]\n",
            "Saving to: ‘input.txt’\n",
            "\n",
            "input.txt           100%[===================>]   1.06M  4.00MB/s    in 0.3s    \n",
            "\n",
            "2025-07-05 08:29:29 (4.00 MB/s) - ‘input.txt’ saved [1115394/1115394]\n",
            "\n"
          ]
        }
      ]
    },
    {
      "cell_type": "code",
      "source": [
        "with open(mode=\"r\", file=\"input.txt\") as f:\n",
        "  text = f.read()\n",
        "\n",
        "text[:1000]"
      ],
      "metadata": {
        "colab": {
          "base_uri": "https://localhost:8080/",
          "height": 105
        },
        "id": "AAt04Vx-O4Ri",
        "outputId": "baff71bc-9c38-49c5-8e42-8e07d3abbd25"
      },
      "execution_count": 3,
      "outputs": [
        {
          "output_type": "execute_result",
          "data": {
            "text/plain": [
              "\"First Citizen:\\nBefore we proceed any further, hear me speak.\\n\\nAll:\\nSpeak, speak.\\n\\nFirst Citizen:\\nYou are all resolved rather to die than to famish?\\n\\nAll:\\nResolved. resolved.\\n\\nFirst Citizen:\\nFirst, you know Caius Marcius is chief enemy to the people.\\n\\nAll:\\nWe know't, we know't.\\n\\nFirst Citizen:\\nLet us kill him, and we'll have corn at our own price.\\nIs't a verdict?\\n\\nAll:\\nNo more talking on't; let it be done: away, away!\\n\\nSecond Citizen:\\nOne word, good citizens.\\n\\nFirst Citizen:\\nWe are accounted poor citizens, the patricians good.\\nWhat authority surfeits on would relieve us: if they\\nwould yield us but the superfluity, while it were\\nwholesome, we might guess they relieved us humanely;\\nbut they think we are too dear: the leanness that\\nafflicts us, the object of our misery, is as an\\ninventory to particularise their abundance; our\\nsufferance is a gain to them Let us revenge this with\\nour pikes, ere we become rakes: for the gods know I\\nspeak this in hunger for bread, not in thirst for revenge.\\n\\n\""
            ],
            "application/vnd.google.colaboratory.intrinsic+json": {
              "type": "string"
            }
          },
          "metadata": {},
          "execution_count": 3
        }
      ]
    },
    {
      "cell_type": "code",
      "source": [
        "vocab = sorted(set(list(text)))"
      ],
      "metadata": {
        "id": "YwHfhC4GO-Ra"
      },
      "execution_count": 4,
      "outputs": []
    },
    {
      "cell_type": "code",
      "source": [
        "stoi = {v : k for k, v in enumerate(vocab)}\n",
        "itos = {k : v for k, v in enumerate(vocab)}\n",
        "\n",
        "encode = lambda seq : [stoi[s] for s in seq]\n",
        "decode = lambda idx : \"\".join([itos[x] for x in idx])"
      ],
      "metadata": {
        "id": "r4JfpdA5SoLI"
      },
      "execution_count": 5,
      "outputs": []
    },
    {
      "cell_type": "code",
      "source": [
        "data = torch.tensor(encode(text))"
      ],
      "metadata": {
        "id": "v4VBhSu_X1LT"
      },
      "execution_count": 6,
      "outputs": []
    },
    {
      "cell_type": "code",
      "source": [
        "###################\n",
        "# HYPERPARAMETERS #\n",
        "###################\n",
        "embed_dim = 32\n",
        "block_size = 8"
      ],
      "metadata": {
        "id": "xJcZNvD4VH_7"
      },
      "execution_count": 7,
      "outputs": []
    },
    {
      "cell_type": "code",
      "source": [
        "tokenized_input = torch.randint(len(vocab), (1, block_size))\n",
        "tokenized_input"
      ],
      "metadata": {
        "colab": {
          "base_uri": "https://localhost:8080/"
        },
        "id": "FNUJDwWVz2Pz",
        "outputId": "ee208a3a-4b50-419f-8ca5-e2c2c6ba1a84"
      },
      "execution_count": 43,
      "outputs": [
        {
          "output_type": "execute_result",
          "data": {
            "text/plain": [
              "tensor([[32, 59, 30, 64, 47,  6, 21,  4]])"
            ]
          },
          "metadata": {},
          "execution_count": 43
        }
      ]
    },
    {
      "cell_type": "code",
      "source": [
        "token_embedding = nn.Embedding(len(vocab), embed_dim)"
      ],
      "metadata": {
        "id": "WXdWRf4VaV5G"
      },
      "execution_count": 44,
      "outputs": []
    },
    {
      "cell_type": "code",
      "source": [
        "tok_embd = token_embedding(tokenized_input)\n",
        "tok_embd"
      ],
      "metadata": {
        "colab": {
          "base_uri": "https://localhost:8080/"
        },
        "id": "I6TSVi-0aaLg",
        "outputId": "b7275565-af0a-4b63-d81c-8effa9b115ab"
      },
      "execution_count": 45,
      "outputs": [
        {
          "output_type": "execute_result",
          "data": {
            "text/plain": [
              "tensor([[[ 4.3306e-01,  4.2382e-01,  1.1437e+00,  3.2522e+00, -4.7278e-01,\n",
              "          -7.7109e-01,  1.7602e+00,  7.9652e-01, -2.4368e-01, -7.3788e-01,\n",
              "           3.5720e-01,  9.4277e-01, -2.2218e-01,  1.1993e+00,  1.0146e+00,\n",
              "           1.8471e-01,  4.2926e-01, -5.0482e-01,  1.8994e-01,  1.4611e+00,\n",
              "           4.8480e-02,  1.1599e+00, -2.9260e+00,  5.8502e-01,  3.6411e-01,\n",
              "          -1.7409e+00, -3.6501e-01,  7.7247e-01,  3.0108e-01, -2.9392e-01,\n",
              "          -1.4681e+00, -5.1487e-01],\n",
              "         [ 4.9305e-01, -2.0926e+00,  3.1621e-02,  1.5678e+00,  8.0986e-01,\n",
              "           1.0023e+00, -8.5893e-01, -4.2041e-01,  2.0969e-02,  9.8109e-03,\n",
              "          -2.7307e-01,  1.7060e-01, -1.7654e+00,  1.8980e-02, -4.6169e-01,\n",
              "           1.7188e+00, -1.1971e+00, -7.2910e-01, -4.2490e-01, -5.3011e-01,\n",
              "           1.0966e+00, -8.0194e-01, -8.8083e-02, -1.3399e+00, -6.9621e-01,\n",
              "           1.8115e-01, -1.2060e+00, -9.3327e-01,  9.0301e-01,  9.0591e-01,\n",
              "          -2.7146e-01,  9.0703e-01],\n",
              "         [ 1.9537e-01, -1.4872e+00, -1.0227e+00,  3.5635e-01, -1.0586e+00,\n",
              "          -1.0948e+00, -2.9309e-01, -1.0775e+00,  1.7215e-01, -2.0559e-01,\n",
              "          -3.5261e-01,  6.9235e-01,  1.1427e+00,  1.6300e-01,  7.7354e-01,\n",
              "          -4.7899e-01, -1.6974e+00,  6.4545e-01,  2.5189e+00,  7.6249e-01,\n",
              "           1.0135e-01, -9.6814e-01,  1.1153e+00, -2.1437e+00, -4.9296e-01,\n",
              "          -5.4455e-02, -9.5696e-01, -6.1662e-01, -2.9752e-01, -4.2400e-01,\n",
              "          -1.2847e+00,  4.0105e-01],\n",
              "         [-4.0205e-01,  1.1323e+00,  1.0814e+00, -2.0706e-01,  8.1185e-01,\n",
              "           5.3497e-01,  2.5455e-01,  1.2911e-01,  1.1175e+00,  4.1553e-02,\n",
              "           1.7049e+00,  7.6187e-01,  2.2103e-01, -1.8495e+00, -3.7676e-01,\n",
              "           8.7519e-01, -9.2167e-01,  2.9716e-01,  2.7140e-01,  1.2691e+00,\n",
              "          -4.4433e-01,  1.1348e+00, -8.7519e-01,  3.4546e-01,  9.2051e-01,\n",
              "           9.4088e-01, -9.7479e-01,  2.5257e+00,  1.4905e-01, -4.5328e-01,\n",
              "          -9.0261e-01,  1.2607e+00],\n",
              "         [-6.8561e-01, -7.1780e-01, -3.3937e-01, -4.9866e-01,  2.1746e-02,\n",
              "           2.4075e-01, -6.5312e-01,  2.6429e-01,  8.9559e-01, -4.6127e-01,\n",
              "          -3.5405e-01,  1.0334e-01,  1.4328e+00,  1.3834e+00,  9.3381e-01,\n",
              "          -3.4651e-01,  1.2477e+00, -9.7752e-01,  1.5175e+00,  1.3760e-02,\n",
              "           1.5507e-01, -4.8827e-01, -4.9796e-01, -1.5801e-03,  1.3133e+00,\n",
              "           1.1185e+00,  7.8171e-01,  8.2093e-01,  1.9964e+00, -1.3969e+00,\n",
              "          -8.3746e-02, -8.3913e-01],\n",
              "         [-1.1972e+00,  1.4241e+00,  1.0412e+00, -8.0714e-01,  8.8090e-01,\n",
              "          -1.8336e+00,  4.5262e-01,  8.2347e-02,  5.7879e-01,  1.5540e-01,\n",
              "           3.5696e-01, -8.9187e-01,  9.0639e-01,  2.5187e-02, -6.9367e-01,\n",
              "          -4.4038e-01,  1.0466e+00, -9.0283e-01, -2.0409e+00,  8.3482e-01,\n",
              "           3.3070e-01, -5.1709e-01,  4.4009e-01, -6.4040e-01,  1.1718e+00,\n",
              "           4.5491e-01,  1.8169e+00, -5.0516e-01,  7.6557e-01, -1.3220e-01,\n",
              "           8.3362e-01, -8.3108e-01],\n",
              "         [-5.7321e-01, -3.7141e-01, -5.3683e-01,  3.1549e-01,  7.5164e-01,\n",
              "          -8.8920e-01, -1.3331e+00, -1.8529e-01, -1.3487e+00,  4.2216e-01,\n",
              "          -7.9178e-01,  4.4366e-01,  6.9513e-02,  8.8947e-01, -3.5481e-01,\n",
              "          -7.4108e-01,  8.5248e-01,  2.5434e+00,  5.9843e-01, -1.5138e+00,\n",
              "          -4.0800e-01,  9.1766e-01, -6.5793e-02,  1.0460e+00, -9.8670e-01,\n",
              "          -2.0734e+00,  1.3402e-01,  6.7835e-01, -3.7269e-01,  6.2206e-01,\n",
              "           1.8677e-01,  4.6031e-01],\n",
              "         [-1.0977e+00, -1.8354e-01,  7.5907e-02,  7.6215e-01,  1.3168e-01,\n",
              "          -1.1693e+00,  8.1595e-01, -7.4546e-01,  4.7167e-01, -6.2366e-01,\n",
              "          -2.0450e-01, -9.2063e-01,  1.2063e+00,  1.9572e+00, -6.8270e-01,\n",
              "           2.1379e-01, -7.1196e-01,  7.4920e-01,  8.8450e-01, -8.5630e-01,\n",
              "          -8.8046e-01,  1.1760e+00,  1.1544e+00,  2.4529e+00,  1.1453e+00,\n",
              "          -5.7498e-01,  6.5256e-01, -9.5394e-01, -9.8492e-01,  9.8323e-02,\n",
              "           9.3059e-01, -1.3129e+00]]], grad_fn=<EmbeddingBackward0>)"
            ]
          },
          "metadata": {},
          "execution_count": 45
        }
      ]
    },
    {
      "cell_type": "code",
      "source": [
        "positional_embedding = nn.Embedding(block_size, embed_dim)"
      ],
      "metadata": {
        "id": "Mp5GkjZbbTJ7"
      },
      "execution_count": 48,
      "outputs": []
    },
    {
      "cell_type": "code",
      "source": [
        "pos_embd = positional_embedding(torch.arange(block_size))\n",
        "pos_embd"
      ],
      "metadata": {
        "colab": {
          "base_uri": "https://localhost:8080/"
        },
        "id": "jf3FQhCNzhn1",
        "outputId": "11918971-e4eb-4616-8ecf-b32ec46319e3"
      },
      "execution_count": 49,
      "outputs": [
        {
          "output_type": "execute_result",
          "data": {
            "text/plain": [
              "tensor([[ 2.7583e-01, -4.6276e-01,  1.0298e+00,  7.3756e-01, -5.4005e-01,\n",
              "         -5.0844e-01, -3.0195e-01, -1.9385e-01, -3.5528e-01,  4.7202e-01,\n",
              "         -2.5018e+00, -2.6457e-02,  1.9488e-01, -1.3831e+00,  1.1748e+00,\n",
              "          3.8228e-01, -2.6083e-01, -5.3551e-01,  2.0576e-01, -1.1596e+00,\n",
              "          3.4783e-01,  8.7152e-02, -1.6595e+00,  1.5351e+00, -2.1600e-01,\n",
              "          1.3247e+00, -3.8743e-01, -1.2809e+00, -1.7851e+00,  7.7544e-01,\n",
              "          1.4290e+00,  2.8740e-01],\n",
              "        [-2.1464e+00, -8.0020e-01,  2.1941e+00,  2.5748e-01,  4.3982e-01,\n",
              "          2.7914e-01, -1.2735e+00,  8.3904e-01, -1.5515e+00, -8.3550e-02,\n",
              "          2.2908e-02, -1.4393e+00,  3.3243e-01, -9.1067e-01,  1.9752e-01,\n",
              "         -1.5836e+00,  7.0234e-01, -2.6374e+00, -7.7605e-01,  8.7082e-01,\n",
              "          5.9474e-01, -5.2444e-01,  2.9371e-01,  1.4642e+00,  1.2392e+00,\n",
              "         -9.5420e-01, -2.1819e-01, -1.4206e-01,  7.2939e-01, -8.5025e-01,\n",
              "          2.5472e-01, -1.2288e+00],\n",
              "        [-1.4772e+00,  5.3288e-01,  8.4562e-01,  2.3328e-01,  1.3961e+00,\n",
              "         -7.9922e-01,  1.4264e-01,  5.2861e-01,  1.7935e+00,  1.9028e-01,\n",
              "          1.2683e+00, -2.0355e+00,  2.9928e-01,  1.7325e-01, -3.0944e+00,\n",
              "          6.1942e-02, -6.9788e-02,  1.1045e+00,  1.2166e+00, -1.6799e+00,\n",
              "         -4.6291e-01,  1.7669e+00, -7.0921e-01,  1.1957e+00, -1.6079e+00,\n",
              "         -8.3866e-01, -7.1317e-01, -5.2045e-01,  4.3073e-01, -9.0582e-01,\n",
              "          2.0291e+00,  3.2727e-01],\n",
              "        [-2.1772e-01,  7.1676e-01,  1.5612e+00, -4.3011e-01,  3.1263e-01,\n",
              "         -1.0687e+00,  1.3867e+00, -2.7671e-02,  9.8708e-01,  1.0921e+00,\n",
              "          6.9661e-01,  1.0982e+00, -1.5077e+00,  1.0980e+00,  1.2534e+00,\n",
              "         -5.6309e-01, -8.4073e-01, -2.8906e-01, -4.6105e-01, -1.7996e+00,\n",
              "          5.5865e-02, -7.7732e-01, -1.3380e+00, -9.5132e-01, -1.1144e+00,\n",
              "          4.8911e-01, -5.3213e-01,  1.2006e+00, -3.3229e-01,  1.3317e+00,\n",
              "         -7.2245e-01, -8.4290e-01],\n",
              "        [-3.4624e-01, -1.0788e+00, -5.4983e-01, -9.2786e-01,  6.6757e-01,\n",
              "         -7.6042e-01,  1.5892e+00,  7.6911e-01,  4.2949e-01, -1.9021e-02,\n",
              "          2.1126e-01,  8.2287e-01,  4.4276e-01, -1.4784e+00, -1.2497e+00,\n",
              "          7.3014e-01, -3.9888e-01, -3.7458e-01, -7.5349e-01,  3.6412e-01,\n",
              "          8.0651e-01, -6.8982e-01, -1.1333e+00, -1.3466e+00, -1.4850e+00,\n",
              "         -6.0335e-01,  7.6925e-01, -7.8507e-01, -4.6594e-01,  7.5449e-01,\n",
              "         -8.8765e-01,  7.5793e-01],\n",
              "        [-1.2789e+00, -1.5632e+00, -8.7639e-01, -1.1414e-02, -3.0902e-01,\n",
              "         -1.5646e-01,  1.2437e-01, -8.3578e-01,  2.9352e-01,  1.2029e+00,\n",
              "          6.4327e-01, -2.0185e+00, -7.8105e-01,  8.5624e-03, -1.8204e+00,\n",
              "         -1.0938e-01, -5.1453e-01,  1.2602e+00,  6.6445e-01, -1.2325e+00,\n",
              "         -5.5809e-01, -5.9940e-01,  1.9192e-01, -2.2053e+00, -5.3372e-01,\n",
              "          1.6912e+00, -3.3535e-01,  6.8671e-01, -2.4957e-01, -1.4922e-01,\n",
              "          4.2266e-01, -1.4474e-01],\n",
              "        [-1.0388e+00,  1.0095e+00,  2.0317e-01, -1.7780e-01, -1.5029e-01,\n",
              "          9.7165e-01, -2.5822e-01,  6.6631e-01, -1.5401e+00,  2.0124e+00,\n",
              "         -3.1594e-01,  1.4111e-01,  1.2744e+00, -5.4436e-01,  5.5341e-01,\n",
              "          1.5114e+00,  3.6471e-01, -1.0739e-01, -1.0955e+00, -1.6660e+00,\n",
              "         -9.2641e-01,  7.1901e-01,  3.7474e-01, -3.9691e-01,  2.0845e+00,\n",
              "          1.2084e+00, -4.0937e-01, -2.8553e-01, -1.4931e+00,  8.0834e-01,\n",
              "         -2.9808e+00, -6.4885e-01],\n",
              "        [-5.6709e-02,  1.4263e+00, -7.4612e-01, -3.8399e-01,  4.4117e-01,\n",
              "          8.7978e-02, -1.3314e+00,  1.4809e+00, -1.2143e-01, -3.4527e-02,\n",
              "         -1.2470e-01, -7.9483e-01, -5.8077e-03, -8.6970e-01,  6.3925e-01,\n",
              "          2.2958e-01, -3.7820e-01,  8.8721e-01,  2.8281e-01,  1.5673e-01,\n",
              "          5.6827e-01,  3.9207e-01, -5.7811e-01, -1.2487e+00,  5.8970e-01,\n",
              "         -8.8072e-01,  1.9117e+00,  7.6702e-01,  9.5547e-01, -2.9417e-03,\n",
              "          1.1856e+00, -9.0859e-01]], grad_fn=<EmbeddingBackward0>)"
            ]
          },
          "metadata": {},
          "execution_count": 49
        }
      ]
    },
    {
      "cell_type": "code",
      "source": [
        "tok_pos_embd = tok_embd + pos_embd\n",
        "tok_pos_embd.shape"
      ],
      "metadata": {
        "colab": {
          "base_uri": "https://localhost:8080/"
        },
        "id": "B06ClvtnzmN6",
        "outputId": "fe5b9527-374c-4d13-c232-8b08578be4e3"
      },
      "execution_count": 50,
      "outputs": [
        {
          "output_type": "execute_result",
          "data": {
            "text/plain": [
              "torch.Size([1, 8, 32])"
            ]
          },
          "metadata": {},
          "execution_count": 50
        }
      ]
    },
    {
      "cell_type": "code",
      "source": [
        "query = nn.Linear(embed_dim, embed_dim)\n",
        "key = nn.Linear(embed_dim, embed_dim)\n",
        "value = nn.Linear(embed_dim, embed_dim)\n",
        "tril = torch.tril(torch.ones(block_size, block_size))"
      ],
      "metadata": {
        "id": "M76NRpxfzy-O"
      },
      "execution_count": 61,
      "outputs": []
    },
    {
      "cell_type": "code",
      "source": [
        "q = query(tok_embd)\n",
        "k = key(tok_embd)\n",
        "v = value(tok_embd)"
      ],
      "metadata": {
        "id": "tPyzlL6NBo-R"
      },
      "execution_count": 62,
      "outputs": []
    },
    {
      "cell_type": "code",
      "source": [
        "wei = q @ k.transpose(-2, -1)\n",
        "wei = wei.masked_fill(tril[:block_size, :block_size] == 0, float(\"-inf\"))\n",
        "wei = F.softmax(wei, dim=-1)\n",
        "out = wei @ v\n",
        "out.shape"
      ],
      "metadata": {
        "colab": {
          "base_uri": "https://localhost:8080/"
        },
        "id": "DWhjiT4ICSyG",
        "outputId": "b14e86b5-319e-4e60-f908-dfd8f62eadae"
      },
      "execution_count": 65,
      "outputs": [
        {
          "output_type": "execute_result",
          "data": {
            "text/plain": [
              "torch.Size([1, 8, 32])"
            ]
          },
          "metadata": {},
          "execution_count": 65
        }
      ]
    },
    {
      "cell_type": "code",
      "source": [],
      "metadata": {
        "id": "GrKGEaWABu0F"
      },
      "execution_count": null,
      "outputs": []
    }
  ]
}